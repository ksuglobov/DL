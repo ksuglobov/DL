{
 "cells": [
  {
   "cell_type": "markdown",
   "id": "fe0d4a2b",
   "metadata": {},
   "source": [
    "# DL Homework #1"
   ]
  },
  {
   "cell_type": "markdown",
   "id": "44863fe2",
   "metadata": {},
   "source": [
    "**Задача:** рассмотреть распределение активаций в CNN на датасетах MNIST, Fashion-MNIST, Kuzushiji-MNIST в зависимости от архитектурных параметров, BN, DN, оптимизатора."
   ]
  },
  {
   "cell_type": "markdown",
   "id": "8be6444f",
   "metadata": {
    "cellId": "88tn9wltq8hy8349pzgkcm"
   },
   "source": [
    "## Импорты"
   ]
  },
  {
   "cell_type": "code",
   "execution_count": 265,
   "id": "ba66e973",
   "metadata": {
    "cellId": "r8mbolum1sl8h1akplf0qd"
   },
   "outputs": [],
   "source": [
    "#!g1.1\n",
    "import torch\n",
    "import torch.nn as nn\n",
    "import torch.nn.functional as F\n",
    "import torch.optim as optim\n",
    "import torch.utils.data as data\n",
    "\n",
    "import torchvision.transforms as transforms\n",
    "import torchvision.datasets as datasets\n",
    "\n",
    "from sklearn import decomposition\n",
    "from sklearn import manifold\n",
    "from sklearn.metrics import confusion_matrix\n",
    "from sklearn.metrics import ConfusionMatrixDisplay\n",
    "from tqdm.notebook import tqdm, trange\n",
    "import matplotlib.pyplot as plt\n",
    "import numpy as np\n",
    "\n",
    "import copy\n",
    "import random\n",
    "import time"
   ]
  },
  {
   "cell_type": "code",
   "execution_count": 266,
   "id": "d4a11989",
   "metadata": {
    "cellId": "u6prown1pmvsoxcm5c5fj"
   },
   "outputs": [],
   "source": [
    "#!g1.1\n",
    "SEED = 1234\n",
    "ROOT = '.data'\n",
    "\n",
    "random.seed(SEED)\n",
    "np.random.seed(SEED)\n",
    "torch.manual_seed(SEED)\n",
    "torch.cuda.manual_seed(SEED)\n",
    "torch.backends.cudnn.deterministic = True"
   ]
  },
  {
   "cell_type": "code",
   "execution_count": 267,
   "id": "74876c75",
   "metadata": {
    "cellId": "acni4tzx17ucp3ckcysgsq"
   },
   "outputs": [],
   "source": [
    "#!g1.1\n",
    "device = (\"cuda\" if torch.cuda.is_available() else \"cpu\") "
   ]
  },
  {
   "cell_type": "markdown",
   "id": "7279e846",
   "metadata": {
    "cellId": "th3mpnf5y27w64rjyny0v"
   },
   "source": [
    "### Данные"
   ]
  },
  {
   "cell_type": "markdown",
   "id": "c882b5e3",
   "metadata": {
    "cellId": "8giq5gu327ogjzfi7mw77l"
   },
   "source": [
    "Проведём эксперименты на датасетах MNIST (10 рукописных цифр), Fashion-MNIST (10 видов одежды) и Kuzushiji-MNIST (10 символов хираганы). Все они состоят из одноканальных изображений размером 28 $\\times$ 28 пикселей."
   ]
  },
  {
   "cell_type": "markdown",
   "id": "892e1686",
   "metadata": {
    "cellId": "xwo0u5kq5sp6z7d79odc"
   },
   "source": [
    "#### MNIST"
   ]
  },
  {
   "cell_type": "code",
   "execution_count": 268,
   "id": "cbb79231",
   "metadata": {
    "cellId": "rwzzq1cya1iii3v8pfxpf"
   },
   "outputs": [
    {
     "data": {
      "application/vnd.jupyter.widget-view+json": {
       "model_id": "244524f88497446592a55e256920cbdd",
       "version_major": 2,
       "version_minor": 0
      },
      "text/plain": [
       "HBox(children=(HTML(value=''), FloatProgress(value=0.0, max=9912422.0), HTML(value='')))"
      ]
     },
     "metadata": {},
     "output_type": "display_data"
    },
    {
     "data": {
      "application/vnd.jupyter.widget-view+json": {
       "model_id": "3ccfec13a8bf4c60aa8ea36ff6f7a27c",
       "version_major": 2,
       "version_minor": 0
      },
      "text/plain": [
       "HBox(children=(HTML(value=''), FloatProgress(value=0.0, max=28881.0), HTML(value='')))"
      ]
     },
     "metadata": {},
     "output_type": "display_data"
    },
    {
     "data": {
      "application/vnd.jupyter.widget-view+json": {
       "model_id": "32251233a8974ca5934f2405aacd8769",
       "version_major": 2,
       "version_minor": 0
      },
      "text/plain": [
       "HBox(children=(HTML(value=''), FloatProgress(value=0.0, max=1648877.0), HTML(value='')))"
      ]
     },
     "metadata": {},
     "output_type": "display_data"
    },
    {
     "data": {
      "application/vnd.jupyter.widget-view+json": {
       "model_id": "279db47774c94f0988b7bbee263dce24",
       "version_major": 2,
       "version_minor": 0
      },
      "text/plain": [
       "HBox(children=(HTML(value=''), FloatProgress(value=0.0, max=4542.0), HTML(value='')))"
      ]
     },
     "metadata": {},
     "output_type": "display_data"
    },
    {
     "name": "stderr",
     "output_type": "stream",
     "text": [
      "/usr/local/lib/python3.8/dist-packages/torchvision/datasets/mnist.py:498: UserWarning: The given NumPy array is not writeable, and PyTorch does not support non-writeable tensors. This means you can write to the underlying (supposedly non-writeable) NumPy array using the tensor. You may want to copy the array to protect its data or make it writeable before converting it to a tensor. This type of warning will be suppressed for the rest of this program. (Triggered internally at  ../torch/csrc/utils/tensor_numpy.cpp:180.)\n",
      "  return torch.from_numpy(parsed.astype(m[2], copy=False)).view(*s)\n"
     ]
    },
    {
     "name": "stdout",
     "output_type": "stream",
     "text": [
      "Downloading http://yann.lecun.com/exdb/mnist/train-images-idx3-ubyte.gz\n",
      "Downloading http://yann.lecun.com/exdb/mnist/train-images-idx3-ubyte.gz to .data/MNIST/raw/train-images-idx3-ubyte.gz\n",
      "\n",
      "Extracting .data/MNIST/raw/train-images-idx3-ubyte.gz to .data/MNIST/raw\n",
      "\n",
      "Downloading http://yann.lecun.com/exdb/mnist/train-labels-idx1-ubyte.gz\n",
      "Downloading http://yann.lecun.com/exdb/mnist/train-labels-idx1-ubyte.gz to .data/MNIST/raw/train-labels-idx1-ubyte.gz\n",
      "\n",
      "Extracting .data/MNIST/raw/train-labels-idx1-ubyte.gz to .data/MNIST/raw\n",
      "\n",
      "Downloading http://yann.lecun.com/exdb/mnist/t10k-images-idx3-ubyte.gz\n",
      "Downloading http://yann.lecun.com/exdb/mnist/t10k-images-idx3-ubyte.gz to .data/MNIST/raw/t10k-images-idx3-ubyte.gz\n",
      "\n",
      "Extracting .data/MNIST/raw/t10k-images-idx3-ubyte.gz to .data/MNIST/raw\n",
      "\n",
      "Downloading http://yann.lecun.com/exdb/mnist/t10k-labels-idx1-ubyte.gz\n",
      "Downloading http://yann.lecun.com/exdb/mnist/t10k-labels-idx1-ubyte.gz to .data/MNIST/raw/t10k-labels-idx1-ubyte.gz\n",
      "\n",
      "Extracting .data/MNIST/raw/t10k-labels-idx1-ubyte.gz to .data/MNIST/raw\n",
      "\n",
      "Number of training examples: 54000\n",
      "Number of validation examples: 6000\n",
      "Number of testing examples: 10000\n"
     ]
    }
   ],
   "source": [
    "#!g1.1\n",
    "VALID_RATIO = 0.9\n",
    "BATCH_SIZE = 64\n",
    "\n",
    "train_data = datasets.MNIST(root=ROOT,\n",
    "                            train=True,\n",
    "                            download=True)\n",
    "\n",
    "mean = train_data.data.float().mean() / 255\n",
    "std = train_data.data.float().std() / 255\n",
    "\n",
    "train_transforms = transforms.Compose([\n",
    "                            transforms.RandomRotation(5, fill=(0,)),\n",
    "                            transforms.RandomCrop(28, padding=2),\n",
    "                            transforms.ToTensor(),\n",
    "                            transforms.Normalize(mean=[mean], std=[std])\n",
    "                                      ])\n",
    "\n",
    "test_transforms = transforms.Compose([\n",
    "                           transforms.ToTensor(),\n",
    "                           transforms.Normalize(mean=[mean], std=[std])\n",
    "                                     ])\n",
    "\n",
    "train_data = datasets.MNIST(root=ROOT,\n",
    "                            train=True,\n",
    "                            download=True,\n",
    "                            transform=train_transforms)\n",
    "\n",
    "test_data = datasets.MNIST(root=ROOT,\n",
    "                           train=False,\n",
    "                           download=True,\n",
    "                           transform=test_transforms)\n",
    "\n",
    "n_train_examples = int(len(train_data) * VALID_RATIO)\n",
    "n_valid_examples = len(train_data) - n_train_examples\n",
    "\n",
    "train_data, valid_data = data.random_split(train_data, [n_train_examples, n_valid_examples])\n",
    "\n",
    "valid_data = copy.deepcopy(valid_data)\n",
    "valid_data.dataset.transform = test_transforms\n",
    "\n",
    "print(f'Number of training examples: {len(train_data)}')\n",
    "print(f'Number of validation examples: {len(valid_data)}')\n",
    "print(f'Number of testing examples: {len(test_data)}')\n",
    "\n",
    "train_iterator_1 = data.DataLoader(train_data,\n",
    "                                 shuffle=True,\n",
    "                                 batch_size=BATCH_SIZE)\n",
    "\n",
    "valid_iterator_1 = data.DataLoader(valid_data,\n",
    "                                 batch_size=BATCH_SIZE)\n",
    "\n",
    "test_iterator_1 = data.DataLoader(test_data,\n",
    "                                batch_size=BATCH_SIZE)"
   ]
  },
  {
   "cell_type": "markdown",
   "id": "becd1015",
   "metadata": {
    "cellId": "763pfxi5e3vzq4ih3eo36"
   },
   "source": [
    "#### FMNIST"
   ]
  },
  {
   "cell_type": "code",
   "execution_count": 269,
   "id": "f0f784e3",
   "metadata": {
    "cellId": "gg9da0z632vwm09dm6rgpk"
   },
   "outputs": [
    {
     "data": {
      "application/vnd.jupyter.widget-view+json": {
       "model_id": "db1e5ca7dd2a4a3a9e72039ca3920dbd",
       "version_major": 2,
       "version_minor": 0
      },
      "text/plain": [
       "HBox(children=(HTML(value=''), FloatProgress(value=0.0, max=26421880.0), HTML(value='')))"
      ]
     },
     "metadata": {},
     "output_type": "display_data"
    },
    {
     "data": {
      "application/vnd.jupyter.widget-view+json": {
       "model_id": "cd4ce5af946f47139f570dc6e3df9769",
       "version_major": 2,
       "version_minor": 0
      },
      "text/plain": [
       "HBox(children=(HTML(value=''), FloatProgress(value=0.0, max=29515.0), HTML(value='')))"
      ]
     },
     "metadata": {},
     "output_type": "display_data"
    },
    {
     "data": {
      "application/vnd.jupyter.widget-view+json": {
       "model_id": "5824c30fd7c54f399594513ecafbf842",
       "version_major": 2,
       "version_minor": 0
      },
      "text/plain": [
       "HBox(children=(HTML(value=''), FloatProgress(value=0.0, max=4422102.0), HTML(value='')))"
      ]
     },
     "metadata": {},
     "output_type": "display_data"
    },
    {
     "data": {
      "application/vnd.jupyter.widget-view+json": {
       "model_id": "0bd29a4820a444fa9b64c2879cb2b7ea",
       "version_major": 2,
       "version_minor": 0
      },
      "text/plain": [
       "HBox(children=(HTML(value=''), FloatProgress(value=0.0, max=5148.0), HTML(value='')))"
      ]
     },
     "metadata": {},
     "output_type": "display_data"
    },
    {
     "name": "stdout",
     "output_type": "stream",
     "text": [
      "Downloading http://fashion-mnist.s3-website.eu-central-1.amazonaws.com/train-images-idx3-ubyte.gz\n",
      "Downloading http://fashion-mnist.s3-website.eu-central-1.amazonaws.com/train-images-idx3-ubyte.gz to .data/FashionMNIST/raw/train-images-idx3-ubyte.gz\n",
      "\n",
      "Extracting .data/FashionMNIST/raw/train-images-idx3-ubyte.gz to .data/FashionMNIST/raw\n",
      "\n",
      "Downloading http://fashion-mnist.s3-website.eu-central-1.amazonaws.com/train-labels-idx1-ubyte.gz\n",
      "Downloading http://fashion-mnist.s3-website.eu-central-1.amazonaws.com/train-labels-idx1-ubyte.gz to .data/FashionMNIST/raw/train-labels-idx1-ubyte.gz\n",
      "\n",
      "Extracting .data/FashionMNIST/raw/train-labels-idx1-ubyte.gz to .data/FashionMNIST/raw\n",
      "\n",
      "Downloading http://fashion-mnist.s3-website.eu-central-1.amazonaws.com/t10k-images-idx3-ubyte.gz\n",
      "Downloading http://fashion-mnist.s3-website.eu-central-1.amazonaws.com/t10k-images-idx3-ubyte.gz to .data/FashionMNIST/raw/t10k-images-idx3-ubyte.gz\n",
      "\n",
      "Extracting .data/FashionMNIST/raw/t10k-images-idx3-ubyte.gz to .data/FashionMNIST/raw\n",
      "\n",
      "Downloading http://fashion-mnist.s3-website.eu-central-1.amazonaws.com/t10k-labels-idx1-ubyte.gz\n",
      "Downloading http://fashion-mnist.s3-website.eu-central-1.amazonaws.com/t10k-labels-idx1-ubyte.gz to .data/FashionMNIST/raw/t10k-labels-idx1-ubyte.gz\n",
      "\n",
      "Extracting .data/FashionMNIST/raw/t10k-labels-idx1-ubyte.gz to .data/FashionMNIST/raw\n",
      "\n",
      "Number of training examples: 54000\n",
      "Number of validation examples: 6000\n",
      "Number of testing examples: 10000\n"
     ]
    }
   ],
   "source": [
    "#!g1.1\n",
    "VALID_RATIO = 0.9\n",
    "BATCH_SIZE = 64\n",
    "\n",
    "train_data = datasets.FashionMNIST(root=ROOT,\n",
    "                            train=True,\n",
    "                            download=True)\n",
    "\n",
    "mean = train_data.data.float().mean() / 255\n",
    "std = train_data.data.float().std() / 255\n",
    "\n",
    "train_transforms = transforms.Compose([\n",
    "                            transforms.RandomRotation(5, fill=(0,)),\n",
    "                            transforms.RandomCrop(28, padding=2),\n",
    "                            transforms.ToTensor(),\n",
    "                            transforms.Normalize(mean=[mean], std=[std])\n",
    "                                      ])\n",
    "\n",
    "test_transforms = transforms.Compose([\n",
    "                           transforms.ToTensor(),\n",
    "                           transforms.Normalize(mean=[mean], std=[std])\n",
    "                                     ])\n",
    "\n",
    "train_data = datasets.MNIST(root=ROOT,\n",
    "                            train=True,\n",
    "                            download=True,\n",
    "                            transform=train_transforms)\n",
    "\n",
    "test_data = datasets.MNIST(root=ROOT,\n",
    "                           train=False,\n",
    "                           download=True,\n",
    "                           transform=test_transforms)\n",
    "\n",
    "n_train_examples = int(len(train_data) * VALID_RATIO)\n",
    "n_valid_examples = len(train_data) - n_train_examples\n",
    "\n",
    "train_data, valid_data = data.random_split(train_data, [n_train_examples, n_valid_examples])\n",
    "\n",
    "valid_data = copy.deepcopy(valid_data)\n",
    "valid_data.dataset.transform = test_transforms\n",
    "\n",
    "print(f'Number of training examples: {len(train_data)}')\n",
    "print(f'Number of validation examples: {len(valid_data)}')\n",
    "print(f'Number of testing examples: {len(test_data)}')\n",
    "\n",
    "train_iterator_2 = data.DataLoader(train_data,\n",
    "                                   shuffle=True,\n",
    "                                   batch_size=BATCH_SIZE)\n",
    "\n",
    "valid_iterator_2 = data.DataLoader(valid_data,\n",
    "                                   batch_size=BATCH_SIZE)\n",
    "\n",
    "test_iterator_2 = data.DataLoader(test_data,\n",
    "                                  batch_size=BATCH_SIZE)"
   ]
  },
  {
   "cell_type": "code",
   "execution_count": 270,
   "id": "bc2a33b7",
   "metadata": {
    "cellId": "ni0qp06lscexicca3h7l"
   },
   "outputs": [
    {
     "data": {
      "application/vnd.jupyter.widget-view+json": {
       "model_id": "e8b820e09ca54071a7378a9bcd5e7af2",
       "version_major": 2,
       "version_minor": 0
      },
      "text/plain": [
       "HBox(children=(HTML(value=''), FloatProgress(value=0.0, max=18165135.0), HTML(value='')))"
      ]
     },
     "metadata": {},
     "output_type": "display_data"
    },
    {
     "data": {
      "application/vnd.jupyter.widget-view+json": {
       "model_id": "dd75a5cb26194e4a869ffee22f78c670",
       "version_major": 2,
       "version_minor": 0
      },
      "text/plain": [
       "HBox(children=(HTML(value=''), FloatProgress(value=0.0, max=29497.0), HTML(value='')))"
      ]
     },
     "metadata": {},
     "output_type": "display_data"
    },
    {
     "data": {
      "application/vnd.jupyter.widget-view+json": {
       "model_id": "feaf59e99084495cbed473d0b47a59cc",
       "version_major": 2,
       "version_minor": 0
      },
      "text/plain": [
       "HBox(children=(HTML(value=''), FloatProgress(value=0.0, max=3041136.0), HTML(value='')))"
      ]
     },
     "metadata": {},
     "output_type": "display_data"
    },
    {
     "data": {
      "application/vnd.jupyter.widget-view+json": {
       "model_id": "3af6ee4ab3ce4b0687d801a78f70f766",
       "version_major": 2,
       "version_minor": 0
      },
      "text/plain": [
       "HBox(children=(HTML(value=''), FloatProgress(value=0.0, max=5120.0), HTML(value='')))"
      ]
     },
     "metadata": {},
     "output_type": "display_data"
    },
    {
     "name": "stdout",
     "output_type": "stream",
     "text": [
      "Downloading http://codh.rois.ac.jp/kmnist/dataset/kmnist/train-images-idx3-ubyte.gz\n",
      "Downloading http://codh.rois.ac.jp/kmnist/dataset/kmnist/train-images-idx3-ubyte.gz to .data/KMNIST/raw/train-images-idx3-ubyte.gz\n",
      "\n",
      "Extracting .data/KMNIST/raw/train-images-idx3-ubyte.gz to .data/KMNIST/raw\n",
      "\n",
      "Downloading http://codh.rois.ac.jp/kmnist/dataset/kmnist/train-labels-idx1-ubyte.gz\n",
      "Downloading http://codh.rois.ac.jp/kmnist/dataset/kmnist/train-labels-idx1-ubyte.gz to .data/KMNIST/raw/train-labels-idx1-ubyte.gz\n",
      "\n",
      "Extracting .data/KMNIST/raw/train-labels-idx1-ubyte.gz to .data/KMNIST/raw\n",
      "\n",
      "Downloading http://codh.rois.ac.jp/kmnist/dataset/kmnist/t10k-images-idx3-ubyte.gz\n",
      "Downloading http://codh.rois.ac.jp/kmnist/dataset/kmnist/t10k-images-idx3-ubyte.gz to .data/KMNIST/raw/t10k-images-idx3-ubyte.gz\n",
      "\n",
      "Extracting .data/KMNIST/raw/t10k-images-idx3-ubyte.gz to .data/KMNIST/raw\n",
      "\n",
      "Downloading http://codh.rois.ac.jp/kmnist/dataset/kmnist/t10k-labels-idx1-ubyte.gz\n",
      "Downloading http://codh.rois.ac.jp/kmnist/dataset/kmnist/t10k-labels-idx1-ubyte.gz to .data/KMNIST/raw/t10k-labels-idx1-ubyte.gz\n",
      "\n",
      "Extracting .data/KMNIST/raw/t10k-labels-idx1-ubyte.gz to .data/KMNIST/raw\n",
      "\n",
      "Number of training examples: 54000\n",
      "Number of validation examples: 6000\n",
      "Number of testing examples: 10000\n"
     ]
    }
   ],
   "source": [
    "#!g1.1\n",
    "VALID_RATIO = 0.9\n",
    "BATCH_SIZE = 64\n",
    "\n",
    "train_data = datasets.KMNIST(root=ROOT,\n",
    "                            train=True,\n",
    "                            download=True)\n",
    "\n",
    "mean = train_data.data.float().mean() / 255\n",
    "std = train_data.data.float().std() / 255\n",
    "\n",
    "train_transforms = transforms.Compose([\n",
    "                            transforms.RandomRotation(5, fill=(0,)),\n",
    "                            transforms.RandomCrop(28, padding=2),\n",
    "                            transforms.ToTensor(),\n",
    "                            transforms.Normalize(mean=[mean], std=[std])\n",
    "                                      ])\n",
    "\n",
    "test_transforms = transforms.Compose([\n",
    "                           transforms.ToTensor(),\n",
    "                           transforms.Normalize(mean=[mean], std=[std])\n",
    "                                     ])\n",
    "\n",
    "train_data = datasets.MNIST(root=ROOT,\n",
    "                            train=True,\n",
    "                            download=True,\n",
    "                            transform=train_transforms)\n",
    "\n",
    "test_data = datasets.MNIST(root=ROOT,\n",
    "                           train=False,\n",
    "                           download=True,\n",
    "                           transform=test_transforms)\n",
    "\n",
    "n_train_examples = int(len(train_data) * VALID_RATIO)\n",
    "n_valid_examples = len(train_data) - n_train_examples\n",
    "\n",
    "train_data, valid_data = data.random_split(train_data, [n_train_examples, n_valid_examples])\n",
    "\n",
    "valid_data = copy.deepcopy(valid_data)\n",
    "valid_data.dataset.transform = test_transforms\n",
    "\n",
    "print(f'Number of training examples: {len(train_data)}')\n",
    "print(f'Number of validation examples: {len(valid_data)}')\n",
    "print(f'Number of testing examples: {len(test_data)}')\n",
    "\n",
    "train_iterator_3 = data.DataLoader(train_data,\n",
    "                                 shuffle=True,\n",
    "                                 batch_size=BATCH_SIZE)\n",
    "\n",
    "valid_iterator_3 = data.DataLoader(valid_data,\n",
    "                                 batch_size=BATCH_SIZE)\n",
    "\n",
    "test_iterator_3 = data.DataLoader(test_data,\n",
    "                                batch_size=BATCH_SIZE)"
   ]
  },
  {
   "cell_type": "markdown",
   "id": "ffb520d6",
   "metadata": {
    "cellId": "bh52lwslzbdg968ci5esfq"
   },
   "source": [
    "## Вспомогательные функции"
   ]
  },
  {
   "cell_type": "markdown",
   "id": "315f2ec3",
   "metadata": {
    "cellId": "e8ymluptv1i9i9huxzy1x6"
   },
   "source": [
    "Ниже приведены функции для обучения и оценки модели:"
   ]
  },
  {
   "cell_type": "code",
   "execution_count": 271,
   "id": "411b0b67",
   "metadata": {
    "cellId": "7djytrd92wbn3xjnpncn1c"
   },
   "outputs": [],
   "source": [
    "#!g1.1\n",
    "def count_parameters(model):\n",
    "    return sum(p.numel() for p in model.parameters() if p.requires_grad)"
   ]
  },
  {
   "cell_type": "code",
   "execution_count": 272,
   "id": "5dd3b372",
   "metadata": {
    "cellId": "8nwm53v1e2xpg5r59bzvxp"
   },
   "outputs": [],
   "source": [
    "#!g1.1\n",
    "def calculate_accuracy(y_pred, y):\n",
    "    top_pred = y_pred.argmax(1, keepdim=True)\n",
    "    correct = top_pred.eq(y.view_as(top_pred)).sum()\n",
    "    acc = correct.float() / y.shape[0]\n",
    "    return acc"
   ]
  },
  {
   "cell_type": "code",
   "execution_count": 273,
   "id": "2b5b5045",
   "metadata": {
    "cellId": "ajye7dafvn9uzjkc2hghk8"
   },
   "outputs": [],
   "source": [
    "#!g1.1\n",
    "def train(model, iterator, optimizer, criterion, device):\n",
    "\n",
    "    epoch_loss = 0\n",
    "    epoch_acc = 0\n",
    "\n",
    "    model.train()\n",
    "\n",
    "    for (x, y) in tqdm(iterator, desc=\"Training\", leave=False):\n",
    "\n",
    "        x = x.to(device)\n",
    "        y = y.to(device)\n",
    "\n",
    "        optimizer.zero_grad()\n",
    "\n",
    "        y_pred = model(x)\n",
    "\n",
    "        loss = criterion(y_pred, y)\n",
    "\n",
    "        acc = calculate_accuracy(y_pred, y)\n",
    "\n",
    "        loss.backward()\n",
    "\n",
    "        optimizer.step()\n",
    "\n",
    "        epoch_loss += loss.item()\n",
    "        epoch_acc += acc.item()\n",
    "\n",
    "    return epoch_loss / len(iterator), epoch_acc / len(iterator)"
   ]
  },
  {
   "cell_type": "code",
   "execution_count": 274,
   "id": "53687a26",
   "metadata": {
    "cellId": "9n2arqud9lcp99csuqz3c"
   },
   "outputs": [],
   "source": [
    "#!g1.1\n",
    "def evaluate(model, iterator, criterion, device):\n",
    "\n",
    "    epoch_loss = 0\n",
    "    epoch_acc = 0\n",
    "\n",
    "    model.eval()\n",
    "\n",
    "    with torch.no_grad():\n",
    "\n",
    "        for (x, y) in tqdm(iterator, desc=\"Evaluating\", leave=False):\n",
    "    \n",
    "            x = x.to(device)\n",
    "            y = y.to(device)\n",
    "\n",
    "            y_pred = model(x)\n",
    "\n",
    "            loss = criterion(y_pred, y)\n",
    "\n",
    "            acc = calculate_accuracy(y_pred, y)\n",
    "\n",
    "            epoch_loss += loss.item()\n",
    "            epoch_acc += acc.item()\n",
    "\n",
    "    return epoch_loss / len(iterator), epoch_acc / len(iterator)"
   ]
  },
  {
   "cell_type": "code",
   "execution_count": 275,
   "id": "ca384153",
   "metadata": {
    "cellId": "2pnmtuhde47jy0qftqxjqm"
   },
   "outputs": [],
   "source": [
    "#!g1.1\n",
    "def epoch_time(start_time, end_time):\n",
    "    elapsed_time = end_time - start_time\n",
    "    elapsed_mins = int(elapsed_time / 60)\n",
    "    elapsed_secs = int(elapsed_time - (elapsed_mins * 60))\n",
    "    return elapsed_mins, elapsed_secs"
   ]
  },
  {
   "cell_type": "code",
   "execution_count": 334,
   "id": "dd949ab5",
   "metadata": {
    "cellId": "vqhd4xonx0eqmwyth05m"
   },
   "outputs": [],
   "source": [
    "#!g1.1\n",
    "def train_model(model, name, n_epochs, train_iterator, valid_iterator, opt='Adam'):\n",
    "    optimizer=None\n",
    "    if opt=='Adam':\n",
    "        optimizer = optim.Adam(model.parameters())\n",
    "    elif opt=='SGD':\n",
    "        optimizer = optim.SGD(model.parameters(), lr=10e-3, momentum=0.9)\n",
    "    else:\n",
    "        assert 0 == 1\n",
    "\n",
    "    criterion = nn.CrossEntropyLoss()\n",
    "    device = torch.device('cuda' if torch.cuda.is_available() else 'cpu')\n",
    "    model = model.to(device)\n",
    "    criterion = criterion.to(device)\n",
    "\n",
    "    best_valid_loss = float('inf')\n",
    "\n",
    "    for epoch in trange(n_epochs, desc=\"Epochs\"):\n",
    "\n",
    "        start_time = time.monotonic()\n",
    "\n",
    "        train_loss, train_acc = train(model, train_iterator, optimizer, criterion, device)\n",
    "        valid_loss, valid_acc = evaluate(model, valid_iterator, criterion, device)\n",
    "\n",
    "        if valid_loss < best_valid_loss:\n",
    "            best_valid_loss = valid_loss\n",
    "            torch.save(model.state_dict(), f'{name}.pt')\n",
    "\n",
    "        end_time = time.monotonic()\n",
    "\n",
    "        epoch_mins, epoch_secs = epoch_time(start_time, end_time)\n",
    "\n",
    "        print(f'Epoch: {epoch+1:02} | Epoch Time: {epoch_mins}m {epoch_secs}s')\n",
    "        print(f'\\tTrain Loss: {train_loss:.3f} | Train Acc: {train_acc*100:.2f}%')\n",
    "        print(f'\\t Val. Loss: {valid_loss:.3f} |  Val. Acc: {valid_acc*100:.2f}%')"
   ]
  },
  {
   "cell_type": "code",
   "execution_count": 285,
   "id": "95922632",
   "metadata": {
    "cellId": "z3y1308s0rjd6u9xxi27ho"
   },
   "outputs": [],
   "source": [
    "#!g1.1\n",
    "def get_activations(model, iterator, criterion, device):\n",
    "    epoch_loss = 0\n",
    "    epoch_acc = 0\n",
    "    model = model.to(device)\n",
    "    criterion = criterion.to(device)\n",
    "    \n",
    "    model.eval()\n",
    "\n",
    "    with torch.no_grad():\n",
    "        for (x, y) in tqdm(iterator, desc=\"Evaluating\", leave=False):\n",
    "\n",
    "            x = x.to(device)\n",
    "            y = y.to(device)\n",
    "\n",
    "            y_pred = model(x)\n",
    "\n",
    "            loss = criterion(y_pred, y)\n",
    "\n",
    "            acc = calculate_accuracy(y_pred, y)\n",
    "\n",
    "            epoch_loss += loss.item()\n",
    "            epoch_acc += acc.item()\n",
    "    \n",
    "    activations = model.activations\n",
    "    activations = [a.to('cpu').flatten() for a in activations]\n",
    "    activations = torch.cat(activations).detach().numpy()\n",
    "    \n",
    "    return epoch_loss / len(iterator), epoch_acc / len(iterator), activations"
   ]
  },
  {
   "cell_type": "markdown",
   "id": "69f0290a",
   "metadata": {
    "cellId": "bdhrrlte3fstplh3x8vqm"
   },
   "source": [
    "### Модель"
   ]
  },
  {
   "cell_type": "markdown",
   "id": "590fe1f6",
   "metadata": {
    "cellId": "2954vgx73693heeyk2dfco"
   },
   "source": [
    "Используем для исследования архитектуру LeNet. По умолчанию она состоит из 2-х последовательных свёрточных слоёв с активацией и пулингом для выделения признаков и 3-х последовательных полносвязных слоёв для классификации. Также по умолчанию: сеть инициализируется с помощью Kaiming Normal Initialization и обучается с помощью оптимизатора Adam. Обучение происходит 10 эпох.\n",
    "\n",
    "Рассмотрим и сравним следующие сети:\n",
    "1. LeNet и LeNet + BatchNorm\n",
    "2. LeNet и LeNet + DropOut\n",
    "3. LeNet + Kaiming Initialization и LeNet + Xavier initialization\n",
    "4. LeNet optimized by Adam и LeNet optimized by SGD\n",
    "5. Wide LeNet и Narrow LeNet\n",
    "6. Deep LeNet и Shallow LeNet\n",
    "\n",
    "Для каждого из пунктов проведём обучение и выведем активации на тестировании. Будем выводить ненулевые активации ($> 10e-7$), но будем вести подсчёт нулевых активаций. Модели и даталоадеры в именах в конце имеют добавку через дефис: '-1', '-2', '-3'. Что означает, что модель с таким же даталоадером: на MNIST, FMNIST или KMNIST."
   ]
  },
  {
   "cell_type": "code",
   "execution_count": 276,
   "id": "39248a5d",
   "metadata": {
    "cellId": "57yjhmjwb0rwta5qqg62o"
   },
   "outputs": [],
   "source": [
    "#!g1.1\n",
    "class LeNet(nn.Module):\n",
    "    def __init__(self, output_dim, init_mode='kaiming_normal'):\n",
    "        super(LeNet, self).__init__()\n",
    "        \n",
    "        self.activations = []\n",
    "\n",
    "        self.conv1 = nn.Conv2d(in_channels=1, out_channels=6, kernel_size=5)\n",
    "        self.pool1 = nn.MaxPool2d(kernel_size=2)\n",
    "        self.conv2 = nn.Conv2d(in_channels=6, out_channels=16, kernel_size=5)\n",
    "        self.pool2 = nn.MaxPool2d(kernel_size=2)\n",
    "\n",
    "        self.lin1 = nn.Linear(in_features=256, out_features=120)\n",
    "        self.lin2 = nn.Linear(in_features=120, out_features=84)\n",
    "        self.lin3 = nn.Linear(in_features=84, out_features=output_dim)\n",
    "        \n",
    "        self.init_weights(init_mode)\n",
    "\n",
    "\n",
    "    def forward(self, x):\n",
    "        x = self.conv1(x)\n",
    "        x = F.relu(x)\n",
    "        self.activations.append(x)\n",
    "        x = self.pool1(x)\n",
    "\n",
    "        x = self.conv2(x)\n",
    "        x = F.relu(x)\n",
    "        self.activations.append(x)\n",
    "        x = self.pool2(x)\n",
    "\n",
    "        x = torch.flatten(x, 1)\n",
    "\n",
    "        x = self.lin1(x)\n",
    "        x = F.relu(x)\n",
    "        self.activations.append(x)\n",
    "        x = self.lin2(x)\n",
    "        x = F.relu(x)\n",
    "        self.activations.append(x)\n",
    "        x = self.lin3(x)\n",
    "        x = F.softmax(x, dim=1)\n",
    "        return x\n",
    "    \n",
    "    def init_weights(self, init_mode):\n",
    "        for m in self.modules():\n",
    "            if isinstance(m, nn.Conv2d):\n",
    "                if init_mode == 'kaiming_uniform':\n",
    "                    nn.init.kaiming_uniform_(m.weight, mode='fan_in',\n",
    "                                             nonlinearity='relu')\n",
    "                elif init_mode == 'kaiming_normal':\n",
    "                    nn.init.kaiming_normal_(m.weight, mode='fan_in',\n",
    "                                            nonlinearity='relu')\n",
    "                elif init_mode == 'xavier_uniform':\n",
    "                    nn.init.xavier_uniform_(m.weight)\n",
    "                elif init_mode == 'xavier_normal':\n",
    "                    nn.init.xavier_normal_(m.weight)\n",
    "                else:\n",
    "                    m.weight.data.zero_()\n",
    "                if m.bias is not None:\n",
    "                    m.bias.data.zero_()\n",
    "\n",
    "class LeNet_bn(LeNet):\n",
    "    def __init__(self, output_dim, init_mode='kaiming_normal'):\n",
    "        super(LeNet, self).__init__()\n",
    "        \n",
    "        self.activations = []\n",
    "\n",
    "        self.conv1 = nn.Conv2d(in_channels=1, out_channels=6, kernel_size=5)\n",
    "        self.bn1 = nn.BatchNorm2d(6)\n",
    "        self.pool1 = nn.MaxPool2d(kernel_size=2)\n",
    "        self.conv2 = nn.Conv2d(in_channels=6, out_channels=16, kernel_size=5)\n",
    "        self.bn2 = nn.BatchNorm2d(16)\n",
    "        self.pool2 = nn.MaxPool2d(kernel_size=2)\n",
    "\n",
    "        self.lin1 = nn.Linear(in_features=256, out_features=120)\n",
    "        self.bn3 = nn.BatchNorm1d(120)\n",
    "        self.lin2 = nn.Linear(in_features=120, out_features=84)\n",
    "        self.bn4 = nn.BatchNorm1d(84)\n",
    "        self.lin3 = nn.Linear(in_features=84, out_features=output_dim)\n",
    "        \n",
    "        self.init_weights(init_mode)\n",
    "\n",
    "\n",
    "    def forward(self, x):\n",
    "        x = self.conv1(x)\n",
    "        x = F.relu(x)\n",
    "        x = self.bn1(x)\n",
    "        self.activations.append(x)\n",
    "        x = self.pool1(x)\n",
    "\n",
    "        x = self.conv2(x)\n",
    "        x = F.relu(x)\n",
    "        x = self.bn2(x)\n",
    "        self.activations.append(x)\n",
    "        x = self.pool2(x)\n",
    "\n",
    "        x = torch.flatten(x, 1)\n",
    "\n",
    "        x = self.lin1(x)\n",
    "        x = F.relu(x)\n",
    "        x = self.bn3(x)\n",
    "        self.activations.append(x)\n",
    "        x = self.lin2(x)\n",
    "        x = F.relu(x)\n",
    "        x = self.bn4(x)\n",
    "        self.activations.append(x)\n",
    "        x = self.lin3(x)\n",
    "        x = F.softmax(x, dim=1)\n",
    "        return x\n",
    "\n",
    "class LeNet_do(LeNet):\n",
    "    def __init__(self, output_dim, init_mode='kaiming_normal'):\n",
    "        super(LeNet, self).__init__()\n",
    "        \n",
    "        self.activations = []\n",
    "        self.do_p = 0.25\n",
    "        self.conv1 = nn.Conv2d(in_channels=1, out_channels=6, kernel_size=5)\n",
    "        self.do1 = nn.Dropout(self.do_p)\n",
    "        self.pool1 = nn.MaxPool2d(kernel_size=2)\n",
    "        self.conv2 = nn.Conv2d(in_channels=6, out_channels=16, kernel_size=5)\n",
    "        self.do2 = nn.Dropout(self.do_p)\n",
    "        self.pool2 = nn.MaxPool2d(kernel_size=2)\n",
    "\n",
    "        self.lin1 = nn.Linear(in_features=256, out_features=120)\n",
    "        self.do3 = nn.Dropout(self.do_p)\n",
    "        self.lin2 = nn.Linear(in_features=120, out_features=84)\n",
    "        self.do4 = nn.Dropout(self.do_p)\n",
    "        self.lin3 = nn.Linear(in_features=84, out_features=output_dim)\n",
    "        \n",
    "        self.init_weights(init_mode)\n",
    "\n",
    "\n",
    "    def forward(self, x):\n",
    "        x = self.conv1(x)\n",
    "        x = F.relu(x)\n",
    "        x = self.do1(x)\n",
    "        self.activations.append(x)\n",
    "        x = self.pool1(x)\n",
    "\n",
    "        x = self.conv2(x)\n",
    "        x = F.relu(x)\n",
    "        x = self.do2(x)\n",
    "        self.activations.append(x)\n",
    "        x = self.pool2(x)\n",
    "\n",
    "        x = torch.flatten(x, 1)\n",
    "\n",
    "        x = self.lin1(x)\n",
    "        x = F.relu(x)\n",
    "        x = self.do3(x)\n",
    "        self.activations.append(x)\n",
    "        x = self.lin2(x)\n",
    "        x = F.relu(x)\n",
    "        x = self.do4(x)\n",
    "        self.activations.append(x)\n",
    "        x = self.lin3(x)\n",
    "        x = F.softmax(x, dim=1)\n",
    "        return x\n",
    "    \n",
    "class LeNet_wide(LeNet):\n",
    "    def __init__(self, output_dim, init_mode='kaiming_normal'):\n",
    "        super(LeNet, self).__init__()\n",
    "        \n",
    "        self.activations = []\n",
    "\n",
    "        self.conv1 = nn.Conv2d(in_channels=1, out_channels=6, kernel_size=5)\n",
    "        self.pool1 = nn.MaxPool2d(kernel_size=2)\n",
    "        self.conv2 = nn.Conv2d(in_channels=6, out_channels=32, kernel_size=5)\n",
    "        self.pool2 = nn.MaxPool2d(kernel_size=2)\n",
    "\n",
    "        self.lin1 = nn.Linear(in_features=512, out_features=240)\n",
    "        self.lin2 = nn.Linear(in_features=240, out_features=84)\n",
    "        self.lin3 = nn.Linear(in_features=84, out_features=output_dim)\n",
    "        \n",
    "        self.init_weights(init_mode)\n",
    "\n",
    "\n",
    "    def forward(self, x):\n",
    "        x = self.conv1(x)\n",
    "        x = F.relu(x)\n",
    "        self.activations.append(x)\n",
    "        x = self.pool1(x)\n",
    "\n",
    "        x = self.conv2(x)\n",
    "        x = F.relu(x)\n",
    "        self.activations.append(x)\n",
    "        x = self.pool2(x)\n",
    "\n",
    "        x = torch.flatten(x, 1)\n",
    "\n",
    "        x = self.lin1(x)\n",
    "        x = F.relu(x)\n",
    "        self.activations.append(x)\n",
    "        x = self.lin2(x)\n",
    "        x = F.relu(x)\n",
    "        self.activations.append(x)\n",
    "        x = self.lin3(x)\n",
    "        x = F.softmax(x, dim=1)\n",
    "        return x\n",
    "        \n",
    "class LeNet_narrow(LeNet):\n",
    "    def __init__(self, output_dim, init_mode='kaiming_normal'):\n",
    "        super(LeNet, self).__init__()\n",
    "        \n",
    "        self.activations = []\n",
    "\n",
    "        self.conv1 = nn.Conv2d(in_channels=1, out_channels=6, kernel_size=5)\n",
    "        self.pool1 = nn.MaxPool2d(kernel_size=2)\n",
    "        self.conv2 = nn.Conv2d(in_channels=6, out_channels=10, kernel_size=5)\n",
    "        self.pool2 = nn.MaxPool2d(kernel_size=2)\n",
    "\n",
    "        self.lin1 = nn.Linear(in_features=160, out_features=100)\n",
    "        self.lin2 = nn.Linear(in_features=100, out_features=84)\n",
    "        self.lin3 = nn.Linear(in_features=84, out_features=output_dim)\n",
    "        \n",
    "        self.init_weights(init_mode)\n",
    "\n",
    "\n",
    "    def forward(self, x):\n",
    "        x = self.conv1(x)\n",
    "        x = F.relu(x)\n",
    "        self.activations.append(x)\n",
    "        x = self.pool1(x)\n",
    "\n",
    "        x = self.conv2(x)\n",
    "        x = F.relu(x)\n",
    "        self.activations.append(x)\n",
    "        x = self.pool2(x)\n",
    "\n",
    "        x = torch.flatten(x, 1)\n",
    "\n",
    "        x = self.lin1(x)\n",
    "        x = F.relu(x)\n",
    "        self.activations.append(x)\n",
    "        x = self.lin2(x)\n",
    "        x = F.relu(x)\n",
    "        self.activations.append(x)\n",
    "        x = self.lin3(x)\n",
    "        x = F.softmax(x, dim=1)\n",
    "        return x\n",
    "\n",
    "class LeNet_deep(LeNet):\n",
    "    def __init__(self, output_dim, init_mode='kaiming_normal'):\n",
    "        super(LeNet, self).__init__()\n",
    "        \n",
    "        self.activations = []\n",
    "\n",
    "        self.conv1 = nn.Conv2d(in_channels=1, out_channels=6, kernel_size=3)\n",
    "        self.pool1 = nn.MaxPool2d(kernel_size=2)\n",
    "        self.conv2 = nn.Conv2d(in_channels=6, out_channels=10, kernel_size=3)\n",
    "        self.conv3 = nn.Conv2d(in_channels=10, out_channels=16, kernel_size=3)\n",
    "        self.pool3 = nn.MaxPool2d(kernel_size=2)\n",
    "\n",
    "        self.lin1 = nn.Linear(in_features=256, out_features=160)\n",
    "        self.lin2 = nn.Linear(in_features=160, out_features=120)\n",
    "        self.lin3 = nn.Linear(in_features=120, out_features=84)\n",
    "        self.lin4 = nn.Linear(in_features=84, out_features=output_dim)\n",
    "        \n",
    "        self.init_weights(init_mode)\n",
    "\n",
    "\n",
    "    def forward(self, x):\n",
    "        x = self.conv1(x)\n",
    "        x = F.relu(x)\n",
    "        self.activations.append(x)\n",
    "        x = self.pool1(x)\n",
    "\n",
    "        x = self.conv2(x)\n",
    "        x = F.relu(x)\n",
    "        self.activations.append(x)\n",
    "        x = self.conv3(x)\n",
    "        x = F.relu(x)\n",
    "        self.activations.append(x)\n",
    "        x = self.pool3(x)\n",
    "\n",
    "        x = torch.flatten(x, 1)\n",
    "\n",
    "        x = self.lin1(x)\n",
    "        x = F.relu(x)\n",
    "        self.activations.append(x)\n",
    "        x = self.lin2(x)\n",
    "        x = F.relu(x)\n",
    "        self.activations.append(x)\n",
    "        x = self.lin3(x)\n",
    "        x = F.relu(x)\n",
    "        self.activations.append(x)\n",
    "        x = self.lin4(x)\n",
    "        x = F.softmax(x, dim=1)\n",
    "        return x\n",
    "    \n",
    "class LeNet_shallow(LeNet):\n",
    "    def __init__(self, output_dim, init_mode='kaiming_normal'):\n",
    "        super(LeNet, self).__init__()\n",
    "        \n",
    "        self.activations = []\n",
    "\n",
    "        self.conv1 = nn.Conv2d(in_channels=1, out_channels=6, kernel_size=3)\n",
    "        self.pool1 = nn.MaxPool2d(kernel_size=2)\n",
    "        self.conv2 = nn.Conv2d(in_channels=6, out_channels=10, kernel_size=3)\n",
    "        self.pool2 = nn.MaxPool2d(kernel_size=2)\n",
    "\n",
    "        self.lin1 = nn.Linear(in_features=250, out_features=84)\n",
    "        self.lin2 = nn.Linear(in_features=84, out_features=output_dim)\n",
    "        \n",
    "        self.init_weights(init_mode)\n",
    "\n",
    "\n",
    "    def forward(self, x):\n",
    "        x = self.conv1(x)\n",
    "        x = F.relu(x)\n",
    "        self.activations.append(x)\n",
    "        x = self.pool1(x)\n",
    "\n",
    "        x = self.conv2(x)\n",
    "        x = F.relu(x)\n",
    "        self.activations.append(x)\n",
    "        x = self.pool2(x)\n",
    "\n",
    "        x = torch.flatten(x, 1)\n",
    "\n",
    "        x = self.lin1(x)\n",
    "        x = F.relu(x)\n",
    "        self.activations.append(x)\n",
    "        x = self.lin2(x)\n",
    "        x = F.softmax(x, dim=1)\n",
    "        return x"
   ]
  },
  {
   "cell_type": "code",
   "execution_count": 279,
   "id": "ad667cf5",
   "metadata": {
    "cellId": "xc51wbpkg7d3uga4ye0j45"
   },
   "outputs": [],
   "source": [
    "#!g1.1\n",
    "criterion = nn.CrossEntropyLoss()\n",
    "criterion = criterion.to(device)\n",
    "n_epochs = 10"
   ]
  },
  {
   "cell_type": "markdown",
   "id": "7b32d30b",
   "metadata": {
    "cellId": "b8xnxua9twp83g1goci1ao"
   },
   "source": [
    "### Сравнение моделей"
   ]
  },
  {
   "cell_type": "markdown",
   "id": "b196ff1d",
   "metadata": {
    "cellId": "qdpqqm1bpday8vg9x5a7li"
   },
   "source": [
    "#### LeNet vs LeNet + BatchNorm"
   ]
  },
  {
   "cell_type": "markdown",
   "id": "8fd30ed8",
   "metadata": {
    "cellId": "ldmcge08vi0njjm4ldkfz"
   },
   "source": [
    "MNIST:"
   ]
  },
  {
   "cell_type": "code",
   "execution_count": 16,
   "id": "74f32838",
   "metadata": {
    "cellId": "60wlvxqn40n1sj2gsojuok"
   },
   "outputs": [],
   "source": [
    "#!g1.1\n",
    "train_iterator = train_iterator_1\n",
    "valid_iterator = valid_iterator_1\n",
    "model1 = LeNet(10)\n",
    "model2 = LeNet_bn(10)\n",
    "name1 = 'LeNet-1'\n",
    "name2 = 'LeNet_bn-1'"
   ]
  },
  {
   "cell_type": "code",
   "execution_count": 17,
   "id": "10667a64",
   "metadata": {
    "cellId": "joqu6jrhksrdu7cqdmm4mi"
   },
   "outputs": [
    {
     "name": "stdout",
     "output_type": "stream",
     "text": [
      "Epoch: 01 | Epoch Time: 0m 23s\n",
      "\tTrain Loss: 1.714 | Train Acc: 75.12%\n",
      "\t Val. Loss: 1.593 |  Val. Acc: 86.83%\n",
      "Epoch: 02 | Epoch Time: 0m 23s\n",
      "\tTrain Loss: 1.526 | Train Acc: 93.64%\n",
      "\t Val. Loss: 1.497 |  Val. Acc: 96.48%\n",
      "Epoch: 03 | Epoch Time: 0m 23s\n",
      "\tTrain Loss: 1.506 | Train Acc: 95.62%\n",
      "\t Val. Loss: 1.488 |  Val. Acc: 97.45%\n",
      "Epoch: 04 | Epoch Time: 0m 23s\n",
      "\tTrain Loss: 1.501 | Train Acc: 96.00%\n",
      "\t Val. Loss: 1.488 |  Val. Acc: 97.21%\n",
      "Epoch: 05 | Epoch Time: 0m 23s\n",
      "\tTrain Loss: 1.496 | Train Acc: 96.59%\n",
      "\t Val. Loss: 1.486 |  Val. Acc: 97.51%\n",
      "Epoch: 06 | Epoch Time: 0m 23s\n",
      "\tTrain Loss: 1.495 | Train Acc: 96.60%\n",
      "\t Val. Loss: 1.480 |  Val. Acc: 98.13%\n",
      "Epoch: 07 | Epoch Time: 0m 23s\n",
      "\tTrain Loss: 1.492 | Train Acc: 96.88%\n",
      "\t Val. Loss: 1.488 |  Val. Acc: 97.34%\n",
      "Epoch: 08 | Epoch Time: 0m 23s\n",
      "\tTrain Loss: 1.491 | Train Acc: 96.97%\n",
      "\t Val. Loss: 1.482 |  Val. Acc: 97.83%\n",
      "Epoch: 09 | Epoch Time: 0m 23s\n",
      "\tTrain Loss: 1.489 | Train Acc: 97.19%\n",
      "\t Val. Loss: 1.479 |  Val. Acc: 98.24%\n",
      "Epoch: 10 | Epoch Time: 0m 23s\n",
      "\tTrain Loss: 1.489 | Train Acc: 97.21%\n",
      "\t Val. Loss: 1.481 |  Val. Acc: 98.00%\n",
      "\n"
     ]
    },
    {
     "data": {
      "application/vnd.jupyter.widget-view+json": {
       "model_id": "93292a80de3a4cfd9805bf85488a2316",
       "version_major": 2,
       "version_minor": 0
      },
      "text/plain": [
       "HBox(children=(HTML(value='Epochs'), FloatProgress(value=0.0, max=10.0), HTML(value='')))"
      ]
     },
     "metadata": {},
     "output_type": "display_data"
    },
    {
     "data": {
      "application/vnd.jupyter.widget-view+json": {
       "model_id": "a70c6039c2894b12907d2f98697cfbf5",
       "version_major": 2,
       "version_minor": 0
      },
      "text/plain": [
       "HBox(children=(HTML(value='Training'), FloatProgress(value=0.0, max=844.0), HTML(value='')))"
      ]
     },
     "metadata": {},
     "output_type": "display_data"
    },
    {
     "data": {
      "application/vnd.jupyter.widget-view+json": {
       "model_id": "bbe4e2dc55e34117909dd0b84d00cc22",
       "version_major": 2,
       "version_minor": 0
      },
      "text/plain": [
       "HBox(children=(HTML(value='Evaluating'), FloatProgress(value=0.0, max=94.0), HTML(value='')))"
      ]
     },
     "metadata": {},
     "output_type": "display_data"
    },
    {
     "data": {
      "application/vnd.jupyter.widget-view+json": {
       "model_id": "0ca306d1993e4761aac30e4d3cdedce8",
       "version_major": 2,
       "version_minor": 0
      },
      "text/plain": [
       "HBox(children=(HTML(value='Training'), FloatProgress(value=0.0, max=844.0), HTML(value='')))"
      ]
     },
     "metadata": {},
     "output_type": "display_data"
    },
    {
     "data": {
      "application/vnd.jupyter.widget-view+json": {
       "model_id": "9226a7ed09d247379a6757f97e42be04",
       "version_major": 2,
       "version_minor": 0
      },
      "text/plain": [
       "HBox(children=(HTML(value='Evaluating'), FloatProgress(value=0.0, max=94.0), HTML(value='')))"
      ]
     },
     "metadata": {},
     "output_type": "display_data"
    },
    {
     "data": {
      "application/vnd.jupyter.widget-view+json": {
       "model_id": "7c15e97c3d664a309d0001075c361502",
       "version_major": 2,
       "version_minor": 0
      },
      "text/plain": [
       "HBox(children=(HTML(value='Training'), FloatProgress(value=0.0, max=844.0), HTML(value='')))"
      ]
     },
     "metadata": {},
     "output_type": "display_data"
    },
    {
     "data": {
      "application/vnd.jupyter.widget-view+json": {
       "model_id": "c0f62a8ae7c744828bfe108bc5874f8e",
       "version_major": 2,
       "version_minor": 0
      },
      "text/plain": [
       "HBox(children=(HTML(value='Evaluating'), FloatProgress(value=0.0, max=94.0), HTML(value='')))"
      ]
     },
     "metadata": {},
     "output_type": "display_data"
    },
    {
     "data": {
      "application/vnd.jupyter.widget-view+json": {
       "model_id": "a443fb6708f945efbc112a594398d0f7",
       "version_major": 2,
       "version_minor": 0
      },
      "text/plain": [
       "HBox(children=(HTML(value='Training'), FloatProgress(value=0.0, max=844.0), HTML(value='')))"
      ]
     },
     "metadata": {},
     "output_type": "display_data"
    },
    {
     "data": {
      "application/vnd.jupyter.widget-view+json": {
       "model_id": "75f07d9b260d4597a9252e6d15c8e34a",
       "version_major": 2,
       "version_minor": 0
      },
      "text/plain": [
       "HBox(children=(HTML(value='Evaluating'), FloatProgress(value=0.0, max=94.0), HTML(value='')))"
      ]
     },
     "metadata": {},
     "output_type": "display_data"
    },
    {
     "data": {
      "application/vnd.jupyter.widget-view+json": {
       "model_id": "f3216728a7c840b983dad59cc348c320",
       "version_major": 2,
       "version_minor": 0
      },
      "text/plain": [
       "HBox(children=(HTML(value='Training'), FloatProgress(value=0.0, max=844.0), HTML(value='')))"
      ]
     },
     "metadata": {},
     "output_type": "display_data"
    },
    {
     "data": {
      "application/vnd.jupyter.widget-view+json": {
       "model_id": "8eb07f3750ff4e4cadde470bc21176c2",
       "version_major": 2,
       "version_minor": 0
      },
      "text/plain": [
       "HBox(children=(HTML(value='Evaluating'), FloatProgress(value=0.0, max=94.0), HTML(value='')))"
      ]
     },
     "metadata": {},
     "output_type": "display_data"
    },
    {
     "data": {
      "application/vnd.jupyter.widget-view+json": {
       "model_id": "f60760d4629a422eac82a415ef650687",
       "version_major": 2,
       "version_minor": 0
      },
      "text/plain": [
       "HBox(children=(HTML(value='Training'), FloatProgress(value=0.0, max=844.0), HTML(value='')))"
      ]
     },
     "metadata": {},
     "output_type": "display_data"
    },
    {
     "data": {
      "application/vnd.jupyter.widget-view+json": {
       "model_id": "f4a2953beb004e61b7a94d79381f9e72",
       "version_major": 2,
       "version_minor": 0
      },
      "text/plain": [
       "HBox(children=(HTML(value='Evaluating'), FloatProgress(value=0.0, max=94.0), HTML(value='')))"
      ]
     },
     "metadata": {},
     "output_type": "display_data"
    },
    {
     "data": {
      "application/vnd.jupyter.widget-view+json": {
       "model_id": "e6fbc7d770b64488ab711ffce935767a",
       "version_major": 2,
       "version_minor": 0
      },
      "text/plain": [
       "HBox(children=(HTML(value='Training'), FloatProgress(value=0.0, max=844.0), HTML(value='')))"
      ]
     },
     "metadata": {},
     "output_type": "display_data"
    },
    {
     "data": {
      "application/vnd.jupyter.widget-view+json": {
       "model_id": "6ba33e0212b44819909dd858163039ae",
       "version_major": 2,
       "version_minor": 0
      },
      "text/plain": [
       "HBox(children=(HTML(value='Evaluating'), FloatProgress(value=0.0, max=94.0), HTML(value='')))"
      ]
     },
     "metadata": {},
     "output_type": "display_data"
    },
    {
     "data": {
      "application/vnd.jupyter.widget-view+json": {
       "model_id": "8f487fb3f56b42ef8d8a33a20c96c631",
       "version_major": 2,
       "version_minor": 0
      },
      "text/plain": [
       "HBox(children=(HTML(value='Training'), FloatProgress(value=0.0, max=844.0), HTML(value='')))"
      ]
     },
     "metadata": {},
     "output_type": "display_data"
    },
    {
     "data": {
      "application/vnd.jupyter.widget-view+json": {
       "model_id": "cd9f72fcc636413381adc60928d7023a",
       "version_major": 2,
       "version_minor": 0
      },
      "text/plain": [
       "HBox(children=(HTML(value='Evaluating'), FloatProgress(value=0.0, max=94.0), HTML(value='')))"
      ]
     },
     "metadata": {},
     "output_type": "display_data"
    },
    {
     "data": {
      "application/vnd.jupyter.widget-view+json": {
       "model_id": "d3ddee03b7834e919612280b6d8b12d2",
       "version_major": 2,
       "version_minor": 0
      },
      "text/plain": [
       "HBox(children=(HTML(value='Training'), FloatProgress(value=0.0, max=844.0), HTML(value='')))"
      ]
     },
     "metadata": {},
     "output_type": "display_data"
    },
    {
     "data": {
      "application/vnd.jupyter.widget-view+json": {
       "model_id": "47c5cacc43c6458a904e4d1c74eb15c0",
       "version_major": 2,
       "version_minor": 0
      },
      "text/plain": [
       "HBox(children=(HTML(value='Evaluating'), FloatProgress(value=0.0, max=94.0), HTML(value='')))"
      ]
     },
     "metadata": {},
     "output_type": "display_data"
    },
    {
     "data": {
      "application/vnd.jupyter.widget-view+json": {
       "model_id": "3807b3f80f334a5b8db759564a7b7ee1",
       "version_major": 2,
       "version_minor": 0
      },
      "text/plain": [
       "HBox(children=(HTML(value='Training'), FloatProgress(value=0.0, max=844.0), HTML(value='')))"
      ]
     },
     "metadata": {},
     "output_type": "display_data"
    },
    {
     "data": {
      "application/vnd.jupyter.widget-view+json": {
       "model_id": "c71ba712ef8b4f2d98dc7033f0d5f9c7",
       "version_major": 2,
       "version_minor": 0
      },
      "text/plain": [
       "HBox(children=(HTML(value='Evaluating'), FloatProgress(value=0.0, max=94.0), HTML(value='')))"
      ]
     },
     "metadata": {},
     "output_type": "display_data"
    }
   ],
   "source": [
    "#!g1.1\n",
    "train_model(model1, name1, n_epochs, train_iterator, valid_iterator)"
   ]
  },
  {
   "cell_type": "code",
   "execution_count": 18,
   "id": "37e32077",
   "metadata": {
    "cellId": "1liiojaaurwuld9wqpino9"
   },
   "outputs": [
    {
     "name": "stdout",
     "output_type": "stream",
     "text": [
      "Epoch: 01 | Epoch Time: 0m 25s\n",
      "\tTrain Loss: 1.568 | Train Acc: 91.58%\n",
      "\t Val. Loss: 1.490 |  Val. Acc: 97.52%\n",
      "Epoch: 02 | Epoch Time: 0m 25s\n",
      "\tTrain Loss: 1.500 | Train Acc: 96.49%\n",
      "\t Val. Loss: 1.486 |  Val. Acc: 97.70%\n",
      "Epoch: 03 | Epoch Time: 0m 25s\n",
      "\tTrain Loss: 1.493 | Train Acc: 97.05%\n",
      "\t Val. Loss: 1.480 |  Val. Acc: 98.18%\n",
      "Epoch: 04 | Epoch Time: 0m 25s\n",
      "\tTrain Loss: 1.488 | Train Acc: 97.40%\n",
      "\t Val. Loss: 1.480 |  Val. Acc: 98.15%\n",
      "Epoch: 05 | Epoch Time: 0m 25s\n",
      "\tTrain Loss: 1.487 | Train Acc: 97.46%\n",
      "\t Val. Loss: 1.477 |  Val. Acc: 98.47%\n",
      "Epoch: 06 | Epoch Time: 0m 25s\n",
      "\tTrain Loss: 1.485 | Train Acc: 97.70%\n",
      "\t Val. Loss: 1.477 |  Val. Acc: 98.37%\n",
      "Epoch: 07 | Epoch Time: 0m 25s\n",
      "\tTrain Loss: 1.483 | Train Acc: 97.83%\n",
      "\t Val. Loss: 1.476 |  Val. Acc: 98.54%\n",
      "Epoch: 08 | Epoch Time: 0m 25s\n",
      "\tTrain Loss: 1.483 | Train Acc: 97.87%\n",
      "\t Val. Loss: 1.477 |  Val. Acc: 98.48%\n",
      "Epoch: 09 | Epoch Time: 0m 25s\n",
      "\tTrain Loss: 1.482 | Train Acc: 97.97%\n",
      "\t Val. Loss: 1.475 |  Val. Acc: 98.76%\n",
      "Epoch: 10 | Epoch Time: 0m 25s\n",
      "\tTrain Loss: 1.481 | Train Acc: 98.09%\n",
      "\t Val. Loss: 1.477 |  Val. Acc: 98.34%\n",
      "\n"
     ]
    },
    {
     "data": {
      "application/vnd.jupyter.widget-view+json": {
       "model_id": "455b44562f4241ab9bcc39e927d57148",
       "version_major": 2,
       "version_minor": 0
      },
      "text/plain": [
       "HBox(children=(HTML(value='Epochs'), FloatProgress(value=0.0, max=10.0), HTML(value='')))"
      ]
     },
     "metadata": {},
     "output_type": "display_data"
    },
    {
     "data": {
      "application/vnd.jupyter.widget-view+json": {
       "model_id": "0650d397baf24805b80f692ad46491db",
       "version_major": 2,
       "version_minor": 0
      },
      "text/plain": [
       "HBox(children=(HTML(value='Training'), FloatProgress(value=0.0, max=844.0), HTML(value='')))"
      ]
     },
     "metadata": {},
     "output_type": "display_data"
    },
    {
     "data": {
      "application/vnd.jupyter.widget-view+json": {
       "model_id": "11848e024aef47f99712a59df058665a",
       "version_major": 2,
       "version_minor": 0
      },
      "text/plain": [
       "HBox(children=(HTML(value='Evaluating'), FloatProgress(value=0.0, max=94.0), HTML(value='')))"
      ]
     },
     "metadata": {},
     "output_type": "display_data"
    },
    {
     "data": {
      "application/vnd.jupyter.widget-view+json": {
       "model_id": "1440d79ccf9c4cacb08a54eda8efa1dc",
       "version_major": 2,
       "version_minor": 0
      },
      "text/plain": [
       "HBox(children=(HTML(value='Training'), FloatProgress(value=0.0, max=844.0), HTML(value='')))"
      ]
     },
     "metadata": {},
     "output_type": "display_data"
    },
    {
     "data": {
      "application/vnd.jupyter.widget-view+json": {
       "model_id": "fb7c583858d64ceca56c6fc830905df0",
       "version_major": 2,
       "version_minor": 0
      },
      "text/plain": [
       "HBox(children=(HTML(value='Evaluating'), FloatProgress(value=0.0, max=94.0), HTML(value='')))"
      ]
     },
     "metadata": {},
     "output_type": "display_data"
    },
    {
     "data": {
      "application/vnd.jupyter.widget-view+json": {
       "model_id": "672502ae658a4054aaadd1547fdc6bfe",
       "version_major": 2,
       "version_minor": 0
      },
      "text/plain": [
       "HBox(children=(HTML(value='Training'), FloatProgress(value=0.0, max=844.0), HTML(value='')))"
      ]
     },
     "metadata": {},
     "output_type": "display_data"
    },
    {
     "data": {
      "application/vnd.jupyter.widget-view+json": {
       "model_id": "c91083aa14ee401daed1fe65f6a4a616",
       "version_major": 2,
       "version_minor": 0
      },
      "text/plain": [
       "HBox(children=(HTML(value='Evaluating'), FloatProgress(value=0.0, max=94.0), HTML(value='')))"
      ]
     },
     "metadata": {},
     "output_type": "display_data"
    },
    {
     "data": {
      "application/vnd.jupyter.widget-view+json": {
       "model_id": "43f7c14f08e242ea9434b0c2e7190900",
       "version_major": 2,
       "version_minor": 0
      },
      "text/plain": [
       "HBox(children=(HTML(value='Training'), FloatProgress(value=0.0, max=844.0), HTML(value='')))"
      ]
     },
     "metadata": {},
     "output_type": "display_data"
    },
    {
     "data": {
      "application/vnd.jupyter.widget-view+json": {
       "model_id": "b6bc718a224e436a81271660e865f29f",
       "version_major": 2,
       "version_minor": 0
      },
      "text/plain": [
       "HBox(children=(HTML(value='Evaluating'), FloatProgress(value=0.0, max=94.0), HTML(value='')))"
      ]
     },
     "metadata": {},
     "output_type": "display_data"
    },
    {
     "data": {
      "application/vnd.jupyter.widget-view+json": {
       "model_id": "7717b34a49d54643a5dc7f62ec495d09",
       "version_major": 2,
       "version_minor": 0
      },
      "text/plain": [
       "HBox(children=(HTML(value='Training'), FloatProgress(value=0.0, max=844.0), HTML(value='')))"
      ]
     },
     "metadata": {},
     "output_type": "display_data"
    },
    {
     "data": {
      "application/vnd.jupyter.widget-view+json": {
       "model_id": "b51bb9509d434534bae508183d506b66",
       "version_major": 2,
       "version_minor": 0
      },
      "text/plain": [
       "HBox(children=(HTML(value='Evaluating'), FloatProgress(value=0.0, max=94.0), HTML(value='')))"
      ]
     },
     "metadata": {},
     "output_type": "display_data"
    },
    {
     "data": {
      "application/vnd.jupyter.widget-view+json": {
       "model_id": "cae9f271a15547e4a98128cfded9e343",
       "version_major": 2,
       "version_minor": 0
      },
      "text/plain": [
       "HBox(children=(HTML(value='Training'), FloatProgress(value=0.0, max=844.0), HTML(value='')))"
      ]
     },
     "metadata": {},
     "output_type": "display_data"
    },
    {
     "data": {
      "application/vnd.jupyter.widget-view+json": {
       "model_id": "aa2de96eee7f4c75899eeb4f423ed2da",
       "version_major": 2,
       "version_minor": 0
      },
      "text/plain": [
       "HBox(children=(HTML(value='Evaluating'), FloatProgress(value=0.0, max=94.0), HTML(value='')))"
      ]
     },
     "metadata": {},
     "output_type": "display_data"
    },
    {
     "data": {
      "application/vnd.jupyter.widget-view+json": {
       "model_id": "3d6548d20d5e4f8f84cae04d4d775029",
       "version_major": 2,
       "version_minor": 0
      },
      "text/plain": [
       "HBox(children=(HTML(value='Training'), FloatProgress(value=0.0, max=844.0), HTML(value='')))"
      ]
     },
     "metadata": {},
     "output_type": "display_data"
    },
    {
     "data": {
      "application/vnd.jupyter.widget-view+json": {
       "model_id": "b2fc1f7ff5a248b68930f19b6dbbe9b2",
       "version_major": 2,
       "version_minor": 0
      },
      "text/plain": [
       "HBox(children=(HTML(value='Evaluating'), FloatProgress(value=0.0, max=94.0), HTML(value='')))"
      ]
     },
     "metadata": {},
     "output_type": "display_data"
    },
    {
     "data": {
      "application/vnd.jupyter.widget-view+json": {
       "model_id": "c70ee152b9f24a73bc238a8e768df490",
       "version_major": 2,
       "version_minor": 0
      },
      "text/plain": [
       "HBox(children=(HTML(value='Training'), FloatProgress(value=0.0, max=844.0), HTML(value='')))"
      ]
     },
     "metadata": {},
     "output_type": "display_data"
    },
    {
     "data": {
      "application/vnd.jupyter.widget-view+json": {
       "model_id": "fdd856fac69c455cae83a178c0cf6d0d",
       "version_major": 2,
       "version_minor": 0
      },
      "text/plain": [
       "HBox(children=(HTML(value='Evaluating'), FloatProgress(value=0.0, max=94.0), HTML(value='')))"
      ]
     },
     "metadata": {},
     "output_type": "display_data"
    },
    {
     "data": {
      "application/vnd.jupyter.widget-view+json": {
       "model_id": "42a6a3e56e064b6ca75b603c6328f2a1",
       "version_major": 2,
       "version_minor": 0
      },
      "text/plain": [
       "HBox(children=(HTML(value='Training'), FloatProgress(value=0.0, max=844.0), HTML(value='')))"
      ]
     },
     "metadata": {},
     "output_type": "display_data"
    },
    {
     "data": {
      "application/vnd.jupyter.widget-view+json": {
       "model_id": "ec1dde89ed7c4534af699d39bb1c15b7",
       "version_major": 2,
       "version_minor": 0
      },
      "text/plain": [
       "HBox(children=(HTML(value='Evaluating'), FloatProgress(value=0.0, max=94.0), HTML(value='')))"
      ]
     },
     "metadata": {},
     "output_type": "display_data"
    },
    {
     "data": {
      "application/vnd.jupyter.widget-view+json": {
       "model_id": "9fe8f20346454308800dfddfcb8af458",
       "version_major": 2,
       "version_minor": 0
      },
      "text/plain": [
       "HBox(children=(HTML(value='Training'), FloatProgress(value=0.0, max=844.0), HTML(value='')))"
      ]
     },
     "metadata": {},
     "output_type": "display_data"
    },
    {
     "data": {
      "application/vnd.jupyter.widget-view+json": {
       "model_id": "ec1c29ff49e346f4af9bc26942782298",
       "version_major": 2,
       "version_minor": 0
      },
      "text/plain": [
       "HBox(children=(HTML(value='Evaluating'), FloatProgress(value=0.0, max=94.0), HTML(value='')))"
      ]
     },
     "metadata": {},
     "output_type": "display_data"
    }
   ],
   "source": [
    "#!g1.1\n",
    "train_model(model2, name2, n_epochs, train_iterator, valid_iterator)"
   ]
  },
  {
   "cell_type": "markdown",
   "id": "6886b42e",
   "metadata": {
    "cellId": "ufeyebz9616436u181x4"
   },
   "source": [
    "FMNIST:"
   ]
  },
  {
   "cell_type": "code",
   "execution_count": 40,
   "id": "145f7983",
   "metadata": {
    "cellId": "sl9x718qa9b98xm61g2njd"
   },
   "outputs": [],
   "source": [
    "#!g1.1\n",
    "train_iterator = train_iterator_2\n",
    "valid_iterator = valid_iterator_2\n",
    "model1 = LeNet(10)\n",
    "model2 = LeNet_bn(10)\n",
    "name1 = 'LeNet-2'\n",
    "name2 = 'LeNet_bn-2'"
   ]
  },
  {
   "cell_type": "code",
   "execution_count": 38,
   "id": "2ac7d8f6",
   "metadata": {
    "cellId": "9uvv0d3y9dqz5x6rdhoz08"
   },
   "outputs": [
    {
     "name": "stdout",
     "output_type": "stream",
     "text": [
      "Epoch: 01 | Epoch Time: 0m 23s\n",
      "\tTrain Loss: 1.719 | Train Acc: 74.80%\n",
      "\t Val. Loss: 1.581 |  Val. Acc: 88.09%\n",
      "Epoch: 02 | Epoch Time: 0m 23s\n",
      "\tTrain Loss: 1.556 | Train Acc: 90.66%\n",
      "\t Val. Loss: 1.494 |  Val. Acc: 96.72%\n",
      "Epoch: 03 | Epoch Time: 0m 24s\n",
      "\tTrain Loss: 1.506 | Train Acc: 95.64%\n",
      "\t Val. Loss: 1.496 |  Val. Acc: 96.65%\n",
      "Epoch: 04 | Epoch Time: 0m 23s\n",
      "\tTrain Loss: 1.499 | Train Acc: 96.25%\n",
      "\t Val. Loss: 1.484 |  Val. Acc: 97.80%\n",
      "Epoch: 05 | Epoch Time: 0m 24s\n",
      "\tTrain Loss: 1.495 | Train Acc: 96.60%\n",
      "\t Val. Loss: 1.483 |  Val. Acc: 97.79%\n",
      "Epoch: 06 | Epoch Time: 0m 24s\n",
      "\tTrain Loss: 1.493 | Train Acc: 96.87%\n",
      "\t Val. Loss: 1.485 |  Val. Acc: 97.65%\n",
      "Epoch: 07 | Epoch Time: 0m 23s\n",
      "\tTrain Loss: 1.491 | Train Acc: 97.07%\n",
      "\t Val. Loss: 1.480 |  Val. Acc: 98.19%\n",
      "Epoch: 08 | Epoch Time: 0m 24s\n",
      "\tTrain Loss: 1.489 | Train Acc: 97.19%\n",
      "\t Val. Loss: 1.483 |  Val. Acc: 97.80%\n",
      "Epoch: 09 | Epoch Time: 0m 24s\n",
      "\tTrain Loss: 1.488 | Train Acc: 97.29%\n",
      "\t Val. Loss: 1.478 |  Val. Acc: 98.35%\n",
      "Epoch: 10 | Epoch Time: 0m 24s\n",
      "\tTrain Loss: 1.487 | Train Acc: 97.40%\n",
      "\t Val. Loss: 1.479 |  Val. Acc: 98.19%\n",
      "\n"
     ]
    },
    {
     "data": {
      "application/vnd.jupyter.widget-view+json": {
       "model_id": "34e1b2feb5774190ad3c7499783c67ee",
       "version_major": 2,
       "version_minor": 0
      },
      "text/plain": [
       "HBox(children=(HTML(value='Epochs'), FloatProgress(value=0.0, max=10.0), HTML(value='')))"
      ]
     },
     "metadata": {},
     "output_type": "display_data"
    },
    {
     "data": {
      "application/vnd.jupyter.widget-view+json": {
       "model_id": "7eba57d2a5fe470a8122c4eb630df1df",
       "version_major": 2,
       "version_minor": 0
      },
      "text/plain": [
       "HBox(children=(HTML(value='Training'), FloatProgress(value=0.0, max=844.0), HTML(value='')))"
      ]
     },
     "metadata": {},
     "output_type": "display_data"
    },
    {
     "data": {
      "application/vnd.jupyter.widget-view+json": {
       "model_id": "566e715f89d84c6880b3aeea5202f1ed",
       "version_major": 2,
       "version_minor": 0
      },
      "text/plain": [
       "HBox(children=(HTML(value='Evaluating'), FloatProgress(value=0.0, max=94.0), HTML(value='')))"
      ]
     },
     "metadata": {},
     "output_type": "display_data"
    },
    {
     "data": {
      "application/vnd.jupyter.widget-view+json": {
       "model_id": "1c796e333051467580f29012519f3d3a",
       "version_major": 2,
       "version_minor": 0
      },
      "text/plain": [
       "HBox(children=(HTML(value='Training'), FloatProgress(value=0.0, max=844.0), HTML(value='')))"
      ]
     },
     "metadata": {},
     "output_type": "display_data"
    },
    {
     "data": {
      "application/vnd.jupyter.widget-view+json": {
       "model_id": "ecfb7f4d6c1045febb525104801b35d3",
       "version_major": 2,
       "version_minor": 0
      },
      "text/plain": [
       "HBox(children=(HTML(value='Evaluating'), FloatProgress(value=0.0, max=94.0), HTML(value='')))"
      ]
     },
     "metadata": {},
     "output_type": "display_data"
    },
    {
     "data": {
      "application/vnd.jupyter.widget-view+json": {
       "model_id": "fe69367996444ff8aef09d3595799677",
       "version_major": 2,
       "version_minor": 0
      },
      "text/plain": [
       "HBox(children=(HTML(value='Training'), FloatProgress(value=0.0, max=844.0), HTML(value='')))"
      ]
     },
     "metadata": {},
     "output_type": "display_data"
    },
    {
     "data": {
      "application/vnd.jupyter.widget-view+json": {
       "model_id": "b670a490f72747e6be0952d8e8d2e431",
       "version_major": 2,
       "version_minor": 0
      },
      "text/plain": [
       "HBox(children=(HTML(value='Evaluating'), FloatProgress(value=0.0, max=94.0), HTML(value='')))"
      ]
     },
     "metadata": {},
     "output_type": "display_data"
    },
    {
     "data": {
      "application/vnd.jupyter.widget-view+json": {
       "model_id": "8bd3fff796ea40078c217ce7df1447f1",
       "version_major": 2,
       "version_minor": 0
      },
      "text/plain": [
       "HBox(children=(HTML(value='Training'), FloatProgress(value=0.0, max=844.0), HTML(value='')))"
      ]
     },
     "metadata": {},
     "output_type": "display_data"
    },
    {
     "data": {
      "application/vnd.jupyter.widget-view+json": {
       "model_id": "0e2c47c065a343fea3c2b1b7030921b9",
       "version_major": 2,
       "version_minor": 0
      },
      "text/plain": [
       "HBox(children=(HTML(value='Evaluating'), FloatProgress(value=0.0, max=94.0), HTML(value='')))"
      ]
     },
     "metadata": {},
     "output_type": "display_data"
    },
    {
     "data": {
      "application/vnd.jupyter.widget-view+json": {
       "model_id": "07749a91d2cc4115abe6b5c601adb2e9",
       "version_major": 2,
       "version_minor": 0
      },
      "text/plain": [
       "HBox(children=(HTML(value='Training'), FloatProgress(value=0.0, max=844.0), HTML(value='')))"
      ]
     },
     "metadata": {},
     "output_type": "display_data"
    },
    {
     "data": {
      "application/vnd.jupyter.widget-view+json": {
       "model_id": "b6b24e71cf964fc5b86e0395dc6843e1",
       "version_major": 2,
       "version_minor": 0
      },
      "text/plain": [
       "HBox(children=(HTML(value='Evaluating'), FloatProgress(value=0.0, max=94.0), HTML(value='')))"
      ]
     },
     "metadata": {},
     "output_type": "display_data"
    },
    {
     "data": {
      "application/vnd.jupyter.widget-view+json": {
       "model_id": "8737f50d1451412ca86426c247bb96f4",
       "version_major": 2,
       "version_minor": 0
      },
      "text/plain": [
       "HBox(children=(HTML(value='Training'), FloatProgress(value=0.0, max=844.0), HTML(value='')))"
      ]
     },
     "metadata": {},
     "output_type": "display_data"
    },
    {
     "data": {
      "application/vnd.jupyter.widget-view+json": {
       "model_id": "52134e9cd0624f2784cea2dda0b53aa8",
       "version_major": 2,
       "version_minor": 0
      },
      "text/plain": [
       "HBox(children=(HTML(value='Evaluating'), FloatProgress(value=0.0, max=94.0), HTML(value='')))"
      ]
     },
     "metadata": {},
     "output_type": "display_data"
    },
    {
     "data": {
      "application/vnd.jupyter.widget-view+json": {
       "model_id": "5d4e4c6b750f4a3f8e7e949941c56a99",
       "version_major": 2,
       "version_minor": 0
      },
      "text/plain": [
       "HBox(children=(HTML(value='Training'), FloatProgress(value=0.0, max=844.0), HTML(value='')))"
      ]
     },
     "metadata": {},
     "output_type": "display_data"
    },
    {
     "data": {
      "application/vnd.jupyter.widget-view+json": {
       "model_id": "ef4e5e3c29764e7981e29635cd149c48",
       "version_major": 2,
       "version_minor": 0
      },
      "text/plain": [
       "HBox(children=(HTML(value='Evaluating'), FloatProgress(value=0.0, max=94.0), HTML(value='')))"
      ]
     },
     "metadata": {},
     "output_type": "display_data"
    },
    {
     "data": {
      "application/vnd.jupyter.widget-view+json": {
       "model_id": "e997bdc8d85c48929c2b10a9ec70e138",
       "version_major": 2,
       "version_minor": 0
      },
      "text/plain": [
       "HBox(children=(HTML(value='Training'), FloatProgress(value=0.0, max=844.0), HTML(value='')))"
      ]
     },
     "metadata": {},
     "output_type": "display_data"
    },
    {
     "data": {
      "application/vnd.jupyter.widget-view+json": {
       "model_id": "d26c2ca7652a471bbaf4886f4fa2817b",
       "version_major": 2,
       "version_minor": 0
      },
      "text/plain": [
       "HBox(children=(HTML(value='Evaluating'), FloatProgress(value=0.0, max=94.0), HTML(value='')))"
      ]
     },
     "metadata": {},
     "output_type": "display_data"
    },
    {
     "data": {
      "application/vnd.jupyter.widget-view+json": {
       "model_id": "3e95bf5c52cf4ce09544a0bf56c84f17",
       "version_major": 2,
       "version_minor": 0
      },
      "text/plain": [
       "HBox(children=(HTML(value='Training'), FloatProgress(value=0.0, max=844.0), HTML(value='')))"
      ]
     },
     "metadata": {},
     "output_type": "display_data"
    },
    {
     "data": {
      "application/vnd.jupyter.widget-view+json": {
       "model_id": "c74123b58fed4b059c892c1217a2c5c7",
       "version_major": 2,
       "version_minor": 0
      },
      "text/plain": [
       "HBox(children=(HTML(value='Evaluating'), FloatProgress(value=0.0, max=94.0), HTML(value='')))"
      ]
     },
     "metadata": {},
     "output_type": "display_data"
    },
    {
     "data": {
      "application/vnd.jupyter.widget-view+json": {
       "model_id": "59d15ee9f6c545de96f6efeb1a5a1ce6",
       "version_major": 2,
       "version_minor": 0
      },
      "text/plain": [
       "HBox(children=(HTML(value='Training'), FloatProgress(value=0.0, max=844.0), HTML(value='')))"
      ]
     },
     "metadata": {},
     "output_type": "display_data"
    },
    {
     "data": {
      "application/vnd.jupyter.widget-view+json": {
       "model_id": "29a9cac02d574297bd1c07eb38889e9f",
       "version_major": 2,
       "version_minor": 0
      },
      "text/plain": [
       "HBox(children=(HTML(value='Evaluating'), FloatProgress(value=0.0, max=94.0), HTML(value='')))"
      ]
     },
     "metadata": {},
     "output_type": "display_data"
    }
   ],
   "source": [
    "#!g1.1\n",
    "train_model(model1, name1, n_epochs, train_iterator, valid_iterator)"
   ]
  },
  {
   "cell_type": "code",
   "execution_count": 39,
   "id": "89bbeb93",
   "metadata": {
    "cellId": "q29kjzjah8l5t7nkevwxh"
   },
   "outputs": [
    {
     "name": "stdout",
     "output_type": "stream",
     "text": [
      "Epoch: 01 | Epoch Time: 0m 25s\n",
      "\tTrain Loss: 1.568 | Train Acc: 91.43%\n",
      "\t Val. Loss: 1.490 |  Val. Acc: 97.41%\n",
      "Epoch: 02 | Epoch Time: 0m 25s\n",
      "\tTrain Loss: 1.501 | Train Acc: 96.36%\n",
      "\t Val. Loss: 1.485 |  Val. Acc: 97.74%\n",
      "Epoch: 03 | Epoch Time: 0m 25s\n",
      "\tTrain Loss: 1.494 | Train Acc: 96.89%\n",
      "\t Val. Loss: 1.483 |  Val. Acc: 97.94%\n",
      "Epoch: 04 | Epoch Time: 0m 25s\n",
      "\tTrain Loss: 1.490 | Train Acc: 97.28%\n",
      "\t Val. Loss: 1.478 |  Val. Acc: 98.35%\n",
      "Epoch: 05 | Epoch Time: 0m 25s\n",
      "\tTrain Loss: 1.487 | Train Acc: 97.52%\n",
      "\t Val. Loss: 1.482 |  Val. Acc: 97.95%\n",
      "Epoch: 06 | Epoch Time: 0m 25s\n",
      "\tTrain Loss: 1.484 | Train Acc: 97.77%\n",
      "\t Val. Loss: 1.477 |  Val. Acc: 98.45%\n",
      "Epoch: 07 | Epoch Time: 0m 25s\n",
      "\tTrain Loss: 1.483 | Train Acc: 97.87%\n",
      "\t Val. Loss: 1.476 |  Val. Acc: 98.57%\n",
      "Epoch: 08 | Epoch Time: 0m 25s\n",
      "\tTrain Loss: 1.483 | Train Acc: 97.80%\n",
      "\t Val. Loss: 1.474 |  Val. Acc: 98.74%\n",
      "Epoch: 09 | Epoch Time: 0m 25s\n",
      "\tTrain Loss: 1.481 | Train Acc: 98.01%\n",
      "\t Val. Loss: 1.475 |  Val. Acc: 98.58%\n",
      "Epoch: 10 | Epoch Time: 0m 25s\n",
      "\tTrain Loss: 1.482 | Train Acc: 97.99%\n",
      "\t Val. Loss: 1.475 |  Val. Acc: 98.63%\n",
      "\n"
     ]
    },
    {
     "data": {
      "application/vnd.jupyter.widget-view+json": {
       "model_id": "d1a67efafede454fb166b7b30b468f67",
       "version_major": 2,
       "version_minor": 0
      },
      "text/plain": [
       "HBox(children=(HTML(value='Epochs'), FloatProgress(value=0.0, max=10.0), HTML(value='')))"
      ]
     },
     "metadata": {},
     "output_type": "display_data"
    },
    {
     "data": {
      "application/vnd.jupyter.widget-view+json": {
       "model_id": "55fa6a6a608d4da38cd5ba88e80fcf29",
       "version_major": 2,
       "version_minor": 0
      },
      "text/plain": [
       "HBox(children=(HTML(value='Training'), FloatProgress(value=0.0, max=844.0), HTML(value='')))"
      ]
     },
     "metadata": {},
     "output_type": "display_data"
    },
    {
     "data": {
      "application/vnd.jupyter.widget-view+json": {
       "model_id": "cc414f1e86af4c6084bf06102fb39858",
       "version_major": 2,
       "version_minor": 0
      },
      "text/plain": [
       "HBox(children=(HTML(value='Evaluating'), FloatProgress(value=0.0, max=94.0), HTML(value='')))"
      ]
     },
     "metadata": {},
     "output_type": "display_data"
    },
    {
     "data": {
      "application/vnd.jupyter.widget-view+json": {
       "model_id": "c400480b4e5f4bd1bfbef07e1b5275c9",
       "version_major": 2,
       "version_minor": 0
      },
      "text/plain": [
       "HBox(children=(HTML(value='Training'), FloatProgress(value=0.0, max=844.0), HTML(value='')))"
      ]
     },
     "metadata": {},
     "output_type": "display_data"
    },
    {
     "data": {
      "application/vnd.jupyter.widget-view+json": {
       "model_id": "1ef060dcdc3b4757a26e101081f04e11",
       "version_major": 2,
       "version_minor": 0
      },
      "text/plain": [
       "HBox(children=(HTML(value='Evaluating'), FloatProgress(value=0.0, max=94.0), HTML(value='')))"
      ]
     },
     "metadata": {},
     "output_type": "display_data"
    },
    {
     "data": {
      "application/vnd.jupyter.widget-view+json": {
       "model_id": "e675dfb726274a24903582f57fdd0fac",
       "version_major": 2,
       "version_minor": 0
      },
      "text/plain": [
       "HBox(children=(HTML(value='Training'), FloatProgress(value=0.0, max=844.0), HTML(value='')))"
      ]
     },
     "metadata": {},
     "output_type": "display_data"
    },
    {
     "data": {
      "application/vnd.jupyter.widget-view+json": {
       "model_id": "0c007547e9d740419ff0110c8d2653da",
       "version_major": 2,
       "version_minor": 0
      },
      "text/plain": [
       "HBox(children=(HTML(value='Evaluating'), FloatProgress(value=0.0, max=94.0), HTML(value='')))"
      ]
     },
     "metadata": {},
     "output_type": "display_data"
    },
    {
     "data": {
      "application/vnd.jupyter.widget-view+json": {
       "model_id": "15bbd3317ef64471b7103a1675fcaeb1",
       "version_major": 2,
       "version_minor": 0
      },
      "text/plain": [
       "HBox(children=(HTML(value='Training'), FloatProgress(value=0.0, max=844.0), HTML(value='')))"
      ]
     },
     "metadata": {},
     "output_type": "display_data"
    },
    {
     "data": {
      "application/vnd.jupyter.widget-view+json": {
       "model_id": "7ece48a35b6d4d309ce3515e5342b99b",
       "version_major": 2,
       "version_minor": 0
      },
      "text/plain": [
       "HBox(children=(HTML(value='Evaluating'), FloatProgress(value=0.0, max=94.0), HTML(value='')))"
      ]
     },
     "metadata": {},
     "output_type": "display_data"
    },
    {
     "data": {
      "application/vnd.jupyter.widget-view+json": {
       "model_id": "18713d3b04864510a049b80591a6c469",
       "version_major": 2,
       "version_minor": 0
      },
      "text/plain": [
       "HBox(children=(HTML(value='Training'), FloatProgress(value=0.0, max=844.0), HTML(value='')))"
      ]
     },
     "metadata": {},
     "output_type": "display_data"
    },
    {
     "data": {
      "application/vnd.jupyter.widget-view+json": {
       "model_id": "a990c410bdfa4b59aadaab409a89a18e",
       "version_major": 2,
       "version_minor": 0
      },
      "text/plain": [
       "HBox(children=(HTML(value='Evaluating'), FloatProgress(value=0.0, max=94.0), HTML(value='')))"
      ]
     },
     "metadata": {},
     "output_type": "display_data"
    },
    {
     "data": {
      "application/vnd.jupyter.widget-view+json": {
       "model_id": "7d9142bf123c4c2e8c2a5f6c7f32bb81",
       "version_major": 2,
       "version_minor": 0
      },
      "text/plain": [
       "HBox(children=(HTML(value='Training'), FloatProgress(value=0.0, max=844.0), HTML(value='')))"
      ]
     },
     "metadata": {},
     "output_type": "display_data"
    },
    {
     "data": {
      "application/vnd.jupyter.widget-view+json": {
       "model_id": "1c2db478e06c40f08dcf8bc2976bdd81",
       "version_major": 2,
       "version_minor": 0
      },
      "text/plain": [
       "HBox(children=(HTML(value='Evaluating'), FloatProgress(value=0.0, max=94.0), HTML(value='')))"
      ]
     },
     "metadata": {},
     "output_type": "display_data"
    },
    {
     "data": {
      "application/vnd.jupyter.widget-view+json": {
       "model_id": "f819deb77208406d97844ce9b2c9661e",
       "version_major": 2,
       "version_minor": 0
      },
      "text/plain": [
       "HBox(children=(HTML(value='Training'), FloatProgress(value=0.0, max=844.0), HTML(value='')))"
      ]
     },
     "metadata": {},
     "output_type": "display_data"
    },
    {
     "data": {
      "application/vnd.jupyter.widget-view+json": {
       "model_id": "a52c701d9c804e428394a8c799787eca",
       "version_major": 2,
       "version_minor": 0
      },
      "text/plain": [
       "HBox(children=(HTML(value='Evaluating'), FloatProgress(value=0.0, max=94.0), HTML(value='')))"
      ]
     },
     "metadata": {},
     "output_type": "display_data"
    },
    {
     "data": {
      "application/vnd.jupyter.widget-view+json": {
       "model_id": "0b5bb135c1064d95b30e52335c32e574",
       "version_major": 2,
       "version_minor": 0
      },
      "text/plain": [
       "HBox(children=(HTML(value='Training'), FloatProgress(value=0.0, max=844.0), HTML(value='')))"
      ]
     },
     "metadata": {},
     "output_type": "display_data"
    },
    {
     "data": {
      "application/vnd.jupyter.widget-view+json": {
       "model_id": "3f752d7be8db476680588d2a2502ab42",
       "version_major": 2,
       "version_minor": 0
      },
      "text/plain": [
       "HBox(children=(HTML(value='Evaluating'), FloatProgress(value=0.0, max=94.0), HTML(value='')))"
      ]
     },
     "metadata": {},
     "output_type": "display_data"
    },
    {
     "data": {
      "application/vnd.jupyter.widget-view+json": {
       "model_id": "33b199368fcd4f208265856feea436c8",
       "version_major": 2,
       "version_minor": 0
      },
      "text/plain": [
       "HBox(children=(HTML(value='Training'), FloatProgress(value=0.0, max=844.0), HTML(value='')))"
      ]
     },
     "metadata": {},
     "output_type": "display_data"
    },
    {
     "data": {
      "application/vnd.jupyter.widget-view+json": {
       "model_id": "0fbeab34fe6c4aba9d965129ba9a2e27",
       "version_major": 2,
       "version_minor": 0
      },
      "text/plain": [
       "HBox(children=(HTML(value='Evaluating'), FloatProgress(value=0.0, max=94.0), HTML(value='')))"
      ]
     },
     "metadata": {},
     "output_type": "display_data"
    },
    {
     "data": {
      "application/vnd.jupyter.widget-view+json": {
       "model_id": "ed7ef2bf49744954b07cc627323c15dd",
       "version_major": 2,
       "version_minor": 0
      },
      "text/plain": [
       "HBox(children=(HTML(value='Training'), FloatProgress(value=0.0, max=844.0), HTML(value='')))"
      ]
     },
     "metadata": {},
     "output_type": "display_data"
    },
    {
     "data": {
      "application/vnd.jupyter.widget-view+json": {
       "model_id": "b0def04d858b4872b7993489655a37e0",
       "version_major": 2,
       "version_minor": 0
      },
      "text/plain": [
       "HBox(children=(HTML(value='Evaluating'), FloatProgress(value=0.0, max=94.0), HTML(value='')))"
      ]
     },
     "metadata": {},
     "output_type": "display_data"
    }
   ],
   "source": [
    "#!g1.1\n",
    "train_model(model2, name2, n_epochs, train_iterator, valid_iterator)"
   ]
  },
  {
   "cell_type": "markdown",
   "id": "4e757fdb",
   "metadata": {
    "cellId": "is3ehmfznrlj6ggwqlxko"
   },
   "source": [
    "KMNIST:"
   ]
  },
  {
   "cell_type": "code",
   "execution_count": 41,
   "id": "62411451",
   "metadata": {
    "cellId": "n590sbh61rg17orkedqhp"
   },
   "outputs": [],
   "source": [
    "#!g1.1\n",
    "train_iterator = train_iterator_2\n",
    "valid_iterator = valid_iterator_2\n",
    "model1 = LeNet(10)\n",
    "model2 = LeNet_bn(10)\n",
    "name1 = 'LeNet-2'\n",
    "name2 = 'LeNet_bn-2'"
   ]
  },
  {
   "cell_type": "code",
   "execution_count": 42,
   "id": "cf04c0cf",
   "metadata": {
    "cellId": "k66b16qtlhrk6rsavjynq"
   },
   "outputs": [
    {
     "name": "stdout",
     "output_type": "stream",
     "text": [
      "Epoch: 01 | Epoch Time: 0m 25s\n",
      "\tTrain Loss: 1.619 | Train Acc: 85.43%\n",
      "\t Val. Loss: 1.497 |  Val. Acc: 96.64%\n",
      "Epoch: 02 | Epoch Time: 0m 25s\n",
      "\tTrain Loss: 1.514 | Train Acc: 94.88%\n",
      "\t Val. Loss: 1.491 |  Val. Acc: 97.07%\n",
      "Epoch: 03 | Epoch Time: 0m 25s\n",
      "\tTrain Loss: 1.505 | Train Acc: 95.75%\n",
      "\t Val. Loss: 1.483 |  Val. Acc: 97.93%\n",
      "Epoch: 04 | Epoch Time: 0m 25s\n",
      "\tTrain Loss: 1.497 | Train Acc: 96.47%\n",
      "\t Val. Loss: 1.482 |  Val. Acc: 97.93%\n",
      "Epoch: 05 | Epoch Time: 0m 25s\n",
      "\tTrain Loss: 1.493 | Train Acc: 96.83%\n",
      "\t Val. Loss: 1.486 |  Val. Acc: 97.58%\n",
      "Epoch: 06 | Epoch Time: 0m 25s\n",
      "\tTrain Loss: 1.492 | Train Acc: 97.00%\n",
      "\t Val. Loss: 1.479 |  Val. Acc: 98.25%\n",
      "Epoch: 07 | Epoch Time: 0m 25s\n",
      "\tTrain Loss: 1.489 | Train Acc: 97.19%\n",
      "\t Val. Loss: 1.482 |  Val. Acc: 97.94%\n",
      "Epoch: 08 | Epoch Time: 0m 25s\n",
      "\tTrain Loss: 1.489 | Train Acc: 97.27%\n",
      "\t Val. Loss: 1.479 |  Val. Acc: 98.20%\n",
      "Epoch: 09 | Epoch Time: 0m 25s\n",
      "\tTrain Loss: 1.489 | Train Acc: 97.28%\n",
      "\t Val. Loss: 1.478 |  Val. Acc: 98.28%\n",
      "Epoch: 10 | Epoch Time: 0m 26s\n",
      "\tTrain Loss: 1.487 | Train Acc: 97.45%\n",
      "\t Val. Loss: 1.477 |  Val. Acc: 98.44%\n",
      "\n"
     ]
    },
    {
     "data": {
      "application/vnd.jupyter.widget-view+json": {
       "model_id": "32309b3806ac41f2b673c40d8126ae49",
       "version_major": 2,
       "version_minor": 0
      },
      "text/plain": [
       "HBox(children=(HTML(value='Epochs'), FloatProgress(value=0.0, max=10.0), HTML(value='')))"
      ]
     },
     "metadata": {},
     "output_type": "display_data"
    },
    {
     "data": {
      "application/vnd.jupyter.widget-view+json": {
       "model_id": "bb5dd50aa5674cada033df57f9a3dddf",
       "version_major": 2,
       "version_minor": 0
      },
      "text/plain": [
       "HBox(children=(HTML(value='Training'), FloatProgress(value=0.0, max=844.0), HTML(value='')))"
      ]
     },
     "metadata": {},
     "output_type": "display_data"
    },
    {
     "data": {
      "application/vnd.jupyter.widget-view+json": {
       "model_id": "09fc89d46ee740b0abaa0ce1027493cd",
       "version_major": 2,
       "version_minor": 0
      },
      "text/plain": [
       "HBox(children=(HTML(value='Evaluating'), FloatProgress(value=0.0, max=94.0), HTML(value='')))"
      ]
     },
     "metadata": {},
     "output_type": "display_data"
    },
    {
     "data": {
      "application/vnd.jupyter.widget-view+json": {
       "model_id": "64d4028a686a4174881ea0aadd01c911",
       "version_major": 2,
       "version_minor": 0
      },
      "text/plain": [
       "HBox(children=(HTML(value='Training'), FloatProgress(value=0.0, max=844.0), HTML(value='')))"
      ]
     },
     "metadata": {},
     "output_type": "display_data"
    },
    {
     "data": {
      "application/vnd.jupyter.widget-view+json": {
       "model_id": "1ca3b55559e549f5850a4486b148bcb4",
       "version_major": 2,
       "version_minor": 0
      },
      "text/plain": [
       "HBox(children=(HTML(value='Evaluating'), FloatProgress(value=0.0, max=94.0), HTML(value='')))"
      ]
     },
     "metadata": {},
     "output_type": "display_data"
    },
    {
     "data": {
      "application/vnd.jupyter.widget-view+json": {
       "model_id": "6a27fb12538643ddb9318e1c26357e05",
       "version_major": 2,
       "version_minor": 0
      },
      "text/plain": [
       "HBox(children=(HTML(value='Training'), FloatProgress(value=0.0, max=844.0), HTML(value='')))"
      ]
     },
     "metadata": {},
     "output_type": "display_data"
    },
    {
     "data": {
      "application/vnd.jupyter.widget-view+json": {
       "model_id": "4da4bf44459141e4922f1857f8abd7ef",
       "version_major": 2,
       "version_minor": 0
      },
      "text/plain": [
       "HBox(children=(HTML(value='Evaluating'), FloatProgress(value=0.0, max=94.0), HTML(value='')))"
      ]
     },
     "metadata": {},
     "output_type": "display_data"
    },
    {
     "data": {
      "application/vnd.jupyter.widget-view+json": {
       "model_id": "d22b714e37664fd6ac5460c232aa6800",
       "version_major": 2,
       "version_minor": 0
      },
      "text/plain": [
       "HBox(children=(HTML(value='Training'), FloatProgress(value=0.0, max=844.0), HTML(value='')))"
      ]
     },
     "metadata": {},
     "output_type": "display_data"
    },
    {
     "data": {
      "application/vnd.jupyter.widget-view+json": {
       "model_id": "a9dcc952122e4fc7a48684a63a3f343d",
       "version_major": 2,
       "version_minor": 0
      },
      "text/plain": [
       "HBox(children=(HTML(value='Evaluating'), FloatProgress(value=0.0, max=94.0), HTML(value='')))"
      ]
     },
     "metadata": {},
     "output_type": "display_data"
    },
    {
     "data": {
      "application/vnd.jupyter.widget-view+json": {
       "model_id": "ac1440e0c4d74a58a1e17db317cbb554",
       "version_major": 2,
       "version_minor": 0
      },
      "text/plain": [
       "HBox(children=(HTML(value='Training'), FloatProgress(value=0.0, max=844.0), HTML(value='')))"
      ]
     },
     "metadata": {},
     "output_type": "display_data"
    },
    {
     "data": {
      "application/vnd.jupyter.widget-view+json": {
       "model_id": "8f8f8327ed7d4acabf6954eccaf6aab9",
       "version_major": 2,
       "version_minor": 0
      },
      "text/plain": [
       "HBox(children=(HTML(value='Evaluating'), FloatProgress(value=0.0, max=94.0), HTML(value='')))"
      ]
     },
     "metadata": {},
     "output_type": "display_data"
    },
    {
     "data": {
      "application/vnd.jupyter.widget-view+json": {
       "model_id": "d2a418f725b8442e9b3c79609290248e",
       "version_major": 2,
       "version_minor": 0
      },
      "text/plain": [
       "HBox(children=(HTML(value='Training'), FloatProgress(value=0.0, max=844.0), HTML(value='')))"
      ]
     },
     "metadata": {},
     "output_type": "display_data"
    },
    {
     "data": {
      "application/vnd.jupyter.widget-view+json": {
       "model_id": "43cb345cfc3d489cbf32c5e5d49c7177",
       "version_major": 2,
       "version_minor": 0
      },
      "text/plain": [
       "HBox(children=(HTML(value='Evaluating'), FloatProgress(value=0.0, max=94.0), HTML(value='')))"
      ]
     },
     "metadata": {},
     "output_type": "display_data"
    },
    {
     "data": {
      "application/vnd.jupyter.widget-view+json": {
       "model_id": "bd75b37e9a4c4934b0e13d554174038c",
       "version_major": 2,
       "version_minor": 0
      },
      "text/plain": [
       "HBox(children=(HTML(value='Training'), FloatProgress(value=0.0, max=844.0), HTML(value='')))"
      ]
     },
     "metadata": {},
     "output_type": "display_data"
    },
    {
     "data": {
      "application/vnd.jupyter.widget-view+json": {
       "model_id": "cc394ed6b0204335968e281ad4422057",
       "version_major": 2,
       "version_minor": 0
      },
      "text/plain": [
       "HBox(children=(HTML(value='Evaluating'), FloatProgress(value=0.0, max=94.0), HTML(value='')))"
      ]
     },
     "metadata": {},
     "output_type": "display_data"
    },
    {
     "data": {
      "application/vnd.jupyter.widget-view+json": {
       "model_id": "14336844afac411ab2aea20bfa605c84",
       "version_major": 2,
       "version_minor": 0
      },
      "text/plain": [
       "HBox(children=(HTML(value='Training'), FloatProgress(value=0.0, max=844.0), HTML(value='')))"
      ]
     },
     "metadata": {},
     "output_type": "display_data"
    },
    {
     "data": {
      "application/vnd.jupyter.widget-view+json": {
       "model_id": "06f80087b838418297abe4f92c174346",
       "version_major": 2,
       "version_minor": 0
      },
      "text/plain": [
       "HBox(children=(HTML(value='Evaluating'), FloatProgress(value=0.0, max=94.0), HTML(value='')))"
      ]
     },
     "metadata": {},
     "output_type": "display_data"
    },
    {
     "data": {
      "application/vnd.jupyter.widget-view+json": {
       "model_id": "f80fa3f91a90426598a5ffdc3387c6a7",
       "version_major": 2,
       "version_minor": 0
      },
      "text/plain": [
       "HBox(children=(HTML(value='Training'), FloatProgress(value=0.0, max=844.0), HTML(value='')))"
      ]
     },
     "metadata": {},
     "output_type": "display_data"
    },
    {
     "data": {
      "application/vnd.jupyter.widget-view+json": {
       "model_id": "a1141d03c09142509a44b3c236e28133",
       "version_major": 2,
       "version_minor": 0
      },
      "text/plain": [
       "HBox(children=(HTML(value='Evaluating'), FloatProgress(value=0.0, max=94.0), HTML(value='')))"
      ]
     },
     "metadata": {},
     "output_type": "display_data"
    },
    {
     "data": {
      "application/vnd.jupyter.widget-view+json": {
       "model_id": "4671c713b27245a79ea924fe48c3bcf1",
       "version_major": 2,
       "version_minor": 0
      },
      "text/plain": [
       "HBox(children=(HTML(value='Training'), FloatProgress(value=0.0, max=844.0), HTML(value='')))"
      ]
     },
     "metadata": {},
     "output_type": "display_data"
    },
    {
     "data": {
      "application/vnd.jupyter.widget-view+json": {
       "model_id": "1e73e1512c1045e9bc3f556fa523bab2",
       "version_major": 2,
       "version_minor": 0
      },
      "text/plain": [
       "HBox(children=(HTML(value='Evaluating'), FloatProgress(value=0.0, max=94.0), HTML(value='')))"
      ]
     },
     "metadata": {},
     "output_type": "display_data"
    }
   ],
   "source": [
    "#!g1.1\n",
    "train_model(model1, name1, n_epochs, train_iterator, valid_iterator)"
   ]
  },
  {
   "cell_type": "code",
   "execution_count": 43,
   "id": "3ac3c1f6",
   "metadata": {
    "cellId": "3qwran2qlkp69qfuzhpggt"
   },
   "outputs": [
    {
     "name": "stdout",
     "output_type": "stream",
     "text": [
      "Epoch: 01 | Epoch Time: 0m 27s\n",
      "\tTrain Loss: 1.571 | Train Acc: 91.30%\n",
      "\t Val. Loss: 1.490 |  Val. Acc: 97.49%\n",
      "Epoch: 02 | Epoch Time: 0m 27s\n",
      "\tTrain Loss: 1.502 | Train Acc: 96.29%\n",
      "\t Val. Loss: 1.485 |  Val. Acc: 97.74%\n",
      "Epoch: 03 | Epoch Time: 0m 27s\n",
      "\tTrain Loss: 1.494 | Train Acc: 96.91%\n",
      "\t Val. Loss: 1.478 |  Val. Acc: 98.45%\n",
      "Epoch: 04 | Epoch Time: 0m 27s\n",
      "\tTrain Loss: 1.490 | Train Acc: 97.29%\n",
      "\t Val. Loss: 1.476 |  Val. Acc: 98.57%\n",
      "Epoch: 05 | Epoch Time: 0m 25s\n",
      "\tTrain Loss: 1.488 | Train Acc: 97.46%\n",
      "\t Val. Loss: 1.476 |  Val. Acc: 98.64%\n",
      "Epoch: 06 | Epoch Time: 0m 25s\n",
      "\tTrain Loss: 1.485 | Train Acc: 97.76%\n",
      "\t Val. Loss: 1.476 |  Val. Acc: 98.67%\n",
      "Epoch: 07 | Epoch Time: 0m 24s\n",
      "\tTrain Loss: 1.483 | Train Acc: 97.84%\n",
      "\t Val. Loss: 1.475 |  Val. Acc: 98.60%\n",
      "Epoch: 08 | Epoch Time: 0m 25s\n",
      "\tTrain Loss: 1.482 | Train Acc: 97.98%\n",
      "\t Val. Loss: 1.475 |  Val. Acc: 98.70%\n",
      "Epoch: 09 | Epoch Time: 0m 25s\n",
      "\tTrain Loss: 1.482 | Train Acc: 97.99%\n",
      "\t Val. Loss: 1.475 |  Val. Acc: 98.64%\n",
      "Epoch: 10 | Epoch Time: 0m 25s\n",
      "\tTrain Loss: 1.481 | Train Acc: 98.08%\n",
      "\t Val. Loss: 1.474 |  Val. Acc: 98.83%\n",
      "\n"
     ]
    },
    {
     "data": {
      "application/vnd.jupyter.widget-view+json": {
       "model_id": "d76311c102b548908152c69ec8ec6dbf",
       "version_major": 2,
       "version_minor": 0
      },
      "text/plain": [
       "HBox(children=(HTML(value='Epochs'), FloatProgress(value=0.0, max=10.0), HTML(value='')))"
      ]
     },
     "metadata": {},
     "output_type": "display_data"
    },
    {
     "data": {
      "application/vnd.jupyter.widget-view+json": {
       "model_id": "85a02a8f0b7b47d2a08d5d3bcff9f942",
       "version_major": 2,
       "version_minor": 0
      },
      "text/plain": [
       "HBox(children=(HTML(value='Training'), FloatProgress(value=0.0, max=844.0), HTML(value='')))"
      ]
     },
     "metadata": {},
     "output_type": "display_data"
    },
    {
     "data": {
      "application/vnd.jupyter.widget-view+json": {
       "model_id": "6273c46a6f394102b9bad960008083e2",
       "version_major": 2,
       "version_minor": 0
      },
      "text/plain": [
       "HBox(children=(HTML(value='Evaluating'), FloatProgress(value=0.0, max=94.0), HTML(value='')))"
      ]
     },
     "metadata": {},
     "output_type": "display_data"
    },
    {
     "data": {
      "application/vnd.jupyter.widget-view+json": {
       "model_id": "3f9b4fda60dd4db3ab72d351ccd29944",
       "version_major": 2,
       "version_minor": 0
      },
      "text/plain": [
       "HBox(children=(HTML(value='Training'), FloatProgress(value=0.0, max=844.0), HTML(value='')))"
      ]
     },
     "metadata": {},
     "output_type": "display_data"
    },
    {
     "data": {
      "application/vnd.jupyter.widget-view+json": {
       "model_id": "91357fcea63c4ccebc0949c5dc638131",
       "version_major": 2,
       "version_minor": 0
      },
      "text/plain": [
       "HBox(children=(HTML(value='Evaluating'), FloatProgress(value=0.0, max=94.0), HTML(value='')))"
      ]
     },
     "metadata": {},
     "output_type": "display_data"
    },
    {
     "data": {
      "application/vnd.jupyter.widget-view+json": {
       "model_id": "a31dd9f67c0646cfa233e955e97ceaea",
       "version_major": 2,
       "version_minor": 0
      },
      "text/plain": [
       "HBox(children=(HTML(value='Training'), FloatProgress(value=0.0, max=844.0), HTML(value='')))"
      ]
     },
     "metadata": {},
     "output_type": "display_data"
    },
    {
     "data": {
      "application/vnd.jupyter.widget-view+json": {
       "model_id": "c33fbd7d19de48a4b6d2dab1567757ff",
       "version_major": 2,
       "version_minor": 0
      },
      "text/plain": [
       "HBox(children=(HTML(value='Evaluating'), FloatProgress(value=0.0, max=94.0), HTML(value='')))"
      ]
     },
     "metadata": {},
     "output_type": "display_data"
    },
    {
     "data": {
      "application/vnd.jupyter.widget-view+json": {
       "model_id": "1f32a214cb01407a8ea333a38a342a29",
       "version_major": 2,
       "version_minor": 0
      },
      "text/plain": [
       "HBox(children=(HTML(value='Training'), FloatProgress(value=0.0, max=844.0), HTML(value='')))"
      ]
     },
     "metadata": {},
     "output_type": "display_data"
    },
    {
     "data": {
      "application/vnd.jupyter.widget-view+json": {
       "model_id": "5b40a3c1f10e4e14825a180c65e8b3f8",
       "version_major": 2,
       "version_minor": 0
      },
      "text/plain": [
       "HBox(children=(HTML(value='Evaluating'), FloatProgress(value=0.0, max=94.0), HTML(value='')))"
      ]
     },
     "metadata": {},
     "output_type": "display_data"
    },
    {
     "data": {
      "application/vnd.jupyter.widget-view+json": {
       "model_id": "ecdda6b1d0c54abeb12c0f0211f5f73d",
       "version_major": 2,
       "version_minor": 0
      },
      "text/plain": [
       "HBox(children=(HTML(value='Training'), FloatProgress(value=0.0, max=844.0), HTML(value='')))"
      ]
     },
     "metadata": {},
     "output_type": "display_data"
    },
    {
     "data": {
      "application/vnd.jupyter.widget-view+json": {
       "model_id": "67c7239a4e604d5c81b2f4b9d32ac757",
       "version_major": 2,
       "version_minor": 0
      },
      "text/plain": [
       "HBox(children=(HTML(value='Evaluating'), FloatProgress(value=0.0, max=94.0), HTML(value='')))"
      ]
     },
     "metadata": {},
     "output_type": "display_data"
    },
    {
     "data": {
      "application/vnd.jupyter.widget-view+json": {
       "model_id": "1b8f8ab40c9d4fdeaf73669404d6b343",
       "version_major": 2,
       "version_minor": 0
      },
      "text/plain": [
       "HBox(children=(HTML(value='Training'), FloatProgress(value=0.0, max=844.0), HTML(value='')))"
      ]
     },
     "metadata": {},
     "output_type": "display_data"
    },
    {
     "data": {
      "application/vnd.jupyter.widget-view+json": {
       "model_id": "372c54704fe34be6a1c5b89e3ed39eca",
       "version_major": 2,
       "version_minor": 0
      },
      "text/plain": [
       "HBox(children=(HTML(value='Evaluating'), FloatProgress(value=0.0, max=94.0), HTML(value='')))"
      ]
     },
     "metadata": {},
     "output_type": "display_data"
    },
    {
     "data": {
      "application/vnd.jupyter.widget-view+json": {
       "model_id": "b97dc165eb8d49958455033614124c2d",
       "version_major": 2,
       "version_minor": 0
      },
      "text/plain": [
       "HBox(children=(HTML(value='Training'), FloatProgress(value=0.0, max=844.0), HTML(value='')))"
      ]
     },
     "metadata": {},
     "output_type": "display_data"
    },
    {
     "data": {
      "application/vnd.jupyter.widget-view+json": {
       "model_id": "9b1d6577eb9d41ac8f6d80b26bfb58d4",
       "version_major": 2,
       "version_minor": 0
      },
      "text/plain": [
       "HBox(children=(HTML(value='Evaluating'), FloatProgress(value=0.0, max=94.0), HTML(value='')))"
      ]
     },
     "metadata": {},
     "output_type": "display_data"
    },
    {
     "data": {
      "application/vnd.jupyter.widget-view+json": {
       "model_id": "66ce76b8dee44755b2455fecfbd759e0",
       "version_major": 2,
       "version_minor": 0
      },
      "text/plain": [
       "HBox(children=(HTML(value='Training'), FloatProgress(value=0.0, max=844.0), HTML(value='')))"
      ]
     },
     "metadata": {},
     "output_type": "display_data"
    },
    {
     "data": {
      "application/vnd.jupyter.widget-view+json": {
       "model_id": "4d1ce6b5a94a4b3c9d073500912f869a",
       "version_major": 2,
       "version_minor": 0
      },
      "text/plain": [
       "HBox(children=(HTML(value='Evaluating'), FloatProgress(value=0.0, max=94.0), HTML(value='')))"
      ]
     },
     "metadata": {},
     "output_type": "display_data"
    },
    {
     "data": {
      "application/vnd.jupyter.widget-view+json": {
       "model_id": "70a788f3dae74473a4a68164df74c4a7",
       "version_major": 2,
       "version_minor": 0
      },
      "text/plain": [
       "HBox(children=(HTML(value='Training'), FloatProgress(value=0.0, max=844.0), HTML(value='')))"
      ]
     },
     "metadata": {},
     "output_type": "display_data"
    },
    {
     "data": {
      "application/vnd.jupyter.widget-view+json": {
       "model_id": "845b1da286c947c0b8aaf4283ce23384",
       "version_major": 2,
       "version_minor": 0
      },
      "text/plain": [
       "HBox(children=(HTML(value='Evaluating'), FloatProgress(value=0.0, max=94.0), HTML(value='')))"
      ]
     },
     "metadata": {},
     "output_type": "display_data"
    },
    {
     "data": {
      "application/vnd.jupyter.widget-view+json": {
       "model_id": "223f204fe5b949899e90385116dc41fc",
       "version_major": 2,
       "version_minor": 0
      },
      "text/plain": [
       "HBox(children=(HTML(value='Training'), FloatProgress(value=0.0, max=844.0), HTML(value='')))"
      ]
     },
     "metadata": {},
     "output_type": "display_data"
    },
    {
     "data": {
      "application/vnd.jupyter.widget-view+json": {
       "model_id": "d54e5ac88a02444ba13827cd27748687",
       "version_major": 2,
       "version_minor": 0
      },
      "text/plain": [
       "HBox(children=(HTML(value='Evaluating'), FloatProgress(value=0.0, max=94.0), HTML(value='')))"
      ]
     },
     "metadata": {},
     "output_type": "display_data"
    }
   ],
   "source": [
    "#!g1.1\n",
    "train_model(model2, name2, n_epochs, train_iterator, valid_iterator)"
   ]
  },
  {
   "cell_type": "markdown",
   "id": "a3056431",
   "metadata": {
    "cellId": "rcksb2gl4ipefcmulsg6e"
   },
   "source": [
    "#### Результаты"
   ]
  },
  {
   "cell_type": "markdown",
   "id": "33bd4b4e",
   "metadata": {
    "cellId": "euy7ty935wv3tjmxqjzgm6"
   },
   "source": [
    "MNIST:"
   ]
  },
  {
   "cell_type": "code",
   "execution_count": 44,
   "id": "b768223c",
   "metadata": {
    "cellId": "io24585a1pshkk81akl9"
   },
   "outputs": [
    {
     "name": "stdout",
     "output_type": "stream",
     "text": [
      "Zero activations on LeNet-1: 28676948/46840000\n",
      "Zero activations on LeNet_bn-1: 34239823/46840000\n"
     ]
    },
    {
     "data": {
      "application/vnd.jupyter.widget-view+json": {
       "model_id": "59d433a65c9e4c4facbd7560d7ac4fb0",
       "version_major": 2,
       "version_minor": 0
      },
      "text/plain": [
       "HBox(children=(HTML(value='Evaluating'), FloatProgress(value=0.0, max=157.0), HTML(value='')))"
      ]
     },
     "metadata": {},
     "output_type": "display_data"
    },
    {
     "data": {
      "application/vnd.jupyter.widget-view+json": {
       "model_id": "562f18dba2e644aab93828d9b973ccef",
       "version_major": 2,
       "version_minor": 0
      },
      "text/plain": [
       "HBox(children=(HTML(value='Evaluating'), FloatProgress(value=0.0, max=157.0), HTML(value='')))"
      ]
     },
     "metadata": {},
     "output_type": "display_data"
    },
    {
     "data": {
      "image/png": "[encoded data removed]",
      "text/plain": [
       "<Figure size 720x432 with 2 Axes>"
      ]
     },
     "metadata": {
      "needs_background": "light"
     },
     "output_type": "display_data"
    }
   ],
   "source": [
    "#!g1.1\n",
    "test_iterator = test_iterator_1\n",
    "model1 = LeNet(10)\n",
    "model2 = LeNet_bn(10)\n",
    "name1 = 'LeNet-1'\n",
    "name2 = 'LeNet_bn-1'\n",
    "\n",
    "model1.load_state_dict(torch.load(f'{name1}.pt'))\n",
    "_, _, activations1 = get_activations(model1, test_iterator, criterion, device)\n",
    "\n",
    "model2.load_state_dict(torch.load(f'{name2}.pt'))\n",
    "_, _, activations2 = get_activations(model2, test_iterator, criterion, device)\n",
    "\n",
    "nonzero_mask1 = activations1 > 10e-7\n",
    "zero_quant1 = activations1.size - activations1[nonzero_mask1].size\n",
    "nonzero_activations1 = activations1[nonzero_mask1]\n",
    "print(f'Zero activations on {name1}: {zero_quant1}/{activations1.size}')\n",
    "\n",
    "nonzero_mask2 = activations2 > 10e-7\n",
    "zero_quant2 = activations2.size - activations2[nonzero_mask2].size\n",
    "nonzero_activations2 = activations2[nonzero_mask2]\n",
    "print(f'Zero activations on {name2}: {zero_quant2}/{activations1.size}')\n",
    "\n",
    "fig, (ax1, ax2) = plt.subplots(1, 2)\n",
    "fig.set_size_inches(10, 6)\n",
    "fig.suptitle('Activations distribution on dataset MNIST')\n",
    "ax1.set_title(name1)\n",
    "ax2.set_title(name2)\n",
    "ax1.hist(nonzero_activations1, bins=np.linspace(0, 10, 100))\n",
    "ax2.hist(nonzero_activations2, bins=np.linspace(0, 10, 100))\n",
    "plt.show()"
   ]
  },
  {
   "cell_type": "markdown",
   "id": "60a94841",
   "metadata": {
    "cellId": "uq092dq2sdbrzwbuunqfas"
   },
   "source": [
    "FMNIST:"
   ]
  },
  {
   "cell_type": "code",
   "execution_count": 63,
   "id": "225ab4a0",
   "metadata": {
    "cellId": "gqwfybu6sljbddvytw00kk"
   },
   "outputs": [
    {
     "name": "stdout",
     "output_type": "stream",
     "text": [
      "Zero activations on LeNet-2: 26860901/46840000\n",
      "Zero activations on LeNet_bn-2: 31321560/46840000\n"
     ]
    },
    {
     "data": {
      "application/vnd.jupyter.widget-view+json": {
       "model_id": "3be0dd5d47ff4a50a1b86ebf69533d40",
       "version_major": 2,
       "version_minor": 0
      },
      "text/plain": [
       "HBox(children=(HTML(value='Evaluating'), FloatProgress(value=0.0, max=157.0), HTML(value='')))"
      ]
     },
     "metadata": {},
     "output_type": "display_data"
    },
    {
     "data": {
      "application/vnd.jupyter.widget-view+json": {
       "model_id": "5ff177de2d394d6f84737dd753f4c46d",
       "version_major": 2,
       "version_minor": 0
      },
      "text/plain": [
       "HBox(children=(HTML(value='Evaluating'), FloatProgress(value=0.0, max=157.0), HTML(value='')))"
      ]
     },
     "metadata": {},
     "output_type": "display_data"
    },
    {
     "data": {
      "image/png": "[encoded data removed]",
      "text/plain": [
       "<Figure size 720x432 with 2 Axes>"
      ]
     },
     "metadata": {
      "needs_background": "light"
     },
     "output_type": "display_data"
    }
   ],
   "source": [
    "#!g1.1\n",
    "test_iterator = test_iterator_2\n",
    "model1 = LeNet(10)\n",
    "model2 = LeNet_bn(10)\n",
    "name1 = 'LeNet-2'\n",
    "name2 = 'LeNet_bn-2'\n",
    "\n",
    "model1.load_state_dict(torch.load(f'{name1}.pt'))\n",
    "_, _, activations1 = get_activations(model1, test_iterator, criterion, device)\n",
    "\n",
    "model2.load_state_dict(torch.load(f'{name2}.pt'))\n",
    "_, _, activations2 = get_activations(model2, test_iterator, criterion, device)\n",
    "\n",
    "nonzero_mask1 = activations1 > 10e-7\n",
    "zero_quant1 = activations1.size - activations1[nonzero_mask1].size\n",
    "nonzero_activations1 = activations1[nonzero_mask1]\n",
    "print(f'Zero activations on {name1}: {zero_quant1}/{activations1.size}')\n",
    "\n",
    "nonzero_mask2 = activations2 > 10e-7\n",
    "zero_quant2 = activations2.size - activations2[nonzero_mask2].size\n",
    "nonzero_activations2 = activations2[nonzero_mask2]\n",
    "print(f'Zero activations on {name2}: {zero_quant2}/{activations1.size}')\n",
    "\n",
    "fig, (ax1, ax2) = plt.subplots(1, 2)\n",
    "fig.set_size_inches(10, 6)\n",
    "fig.suptitle('Activations distribution on dataset FMNIST')\n",
    "ax1.set_title(name1)\n",
    "ax2.set_title(name2)\n",
    "ax1.hist(nonzero_activations1, bins=np.linspace(0, 10, 100))\n",
    "ax2.hist(nonzero_activations2, bins=np.linspace(0, 10, 100))\n",
    "plt.show()"
   ]
  },
  {
   "cell_type": "markdown",
   "id": "ece881dd",
   "metadata": {
    "cellId": "qvongehh42hx1s7fljjrkk"
   },
   "source": [
    "KMNIST:"
   ]
  },
  {
   "cell_type": "code",
   "execution_count": 64,
   "id": "833476ea",
   "metadata": {
    "cellId": "8clamg2wd79vwrlpi9ln"
   },
   "outputs": [
    {
     "name": "stdout",
     "output_type": "stream",
     "text": [
      "Zero activations on LeNet-3: 32288783/46840000\n",
      "Zero activations on LeNet_bn-3: 31618461/46840000\n"
     ]
    },
    {
     "data": {
      "application/vnd.jupyter.widget-view+json": {
       "model_id": "cb85144d62974b24ac272f994b4c1cf9",
       "version_major": 2,
       "version_minor": 0
      },
      "text/plain": [
       "HBox(children=(HTML(value='Evaluating'), FloatProgress(value=0.0, max=157.0), HTML(value='')))"
      ]
     },
     "metadata": {},
     "output_type": "display_data"
    },
    {
     "data": {
      "application/vnd.jupyter.widget-view+json": {
       "model_id": "046dcc349f8e496b91bdfd59bc09c820",
       "version_major": 2,
       "version_minor": 0
      },
      "text/plain": [
       "HBox(children=(HTML(value='Evaluating'), FloatProgress(value=0.0, max=157.0), HTML(value='')))"
      ]
     },
     "metadata": {},
     "output_type": "display_data"
    },
    {
     "data": {
      "image/png": "[encoded data removed]",
      "text/plain": [
       "<Figure size 720x432 with 2 Axes>"
      ]
     },
     "metadata": {
      "needs_background": "light"
     },
     "output_type": "display_data"
    }
   ],
   "source": [
    "#!g1.1\n",
    "test_iterator = test_iterator_3\n",
    "model1 = LeNet(10)\n",
    "model2 = LeNet_bn(10)\n",
    "name1 = 'LeNet-3'\n",
    "name2 = 'LeNet_bn-3'\n",
    "\n",
    "model1.load_state_dict(torch.load(f'{name1}.pt'))\n",
    "_, _, activations1 = get_activations(model1, test_iterator, criterion, device)\n",
    "\n",
    "model2.load_state_dict(torch.load(f'{name2}.pt'))\n",
    "_, _, activations2 = get_activations(model2, test_iterator, criterion, device)\n",
    "\n",
    "nonzero_mask1 = activations1 > 10e-7\n",
    "zero_quant1 = activations1.size - activations1[nonzero_mask1].size\n",
    "nonzero_activations1 = activations1[nonzero_mask1]\n",
    "print(f'Zero activations on {name1}: {zero_quant1}/{activations1.size}')\n",
    "\n",
    "nonzero_mask2 = activations2 > 10e-7\n",
    "zero_quant2 = activations2.size - activations2[nonzero_mask2].size\n",
    "nonzero_activations2 = activations2[nonzero_mask2]\n",
    "print(f'Zero activations on {name2}: {zero_quant2}/{activations1.size}')\n",
    "\n",
    "fig, (ax1, ax2) = plt.subplots(1, 2)\n",
    "fig.set_size_inches(10, 6)\n",
    "fig.suptitle('Activations distribution on dataset KMNIST')\n",
    "ax1.set_title(name1)\n",
    "ax2.set_title(name2)\n",
    "ax1.hist(nonzero_activations1, bins=np.linspace(0, 10, 100))\n",
    "ax2.hist(nonzero_activations2, bins=np.linspace(0, 10, 100))\n",
    "plt.show()"
   ]
  },
  {
   "cell_type": "markdown",
   "id": "60f9c45f",
   "metadata": {
    "cellId": "k4b1634tcs8bjnocuzaqrw"
   },
   "source": [
    "**Вывод:** видно, что BatchNormalization делает распределение активаций похожим на правую половину колокола гауссовского распределения, что и понятно: это суть BN."
   ]
  },
  {
   "cell_type": "markdown",
   "id": "91ef83d9",
   "metadata": {
    "cellId": "d996b6qa7hqmofar1wq1k"
   },
   "source": [
    "#### LeNet vs LeNet + Dropout"
   ]
  },
  {
   "cell_type": "markdown",
   "id": "ea51a17b",
   "metadata": {
    "cellId": "tqdgrgudod9qm9v7w7vlc"
   },
   "source": [
    "Активации для стандартного LeNet уже посчитаны, поэтому задействуем только вторую модель."
   ]
  },
  {
   "cell_type": "markdown",
   "id": "9ad52e8a",
   "metadata": {
    "cellId": "pic0f8bgn3yo0onavk6hn"
   },
   "source": [
    "MNIST:"
   ]
  },
  {
   "cell_type": "code",
   "execution_count": 65,
   "id": "c49e7e15",
   "metadata": {
    "cellId": "iu4ggg7r9ovxyh63v6tno"
   },
   "outputs": [],
   "source": [
    "#!g1.1\n",
    "train_iterator = train_iterator_1\n",
    "valid_iterator = valid_iterator_1\n",
    "model2 = LeNet_do(10)\n",
    "name2 = 'LeNet_do-1'"
   ]
  },
  {
   "cell_type": "code",
   "execution_count": 66,
   "id": "1e3cf5ac",
   "metadata": {
    "cellId": "1mr250i4e8xpu6bql03g9a"
   },
   "outputs": [
    {
     "name": "stdout",
     "output_type": "stream",
     "text": [
      "Epoch: 01 | Epoch Time: 0m 23s\n",
      "\tTrain Loss: 1.671 | Train Acc: 79.60%\n",
      "\t Val. Loss: 1.511 |  Val. Acc: 95.31%\n",
      "Epoch: 02 | Epoch Time: 0m 23s\n",
      "\tTrain Loss: 1.551 | Train Acc: 91.24%\n",
      "\t Val. Loss: 1.503 |  Val. Acc: 95.93%\n",
      "Epoch: 03 | Epoch Time: 0m 23s\n",
      "\tTrain Loss: 1.535 | Train Acc: 92.66%\n",
      "\t Val. Loss: 1.500 |  Val. Acc: 96.19%\n",
      "Epoch: 04 | Epoch Time: 0m 23s\n",
      "\tTrain Loss: 1.530 | Train Acc: 93.07%\n",
      "\t Val. Loss: 1.491 |  Val. Acc: 96.99%\n",
      "Epoch: 05 | Epoch Time: 0m 23s\n",
      "\tTrain Loss: 1.523 | Train Acc: 93.83%\n",
      "\t Val. Loss: 1.489 |  Val. Acc: 97.24%\n",
      "Epoch: 06 | Epoch Time: 0m 23s\n",
      "\tTrain Loss: 1.518 | Train Acc: 94.20%\n",
      "\t Val. Loss: 1.491 |  Val. Acc: 97.04%\n",
      "Epoch: 07 | Epoch Time: 0m 23s\n",
      "\tTrain Loss: 1.518 | Train Acc: 94.35%\n",
      "\t Val. Loss: 1.493 |  Val. Acc: 96.85%\n",
      "Epoch: 08 | Epoch Time: 0m 23s\n",
      "\tTrain Loss: 1.517 | Train Acc: 94.37%\n",
      "\t Val. Loss: 1.490 |  Val. Acc: 97.09%\n",
      "Epoch: 09 | Epoch Time: 0m 23s\n",
      "\tTrain Loss: 1.514 | Train Acc: 94.66%\n",
      "\t Val. Loss: 1.489 |  Val. Acc: 97.21%\n",
      "Epoch: 10 | Epoch Time: 0m 23s\n",
      "\tTrain Loss: 1.514 | Train Acc: 94.68%\n",
      "\t Val. Loss: 1.491 |  Val. Acc: 97.00%\n",
      "\n"
     ]
    },
    {
     "data": {
      "application/vnd.jupyter.widget-view+json": {
       "model_id": "c29890f22405444eb7604d0fdad719d7",
       "version_major": 2,
       "version_minor": 0
      },
      "text/plain": [
       "HBox(children=(HTML(value='Epochs'), FloatProgress(value=0.0, max=10.0), HTML(value='')))"
      ]
     },
     "metadata": {},
     "output_type": "display_data"
    },
    {
     "data": {
      "application/vnd.jupyter.widget-view+json": {
       "model_id": "2caf09c5c427402cb591ab6431c90733",
       "version_major": 2,
       "version_minor": 0
      },
      "text/plain": [
       "HBox(children=(HTML(value='Training'), FloatProgress(value=0.0, max=844.0), HTML(value='')))"
      ]
     },
     "metadata": {},
     "output_type": "display_data"
    },
    {
     "data": {
      "application/vnd.jupyter.widget-view+json": {
       "model_id": "fe231a5b831741bbac38bb63ae606f32",
       "version_major": 2,
       "version_minor": 0
      },
      "text/plain": [
       "HBox(children=(HTML(value='Evaluating'), FloatProgress(value=0.0, max=94.0), HTML(value='')))"
      ]
     },
     "metadata": {},
     "output_type": "display_data"
    },
    {
     "data": {
      "application/vnd.jupyter.widget-view+json": {
       "model_id": "b92acb36148242f7b4121e26bfade061",
       "version_major": 2,
       "version_minor": 0
      },
      "text/plain": [
       "HBox(children=(HTML(value='Training'), FloatProgress(value=0.0, max=844.0), HTML(value='')))"
      ]
     },
     "metadata": {},
     "output_type": "display_data"
    },
    {
     "data": {
      "application/vnd.jupyter.widget-view+json": {
       "model_id": "fde65ecb32ca46a796efa21074c74cf3",
       "version_major": 2,
       "version_minor": 0
      },
      "text/plain": [
       "HBox(children=(HTML(value='Evaluating'), FloatProgress(value=0.0, max=94.0), HTML(value='')))"
      ]
     },
     "metadata": {},
     "output_type": "display_data"
    },
    {
     "data": {
      "application/vnd.jupyter.widget-view+json": {
       "model_id": "ebf6dfa8e87b42dbb921c8b08cadc4e2",
       "version_major": 2,
       "version_minor": 0
      },
      "text/plain": [
       "HBox(children=(HTML(value='Training'), FloatProgress(value=0.0, max=844.0), HTML(value='')))"
      ]
     },
     "metadata": {},
     "output_type": "display_data"
    },
    {
     "data": {
      "application/vnd.jupyter.widget-view+json": {
       "model_id": "98ca24362b31421f977ee1fed1beaf21",
       "version_major": 2,
       "version_minor": 0
      },
      "text/plain": [
       "HBox(children=(HTML(value='Evaluating'), FloatProgress(value=0.0, max=94.0), HTML(value='')))"
      ]
     },
     "metadata": {},
     "output_type": "display_data"
    },
    {
     "data": {
      "application/vnd.jupyter.widget-view+json": {
       "model_id": "9e6997d618e44711b6cc8edba45063ad",
       "version_major": 2,
       "version_minor": 0
      },
      "text/plain": [
       "HBox(children=(HTML(value='Training'), FloatProgress(value=0.0, max=844.0), HTML(value='')))"
      ]
     },
     "metadata": {},
     "output_type": "display_data"
    },
    {
     "data": {
      "application/vnd.jupyter.widget-view+json": {
       "model_id": "bd35914e17024110bf280b8f45114159",
       "version_major": 2,
       "version_minor": 0
      },
      "text/plain": [
       "HBox(children=(HTML(value='Evaluating'), FloatProgress(value=0.0, max=94.0), HTML(value='')))"
      ]
     },
     "metadata": {},
     "output_type": "display_data"
    },
    {
     "data": {
      "application/vnd.jupyter.widget-view+json": {
       "model_id": "f85c32aac9b34559ba226474890e06d0",
       "version_major": 2,
       "version_minor": 0
      },
      "text/plain": [
       "HBox(children=(HTML(value='Training'), FloatProgress(value=0.0, max=844.0), HTML(value='')))"
      ]
     },
     "metadata": {},
     "output_type": "display_data"
    },
    {
     "data": {
      "application/vnd.jupyter.widget-view+json": {
       "model_id": "f6ca4f9a7d7c4c8dbfa0d3ed568e6eb6",
       "version_major": 2,
       "version_minor": 0
      },
      "text/plain": [
       "HBox(children=(HTML(value='Evaluating'), FloatProgress(value=0.0, max=94.0), HTML(value='')))"
      ]
     },
     "metadata": {},
     "output_type": "display_data"
    },
    {
     "data": {
      "application/vnd.jupyter.widget-view+json": {
       "model_id": "c27915b8084f46a58baf3ce408c7d82a",
       "version_major": 2,
       "version_minor": 0
      },
      "text/plain": [
       "HBox(children=(HTML(value='Training'), FloatProgress(value=0.0, max=844.0), HTML(value='')))"
      ]
     },
     "metadata": {},
     "output_type": "display_data"
    },
    {
     "data": {
      "application/vnd.jupyter.widget-view+json": {
       "model_id": "e6c11a4c155f47e6aea1b5d86cb56de2",
       "version_major": 2,
       "version_minor": 0
      },
      "text/plain": [
       "HBox(children=(HTML(value='Evaluating'), FloatProgress(value=0.0, max=94.0), HTML(value='')))"
      ]
     },
     "metadata": {},
     "output_type": "display_data"
    },
    {
     "data": {
      "application/vnd.jupyter.widget-view+json": {
       "model_id": "f2c6407a60cb4e9a9b3fc7cb21567909",
       "version_major": 2,
       "version_minor": 0
      },
      "text/plain": [
       "HBox(children=(HTML(value='Training'), FloatProgress(value=0.0, max=844.0), HTML(value='')))"
      ]
     },
     "metadata": {},
     "output_type": "display_data"
    },
    {
     "data": {
      "application/vnd.jupyter.widget-view+json": {
       "model_id": "316df2d70a6d4c11a80871c72e98ab49",
       "version_major": 2,
       "version_minor": 0
      },
      "text/plain": [
       "HBox(children=(HTML(value='Evaluating'), FloatProgress(value=0.0, max=94.0), HTML(value='')))"
      ]
     },
     "metadata": {},
     "output_type": "display_data"
    },
    {
     "data": {
      "application/vnd.jupyter.widget-view+json": {
       "model_id": "a40f4b8983e346a89e3ebc5f04fbc38a",
       "version_major": 2,
       "version_minor": 0
      },
      "text/plain": [
       "HBox(children=(HTML(value='Training'), FloatProgress(value=0.0, max=844.0), HTML(value='')))"
      ]
     },
     "metadata": {},
     "output_type": "display_data"
    },
    {
     "data": {
      "application/vnd.jupyter.widget-view+json": {
       "model_id": "ae2872f147be4f828aedca3cc74f752f",
       "version_major": 2,
       "version_minor": 0
      },
      "text/plain": [
       "HBox(children=(HTML(value='Evaluating'), FloatProgress(value=0.0, max=94.0), HTML(value='')))"
      ]
     },
     "metadata": {},
     "output_type": "display_data"
    },
    {
     "data": {
      "application/vnd.jupyter.widget-view+json": {
       "model_id": "8369c446804a44278497edd006a3afe3",
       "version_major": 2,
       "version_minor": 0
      },
      "text/plain": [
       "HBox(children=(HTML(value='Training'), FloatProgress(value=0.0, max=844.0), HTML(value='')))"
      ]
     },
     "metadata": {},
     "output_type": "display_data"
    },
    {
     "data": {
      "application/vnd.jupyter.widget-view+json": {
       "model_id": "d4bef56b6361451c833bfbc2b5fc3ec0",
       "version_major": 2,
       "version_minor": 0
      },
      "text/plain": [
       "HBox(children=(HTML(value='Evaluating'), FloatProgress(value=0.0, max=94.0), HTML(value='')))"
      ]
     },
     "metadata": {},
     "output_type": "display_data"
    },
    {
     "data": {
      "application/vnd.jupyter.widget-view+json": {
       "model_id": "01ee733b7f5e4389ac5395256e16aea2",
       "version_major": 2,
       "version_minor": 0
      },
      "text/plain": [
       "HBox(children=(HTML(value='Training'), FloatProgress(value=0.0, max=844.0), HTML(value='')))"
      ]
     },
     "metadata": {},
     "output_type": "display_data"
    },
    {
     "data": {
      "application/vnd.jupyter.widget-view+json": {
       "model_id": "b98a606af46f43b4aaa7febdcb6f092d",
       "version_major": 2,
       "version_minor": 0
      },
      "text/plain": [
       "HBox(children=(HTML(value='Evaluating'), FloatProgress(value=0.0, max=94.0), HTML(value='')))"
      ]
     },
     "metadata": {},
     "output_type": "display_data"
    }
   ],
   "source": [
    "#!g1.1\n",
    "train_model(model2, name2, n_epochs, train_iterator, valid_iterator)"
   ]
  },
  {
   "cell_type": "markdown",
   "id": "5297269b",
   "metadata": {
    "cellId": "buukgpx579oxj3j6s4kojp"
   },
   "source": [
    "FMNIST:"
   ]
  },
  {
   "cell_type": "code",
   "execution_count": 89,
   "id": "20034ce9",
   "metadata": {
    "cellId": "xxcmqkis17d5dzl0zajr7g"
   },
   "outputs": [],
   "source": [
    "#!g1.1\n",
    "train_iterator = train_iterator_2\n",
    "valid_iterator = valid_iterator_2\n",
    "model2 = LeNet_do(10)\n",
    "name2 = 'LeNet_do-2'"
   ]
  },
  {
   "cell_type": "code",
   "execution_count": 90,
   "id": "d9408989",
   "metadata": {
    "cellId": "b1cqg4q6rnd7xhr8r73ip"
   },
   "outputs": [
    {
     "name": "stdout",
     "output_type": "stream",
     "text": [
      "Epoch: 01 | Epoch Time: 0m 23s\n",
      "\tTrain Loss: 1.698 | Train Acc: 76.78%\n",
      "\t Val. Loss: 1.502 |  Val. Acc: 96.35%\n",
      "Epoch: 02 | Epoch Time: 0m 23s\n",
      "\tTrain Loss: 1.541 | Train Acc: 92.23%\n",
      "\t Val. Loss: 1.494 |  Val. Acc: 96.75%\n",
      "Epoch: 03 | Epoch Time: 0m 23s\n",
      "\tTrain Loss: 1.525 | Train Acc: 93.69%\n",
      "\t Val. Loss: 1.486 |  Val. Acc: 97.52%\n",
      "Epoch: 04 | Epoch Time: 0m 23s\n",
      "\tTrain Loss: 1.517 | Train Acc: 94.46%\n",
      "\t Val. Loss: 1.486 |  Val. Acc: 97.64%\n",
      "Epoch: 05 | Epoch Time: 0m 23s\n",
      "\tTrain Loss: 1.511 | Train Acc: 95.05%\n",
      "\t Val. Loss: 1.484 |  Val. Acc: 97.74%\n",
      "Epoch: 06 | Epoch Time: 0m 23s\n",
      "\tTrain Loss: 1.510 | Train Acc: 95.17%\n",
      "\t Val. Loss: 1.483 |  Val. Acc: 97.92%\n",
      "Epoch: 07 | Epoch Time: 0m 23s\n",
      "\tTrain Loss: 1.508 | Train Acc: 95.35%\n",
      "\t Val. Loss: 1.483 |  Val. Acc: 97.80%\n",
      "Epoch: 08 | Epoch Time: 0m 23s\n",
      "\tTrain Loss: 1.506 | Train Acc: 95.56%\n",
      "\t Val. Loss: 1.479 |  Val. Acc: 98.20%\n",
      "Epoch: 09 | Epoch Time: 0m 23s\n",
      "\tTrain Loss: 1.505 | Train Acc: 95.65%\n",
      "\t Val. Loss: 1.476 |  Val. Acc: 98.50%\n",
      "Epoch: 10 | Epoch Time: 0m 24s\n",
      "\tTrain Loss: 1.505 | Train Acc: 95.59%\n",
      "\t Val. Loss: 1.480 |  Val. Acc: 98.15%\n",
      "\n"
     ]
    },
    {
     "data": {
      "application/vnd.jupyter.widget-view+json": {
       "model_id": "1cd2004aa873463ca2a7e44a3ee7a481",
       "version_major": 2,
       "version_minor": 0
      },
      "text/plain": [
       "HBox(children=(HTML(value='Epochs'), FloatProgress(value=0.0, max=10.0), HTML(value='')))"
      ]
     },
     "metadata": {},
     "output_type": "display_data"
    },
    {
     "data": {
      "application/vnd.jupyter.widget-view+json": {
       "model_id": "b7fb634476cb43919a0d60fdfa2064dc",
       "version_major": 2,
       "version_minor": 0
      },
      "text/plain": [
       "HBox(children=(HTML(value='Training'), FloatProgress(value=0.0, max=844.0), HTML(value='')))"
      ]
     },
     "metadata": {},
     "output_type": "display_data"
    },
    {
     "data": {
      "application/vnd.jupyter.widget-view+json": {
       "model_id": "0467efa144c840a5a182d1ab4df454fe",
       "version_major": 2,
       "version_minor": 0
      },
      "text/plain": [
       "HBox(children=(HTML(value='Evaluating'), FloatProgress(value=0.0, max=94.0), HTML(value='')))"
      ]
     },
     "metadata": {},
     "output_type": "display_data"
    },
    {
     "data": {
      "application/vnd.jupyter.widget-view+json": {
       "model_id": "d1c7d4f205cb4e7ba46dfa6eb461813d",
       "version_major": 2,
       "version_minor": 0
      },
      "text/plain": [
       "HBox(children=(HTML(value='Training'), FloatProgress(value=0.0, max=844.0), HTML(value='')))"
      ]
     },
     "metadata": {},
     "output_type": "display_data"
    },
    {
     "data": {
      "application/vnd.jupyter.widget-view+json": {
       "model_id": "678b9b26b2a142c9a79969f9a4b55f4a",
       "version_major": 2,
       "version_minor": 0
      },
      "text/plain": [
       "HBox(children=(HTML(value='Evaluating'), FloatProgress(value=0.0, max=94.0), HTML(value='')))"
      ]
     },
     "metadata": {},
     "output_type": "display_data"
    },
    {
     "data": {
      "application/vnd.jupyter.widget-view+json": {
       "model_id": "8e3646b588694b24870469d77e84417c",
       "version_major": 2,
       "version_minor": 0
      },
      "text/plain": [
       "HBox(children=(HTML(value='Training'), FloatProgress(value=0.0, max=844.0), HTML(value='')))"
      ]
     },
     "metadata": {},
     "output_type": "display_data"
    },
    {
     "data": {
      "application/vnd.jupyter.widget-view+json": {
       "model_id": "b9ee32038a7a4bf9817d58a401ea255e",
       "version_major": 2,
       "version_minor": 0
      },
      "text/plain": [
       "HBox(children=(HTML(value='Evaluating'), FloatProgress(value=0.0, max=94.0), HTML(value='')))"
      ]
     },
     "metadata": {},
     "output_type": "display_data"
    },
    {
     "data": {
      "application/vnd.jupyter.widget-view+json": {
       "model_id": "9be075b7cb4e4cf1bca3f298cf0d827e",
       "version_major": 2,
       "version_minor": 0
      },
      "text/plain": [
       "HBox(children=(HTML(value='Training'), FloatProgress(value=0.0, max=844.0), HTML(value='')))"
      ]
     },
     "metadata": {},
     "output_type": "display_data"
    },
    {
     "data": {
      "application/vnd.jupyter.widget-view+json": {
       "model_id": "f7c0ec99da9f44aea757550c2188887c",
       "version_major": 2,
       "version_minor": 0
      },
      "text/plain": [
       "HBox(children=(HTML(value='Evaluating'), FloatProgress(value=0.0, max=94.0), HTML(value='')))"
      ]
     },
     "metadata": {},
     "output_type": "display_data"
    },
    {
     "data": {
      "application/vnd.jupyter.widget-view+json": {
       "model_id": "597f0b1326094d7cacb3d28339c0fe0b",
       "version_major": 2,
       "version_minor": 0
      },
      "text/plain": [
       "HBox(children=(HTML(value='Training'), FloatProgress(value=0.0, max=844.0), HTML(value='')))"
      ]
     },
     "metadata": {},
     "output_type": "display_data"
    },
    {
     "data": {
      "application/vnd.jupyter.widget-view+json": {
       "model_id": "bdbcc400ac3446b683bcb74cba19dd41",
       "version_major": 2,
       "version_minor": 0
      },
      "text/plain": [
       "HBox(children=(HTML(value='Evaluating'), FloatProgress(value=0.0, max=94.0), HTML(value='')))"
      ]
     },
     "metadata": {},
     "output_type": "display_data"
    },
    {
     "data": {
      "application/vnd.jupyter.widget-view+json": {
       "model_id": "22460d1aed8243de9c03c087bbb33305",
       "version_major": 2,
       "version_minor": 0
      },
      "text/plain": [
       "HBox(children=(HTML(value='Training'), FloatProgress(value=0.0, max=844.0), HTML(value='')))"
      ]
     },
     "metadata": {},
     "output_type": "display_data"
    },
    {
     "data": {
      "application/vnd.jupyter.widget-view+json": {
       "model_id": "bb796b5115b0462eb5a1610f29ffd167",
       "version_major": 2,
       "version_minor": 0
      },
      "text/plain": [
       "HBox(children=(HTML(value='Evaluating'), FloatProgress(value=0.0, max=94.0), HTML(value='')))"
      ]
     },
     "metadata": {},
     "output_type": "display_data"
    },
    {
     "data": {
      "application/vnd.jupyter.widget-view+json": {
       "model_id": "58feb63dbe4f465693ce686c0762a198",
       "version_major": 2,
       "version_minor": 0
      },
      "text/plain": [
       "HBox(children=(HTML(value='Training'), FloatProgress(value=0.0, max=844.0), HTML(value='')))"
      ]
     },
     "metadata": {},
     "output_type": "display_data"
    },
    {
     "data": {
      "application/vnd.jupyter.widget-view+json": {
       "model_id": "0f1da1395d0e4c6d829e46547d1e7723",
       "version_major": 2,
       "version_minor": 0
      },
      "text/plain": [
       "HBox(children=(HTML(value='Evaluating'), FloatProgress(value=0.0, max=94.0), HTML(value='')))"
      ]
     },
     "metadata": {},
     "output_type": "display_data"
    },
    {
     "data": {
      "application/vnd.jupyter.widget-view+json": {
       "model_id": "762061dea2574e5b96ebdae4ce706ab5",
       "version_major": 2,
       "version_minor": 0
      },
      "text/plain": [
       "HBox(children=(HTML(value='Training'), FloatProgress(value=0.0, max=844.0), HTML(value='')))"
      ]
     },
     "metadata": {},
     "output_type": "display_data"
    },
    {
     "data": {
      "application/vnd.jupyter.widget-view+json": {
       "model_id": "997c74aa1f8440cbbc43d0233b3a5e79",
       "version_major": 2,
       "version_minor": 0
      },
      "text/plain": [
       "HBox(children=(HTML(value='Evaluating'), FloatProgress(value=0.0, max=94.0), HTML(value='')))"
      ]
     },
     "metadata": {},
     "output_type": "display_data"
    },
    {
     "data": {
      "application/vnd.jupyter.widget-view+json": {
       "model_id": "aca5e097393b43b0acbd8d8478f547c4",
       "version_major": 2,
       "version_minor": 0
      },
      "text/plain": [
       "HBox(children=(HTML(value='Training'), FloatProgress(value=0.0, max=844.0), HTML(value='')))"
      ]
     },
     "metadata": {},
     "output_type": "display_data"
    },
    {
     "data": {
      "application/vnd.jupyter.widget-view+json": {
       "model_id": "65cce141d5724608aebce93eaed88315",
       "version_major": 2,
       "version_minor": 0
      },
      "text/plain": [
       "HBox(children=(HTML(value='Evaluating'), FloatProgress(value=0.0, max=94.0), HTML(value='')))"
      ]
     },
     "metadata": {},
     "output_type": "display_data"
    },
    {
     "data": {
      "application/vnd.jupyter.widget-view+json": {
       "model_id": "843bb3cf34014b4c9abddadec87dd46e",
       "version_major": 2,
       "version_minor": 0
      },
      "text/plain": [
       "HBox(children=(HTML(value='Training'), FloatProgress(value=0.0, max=844.0), HTML(value='')))"
      ]
     },
     "metadata": {},
     "output_type": "display_data"
    },
    {
     "data": {
      "application/vnd.jupyter.widget-view+json": {
       "model_id": "18584a88a7164253b87841b2d3644d00",
       "version_major": 2,
       "version_minor": 0
      },
      "text/plain": [
       "HBox(children=(HTML(value='Evaluating'), FloatProgress(value=0.0, max=94.0), HTML(value='')))"
      ]
     },
     "metadata": {},
     "output_type": "display_data"
    }
   ],
   "source": [
    "#!g1.1\n",
    "train_model(model2, name2, n_epochs, train_iterator, valid_iterator)"
   ]
  },
  {
   "cell_type": "markdown",
   "id": "7c2f628c",
   "metadata": {
    "cellId": "o57c1jybbewagdv5737ua"
   },
   "source": [
    "KMNIST:"
   ]
  },
  {
   "cell_type": "code",
   "execution_count": 17,
   "id": "463939d2",
   "metadata": {
    "cellId": "jcjyfmbbfasa01gj3rc8ud"
   },
   "outputs": [],
   "source": [
    "#!g1.1\n",
    "train_iterator = train_iterator_3\n",
    "valid_iterator = valid_iterator_3\n",
    "model2 = LeNet_do(10)\n",
    "name2 = 'LeNet_do-3'"
   ]
  },
  {
   "cell_type": "code",
   "execution_count": 18,
   "id": "7ff69d39",
   "metadata": {
    "cellId": "dnj5gsfl76v5d5wy8pcrmj"
   },
   "outputs": [
    {
     "name": "stdout",
     "output_type": "stream",
     "text": [
      "Epoch: 01 | Epoch Time: 0m 23s\n",
      "\tTrain Loss: 1.716 | Train Acc: 74.98%\n",
      "\t Val. Loss: 1.514 |  Val. Acc: 95.24%\n",
      "Epoch: 02 | Epoch Time: 0m 23s\n",
      "\tTrain Loss: 1.551 | Train Acc: 91.17%\n",
      "\t Val. Loss: 1.500 |  Val. Acc: 96.19%\n",
      "Epoch: 03 | Epoch Time: 0m 23s\n",
      "\tTrain Loss: 1.533 | Train Acc: 92.91%\n",
      "\t Val. Loss: 1.495 |  Val. Acc: 96.78%\n",
      "Epoch: 04 | Epoch Time: 0m 23s\n",
      "\tTrain Loss: 1.529 | Train Acc: 93.23%\n",
      "\t Val. Loss: 1.495 |  Val. Acc: 96.65%\n",
      "Epoch: 05 | Epoch Time: 0m 23s\n",
      "\tTrain Loss: 1.519 | Train Acc: 94.17%\n",
      "\t Val. Loss: 1.487 |  Val. Acc: 97.51%\n",
      "Epoch: 06 | Epoch Time: 0m 23s\n",
      "\tTrain Loss: 1.518 | Train Acc: 94.39%\n",
      "\t Val. Loss: 1.488 |  Val. Acc: 97.37%\n",
      "Epoch: 07 | Epoch Time: 0m 23s\n",
      "\tTrain Loss: 1.517 | Train Acc: 94.46%\n",
      "\t Val. Loss: 1.485 |  Val. Acc: 97.64%\n",
      "Epoch: 08 | Epoch Time: 0m 23s\n",
      "\tTrain Loss: 1.516 | Train Acc: 94.53%\n",
      "\t Val. Loss: 1.488 |  Val. Acc: 97.37%\n",
      "Epoch: 09 | Epoch Time: 0m 23s\n",
      "\tTrain Loss: 1.515 | Train Acc: 94.56%\n",
      "\t Val. Loss: 1.494 |  Val. Acc: 96.73%\n",
      "Epoch: 10 | Epoch Time: 0m 23s\n",
      "\tTrain Loss: 1.512 | Train Acc: 94.94%\n",
      "\t Val. Loss: 1.493 |  Val. Acc: 96.81%\n",
      "\n"
     ]
    },
    {
     "data": {
      "application/vnd.jupyter.widget-view+json": {
       "model_id": "775c0cc544444f47ae7f96dc34e32309",
       "version_major": 2,
       "version_minor": 0
      },
      "text/plain": [
       "HBox(children=(HTML(value='Epochs'), FloatProgress(value=0.0, max=10.0), HTML(value='')))"
      ]
     },
     "metadata": {},
     "output_type": "display_data"
    },
    {
     "data": {
      "application/vnd.jupyter.widget-view+json": {
       "model_id": "e1253b1d81dd4dd9b31a07645342fb62",
       "version_major": 2,
       "version_minor": 0
      },
      "text/plain": [
       "HBox(children=(HTML(value='Training'), FloatProgress(value=0.0, max=844.0), HTML(value='')))"
      ]
     },
     "metadata": {},
     "output_type": "display_data"
    },
    {
     "data": {
      "application/vnd.jupyter.widget-view+json": {
       "model_id": "aa309658d03a4d2a925e91f3e146f49c",
       "version_major": 2,
       "version_minor": 0
      },
      "text/plain": [
       "HBox(children=(HTML(value='Evaluating'), FloatProgress(value=0.0, max=94.0), HTML(value='')))"
      ]
     },
     "metadata": {},
     "output_type": "display_data"
    },
    {
     "data": {
      "application/vnd.jupyter.widget-view+json": {
       "model_id": "20e416b8709e4e4e9e136fc8bcdfadc8",
       "version_major": 2,
       "version_minor": 0
      },
      "text/plain": [
       "HBox(children=(HTML(value='Training'), FloatProgress(value=0.0, max=844.0), HTML(value='')))"
      ]
     },
     "metadata": {},
     "output_type": "display_data"
    },
    {
     "data": {
      "application/vnd.jupyter.widget-view+json": {
       "model_id": "6ee4aac7023d4777bab69b3fe05d04cf",
       "version_major": 2,
       "version_minor": 0
      },
      "text/plain": [
       "HBox(children=(HTML(value='Evaluating'), FloatProgress(value=0.0, max=94.0), HTML(value='')))"
      ]
     },
     "metadata": {},
     "output_type": "display_data"
    },
    {
     "data": {
      "application/vnd.jupyter.widget-view+json": {
       "model_id": "756f0cd2348949cf819078fb06a001e6",
       "version_major": 2,
       "version_minor": 0
      },
      "text/plain": [
       "HBox(children=(HTML(value='Training'), FloatProgress(value=0.0, max=844.0), HTML(value='')))"
      ]
     },
     "metadata": {},
     "output_type": "display_data"
    },
    {
     "data": {
      "application/vnd.jupyter.widget-view+json": {
       "model_id": "87b5ce9e7b7549949762695a8995b3be",
       "version_major": 2,
       "version_minor": 0
      },
      "text/plain": [
       "HBox(children=(HTML(value='Evaluating'), FloatProgress(value=0.0, max=94.0), HTML(value='')))"
      ]
     },
     "metadata": {},
     "output_type": "display_data"
    },
    {
     "data": {
      "application/vnd.jupyter.widget-view+json": {
       "model_id": "51505390d68b4a17b0d2570c1dea65ce",
       "version_major": 2,
       "version_minor": 0
      },
      "text/plain": [
       "HBox(children=(HTML(value='Training'), FloatProgress(value=0.0, max=844.0), HTML(value='')))"
      ]
     },
     "metadata": {},
     "output_type": "display_data"
    },
    {
     "data": {
      "application/vnd.jupyter.widget-view+json": {
       "model_id": "a2840b89b20b4dc2b2560a66485df41e",
       "version_major": 2,
       "version_minor": 0
      },
      "text/plain": [
       "HBox(children=(HTML(value='Evaluating'), FloatProgress(value=0.0, max=94.0), HTML(value='')))"
      ]
     },
     "metadata": {},
     "output_type": "display_data"
    },
    {
     "data": {
      "application/vnd.jupyter.widget-view+json": {
       "model_id": "0648da70091848f2b25c9dac56873f3b",
       "version_major": 2,
       "version_minor": 0
      },
      "text/plain": [
       "HBox(children=(HTML(value='Training'), FloatProgress(value=0.0, max=844.0), HTML(value='')))"
      ]
     },
     "metadata": {},
     "output_type": "display_data"
    },
    {
     "data": {
      "application/vnd.jupyter.widget-view+json": {
       "model_id": "222e78c316304c9fa10e127196174107",
       "version_major": 2,
       "version_minor": 0
      },
      "text/plain": [
       "HBox(children=(HTML(value='Evaluating'), FloatProgress(value=0.0, max=94.0), HTML(value='')))"
      ]
     },
     "metadata": {},
     "output_type": "display_data"
    },
    {
     "data": {
      "application/vnd.jupyter.widget-view+json": {
       "model_id": "3c7fad67810741e7bc484d85b8ea396b",
       "version_major": 2,
       "version_minor": 0
      },
      "text/plain": [
       "HBox(children=(HTML(value='Training'), FloatProgress(value=0.0, max=844.0), HTML(value='')))"
      ]
     },
     "metadata": {},
     "output_type": "display_data"
    },
    {
     "data": {
      "application/vnd.jupyter.widget-view+json": {
       "model_id": "df9111a148f74221bb5a2ced59160b7c",
       "version_major": 2,
       "version_minor": 0
      },
      "text/plain": [
       "HBox(children=(HTML(value='Evaluating'), FloatProgress(value=0.0, max=94.0), HTML(value='')))"
      ]
     },
     "metadata": {},
     "output_type": "display_data"
    },
    {
     "data": {
      "application/vnd.jupyter.widget-view+json": {
       "model_id": "59613b9e65d14239833f0bf694819d74",
       "version_major": 2,
       "version_minor": 0
      },
      "text/plain": [
       "HBox(children=(HTML(value='Training'), FloatProgress(value=0.0, max=844.0), HTML(value='')))"
      ]
     },
     "metadata": {},
     "output_type": "display_data"
    },
    {
     "data": {
      "application/vnd.jupyter.widget-view+json": {
       "model_id": "21b4cb9988e149f38e2cda2b98a7d2a4",
       "version_major": 2,
       "version_minor": 0
      },
      "text/plain": [
       "HBox(children=(HTML(value='Evaluating'), FloatProgress(value=0.0, max=94.0), HTML(value='')))"
      ]
     },
     "metadata": {},
     "output_type": "display_data"
    },
    {
     "data": {
      "application/vnd.jupyter.widget-view+json": {
       "model_id": "266b4156bd8d44ada1fb0c4bbf6efc9d",
       "version_major": 2,
       "version_minor": 0
      },
      "text/plain": [
       "HBox(children=(HTML(value='Training'), FloatProgress(value=0.0, max=844.0), HTML(value='')))"
      ]
     },
     "metadata": {},
     "output_type": "display_data"
    },
    {
     "data": {
      "application/vnd.jupyter.widget-view+json": {
       "model_id": "ced42b3d0bbb460cbcccd79d5fde4df5",
       "version_major": 2,
       "version_minor": 0
      },
      "text/plain": [
       "HBox(children=(HTML(value='Evaluating'), FloatProgress(value=0.0, max=94.0), HTML(value='')))"
      ]
     },
     "metadata": {},
     "output_type": "display_data"
    },
    {
     "data": {
      "application/vnd.jupyter.widget-view+json": {
       "model_id": "2c54cd930d54428885e304afeae73634",
       "version_major": 2,
       "version_minor": 0
      },
      "text/plain": [
       "HBox(children=(HTML(value='Training'), FloatProgress(value=0.0, max=844.0), HTML(value='')))"
      ]
     },
     "metadata": {},
     "output_type": "display_data"
    },
    {
     "data": {
      "application/vnd.jupyter.widget-view+json": {
       "model_id": "d8f59fbfbb5544938719d54783e9dfc1",
       "version_major": 2,
       "version_minor": 0
      },
      "text/plain": [
       "HBox(children=(HTML(value='Evaluating'), FloatProgress(value=0.0, max=94.0), HTML(value='')))"
      ]
     },
     "metadata": {},
     "output_type": "display_data"
    },
    {
     "data": {
      "application/vnd.jupyter.widget-view+json": {
       "model_id": "27f1a9baac89440cb6cd927f9aa47437",
       "version_major": 2,
       "version_minor": 0
      },
      "text/plain": [
       "HBox(children=(HTML(value='Training'), FloatProgress(value=0.0, max=844.0), HTML(value='')))"
      ]
     },
     "metadata": {},
     "output_type": "display_data"
    },
    {
     "data": {
      "application/vnd.jupyter.widget-view+json": {
       "model_id": "2bdde99efa3149b08eab4d0199304196",
       "version_major": 2,
       "version_minor": 0
      },
      "text/plain": [
       "HBox(children=(HTML(value='Evaluating'), FloatProgress(value=0.0, max=94.0), HTML(value='')))"
      ]
     },
     "metadata": {},
     "output_type": "display_data"
    }
   ],
   "source": [
    "#!g1.1\n",
    "train_model(model2, name2, n_epochs, train_iterator, valid_iterator)"
   ]
  },
  {
   "cell_type": "markdown",
   "id": "bbd288e1",
   "metadata": {
    "cellId": "nr7y989ad8cwgi7uw0fja"
   },
   "source": [
    "#### Результаты:"
   ]
  },
  {
   "cell_type": "markdown",
   "id": "f10edf79",
   "metadata": {
    "cellId": "xk4sahhbxiaiqblitt26h"
   },
   "source": [
    "MNIST:"
   ]
  },
  {
   "cell_type": "code",
   "execution_count": 37,
   "id": "09436111",
   "metadata": {
    "cellId": "88wueapnx132zljprja3z2"
   },
   "outputs": [
    {
     "name": "stdout",
     "output_type": "stream",
     "text": [
      "Zero activations on LeNet-1: 28676948/46840000\n",
      "Zero activations on LeNet_do-1: 28532229/46840000\n"
     ]
    },
    {
     "data": {
      "application/vnd.jupyter.widget-view+json": {
       "model_id": "c716ca0db34e4641bb59189d39c7307e",
       "version_major": 2,
       "version_minor": 0
      },
      "text/plain": [
       "HBox(children=(HTML(value='Evaluating'), FloatProgress(value=0.0, max=157.0), HTML(value='')))"
      ]
     },
     "metadata": {},
     "output_type": "display_data"
    },
    {
     "data": {
      "application/vnd.jupyter.widget-view+json": {
       "model_id": "ed0e9ea56b4c4a9eab93dd9e290ce178",
       "version_major": 2,
       "version_minor": 0
      },
      "text/plain": [
       "HBox(children=(HTML(value='Evaluating'), FloatProgress(value=0.0, max=157.0), HTML(value='')))"
      ]
     },
     "metadata": {},
     "output_type": "display_data"
    },
    {
     "data": {
      "image/png": "[encoded data removed]",
      "text/plain": [
       "<Figure size 720x432 with 2 Axes>"
      ]
     },
     "metadata": {
      "needs_background": "light"
     },
     "output_type": "display_data"
    }
   ],
   "source": [
    "#!g1.1\n",
    "test_iterator = test_iterator_1\n",
    "model1 = LeNet(10)\n",
    "model2 = LeNet_do(10)\n",
    "name1 = 'LeNet-1'\n",
    "name2 = 'LeNet_do-1'\n",
    "\n",
    "model1.load_state_dict(torch.load(f'{name1}.pt'))\n",
    "_, _, activations1 = get_activations(model1, test_iterator, criterion, device)\n",
    "\n",
    "model2.load_state_dict(torch.load(f'{name2}.pt'))\n",
    "_, _, activations2 = get_activations(model2, test_iterator, criterion, device)\n",
    "\n",
    "nonzero_mask1 = activations1 > 10e-7\n",
    "zero_quant1 = activations1.size - activations1[nonzero_mask1].size\n",
    "nonzero_activations1 = activations1[nonzero_mask1]\n",
    "print(f'Zero activations on {name1}: {zero_quant1}/{activations1.size}')\n",
    "\n",
    "nonzero_mask2 = activations2 > 10e-7\n",
    "zero_quant2 = activations2.size - activations2[nonzero_mask2].size\n",
    "nonzero_activations2 = activations2[nonzero_mask2]\n",
    "print(f'Zero activations on {name2}: {zero_quant2}/{activations1.size}')\n",
    "\n",
    "fig, (ax1, ax2) = plt.subplots(1, 2)\n",
    "fig.set_size_inches(10, 6)\n",
    "fig.suptitle('Activations distribution on dataset MNIST')\n",
    "ax1.set_title(name1)\n",
    "ax2.set_title(name2)\n",
    "ax1.hist(nonzero_activations1, bins=np.linspace(0, 10, 100))\n",
    "ax2.hist(nonzero_activations2, bins=np.linspace(0, 10, 100))\n",
    "plt.show()"
   ]
  },
  {
   "cell_type": "markdown",
   "id": "f3fe483a",
   "metadata": {
    "cellId": "ro920fg3rmdb5zj493s5of"
   },
   "source": [
    "FMNIST:"
   ]
  },
  {
   "cell_type": "code",
   "execution_count": 38,
   "id": "04b6af16",
   "metadata": {
    "cellId": "mtz174zhrpd50fqfc6wvr7"
   },
   "outputs": [
    {
     "name": "stdout",
     "output_type": "stream",
     "text": [
      "Zero activations on LeNet-2: 26860901/46840000\n",
      "Zero activations on LeNet_do-2: 32064386/46840000\n"
     ]
    },
    {
     "data": {
      "application/vnd.jupyter.widget-view+json": {
       "model_id": "63b584a5a7c140d9977b9158833b58fb",
       "version_major": 2,
       "version_minor": 0
      },
      "text/plain": [
       "HBox(children=(HTML(value='Evaluating'), FloatProgress(value=0.0, max=157.0), HTML(value='')))"
      ]
     },
     "metadata": {},
     "output_type": "display_data"
    },
    {
     "data": {
      "application/vnd.jupyter.widget-view+json": {
       "model_id": "cf29f0fb6a4043219556704caa7db333",
       "version_major": 2,
       "version_minor": 0
      },
      "text/plain": [
       "HBox(children=(HTML(value='Evaluating'), FloatProgress(value=0.0, max=157.0), HTML(value='')))"
      ]
     },
     "metadata": {},
     "output_type": "display_data"
    },
    {
     "data": {
      "image/png": "[encoded data removed]",
      "text/plain": [
       "<Figure size 720x432 with 2 Axes>"
      ]
     },
     "metadata": {
      "needs_background": "light"
     },
     "output_type": "display_data"
    }
   ],
   "source": [
    "#!g1.1\n",
    "test_iterator = test_iterator_2\n",
    "model1 = LeNet(10)\n",
    "model2 = LeNet_do(10)\n",
    "name1 = 'LeNet-2'\n",
    "name2 = 'LeNet_do-2'\n",
    "\n",
    "model1.load_state_dict(torch.load(f'{name1}.pt'))\n",
    "_, _, activations1 = get_activations(model1, test_iterator, criterion, device)\n",
    "\n",
    "model2.load_state_dict(torch.load(f'{name2}.pt'))\n",
    "_, _, activations2 = get_activations(model2, test_iterator, criterion, device)\n",
    "\n",
    "nonzero_mask1 = activations1 > 10e-7\n",
    "zero_quant1 = activations1.size - activations1[nonzero_mask1].size\n",
    "nonzero_activations1 = activations1[nonzero_mask1]\n",
    "print(f'Zero activations on {name1}: {zero_quant1}/{activations1.size}')\n",
    "\n",
    "nonzero_mask2 = activations2 > 10e-7\n",
    "zero_quant2 = activations2.size - activations2[nonzero_mask2].size\n",
    "nonzero_activations2 = activations2[nonzero_mask2]\n",
    "print(f'Zero activations on {name2}: {zero_quant2}/{activations1.size}')\n",
    "\n",
    "fig, (ax1, ax2) = plt.subplots(1, 2)\n",
    "fig.set_size_inches(10, 6)\n",
    "fig.suptitle('Activations distribution on dataset FMNIST')\n",
    "ax1.set_title(name1)\n",
    "ax2.set_title(name2)\n",
    "ax1.hist(nonzero_activations1, bins=np.linspace(0, 10, 100))\n",
    "ax2.hist(nonzero_activations2, bins=np.linspace(0, 10, 100))\n",
    "plt.show()"
   ]
  },
  {
   "cell_type": "markdown",
   "id": "bf2edeb4",
   "metadata": {
    "cellId": "98ooa0d6gtqkbqz792odok"
   },
   "source": [
    "KMNIST:"
   ]
  },
  {
   "cell_type": "code",
   "execution_count": 39,
   "id": "9aba2a4f",
   "metadata": {
    "cellId": "12fgzpuwl9lcc7an8xei2ur"
   },
   "outputs": [
    {
     "name": "stdout",
     "output_type": "stream",
     "text": [
      "Zero activations on LeNet-3: 32288783/46840000\n",
      "Zero activations on LeNet_do-3: 29520023/46840000\n"
     ]
    },
    {
     "data": {
      "application/vnd.jupyter.widget-view+json": {
       "model_id": "bf398f1a604c4415876483ace14114bd",
       "version_major": 2,
       "version_minor": 0
      },
      "text/plain": [
       "HBox(children=(HTML(value='Evaluating'), FloatProgress(value=0.0, max=157.0), HTML(value='')))"
      ]
     },
     "metadata": {},
     "output_type": "display_data"
    },
    {
     "data": {
      "application/vnd.jupyter.widget-view+json": {
       "model_id": "2848d36af24e4902bdf9fd0e7fdc837e",
       "version_major": 2,
       "version_minor": 0
      },
      "text/plain": [
       "HBox(children=(HTML(value='Evaluating'), FloatProgress(value=0.0, max=157.0), HTML(value='')))"
      ]
     },
     "metadata": {},
     "output_type": "display_data"
    },
    {
     "data": {
      "image/png": "[encoded data removed]",
      "text/plain": [
       "<Figure size 720x432 with 2 Axes>"
      ]
     },
     "metadata": {
      "needs_background": "light"
     },
     "output_type": "display_data"
    }
   ],
   "source": [
    "#!g1.1\n",
    "test_iterator = test_iterator_3\n",
    "model1 = LeNet(10)\n",
    "model2 = LeNet_do(10)\n",
    "name1 = 'LeNet-3'\n",
    "name2 = 'LeNet_do-3'\n",
    "\n",
    "model1.load_state_dict(torch.load(f'{name1}.pt'))\n",
    "_, _, activations1 = get_activations(model1, test_iterator, criterion, device)\n",
    "\n",
    "model2.load_state_dict(torch.load(f'{name2}.pt'))\n",
    "_, _, activations2 = get_activations(model2, test_iterator, criterion, device)\n",
    "\n",
    "nonzero_mask1 = activations1 > 10e-7\n",
    "zero_quant1 = activations1.size - activations1[nonzero_mask1].size\n",
    "nonzero_activations1 = activations1[nonzero_mask1]\n",
    "print(f'Zero activations on {name1}: {zero_quant1}/{activations1.size}')\n",
    "\n",
    "nonzero_mask2 = activations2 > 10e-7\n",
    "zero_quant2 = activations2.size - activations2[nonzero_mask2].size\n",
    "nonzero_activations2 = activations2[nonzero_mask2]\n",
    "print(f'Zero activations on {name2}: {zero_quant2}/{activations1.size}')\n",
    "\n",
    "fig, (ax1, ax2) = plt.subplots(1, 2)\n",
    "fig.set_size_inches(10, 6)\n",
    "fig.suptitle('Activations distribution on dataset KMNIST')\n",
    "ax1.set_title(name1)\n",
    "ax2.set_title(name2)\n",
    "ax1.hist(nonzero_activations1, bins=np.linspace(0, 10, 100))\n",
    "ax2.hist(nonzero_activations2, bins=np.linspace(0, 10, 100))\n",
    "plt.show()"
   ]
  },
  {
   "cell_type": "markdown",
   "id": "ab0c360b",
   "metadata": {
    "cellId": "jmmpfc5hymcogz6tpexzq8"
   },
   "source": [
    "**Вывод:** Dropout уменьшает пик плотности активаций в нуле, это отчётливо видно по меньшему числу нулевых активаций при Dropout."
   ]
  },
  {
   "cell_type": "markdown",
   "id": "52700622",
   "metadata": {
    "cellId": "1qwt50ddvtze0cc5kbqedn"
   },
   "source": [
    "#### LeNet + Kaiming Normal Initialization vs LeNet + Xavier Normal Initialization"
   ]
  },
  {
   "cell_type": "markdown",
   "id": "7f2d8002",
   "metadata": {
    "cellId": "2k55eynl98uets9ifrpko"
   },
   "source": [
    "Опять же, по умолчанию LeNet имеет Kaiming Normal Initialization, поэтому задействуем только вторую модель."
   ]
  },
  {
   "cell_type": "markdown",
   "id": "fb060261",
   "metadata": {
    "cellId": "4rwu1e9fl1i8tslvg6g2f"
   },
   "source": [
    "MNIST:"
   ]
  },
  {
   "cell_type": "code",
   "execution_count": 40,
   "id": "c91c1e6d",
   "metadata": {
    "cellId": "laidnaw0l8f4rdvfph5nt"
   },
   "outputs": [],
   "source": [
    "#!g1.1\n",
    "train_iterator = train_iterator_1\n",
    "valid_iterator = valid_iterator_1\n",
    "model2 = LeNet(10, init_mode='xavier_normal')\n",
    "name2 = 'LeNet_xavnorm-1'"
   ]
  },
  {
   "cell_type": "code",
   "execution_count": 41,
   "id": "0a356aa3",
   "metadata": {
    "cellId": "4p89cdwr63ol6zsj25r19"
   },
   "outputs": [
    {
     "name": "stdout",
     "output_type": "stream",
     "text": [
      "Epoch: 01 | Epoch Time: 0m 23s\n",
      "\tTrain Loss: 1.644 | Train Acc: 82.53%\n",
      "\t Val. Loss: 1.505 |  Val. Acc: 95.87%\n",
      "Epoch: 02 | Epoch Time: 0m 22s\n",
      "\tTrain Loss: 1.517 | Train Acc: 94.56%\n",
      "\t Val. Loss: 1.504 |  Val. Acc: 95.81%\n",
      "Epoch: 03 | Epoch Time: 0m 23s\n",
      "\tTrain Loss: 1.503 | Train Acc: 95.94%\n",
      "\t Val. Loss: 1.489 |  Val. Acc: 97.25%\n",
      "Epoch: 04 | Epoch Time: 0m 23s\n",
      "\tTrain Loss: 1.498 | Train Acc: 96.35%\n",
      "\t Val. Loss: 1.481 |  Val. Acc: 98.02%\n",
      "Epoch: 05 | Epoch Time: 0m 23s\n",
      "\tTrain Loss: 1.494 | Train Acc: 96.75%\n",
      "\t Val. Loss: 1.483 |  Val. Acc: 97.91%\n",
      "Epoch: 06 | Epoch Time: 0m 23s\n",
      "\tTrain Loss: 1.492 | Train Acc: 96.96%\n",
      "\t Val. Loss: 1.484 |  Val. Acc: 97.74%\n",
      "Epoch: 07 | Epoch Time: 0m 23s\n",
      "\tTrain Loss: 1.489 | Train Acc: 97.17%\n",
      "\t Val. Loss: 1.480 |  Val. Acc: 98.12%\n",
      "Epoch: 08 | Epoch Time: 0m 23s\n",
      "\tTrain Loss: 1.489 | Train Acc: 97.23%\n",
      "\t Val. Loss: 1.483 |  Val. Acc: 97.85%\n",
      "Epoch: 09 | Epoch Time: 0m 23s\n",
      "\tTrain Loss: 1.487 | Train Acc: 97.44%\n",
      "\t Val. Loss: 1.480 |  Val. Acc: 98.05%\n",
      "Epoch: 10 | Epoch Time: 0m 23s\n",
      "\tTrain Loss: 1.487 | Train Acc: 97.36%\n",
      "\t Val. Loss: 1.477 |  Val. Acc: 98.34%\n",
      "\n"
     ]
    },
    {
     "data": {
      "application/vnd.jupyter.widget-view+json": {
       "model_id": "70dfabb0eff0402ebf63f457654a6e16",
       "version_major": 2,
       "version_minor": 0
      },
      "text/plain": [
       "HBox(children=(HTML(value='Epochs'), FloatProgress(value=0.0, max=10.0), HTML(value='')))"
      ]
     },
     "metadata": {},
     "output_type": "display_data"
    },
    {
     "data": {
      "application/vnd.jupyter.widget-view+json": {
       "model_id": "ed6888f431e04751a56305e3a2a989da",
       "version_major": 2,
       "version_minor": 0
      },
      "text/plain": [
       "HBox(children=(HTML(value='Training'), FloatProgress(value=0.0, max=844.0), HTML(value='')))"
      ]
     },
     "metadata": {},
     "output_type": "display_data"
    },
    {
     "data": {
      "application/vnd.jupyter.widget-view+json": {
       "model_id": "3ce42256cd61443296b8b50b8d15b51b",
       "version_major": 2,
       "version_minor": 0
      },
      "text/plain": [
       "HBox(children=(HTML(value='Evaluating'), FloatProgress(value=0.0, max=94.0), HTML(value='')))"
      ]
     },
     "metadata": {},
     "output_type": "display_data"
    },
    {
     "data": {
      "application/vnd.jupyter.widget-view+json": {
       "model_id": "fd2cf803a9e140b38226dce412606aff",
       "version_major": 2,
       "version_minor": 0
      },
      "text/plain": [
       "HBox(children=(HTML(value='Training'), FloatProgress(value=0.0, max=844.0), HTML(value='')))"
      ]
     },
     "metadata": {},
     "output_type": "display_data"
    },
    {
     "data": {
      "application/vnd.jupyter.widget-view+json": {
       "model_id": "9426345d6d694823be4e10467793cee8",
       "version_major": 2,
       "version_minor": 0
      },
      "text/plain": [
       "HBox(children=(HTML(value='Evaluating'), FloatProgress(value=0.0, max=94.0), HTML(value='')))"
      ]
     },
     "metadata": {},
     "output_type": "display_data"
    },
    {
     "data": {
      "application/vnd.jupyter.widget-view+json": {
       "model_id": "e98736ea29074d0ab62e636965e96b09",
       "version_major": 2,
       "version_minor": 0
      },
      "text/plain": [
       "HBox(children=(HTML(value='Training'), FloatProgress(value=0.0, max=844.0), HTML(value='')))"
      ]
     },
     "metadata": {},
     "output_type": "display_data"
    },
    {
     "data": {
      "application/vnd.jupyter.widget-view+json": {
       "model_id": "d7b0bd353359457391fdf7e704eac687",
       "version_major": 2,
       "version_minor": 0
      },
      "text/plain": [
       "HBox(children=(HTML(value='Evaluating'), FloatProgress(value=0.0, max=94.0), HTML(value='')))"
      ]
     },
     "metadata": {},
     "output_type": "display_data"
    },
    {
     "data": {
      "application/vnd.jupyter.widget-view+json": {
       "model_id": "bc598dd3bc894d43a8a6e1d1e5a00c06",
       "version_major": 2,
       "version_minor": 0
      },
      "text/plain": [
       "HBox(children=(HTML(value='Training'), FloatProgress(value=0.0, max=844.0), HTML(value='')))"
      ]
     },
     "metadata": {},
     "output_type": "display_data"
    },
    {
     "data": {
      "application/vnd.jupyter.widget-view+json": {
       "model_id": "fe3b3d4326b94402a1b4741bc2bcfd16",
       "version_major": 2,
       "version_minor": 0
      },
      "text/plain": [
       "HBox(children=(HTML(value='Evaluating'), FloatProgress(value=0.0, max=94.0), HTML(value='')))"
      ]
     },
     "metadata": {},
     "output_type": "display_data"
    },
    {
     "data": {
      "application/vnd.jupyter.widget-view+json": {
       "model_id": "48de2602b69b466c91a28328830586af",
       "version_major": 2,
       "version_minor": 0
      },
      "text/plain": [
       "HBox(children=(HTML(value='Training'), FloatProgress(value=0.0, max=844.0), HTML(value='')))"
      ]
     },
     "metadata": {},
     "output_type": "display_data"
    },
    {
     "data": {
      "application/vnd.jupyter.widget-view+json": {
       "model_id": "9e147b149ce5468ea023e9ea8359fa44",
       "version_major": 2,
       "version_minor": 0
      },
      "text/plain": [
       "HBox(children=(HTML(value='Evaluating'), FloatProgress(value=0.0, max=94.0), HTML(value='')))"
      ]
     },
     "metadata": {},
     "output_type": "display_data"
    },
    {
     "data": {
      "application/vnd.jupyter.widget-view+json": {
       "model_id": "e82cbf64a4c844668030483d14d776a3",
       "version_major": 2,
       "version_minor": 0
      },
      "text/plain": [
       "HBox(children=(HTML(value='Training'), FloatProgress(value=0.0, max=844.0), HTML(value='')))"
      ]
     },
     "metadata": {},
     "output_type": "display_data"
    },
    {
     "data": {
      "application/vnd.jupyter.widget-view+json": {
       "model_id": "676e09500d8b4b3681b567032abded43",
       "version_major": 2,
       "version_minor": 0
      },
      "text/plain": [
       "HBox(children=(HTML(value='Evaluating'), FloatProgress(value=0.0, max=94.0), HTML(value='')))"
      ]
     },
     "metadata": {},
     "output_type": "display_data"
    },
    {
     "data": {
      "application/vnd.jupyter.widget-view+json": {
       "model_id": "fafb221811764ace9dd2189378b82091",
       "version_major": 2,
       "version_minor": 0
      },
      "text/plain": [
       "HBox(children=(HTML(value='Training'), FloatProgress(value=0.0, max=844.0), HTML(value='')))"
      ]
     },
     "metadata": {},
     "output_type": "display_data"
    },
    {
     "data": {
      "application/vnd.jupyter.widget-view+json": {
       "model_id": "4317b2544731425ba501c650c2ef5548",
       "version_major": 2,
       "version_minor": 0
      },
      "text/plain": [
       "HBox(children=(HTML(value='Evaluating'), FloatProgress(value=0.0, max=94.0), HTML(value='')))"
      ]
     },
     "metadata": {},
     "output_type": "display_data"
    },
    {
     "data": {
      "application/vnd.jupyter.widget-view+json": {
       "model_id": "5bd9f9e48366493fbe3ca4f29b366823",
       "version_major": 2,
       "version_minor": 0
      },
      "text/plain": [
       "HBox(children=(HTML(value='Training'), FloatProgress(value=0.0, max=844.0), HTML(value='')))"
      ]
     },
     "metadata": {},
     "output_type": "display_data"
    },
    {
     "data": {
      "application/vnd.jupyter.widget-view+json": {
       "model_id": "f12feb864b454c07a6adff506fc5edcb",
       "version_major": 2,
       "version_minor": 0
      },
      "text/plain": [
       "HBox(children=(HTML(value='Evaluating'), FloatProgress(value=0.0, max=94.0), HTML(value='')))"
      ]
     },
     "metadata": {},
     "output_type": "display_data"
    },
    {
     "data": {
      "application/vnd.jupyter.widget-view+json": {
       "model_id": "bef507fe15b0403e89f5fbe649c9100a",
       "version_major": 2,
       "version_minor": 0
      },
      "text/plain": [
       "HBox(children=(HTML(value='Training'), FloatProgress(value=0.0, max=844.0), HTML(value='')))"
      ]
     },
     "metadata": {},
     "output_type": "display_data"
    },
    {
     "data": {
      "application/vnd.jupyter.widget-view+json": {
       "model_id": "9c59113a6e934844a572273e36407270",
       "version_major": 2,
       "version_minor": 0
      },
      "text/plain": [
       "HBox(children=(HTML(value='Evaluating'), FloatProgress(value=0.0, max=94.0), HTML(value='')))"
      ]
     },
     "metadata": {},
     "output_type": "display_data"
    },
    {
     "data": {
      "application/vnd.jupyter.widget-view+json": {
       "model_id": "df5f07e00af94473bd32a3e67545ea32",
       "version_major": 2,
       "version_minor": 0
      },
      "text/plain": [
       "HBox(children=(HTML(value='Training'), FloatProgress(value=0.0, max=844.0), HTML(value='')))"
      ]
     },
     "metadata": {},
     "output_type": "display_data"
    },
    {
     "data": {
      "application/vnd.jupyter.widget-view+json": {
       "model_id": "eeec9a48ab4d4d7bb5478a49d7ac7817",
       "version_major": 2,
       "version_minor": 0
      },
      "text/plain": [
       "HBox(children=(HTML(value='Evaluating'), FloatProgress(value=0.0, max=94.0), HTML(value='')))"
      ]
     },
     "metadata": {},
     "output_type": "display_data"
    }
   ],
   "source": [
    "#!g1.1\n",
    "train_model(model2, name2, n_epochs, train_iterator, valid_iterator)"
   ]
  },
  {
   "cell_type": "markdown",
   "id": "9013a4d0",
   "metadata": {
    "cellId": "yyiveggumott7w1zhbz2ok"
   },
   "source": [
    "FMNIST:"
   ]
  },
  {
   "cell_type": "code",
   "execution_count": 42,
   "id": "f57b7dcb",
   "metadata": {
    "cellId": "rh5h1971g6van3okwaugq"
   },
   "outputs": [],
   "source": [
    "#!g1.1\n",
    "train_iterator = train_iterator_2\n",
    "valid_iterator = valid_iterator_2\n",
    "model2 = LeNet(10, init_mode='xavier_normal')\n",
    "name2 = 'LeNet_xavnorm-2'"
   ]
  },
  {
   "cell_type": "code",
   "execution_count": 43,
   "id": "b2cf31e3",
   "metadata": {
    "cellId": "jedpbin3rvid10eykf9qjr"
   },
   "outputs": [
    {
     "name": "stdout",
     "output_type": "stream",
     "text": [
      "Epoch: 01 | Epoch Time: 0m 23s\n",
      "\tTrain Loss: 1.713 | Train Acc: 75.36%\n",
      "\t Val. Loss: 1.583 |  Val. Acc: 87.75%\n",
      "Epoch: 02 | Epoch Time: 0m 23s\n",
      "\tTrain Loss: 1.550 | Train Acc: 91.28%\n",
      "\t Val. Loss: 1.492 |  Val. Acc: 96.97%\n",
      "Epoch: 03 | Epoch Time: 0m 23s\n",
      "\tTrain Loss: 1.503 | Train Acc: 96.01%\n",
      "\t Val. Loss: 1.484 |  Val. Acc: 97.62%\n",
      "Epoch: 04 | Epoch Time: 0m 23s\n",
      "\tTrain Loss: 1.496 | Train Acc: 96.60%\n",
      "\t Val. Loss: 1.480 |  Val. Acc: 98.18%\n",
      "Epoch: 05 | Epoch Time: 0m 23s\n",
      "\tTrain Loss: 1.493 | Train Acc: 96.90%\n",
      "\t Val. Loss: 1.479 |  Val. Acc: 98.29%\n",
      "Epoch: 06 | Epoch Time: 0m 22s\n",
      "\tTrain Loss: 1.490 | Train Acc: 97.19%\n",
      "\t Val. Loss: 1.484 |  Val. Acc: 97.76%\n",
      "Epoch: 07 | Epoch Time: 0m 23s\n",
      "\tTrain Loss: 1.488 | Train Acc: 97.33%\n",
      "\t Val. Loss: 1.481 |  Val. Acc: 97.97%\n",
      "Epoch: 08 | Epoch Time: 0m 23s\n",
      "\tTrain Loss: 1.486 | Train Acc: 97.47%\n",
      "\t Val. Loss: 1.483 |  Val. Acc: 97.88%\n",
      "Epoch: 09 | Epoch Time: 0m 23s\n",
      "\tTrain Loss: 1.485 | Train Acc: 97.59%\n",
      "\t Val. Loss: 1.479 |  Val. Acc: 98.30%\n",
      "Epoch: 10 | Epoch Time: 0m 23s\n",
      "\tTrain Loss: 1.484 | Train Acc: 97.71%\n",
      "\t Val. Loss: 1.479 |  Val. Acc: 98.22%\n",
      "\n"
     ]
    },
    {
     "data": {
      "application/vnd.jupyter.widget-view+json": {
       "model_id": "6389568636ec4956ba0473b7a99a4acd",
       "version_major": 2,
       "version_minor": 0
      },
      "text/plain": [
       "HBox(children=(HTML(value='Epochs'), FloatProgress(value=0.0, max=10.0), HTML(value='')))"
      ]
     },
     "metadata": {},
     "output_type": "display_data"
    },
    {
     "data": {
      "application/vnd.jupyter.widget-view+json": {
       "model_id": "9a6ec1f9536e4836967c83eee8a9a5ef",
       "version_major": 2,
       "version_minor": 0
      },
      "text/plain": [
       "HBox(children=(HTML(value='Training'), FloatProgress(value=0.0, max=844.0), HTML(value='')))"
      ]
     },
     "metadata": {},
     "output_type": "display_data"
    },
    {
     "data": {
      "application/vnd.jupyter.widget-view+json": {
       "model_id": "52c371ae7c5a4d0fae5de45614d61aa4",
       "version_major": 2,
       "version_minor": 0
      },
      "text/plain": [
       "HBox(children=(HTML(value='Evaluating'), FloatProgress(value=0.0, max=94.0), HTML(value='')))"
      ]
     },
     "metadata": {},
     "output_type": "display_data"
    },
    {
     "data": {
      "application/vnd.jupyter.widget-view+json": {
       "model_id": "8d29cf147976441f9922a12251bea69b",
       "version_major": 2,
       "version_minor": 0
      },
      "text/plain": [
       "HBox(children=(HTML(value='Training'), FloatProgress(value=0.0, max=844.0), HTML(value='')))"
      ]
     },
     "metadata": {},
     "output_type": "display_data"
    },
    {
     "data": {
      "application/vnd.jupyter.widget-view+json": {
       "model_id": "fd3ffaac42cc425193a3261e2b44f568",
       "version_major": 2,
       "version_minor": 0
      },
      "text/plain": [
       "HBox(children=(HTML(value='Evaluating'), FloatProgress(value=0.0, max=94.0), HTML(value='')))"
      ]
     },
     "metadata": {},
     "output_type": "display_data"
    },
    {
     "data": {
      "application/vnd.jupyter.widget-view+json": {
       "model_id": "4f6515c54565450491efa2b1f66402d3",
       "version_major": 2,
       "version_minor": 0
      },
      "text/plain": [
       "HBox(children=(HTML(value='Training'), FloatProgress(value=0.0, max=844.0), HTML(value='')))"
      ]
     },
     "metadata": {},
     "output_type": "display_data"
    },
    {
     "data": {
      "application/vnd.jupyter.widget-view+json": {
       "model_id": "c25b5864191a4436ac542545c566bf90",
       "version_major": 2,
       "version_minor": 0
      },
      "text/plain": [
       "HBox(children=(HTML(value='Evaluating'), FloatProgress(value=0.0, max=94.0), HTML(value='')))"
      ]
     },
     "metadata": {},
     "output_type": "display_data"
    },
    {
     "data": {
      "application/vnd.jupyter.widget-view+json": {
       "model_id": "eb1be9e8f54c4707857fcf30bfe611f6",
       "version_major": 2,
       "version_minor": 0
      },
      "text/plain": [
       "HBox(children=(HTML(value='Training'), FloatProgress(value=0.0, max=844.0), HTML(value='')))"
      ]
     },
     "metadata": {},
     "output_type": "display_data"
    },
    {
     "data": {
      "application/vnd.jupyter.widget-view+json": {
       "model_id": "97a0706d14224e25abbcebcd66836f1e",
       "version_major": 2,
       "version_minor": 0
      },
      "text/plain": [
       "HBox(children=(HTML(value='Evaluating'), FloatProgress(value=0.0, max=94.0), HTML(value='')))"
      ]
     },
     "metadata": {},
     "output_type": "display_data"
    },
    {
     "data": {
      "application/vnd.jupyter.widget-view+json": {
       "model_id": "678b54de3d5f4bb18a1b6204b9792b0d",
       "version_major": 2,
       "version_minor": 0
      },
      "text/plain": [
       "HBox(children=(HTML(value='Training'), FloatProgress(value=0.0, max=844.0), HTML(value='')))"
      ]
     },
     "metadata": {},
     "output_type": "display_data"
    },
    {
     "data": {
      "application/vnd.jupyter.widget-view+json": {
       "model_id": "f879c153337d49b89bcdae43978746c1",
       "version_major": 2,
       "version_minor": 0
      },
      "text/plain": [
       "HBox(children=(HTML(value='Evaluating'), FloatProgress(value=0.0, max=94.0), HTML(value='')))"
      ]
     },
     "metadata": {},
     "output_type": "display_data"
    },
    {
     "data": {
      "application/vnd.jupyter.widget-view+json": {
       "model_id": "b70e55e1ba3341e5bf678cf0911697b0",
       "version_major": 2,
       "version_minor": 0
      },
      "text/plain": [
       "HBox(children=(HTML(value='Training'), FloatProgress(value=0.0, max=844.0), HTML(value='')))"
      ]
     },
     "metadata": {},
     "output_type": "display_data"
    },
    {
     "data": {
      "application/vnd.jupyter.widget-view+json": {
       "model_id": "47dafeced6db4f43ab324b5821b27296",
       "version_major": 2,
       "version_minor": 0
      },
      "text/plain": [
       "HBox(children=(HTML(value='Evaluating'), FloatProgress(value=0.0, max=94.0), HTML(value='')))"
      ]
     },
     "metadata": {},
     "output_type": "display_data"
    },
    {
     "data": {
      "application/vnd.jupyter.widget-view+json": {
       "model_id": "800cc18192734fe79bff632633ebeb2c",
       "version_major": 2,
       "version_minor": 0
      },
      "text/plain": [
       "HBox(children=(HTML(value='Training'), FloatProgress(value=0.0, max=844.0), HTML(value='')))"
      ]
     },
     "metadata": {},
     "output_type": "display_data"
    },
    {
     "data": {
      "application/vnd.jupyter.widget-view+json": {
       "model_id": "43a6f041f11b42eebad1e402b8624338",
       "version_major": 2,
       "version_minor": 0
      },
      "text/plain": [
       "HBox(children=(HTML(value='Evaluating'), FloatProgress(value=0.0, max=94.0), HTML(value='')))"
      ]
     },
     "metadata": {},
     "output_type": "display_data"
    },
    {
     "data": {
      "application/vnd.jupyter.widget-view+json": {
       "model_id": "d20280b5385a4bdab742d6bea24e60c8",
       "version_major": 2,
       "version_minor": 0
      },
      "text/plain": [
       "HBox(children=(HTML(value='Training'), FloatProgress(value=0.0, max=844.0), HTML(value='')))"
      ]
     },
     "metadata": {},
     "output_type": "display_data"
    },
    {
     "data": {
      "application/vnd.jupyter.widget-view+json": {
       "model_id": "0a3e93e583574ccca13bdb459c6007ce",
       "version_major": 2,
       "version_minor": 0
      },
      "text/plain": [
       "HBox(children=(HTML(value='Evaluating'), FloatProgress(value=0.0, max=94.0), HTML(value='')))"
      ]
     },
     "metadata": {},
     "output_type": "display_data"
    },
    {
     "data": {
      "application/vnd.jupyter.widget-view+json": {
       "model_id": "12bf0f14e32f49f884cbcc8fcb12d243",
       "version_major": 2,
       "version_minor": 0
      },
      "text/plain": [
       "HBox(children=(HTML(value='Training'), FloatProgress(value=0.0, max=844.0), HTML(value='')))"
      ]
     },
     "metadata": {},
     "output_type": "display_data"
    },
    {
     "data": {
      "application/vnd.jupyter.widget-view+json": {
       "model_id": "97f436592d5548a280b15ba34b073815",
       "version_major": 2,
       "version_minor": 0
      },
      "text/plain": [
       "HBox(children=(HTML(value='Evaluating'), FloatProgress(value=0.0, max=94.0), HTML(value='')))"
      ]
     },
     "metadata": {},
     "output_type": "display_data"
    },
    {
     "data": {
      "application/vnd.jupyter.widget-view+json": {
       "model_id": "5d0bb75cc11c436fa36a9a09ef42541c",
       "version_major": 2,
       "version_minor": 0
      },
      "text/plain": [
       "HBox(children=(HTML(value='Training'), FloatProgress(value=0.0, max=844.0), HTML(value='')))"
      ]
     },
     "metadata": {},
     "output_type": "display_data"
    },
    {
     "data": {
      "application/vnd.jupyter.widget-view+json": {
       "model_id": "00e9d92d2de541a69ece81f69a0ffade",
       "version_major": 2,
       "version_minor": 0
      },
      "text/plain": [
       "HBox(children=(HTML(value='Evaluating'), FloatProgress(value=0.0, max=94.0), HTML(value='')))"
      ]
     },
     "metadata": {},
     "output_type": "display_data"
    }
   ],
   "source": [
    "#!g1.1\n",
    "train_model(model2, name2, n_epochs, train_iterator, valid_iterator)"
   ]
  },
  {
   "cell_type": "markdown",
   "id": "c32232f6",
   "metadata": {
    "cellId": "6xgtcmxhe3ay2anhk4hza"
   },
   "source": [
    "KMNIST:"
   ]
  },
  {
   "cell_type": "code",
   "execution_count": 45,
   "id": "0081d449",
   "metadata": {
    "cellId": "855q16tm72adqpzuhol2zs"
   },
   "outputs": [],
   "source": [
    "#!g1.1\n",
    "train_iterator = train_iterator_3\n",
    "valid_iterator = valid_iterator_3\n",
    "model2 = LeNet(10, init_mode='xavier_normal')\n",
    "name2 = 'LeNet_xavnorm-3'"
   ]
  },
  {
   "cell_type": "code",
   "execution_count": 46,
   "id": "b2ef5e9a",
   "metadata": {
    "cellId": "kpnumkcavsl6c7wh6ivkta"
   },
   "outputs": [
    {
     "name": "stdout",
     "output_type": "stream",
     "text": [
      "Epoch: 01 | Epoch Time: 0m 23s\n",
      "\tTrain Loss: 1.646 | Train Acc: 82.37%\n",
      "\t Val. Loss: 1.507 |  Val. Acc: 95.61%\n",
      "Epoch: 02 | Epoch Time: 0m 23s\n",
      "\tTrain Loss: 1.523 | Train Acc: 94.05%\n",
      "\t Val. Loss: 1.498 |  Val. Acc: 96.39%\n",
      "Epoch: 03 | Epoch Time: 0m 23s\n",
      "\tTrain Loss: 1.509 | Train Acc: 95.38%\n",
      "\t Val. Loss: 1.491 |  Val. Acc: 97.15%\n",
      "Epoch: 04 | Epoch Time: 0m 23s\n",
      "\tTrain Loss: 1.502 | Train Acc: 96.03%\n",
      "\t Val. Loss: 1.489 |  Val. Acc: 97.37%\n",
      "Epoch: 05 | Epoch Time: 0m 23s\n",
      "\tTrain Loss: 1.499 | Train Acc: 96.27%\n",
      "\t Val. Loss: 1.493 |  Val. Acc: 96.90%\n",
      "Epoch: 06 | Epoch Time: 0m 23s\n",
      "\tTrain Loss: 1.495 | Train Acc: 96.72%\n",
      "\t Val. Loss: 1.484 |  Val. Acc: 97.82%\n",
      "Epoch: 07 | Epoch Time: 0m 23s\n",
      "\tTrain Loss: 1.493 | Train Acc: 96.79%\n",
      "\t Val. Loss: 1.488 |  Val. Acc: 97.40%\n",
      "Epoch: 08 | Epoch Time: 0m 23s\n",
      "\tTrain Loss: 1.491 | Train Acc: 97.02%\n",
      "\t Val. Loss: 1.481 |  Val. Acc: 98.05%\n",
      "Epoch: 09 | Epoch Time: 0m 23s\n",
      "\tTrain Loss: 1.490 | Train Acc: 97.13%\n",
      "\t Val. Loss: 1.480 |  Val. Acc: 98.12%\n",
      "Epoch: 10 | Epoch Time: 0m 23s\n",
      "\tTrain Loss: 1.488 | Train Acc: 97.30%\n",
      "\t Val. Loss: 1.477 |  Val. Acc: 98.37%\n",
      "\n"
     ]
    },
    {
     "data": {
      "application/vnd.jupyter.widget-view+json": {
       "model_id": "6531c79e496344b1982896dbe76c3a51",
       "version_major": 2,
       "version_minor": 0
      },
      "text/plain": [
       "HBox(children=(HTML(value='Epochs'), FloatProgress(value=0.0, max=10.0), HTML(value='')))"
      ]
     },
     "metadata": {},
     "output_type": "display_data"
    },
    {
     "data": {
      "application/vnd.jupyter.widget-view+json": {
       "model_id": "cfcee9d1a4a34939811660851f3ed24b",
       "version_major": 2,
       "version_minor": 0
      },
      "text/plain": [
       "HBox(children=(HTML(value='Training'), FloatProgress(value=0.0, max=844.0), HTML(value='')))"
      ]
     },
     "metadata": {},
     "output_type": "display_data"
    },
    {
     "data": {
      "application/vnd.jupyter.widget-view+json": {
       "model_id": "d64033b5716f4ac0bd05815efa693b55",
       "version_major": 2,
       "version_minor": 0
      },
      "text/plain": [
       "HBox(children=(HTML(value='Evaluating'), FloatProgress(value=0.0, max=94.0), HTML(value='')))"
      ]
     },
     "metadata": {},
     "output_type": "display_data"
    },
    {
     "data": {
      "application/vnd.jupyter.widget-view+json": {
       "model_id": "cbeff40237884394a2dbf5d73aaa81d3",
       "version_major": 2,
       "version_minor": 0
      },
      "text/plain": [
       "HBox(children=(HTML(value='Training'), FloatProgress(value=0.0, max=844.0), HTML(value='')))"
      ]
     },
     "metadata": {},
     "output_type": "display_data"
    },
    {
     "data": {
      "application/vnd.jupyter.widget-view+json": {
       "model_id": "54b7a99d30cd47e5b2b6d868369c69d4",
       "version_major": 2,
       "version_minor": 0
      },
      "text/plain": [
       "HBox(children=(HTML(value='Evaluating'), FloatProgress(value=0.0, max=94.0), HTML(value='')))"
      ]
     },
     "metadata": {},
     "output_type": "display_data"
    },
    {
     "data": {
      "application/vnd.jupyter.widget-view+json": {
       "model_id": "0e1690ebceac4b00aca9adfd2c3d9523",
       "version_major": 2,
       "version_minor": 0
      },
      "text/plain": [
       "HBox(children=(HTML(value='Training'), FloatProgress(value=0.0, max=844.0), HTML(value='')))"
      ]
     },
     "metadata": {},
     "output_type": "display_data"
    },
    {
     "data": {
      "application/vnd.jupyter.widget-view+json": {
       "model_id": "802b4552c055438790ef186d43a9f27c",
       "version_major": 2,
       "version_minor": 0
      },
      "text/plain": [
       "HBox(children=(HTML(value='Evaluating'), FloatProgress(value=0.0, max=94.0), HTML(value='')))"
      ]
     },
     "metadata": {},
     "output_type": "display_data"
    },
    {
     "data": {
      "application/vnd.jupyter.widget-view+json": {
       "model_id": "231cae441bde4a3db9d0d379cb6528f8",
       "version_major": 2,
       "version_minor": 0
      },
      "text/plain": [
       "HBox(children=(HTML(value='Training'), FloatProgress(value=0.0, max=844.0), HTML(value='')))"
      ]
     },
     "metadata": {},
     "output_type": "display_data"
    },
    {
     "data": {
      "application/vnd.jupyter.widget-view+json": {
       "model_id": "ecddf8e9f698469e8dd376b4d8433ba9",
       "version_major": 2,
       "version_minor": 0
      },
      "text/plain": [
       "HBox(children=(HTML(value='Evaluating'), FloatProgress(value=0.0, max=94.0), HTML(value='')))"
      ]
     },
     "metadata": {},
     "output_type": "display_data"
    },
    {
     "data": {
      "application/vnd.jupyter.widget-view+json": {
       "model_id": "689c46ca26104db09dc699d414079828",
       "version_major": 2,
       "version_minor": 0
      },
      "text/plain": [
       "HBox(children=(HTML(value='Training'), FloatProgress(value=0.0, max=844.0), HTML(value='')))"
      ]
     },
     "metadata": {},
     "output_type": "display_data"
    },
    {
     "data": {
      "application/vnd.jupyter.widget-view+json": {
       "model_id": "b3960f3b3b234d209cfa9b1dbb37d93a",
       "version_major": 2,
       "version_minor": 0
      },
      "text/plain": [
       "HBox(children=(HTML(value='Evaluating'), FloatProgress(value=0.0, max=94.0), HTML(value='')))"
      ]
     },
     "metadata": {},
     "output_type": "display_data"
    },
    {
     "data": {
      "application/vnd.jupyter.widget-view+json": {
       "model_id": "3ee9adf89ee84e2aa2d0fd993c5fd16c",
       "version_major": 2,
       "version_minor": 0
      },
      "text/plain": [
       "HBox(children=(HTML(value='Training'), FloatProgress(value=0.0, max=844.0), HTML(value='')))"
      ]
     },
     "metadata": {},
     "output_type": "display_data"
    },
    {
     "data": {
      "application/vnd.jupyter.widget-view+json": {
       "model_id": "0fecc346b0c1466a84beb26addb35e73",
       "version_major": 2,
       "version_minor": 0
      },
      "text/plain": [
       "HBox(children=(HTML(value='Evaluating'), FloatProgress(value=0.0, max=94.0), HTML(value='')))"
      ]
     },
     "metadata": {},
     "output_type": "display_data"
    },
    {
     "data": {
      "application/vnd.jupyter.widget-view+json": {
       "model_id": "4bc2ea2167de41a68c769c72defd90f1",
       "version_major": 2,
       "version_minor": 0
      },
      "text/plain": [
       "HBox(children=(HTML(value='Training'), FloatProgress(value=0.0, max=844.0), HTML(value='')))"
      ]
     },
     "metadata": {},
     "output_type": "display_data"
    },
    {
     "data": {
      "application/vnd.jupyter.widget-view+json": {
       "model_id": "7e806fff1d5a41c0bb9621b0952e639f",
       "version_major": 2,
       "version_minor": 0
      },
      "text/plain": [
       "HBox(children=(HTML(value='Evaluating'), FloatProgress(value=0.0, max=94.0), HTML(value='')))"
      ]
     },
     "metadata": {},
     "output_type": "display_data"
    },
    {
     "data": {
      "application/vnd.jupyter.widget-view+json": {
       "model_id": "06cc916e050344ed898e4be958f36e00",
       "version_major": 2,
       "version_minor": 0
      },
      "text/plain": [
       "HBox(children=(HTML(value='Training'), FloatProgress(value=0.0, max=844.0), HTML(value='')))"
      ]
     },
     "metadata": {},
     "output_type": "display_data"
    },
    {
     "data": {
      "application/vnd.jupyter.widget-view+json": {
       "model_id": "3d705781d13741c783e2158f1a04041e",
       "version_major": 2,
       "version_minor": 0
      },
      "text/plain": [
       "HBox(children=(HTML(value='Evaluating'), FloatProgress(value=0.0, max=94.0), HTML(value='')))"
      ]
     },
     "metadata": {},
     "output_type": "display_data"
    },
    {
     "data": {
      "application/vnd.jupyter.widget-view+json": {
       "model_id": "5de50cf3c57146379792919d8e256739",
       "version_major": 2,
       "version_minor": 0
      },
      "text/plain": [
       "HBox(children=(HTML(value='Training'), FloatProgress(value=0.0, max=844.0), HTML(value='')))"
      ]
     },
     "metadata": {},
     "output_type": "display_data"
    },
    {
     "data": {
      "application/vnd.jupyter.widget-view+json": {
       "model_id": "5d267259171147d2b439751e0d21182a",
       "version_major": 2,
       "version_minor": 0
      },
      "text/plain": [
       "HBox(children=(HTML(value='Evaluating'), FloatProgress(value=0.0, max=94.0), HTML(value='')))"
      ]
     },
     "metadata": {},
     "output_type": "display_data"
    },
    {
     "data": {
      "application/vnd.jupyter.widget-view+json": {
       "model_id": "0eab7f63bb83474791f657919a0c0172",
       "version_major": 2,
       "version_minor": 0
      },
      "text/plain": [
       "HBox(children=(HTML(value='Training'), FloatProgress(value=0.0, max=844.0), HTML(value='')))"
      ]
     },
     "metadata": {},
     "output_type": "display_data"
    },
    {
     "data": {
      "application/vnd.jupyter.widget-view+json": {
       "model_id": "51379574b87c4383b300fa76b1d4a7d3",
       "version_major": 2,
       "version_minor": 0
      },
      "text/plain": [
       "HBox(children=(HTML(value='Evaluating'), FloatProgress(value=0.0, max=94.0), HTML(value='')))"
      ]
     },
     "metadata": {},
     "output_type": "display_data"
    }
   ],
   "source": [
    "#!g1.1\n",
    "train_model(model2, name2, n_epochs, train_iterator, valid_iterator)"
   ]
  },
  {
   "cell_type": "markdown",
   "id": "fb8d4576",
   "metadata": {
    "cellId": "fxrf3jg3apkal3fxe4uzl"
   },
   "source": [
    "#### Результаты:"
   ]
  },
  {
   "cell_type": "code",
   "execution_count": 281,
   "id": "53d06472",
   "metadata": {
    "cellId": "gsa4y28kjact9u0rn7bsu"
   },
   "outputs": [
    {
     "data": {
      "application/vnd.jupyter.widget-view+json": {
       "model_id": "1cd51a08d4b1456796316eb4928acacf",
       "version_major": 2,
       "version_minor": 0
      },
      "text/plain": [
       "HBox(children=(HTML(value='Evaluating'), FloatProgress(value=0.0, max=157.0), HTML(value='')))"
      ]
     },
     "metadata": {},
     "output_type": "display_data"
    },
    {
     "data": {
      "application/vnd.jupyter.widget-view+json": {
       "model_id": "0d01550c73e04175b2e230cc4802d95c",
       "version_major": 2,
       "version_minor": 0
      },
      "text/plain": [
       "HBox(children=(HTML(value='Evaluating'), FloatProgress(value=0.0, max=157.0), HTML(value='')))"
      ]
     },
     "metadata": {},
     "output_type": "display_data"
    },
    {
     "name": "stdout",
     "output_type": "stream",
     "text": [
      "Zero activations on LeNet-1: 28676948/46840000\n",
      "Zero activations on LeNet_xavnorm-1: 23108104/46840000\n"
     ]
    },
    {
     "data": {
      "image/png": "[encoded data removed]",
      "text/plain": [
       "<Figure size 720x432 with 2 Axes>"
      ]
     },
     "metadata": {
      "needs_background": "light"
     },
     "output_type": "display_data"
    }
   ],
   "source": [
    "#!g1.1\n",
    "test_iterator = test_iterator_1\n",
    "model1 = LeNet(10)\n",
    "model2 = LeNet(10, init_mode='xavier_normal')\n",
    "name1 = 'LeNet-1'\n",
    "name2 = 'LeNet_xavnorm-1'\n",
    "\n",
    "model1.load_state_dict(torch.load(f'{name1}.pt'))\n",
    "_, _, activations1 = get_activations(model1, test_iterator, criterion, device)\n",
    "\n",
    "model2.load_state_dict(torch.load(f'{name2}.pt'))\n",
    "_, _, activations2 = get_activations(model2, test_iterator, criterion, device)\n",
    "\n",
    "nonzero_mask1 = activations1 > 10e-7\n",
    "zero_quant1 = activations1.size - activations1[nonzero_mask1].size\n",
    "nonzero_activations1 = activations1[nonzero_mask1]\n",
    "print(f'Zero activations on {name1}: {zero_quant1}/{activations1.size}')\n",
    "\n",
    "nonzero_mask2 = activations2 > 10e-7\n",
    "zero_quant2 = activations2.size - activations2[nonzero_mask2].size\n",
    "nonzero_activations2 = activations2[nonzero_mask2]\n",
    "print(f'Zero activations on {name2}: {zero_quant2}/{activations1.size}')\n",
    "\n",
    "fig, (ax1, ax2) = plt.subplots(1, 2)\n",
    "fig.set_size_inches(10, 6)\n",
    "fig.suptitle('Activations distribution on dataset MNIST')\n",
    "ax1.set_title(name1)\n",
    "ax2.set_title(name2)\n",
    "ax1.hist(nonzero_activations1, bins=np.linspace(0, 10, 100))\n",
    "ax2.hist(nonzero_activations2, bins=np.linspace(0, 10, 100))\n",
    "plt.show()"
   ]
  },
  {
   "cell_type": "code",
   "execution_count": 282,
   "id": "7fd361ca",
   "metadata": {
    "cellId": "qj189vvfbe9cuqwt4r66jf"
   },
   "outputs": [
    {
     "data": {
      "application/vnd.jupyter.widget-view+json": {
       "model_id": "70c72205d50f4e39b27e269b9e67d603",
       "version_major": 2,
       "version_minor": 0
      },
      "text/plain": [
       "HBox(children=(HTML(value='Evaluating'), FloatProgress(value=0.0, max=157.0), HTML(value='')))"
      ]
     },
     "metadata": {},
     "output_type": "display_data"
    },
    {
     "data": {
      "application/vnd.jupyter.widget-view+json": {
       "model_id": "a8ba726414654831832cee9c8c13a00e",
       "version_major": 2,
       "version_minor": 0
      },
      "text/plain": [
       "HBox(children=(HTML(value='Evaluating'), FloatProgress(value=0.0, max=157.0), HTML(value='')))"
      ]
     },
     "metadata": {},
     "output_type": "display_data"
    },
    {
     "name": "stdout",
     "output_type": "stream",
     "text": [
      "Zero activations on LeNet-2: 26860901/46840000\n",
      "Zero activations on LeNet_xavnorm-2: 29295454/46840000\n"
     ]
    },
    {
     "data": {
      "image/png": "[encoded data removed]",
      "text/plain": [
       "<Figure size 720x432 with 2 Axes>"
      ]
     },
     "metadata": {
      "needs_background": "light"
     },
     "output_type": "display_data"
    }
   ],
   "source": [
    "#!g1.1\n",
    "test_iterator = test_iterator_2\n",
    "model1 = LeNet(10)\n",
    "model2 = LeNet(10, init_mode='xavier_normal')\n",
    "name1 = 'LeNet-2'\n",
    "name2 = 'LeNet_xavnorm-2'\n",
    "\n",
    "model1.load_state_dict(torch.load(f'{name1}.pt'))\n",
    "_, _, activations1 = get_activations(model1, test_iterator, criterion, device)\n",
    "\n",
    "model2.load_state_dict(torch.load(f'{name2}.pt'))\n",
    "_, _, activations2 = get_activations(model2, test_iterator, criterion, device)\n",
    "\n",
    "nonzero_mask1 = activations1 > 10e-7\n",
    "zero_quant1 = activations1.size - activations1[nonzero_mask1].size\n",
    "nonzero_activations1 = activations1[nonzero_mask1]\n",
    "print(f'Zero activations on {name1}: {zero_quant1}/{activations1.size}')\n",
    "\n",
    "nonzero_mask2 = activations2 > 10e-7\n",
    "zero_quant2 = activations2.size - activations2[nonzero_mask2].size\n",
    "nonzero_activations2 = activations2[nonzero_mask2]\n",
    "print(f'Zero activations on {name2}: {zero_quant2}/{activations1.size}')\n",
    "\n",
    "fig, (ax1, ax2) = plt.subplots(1, 2)\n",
    "fig.set_size_inches(10, 6)\n",
    "fig.suptitle('Activations distribution on dataset FMNIST')\n",
    "ax1.set_title(name1)\n",
    "ax2.set_title(name2)\n",
    "ax1.hist(nonzero_activations1, bins=np.linspace(0, 10, 100))\n",
    "ax2.hist(nonzero_activations2, bins=np.linspace(0, 10, 100))\n",
    "plt.show()"
   ]
  },
  {
   "cell_type": "code",
   "execution_count": 283,
   "id": "f7074fd8",
   "metadata": {
    "cellId": "75q8b18wwiateqsus9f0m"
   },
   "outputs": [
    {
     "data": {
      "application/vnd.jupyter.widget-view+json": {
       "model_id": "48cd28781ac7489d97e876830b8caca9",
       "version_major": 2,
       "version_minor": 0
      },
      "text/plain": [
       "HBox(children=(HTML(value='Evaluating'), FloatProgress(value=0.0, max=157.0), HTML(value='')))"
      ]
     },
     "metadata": {},
     "output_type": "display_data"
    },
    {
     "data": {
      "application/vnd.jupyter.widget-view+json": {
       "model_id": "ae8e34744fc24932aadf0e20f260147b",
       "version_major": 2,
       "version_minor": 0
      },
      "text/plain": [
       "HBox(children=(HTML(value='Evaluating'), FloatProgress(value=0.0, max=157.0), HTML(value='')))"
      ]
     },
     "metadata": {},
     "output_type": "display_data"
    },
    {
     "name": "stdout",
     "output_type": "stream",
     "text": [
      "Zero activations on LeNet-3: 32288783/46840000\n",
      "Zero activations on LeNet_xavnorm-3: 27510919/46840000\n"
     ]
    },
    {
     "data": {
      "image/png": "[encoded data removed]",
      "text/plain": [
       "<Figure size 720x432 with 2 Axes>"
      ]
     },
     "metadata": {
      "needs_background": "light"
     },
     "output_type": "display_data"
    }
   ],
   "source": [
    "#!g1.1\n",
    "test_iterator = test_iterator_3\n",
    "model1 = LeNet(10)\n",
    "model2 = LeNet(10, init_mode='xavier_normal')\n",
    "name1 = 'LeNet-3'\n",
    "name2 = 'LeNet_xavnorm-3'\n",
    "\n",
    "model1.load_state_dict(torch.load(f'{name1}.pt'))\n",
    "_, _, activations1 = get_activations(model1, test_iterator, criterion, device)\n",
    "\n",
    "model2.load_state_dict(torch.load(f'{name2}.pt'))\n",
    "_, _, activations2 = get_activations(model2, test_iterator, criterion, device)\n",
    "\n",
    "nonzero_mask1 = activations1 > 10e-7\n",
    "zero_quant1 = activations1.size - activations1[nonzero_mask1].size\n",
    "nonzero_activations1 = activations1[nonzero_mask1]\n",
    "print(f'Zero activations on {name1}: {zero_quant1}/{activations1.size}')\n",
    "\n",
    "nonzero_mask2 = activations2 > 10e-7\n",
    "zero_quant2 = activations2.size - activations2[nonzero_mask2].size\n",
    "nonzero_activations2 = activations2[nonzero_mask2]\n",
    "print(f'Zero activations on {name2}: {zero_quant2}/{activations1.size}')\n",
    "\n",
    "fig, (ax1, ax2) = plt.subplots(1, 2)\n",
    "fig.set_size_inches(10, 6)\n",
    "fig.suptitle('Activations distribution on dataset KMNIST')\n",
    "ax1.set_title(name1)\n",
    "ax2.set_title(name2)\n",
    "ax1.hist(nonzero_activations1, bins=np.linspace(0, 10, 100))\n",
    "ax2.hist(nonzero_activations2, bins=np.linspace(0, 10, 100))\n",
    "plt.show()"
   ]
  },
  {
   "cell_type": "markdown",
   "id": "2a20fc39",
   "metadata": {
    "cellId": "s2ltph8vekj4gy187na2n"
   },
   "source": [
    "**Вывод:** на всех трёх датасетах подтверждается, что в отличие от Kaiming Normal Initialization, Xavier Normal Initialization имеет более короткие хвосты, меньшую дисперсию, а соответственно и большую плотность ближе к 0: как будто распределение немного ужали к нулю."
   ]
  },
  {
   "cell_type": "markdown",
   "id": "f24b1273",
   "metadata": {
    "cellId": "j2tawtfm788os271aisce"
   },
   "source": [
    "#### Adam vs SGD"
   ]
  },
  {
   "cell_type": "markdown",
   "id": "4b074867",
   "metadata": {
    "cellId": "bmq0c9jnh0cx1pm784in9h"
   },
   "source": [
    "По умолчанию LeNet оптимизоравлась с помощью Adam. Посмотрим на оптимизацию с помощью SGD c `lr=10e-5, momentum=0.9`:"
   ]
  },
  {
   "cell_type": "markdown",
   "id": "317e9f82",
   "metadata": {
    "cellId": "qh7q83eru3maavm2x9tck"
   },
   "source": [
    "MNIST:"
   ]
  },
  {
   "cell_type": "code",
   "execution_count": 330,
   "id": "9095fa69",
   "metadata": {
    "cellId": "yq9cipt7xd6y9wkvyvk3j"
   },
   "outputs": [],
   "source": [
    "#!g1.1\n",
    "train_iterator = train_iterator_1\n",
    "valid_iterator = valid_iterator_1\n",
    "model2 = LeNet(10)\n",
    "name2 = 'LeNet_sgd-1'"
   ]
  },
  {
   "cell_type": "code",
   "execution_count": 335,
   "id": "899144bb",
   "metadata": {
    "cellId": "t4q4yjydxdae2buwg9mukr"
   },
   "outputs": [
    {
     "data": {
      "application/vnd.jupyter.widget-view+json": {
       "model_id": "2b6c80bd2c624ee0a2fa031923b050e1",
       "version_major": 2,
       "version_minor": 0
      },
      "text/plain": [
       "HBox(children=(HTML(value='Epochs'), FloatProgress(value=0.0, max=10.0), HTML(value='')))"
      ]
     },
     "metadata": {},
     "output_type": "display_data"
    },
    {
     "data": {
      "application/vnd.jupyter.widget-view+json": {
       "model_id": "bc3103722dc7413c9c332bf3ba6103a2",
       "version_major": 2,
       "version_minor": 0
      },
      "text/plain": [
       "HBox(children=(HTML(value='Training'), FloatProgress(value=0.0, max=844.0), HTML(value='')))"
      ]
     },
     "metadata": {},
     "output_type": "display_data"
    },
    {
     "data": {
      "application/vnd.jupyter.widget-view+json": {
       "model_id": "a0ccee5c3c2048aab15c743e5234e746",
       "version_major": 2,
       "version_minor": 0
      },
      "text/plain": [
       "HBox(children=(HTML(value='Evaluating'), FloatProgress(value=0.0, max=94.0), HTML(value='')))"
      ]
     },
     "metadata": {},
     "output_type": "display_data"
    },
    {
     "name": "stdout",
     "output_type": "stream",
     "text": [
      "Epoch: 01 | Epoch Time: 0m 22s\n",
      "\tTrain Loss: 1.861 | Train Acc: 61.58%\n",
      "\t Val. Loss: 1.691 |  Val. Acc: 76.96%\n"
     ]
    },
    {
     "data": {
      "application/vnd.jupyter.widget-view+json": {
       "model_id": "b51acf93cc324f59bbe930eddee521c3",
       "version_major": 2,
       "version_minor": 0
      },
      "text/plain": [
       "HBox(children=(HTML(value='Training'), FloatProgress(value=0.0, max=844.0), HTML(value='')))"
      ]
     },
     "metadata": {},
     "output_type": "display_data"
    },
    {
     "data": {
      "application/vnd.jupyter.widget-view+json": {
       "model_id": "27b88dacb9ef401388bce321ad102fd9",
       "version_major": 2,
       "version_minor": 0
      },
      "text/plain": [
       "HBox(children=(HTML(value='Evaluating'), FloatProgress(value=0.0, max=94.0), HTML(value='')))"
      ]
     },
     "metadata": {},
     "output_type": "display_data"
    },
    {
     "name": "stdout",
     "output_type": "stream",
     "text": [
      "Epoch: 02 | Epoch Time: 0m 22s\n",
      "\tTrain Loss: 1.694 | Train Acc: 76.81%\n",
      "\t Val. Loss: 1.678 |  Val. Acc: 78.19%\n"
     ]
    },
    {
     "data": {
      "application/vnd.jupyter.widget-view+json": {
       "model_id": "09e34f42de664db7a0586224f56a788e",
       "version_major": 2,
       "version_minor": 0
      },
      "text/plain": [
       "HBox(children=(HTML(value='Training'), FloatProgress(value=0.0, max=844.0), HTML(value='')))"
      ]
     },
     "metadata": {},
     "output_type": "display_data"
    },
    {
     "data": {
      "application/vnd.jupyter.widget-view+json": {
       "model_id": "dcb2bcb73a504f969f456e850590ad63",
       "version_major": 2,
       "version_minor": 0
      },
      "text/plain": [
       "HBox(children=(HTML(value='Evaluating'), FloatProgress(value=0.0, max=94.0), HTML(value='')))"
      ]
     },
     "metadata": {},
     "output_type": "display_data"
    },
    {
     "name": "stdout",
     "output_type": "stream",
     "text": [
      "Epoch: 03 | Epoch Time: 0m 22s\n",
      "\tTrain Loss: 1.619 | Train Acc: 84.41%\n",
      "\t Val. Loss: 1.589 |  Val. Acc: 87.16%\n"
     ]
    },
    {
     "data": {
      "application/vnd.jupyter.widget-view+json": {
       "model_id": "cd175204af064b30b60d64db97cd4acb",
       "version_major": 2,
       "version_minor": 0
      },
      "text/plain": [
       "HBox(children=(HTML(value='Training'), FloatProgress(value=0.0, max=844.0), HTML(value='')))"
      ]
     },
     "metadata": {},
     "output_type": "display_data"
    },
    {
     "data": {
      "application/vnd.jupyter.widget-view+json": {
       "model_id": "6414f6d37e79429484a26b26ccdf2fb1",
       "version_major": 2,
       "version_minor": 0
      },
      "text/plain": [
       "HBox(children=(HTML(value='Evaluating'), FloatProgress(value=0.0, max=94.0), HTML(value='')))"
      ]
     },
     "metadata": {},
     "output_type": "display_data"
    },
    {
     "name": "stdout",
     "output_type": "stream",
     "text": [
      "Epoch: 04 | Epoch Time: 0m 22s\n",
      "\tTrain Loss: 1.591 | Train Acc: 87.12%\n",
      "\t Val. Loss: 1.584 |  Val. Acc: 87.63%\n"
     ]
    },
    {
     "data": {
      "application/vnd.jupyter.widget-view+json": {
       "model_id": "d886add0df1445ed9eb6def9c80b5c90",
       "version_major": 2,
       "version_minor": 0
      },
      "text/plain": [
       "HBox(children=(HTML(value='Training'), FloatProgress(value=0.0, max=844.0), HTML(value='')))"
      ]
     },
     "metadata": {},
     "output_type": "display_data"
    },
    {
     "data": {
      "application/vnd.jupyter.widget-view+json": {
       "model_id": "dbc9b176b19f4283a0dd24b6c088a42d",
       "version_major": 2,
       "version_minor": 0
      },
      "text/plain": [
       "HBox(children=(HTML(value='Evaluating'), FloatProgress(value=0.0, max=94.0), HTML(value='')))"
      ]
     },
     "metadata": {},
     "output_type": "display_data"
    },
    {
     "name": "stdout",
     "output_type": "stream",
     "text": [
      "Epoch: 05 | Epoch Time: 0m 22s\n",
      "\tTrain Loss: 1.583 | Train Acc: 87.86%\n",
      "\t Val. Loss: 1.577 |  Val. Acc: 88.34%\n"
     ]
    },
    {
     "data": {
      "application/vnd.jupyter.widget-view+json": {
       "model_id": "19f9f6e4cf6e486daf5136a04a5cc472",
       "version_major": 2,
       "version_minor": 0
      },
      "text/plain": [
       "HBox(children=(HTML(value='Training'), FloatProgress(value=0.0, max=844.0), HTML(value='')))"
      ]
     },
     "metadata": {},
     "output_type": "display_data"
    },
    {
     "data": {
      "application/vnd.jupyter.widget-view+json": {
       "model_id": "52fb6c220a2e45ba826b8d5228e23029",
       "version_major": 2,
       "version_minor": 0
      },
      "text/plain": [
       "HBox(children=(HTML(value='Evaluating'), FloatProgress(value=0.0, max=94.0), HTML(value='')))"
      ]
     },
     "metadata": {},
     "output_type": "display_data"
    },
    {
     "name": "stdout",
     "output_type": "stream",
     "text": [
      "Epoch: 06 | Epoch Time: 0m 22s\n",
      "\tTrain Loss: 1.579 | Train Acc: 88.19%\n",
      "\t Val. Loss: 1.574 |  Val. Acc: 88.71%\n"
     ]
    },
    {
     "data": {
      "application/vnd.jupyter.widget-view+json": {
       "model_id": "8bc31eabda32414e96df5dc8cdb8cc6c",
       "version_major": 2,
       "version_minor": 0
      },
      "text/plain": [
       "HBox(children=(HTML(value='Training'), FloatProgress(value=0.0, max=844.0), HTML(value='')))"
      ]
     },
     "metadata": {},
     "output_type": "display_data"
    },
    {
     "data": {
      "application/vnd.jupyter.widget-view+json": {
       "model_id": "14b2457ab3fa4d3fb19f43018a3735d6",
       "version_major": 2,
       "version_minor": 0
      },
      "text/plain": [
       "HBox(children=(HTML(value='Evaluating'), FloatProgress(value=0.0, max=94.0), HTML(value='')))"
      ]
     },
     "metadata": {},
     "output_type": "display_data"
    },
    {
     "name": "stdout",
     "output_type": "stream",
     "text": [
      "Epoch: 07 | Epoch Time: 0m 22s\n",
      "\tTrain Loss: 1.575 | Train Acc: 88.56%\n",
      "\t Val. Loss: 1.571 |  Val. Acc: 88.92%\n"
     ]
    },
    {
     "data": {
      "application/vnd.jupyter.widget-view+json": {
       "model_id": "902679fd619e45a79ae373f4c1800ec1",
       "version_major": 2,
       "version_minor": 0
      },
      "text/plain": [
       "HBox(children=(HTML(value='Training'), FloatProgress(value=0.0, max=844.0), HTML(value='')))"
      ]
     },
     "metadata": {},
     "output_type": "display_data"
    },
    {
     "data": {
      "application/vnd.jupyter.widget-view+json": {
       "model_id": "a3ad158f0f4d44bc93ebed26fb3c4791",
       "version_major": 2,
       "version_minor": 0
      },
      "text/plain": [
       "HBox(children=(HTML(value='Evaluating'), FloatProgress(value=0.0, max=94.0), HTML(value='')))"
      ]
     },
     "metadata": {},
     "output_type": "display_data"
    },
    {
     "name": "stdout",
     "output_type": "stream",
     "text": [
      "Epoch: 08 | Epoch Time: 0m 22s\n",
      "\tTrain Loss: 1.573 | Train Acc: 88.77%\n",
      "\t Val. Loss: 1.574 |  Val. Acc: 88.66%\n"
     ]
    },
    {
     "data": {
      "application/vnd.jupyter.widget-view+json": {
       "model_id": "1b04f1bed7e849d8ba873dbad049352c",
       "version_major": 2,
       "version_minor": 0
      },
      "text/plain": [
       "HBox(children=(HTML(value='Training'), FloatProgress(value=0.0, max=844.0), HTML(value='')))"
      ]
     },
     "metadata": {},
     "output_type": "display_data"
    },
    {
     "data": {
      "application/vnd.jupyter.widget-view+json": {
       "model_id": "01182ade399240f7aa0070b4b19fb4c9",
       "version_major": 2,
       "version_minor": 0
      },
      "text/plain": [
       "HBox(children=(HTML(value='Evaluating'), FloatProgress(value=0.0, max=94.0), HTML(value='')))"
      ]
     },
     "metadata": {},
     "output_type": "display_data"
    },
    {
     "name": "stdout",
     "output_type": "stream",
     "text": [
      "Epoch: 09 | Epoch Time: 0m 22s\n",
      "\tTrain Loss: 1.572 | Train Acc: 88.88%\n",
      "\t Val. Loss: 1.574 |  Val. Acc: 88.61%\n"
     ]
    },
    {
     "data": {
      "application/vnd.jupyter.widget-view+json": {
       "model_id": "4c657c1759f2467ba22db366a27ccd33",
       "version_major": 2,
       "version_minor": 0
      },
      "text/plain": [
       "HBox(children=(HTML(value='Training'), FloatProgress(value=0.0, max=844.0), HTML(value='')))"
      ]
     },
     "metadata": {},
     "output_type": "display_data"
    },
    {
     "data": {
      "application/vnd.jupyter.widget-view+json": {
       "model_id": "088cc310ac2b45a9b3d6966b79f5a11a",
       "version_major": 2,
       "version_minor": 0
      },
      "text/plain": [
       "HBox(children=(HTML(value='Evaluating'), FloatProgress(value=0.0, max=94.0), HTML(value='')))"
      ]
     },
     "metadata": {},
     "output_type": "display_data"
    },
    {
     "name": "stdout",
     "output_type": "stream",
     "text": [
      "Epoch: 10 | Epoch Time: 0m 21s\n",
      "\tTrain Loss: 1.571 | Train Acc: 88.91%\n",
      "\t Val. Loss: 1.573 |  Val. Acc: 88.72%\n",
      "\n"
     ]
    }
   ],
   "source": [
    "#!g1.1\n",
    "train_model(model2, name2, n_epochs, train_iterator, valid_iterator, opt='SGD')"
   ]
  },
  {
   "cell_type": "markdown",
   "id": "7e9954b3",
   "metadata": {
    "cellId": "98xs562kawmibdymyp8ud"
   },
   "source": [
    "FMNIST:"
   ]
  },
  {
   "cell_type": "code",
   "execution_count": 336,
   "id": "453b6122",
   "metadata": {
    "cellId": "o27q2987xmtp03d28kmrpd"
   },
   "outputs": [],
   "source": [
    "#!g1.1\n",
    "train_iterator = train_iterator_2\n",
    "valid_iterator = valid_iterator_2\n",
    "model2 = LeNet(10)\n",
    "name2 = 'LeNet_sgd-2'"
   ]
  },
  {
   "cell_type": "code",
   "execution_count": 337,
   "id": "9c960b17",
   "metadata": {
    "cellId": "ls7mzqxnygtjvsem3jdu"
   },
   "outputs": [
    {
     "data": {
      "application/vnd.jupyter.widget-view+json": {
       "model_id": "d7823713f70b4a3d9090199ccba2a38c",
       "version_major": 2,
       "version_minor": 0
      },
      "text/plain": [
       "HBox(children=(HTML(value='Epochs'), FloatProgress(value=0.0, max=10.0), HTML(value='')))"
      ]
     },
     "metadata": {},
     "output_type": "display_data"
    },
    {
     "data": {
      "application/vnd.jupyter.widget-view+json": {
       "model_id": "63b0c7f378c64784a5a7d4833ba8fbf5",
       "version_major": 2,
       "version_minor": 0
      },
      "text/plain": [
       "HBox(children=(HTML(value='Training'), FloatProgress(value=0.0, max=844.0), HTML(value='')))"
      ]
     },
     "metadata": {},
     "output_type": "display_data"
    },
    {
     "data": {
      "application/vnd.jupyter.widget-view+json": {
       "model_id": "50ce4e9edfae41bfb00dfe7838b9c56b",
       "version_major": 2,
       "version_minor": 0
      },
      "text/plain": [
       "HBox(children=(HTML(value='Evaluating'), FloatProgress(value=0.0, max=94.0), HTML(value='')))"
      ]
     },
     "metadata": {},
     "output_type": "display_data"
    },
    {
     "name": "stdout",
     "output_type": "stream",
     "text": [
      "Epoch: 01 | Epoch Time: 0m 22s\n",
      "\tTrain Loss: 1.846 | Train Acc: 62.29%\n",
      "\t Val. Loss: 1.677 |  Val. Acc: 78.57%\n"
     ]
    },
    {
     "data": {
      "application/vnd.jupyter.widget-view+json": {
       "model_id": "f1fb8088285441f58ea61763a5e40ca0",
       "version_major": 2,
       "version_minor": 0
      },
      "text/plain": [
       "HBox(children=(HTML(value='Training'), FloatProgress(value=0.0, max=844.0), HTML(value='')))"
      ]
     },
     "metadata": {},
     "output_type": "display_data"
    },
    {
     "data": {
      "application/vnd.jupyter.widget-view+json": {
       "model_id": "8f2d9dcaa35a4b16a91f032b24465814",
       "version_major": 2,
       "version_minor": 0
      },
      "text/plain": [
       "HBox(children=(HTML(value='Evaluating'), FloatProgress(value=0.0, max=94.0), HTML(value='')))"
      ]
     },
     "metadata": {},
     "output_type": "display_data"
    },
    {
     "name": "stdout",
     "output_type": "stream",
     "text": [
      "Epoch: 02 | Epoch Time: 0m 22s\n",
      "\tTrain Loss: 1.690 | Train Acc: 77.22%\n",
      "\t Val. Loss: 1.672 |  Val. Acc: 78.72%\n"
     ]
    },
    {
     "data": {
      "application/vnd.jupyter.widget-view+json": {
       "model_id": "3852bfbacf0a44a0b10e4f064f45a33c",
       "version_major": 2,
       "version_minor": 0
      },
      "text/plain": [
       "HBox(children=(HTML(value='Training'), FloatProgress(value=0.0, max=844.0), HTML(value='')))"
      ]
     },
     "metadata": {},
     "output_type": "display_data"
    },
    {
     "data": {
      "application/vnd.jupyter.widget-view+json": {
       "model_id": "9e79d20f374d46bda9b447bff84c14f0",
       "version_major": 2,
       "version_minor": 0
      },
      "text/plain": [
       "HBox(children=(HTML(value='Evaluating'), FloatProgress(value=0.0, max=94.0), HTML(value='')))"
      ]
     },
     "metadata": {},
     "output_type": "display_data"
    },
    {
     "name": "stdout",
     "output_type": "stream",
     "text": [
      "Epoch: 03 | Epoch Time: 0m 22s\n",
      "\tTrain Loss: 1.643 | Train Acc: 81.94%\n",
      "\t Val. Loss: 1.577 |  Val. Acc: 88.54%\n"
     ]
    },
    {
     "data": {
      "application/vnd.jupyter.widget-view+json": {
       "model_id": "fd7a701e44274e49ba40a36bc7715289",
       "version_major": 2,
       "version_minor": 0
      },
      "text/plain": [
       "HBox(children=(HTML(value='Training'), FloatProgress(value=0.0, max=844.0), HTML(value='')))"
      ]
     },
     "metadata": {},
     "output_type": "display_data"
    },
    {
     "data": {
      "application/vnd.jupyter.widget-view+json": {
       "model_id": "bdadc60f377c42e2a3376d01f57c9aa2",
       "version_major": 2,
       "version_minor": 0
      },
      "text/plain": [
       "HBox(children=(HTML(value='Evaluating'), FloatProgress(value=0.0, max=94.0), HTML(value='')))"
      ]
     },
     "metadata": {},
     "output_type": "display_data"
    },
    {
     "name": "stdout",
     "output_type": "stream",
     "text": [
      "Epoch: 04 | Epoch Time: 0m 22s\n",
      "\tTrain Loss: 1.589 | Train Acc: 87.29%\n",
      "\t Val. Loss: 1.574 |  Val. Acc: 88.71%\n"
     ]
    },
    {
     "data": {
      "application/vnd.jupyter.widget-view+json": {
       "model_id": "4124c458c0784da8be06b0579cf432d5",
       "version_major": 2,
       "version_minor": 0
      },
      "text/plain": [
       "HBox(children=(HTML(value='Training'), FloatProgress(value=0.0, max=844.0), HTML(value='')))"
      ]
     },
     "metadata": {},
     "output_type": "display_data"
    },
    {
     "data": {
      "application/vnd.jupyter.widget-view+json": {
       "model_id": "27ffd58b371f4f5da1e1176899118704",
       "version_major": 2,
       "version_minor": 0
      },
      "text/plain": [
       "HBox(children=(HTML(value='Evaluating'), FloatProgress(value=0.0, max=94.0), HTML(value='')))"
      ]
     },
     "metadata": {},
     "output_type": "display_data"
    },
    {
     "name": "stdout",
     "output_type": "stream",
     "text": [
      "Epoch: 05 | Epoch Time: 0m 22s\n",
      "\tTrain Loss: 1.583 | Train Acc: 87.90%\n",
      "\t Val. Loss: 1.571 |  Val. Acc: 88.98%\n"
     ]
    },
    {
     "data": {
      "application/vnd.jupyter.widget-view+json": {
       "model_id": "951a2c64aab24c56a20a709a039f2a12",
       "version_major": 2,
       "version_minor": 0
      },
      "text/plain": [
       "HBox(children=(HTML(value='Training'), FloatProgress(value=0.0, max=844.0), HTML(value='')))"
      ]
     },
     "metadata": {},
     "output_type": "display_data"
    },
    {
     "data": {
      "application/vnd.jupyter.widget-view+json": {
       "model_id": "fedd66d5eccf4cbf91af795a2c0609e4",
       "version_major": 2,
       "version_minor": 0
      },
      "text/plain": [
       "HBox(children=(HTML(value='Evaluating'), FloatProgress(value=0.0, max=94.0), HTML(value='')))"
      ]
     },
     "metadata": {},
     "output_type": "display_data"
    },
    {
     "name": "stdout",
     "output_type": "stream",
     "text": [
      "Epoch: 06 | Epoch Time: 0m 22s\n",
      "\tTrain Loss: 1.579 | Train Acc: 88.16%\n",
      "\t Val. Loss: 1.571 |  Val. Acc: 88.97%\n"
     ]
    },
    {
     "data": {
      "application/vnd.jupyter.widget-view+json": {
       "model_id": "fcb1161ae5c04923a0f9e2f1c08bc310",
       "version_major": 2,
       "version_minor": 0
      },
      "text/plain": [
       "HBox(children=(HTML(value='Training'), FloatProgress(value=0.0, max=844.0), HTML(value='')))"
      ]
     },
     "metadata": {},
     "output_type": "display_data"
    },
    {
     "data": {
      "application/vnd.jupyter.widget-view+json": {
       "model_id": "4c1c96389d144e83b32f15e04f80d902",
       "version_major": 2,
       "version_minor": 0
      },
      "text/plain": [
       "HBox(children=(HTML(value='Evaluating'), FloatProgress(value=0.0, max=94.0), HTML(value='')))"
      ]
     },
     "metadata": {},
     "output_type": "display_data"
    },
    {
     "name": "stdout",
     "output_type": "stream",
     "text": [
      "Epoch: 07 | Epoch Time: 0m 22s\n",
      "\tTrain Loss: 1.576 | Train Acc: 88.53%\n",
      "\t Val. Loss: 1.570 |  Val. Acc: 89.02%\n"
     ]
    },
    {
     "data": {
      "application/vnd.jupyter.widget-view+json": {
       "model_id": "5815766996754acead9384dd603488c2",
       "version_major": 2,
       "version_minor": 0
      },
      "text/plain": [
       "HBox(children=(HTML(value='Training'), FloatProgress(value=0.0, max=844.0), HTML(value='')))"
      ]
     },
     "metadata": {},
     "output_type": "display_data"
    },
    {
     "data": {
      "application/vnd.jupyter.widget-view+json": {
       "model_id": "1ac055f804344677903d662650e4d45b",
       "version_major": 2,
       "version_minor": 0
      },
      "text/plain": [
       "HBox(children=(HTML(value='Evaluating'), FloatProgress(value=0.0, max=94.0), HTML(value='')))"
      ]
     },
     "metadata": {},
     "output_type": "display_data"
    },
    {
     "name": "stdout",
     "output_type": "stream",
     "text": [
      "Epoch: 08 | Epoch Time: 0m 22s\n",
      "\tTrain Loss: 1.573 | Train Acc: 88.74%\n",
      "\t Val. Loss: 1.568 |  Val. Acc: 89.20%\n"
     ]
    },
    {
     "data": {
      "application/vnd.jupyter.widget-view+json": {
       "model_id": "f30edfa402b34f988260044790dfd930",
       "version_major": 2,
       "version_minor": 0
      },
      "text/plain": [
       "HBox(children=(HTML(value='Training'), FloatProgress(value=0.0, max=844.0), HTML(value='')))"
      ]
     },
     "metadata": {},
     "output_type": "display_data"
    },
    {
     "data": {
      "application/vnd.jupyter.widget-view+json": {
       "model_id": "abaf0714c82e4a46bb594ebed5b8bf13",
       "version_major": 2,
       "version_minor": 0
      },
      "text/plain": [
       "HBox(children=(HTML(value='Evaluating'), FloatProgress(value=0.0, max=94.0), HTML(value='')))"
      ]
     },
     "metadata": {},
     "output_type": "display_data"
    },
    {
     "name": "stdout",
     "output_type": "stream",
     "text": [
      "Epoch: 09 | Epoch Time: 0m 23s\n",
      "\tTrain Loss: 1.518 | Train Acc: 94.46%\n",
      "\t Val. Loss: 1.480 |  Val. Acc: 98.20%\n"
     ]
    },
    {
     "data": {
      "application/vnd.jupyter.widget-view+json": {
       "model_id": "5189eafa6b244f169968b380a56d26a2",
       "version_major": 2,
       "version_minor": 0
      },
      "text/plain": [
       "HBox(children=(HTML(value='Training'), FloatProgress(value=0.0, max=844.0), HTML(value='')))"
      ]
     },
     "metadata": {},
     "output_type": "display_data"
    },
    {
     "data": {
      "application/vnd.jupyter.widget-view+json": {
       "model_id": "d3ba93f6f12747d792edc569318c813f",
       "version_major": 2,
       "version_minor": 0
      },
      "text/plain": [
       "HBox(children=(HTML(value='Evaluating'), FloatProgress(value=0.0, max=94.0), HTML(value='')))"
      ]
     },
     "metadata": {},
     "output_type": "display_data"
    },
    {
     "name": "stdout",
     "output_type": "stream",
     "text": [
      "Epoch: 10 | Epoch Time: 0m 22s\n",
      "\tTrain Loss: 1.491 | Train Acc: 97.09%\n",
      "\t Val. Loss: 1.483 |  Val. Acc: 98.00%\n",
      "\n"
     ]
    }
   ],
   "source": [
    "#!g1.1\n",
    "train_model(model2, name2, n_epochs, train_iterator, valid_iterator, opt='SGD')"
   ]
  },
  {
   "cell_type": "markdown",
   "id": "49a49c36",
   "metadata": {
    "cellId": "szvjp8ojt9rrlk2q9fdvs"
   },
   "source": [
    "KMNIST:"
   ]
  },
  {
   "cell_type": "code",
   "execution_count": 338,
   "id": "906448aa",
   "metadata": {
    "cellId": "nnkw54jxfth9b7k7meznh"
   },
   "outputs": [],
   "source": [
    "#!g1.1\n",
    "train_iterator = train_iterator_3\n",
    "valid_iterator = valid_iterator_3\n",
    "model2 = LeNet(10)\n",
    "name2 = 'LeNet_sgd-3'"
   ]
  },
  {
   "cell_type": "code",
   "execution_count": 339,
   "id": "e825863a",
   "metadata": {
    "cellId": "tch37ch0bqacasc4w1190a"
   },
   "outputs": [
    {
     "data": {
      "application/vnd.jupyter.widget-view+json": {
       "model_id": "a162ccfc88a946878b760d742f801153",
       "version_major": 2,
       "version_minor": 0
      },
      "text/plain": [
       "HBox(children=(HTML(value='Epochs'), FloatProgress(value=0.0, max=10.0), HTML(value='')))"
      ]
     },
     "metadata": {},
     "output_type": "display_data"
    },
    {
     "data": {
      "application/vnd.jupyter.widget-view+json": {
       "model_id": "0956d813dfbd436da54bfadb75918b85",
       "version_major": 2,
       "version_minor": 0
      },
      "text/plain": [
       "HBox(children=(HTML(value='Training'), FloatProgress(value=0.0, max=844.0), HTML(value='')))"
      ]
     },
     "metadata": {},
     "output_type": "display_data"
    },
    {
     "data": {
      "application/vnd.jupyter.widget-view+json": {
       "model_id": "faab4e8577094af9b8c49fcd0240e657",
       "version_major": 2,
       "version_minor": 0
      },
      "text/plain": [
       "HBox(children=(HTML(value='Evaluating'), FloatProgress(value=0.0, max=94.0), HTML(value='')))"
      ]
     },
     "metadata": {},
     "output_type": "display_data"
    },
    {
     "name": "stdout",
     "output_type": "stream",
     "text": [
      "Epoch: 01 | Epoch Time: 0m 22s\n",
      "\tTrain Loss: 1.859 | Train Acc: 62.17%\n",
      "\t Val. Loss: 1.596 |  Val. Acc: 86.60%\n"
     ]
    },
    {
     "data": {
      "application/vnd.jupyter.widget-view+json": {
       "model_id": "2ed70e20e55b410f887fd83793f24ca7",
       "version_major": 2,
       "version_minor": 0
      },
      "text/plain": [
       "HBox(children=(HTML(value='Training'), FloatProgress(value=0.0, max=844.0), HTML(value='')))"
      ]
     },
     "metadata": {},
     "output_type": "display_data"
    },
    {
     "data": {
      "application/vnd.jupyter.widget-view+json": {
       "model_id": "180b3ca1c26c4391a18fb19e2dd05586",
       "version_major": 2,
       "version_minor": 0
      },
      "text/plain": [
       "HBox(children=(HTML(value='Evaluating'), FloatProgress(value=0.0, max=94.0), HTML(value='')))"
      ]
     },
     "metadata": {},
     "output_type": "display_data"
    },
    {
     "name": "stdout",
     "output_type": "stream",
     "text": [
      "Epoch: 02 | Epoch Time: 0m 22s\n",
      "\tTrain Loss: 1.614 | Train Acc: 84.83%\n",
      "\t Val. Loss: 1.585 |  Val. Acc: 87.61%\n"
     ]
    },
    {
     "data": {
      "application/vnd.jupyter.widget-view+json": {
       "model_id": "948bf2f28f984cfcaf7bdbbf4ef4051d",
       "version_major": 2,
       "version_minor": 0
      },
      "text/plain": [
       "HBox(children=(HTML(value='Training'), FloatProgress(value=0.0, max=844.0), HTML(value='')))"
      ]
     },
     "metadata": {},
     "output_type": "display_data"
    },
    {
     "data": {
      "application/vnd.jupyter.widget-view+json": {
       "model_id": "36206f9611f044b29f8579e66aea69a6",
       "version_major": 2,
       "version_minor": 0
      },
      "text/plain": [
       "HBox(children=(HTML(value='Evaluating'), FloatProgress(value=0.0, max=94.0), HTML(value='')))"
      ]
     },
     "metadata": {},
     "output_type": "display_data"
    },
    {
     "name": "stdout",
     "output_type": "stream",
     "text": [
      "Epoch: 03 | Epoch Time: 0m 22s\n",
      "\tTrain Loss: 1.600 | Train Acc: 86.21%\n",
      "\t Val. Loss: 1.580 |  Val. Acc: 88.11%\n"
     ]
    },
    {
     "data": {
      "application/vnd.jupyter.widget-view+json": {
       "model_id": "438bad33e96d435799197d9110075d14",
       "version_major": 2,
       "version_minor": 0
      },
      "text/plain": [
       "HBox(children=(HTML(value='Training'), FloatProgress(value=0.0, max=844.0), HTML(value='')))"
      ]
     },
     "metadata": {},
     "output_type": "display_data"
    },
    {
     "data": {
      "application/vnd.jupyter.widget-view+json": {
       "model_id": "d6ad1ff1e727452da3eca596b2d1c109",
       "version_major": 2,
       "version_minor": 0
      },
      "text/plain": [
       "HBox(children=(HTML(value='Evaluating'), FloatProgress(value=0.0, max=94.0), HTML(value='')))"
      ]
     },
     "metadata": {},
     "output_type": "display_data"
    },
    {
     "name": "stdout",
     "output_type": "stream",
     "text": [
      "Epoch: 04 | Epoch Time: 0m 21s\n",
      "\tTrain Loss: 1.593 | Train Acc: 86.83%\n",
      "\t Val. Loss: 1.576 |  Val. Acc: 88.39%\n"
     ]
    },
    {
     "data": {
      "application/vnd.jupyter.widget-view+json": {
       "model_id": "c5fd4a9b9b1c4e30b43d7f94d87ea4aa",
       "version_major": 2,
       "version_minor": 0
      },
      "text/plain": [
       "HBox(children=(HTML(value='Training'), FloatProgress(value=0.0, max=844.0), HTML(value='')))"
      ]
     },
     "metadata": {},
     "output_type": "display_data"
    },
    {
     "data": {
      "application/vnd.jupyter.widget-view+json": {
       "model_id": "c77e7150218c471d89589dbc9fc303a8",
       "version_major": 2,
       "version_minor": 0
      },
      "text/plain": [
       "HBox(children=(HTML(value='Evaluating'), FloatProgress(value=0.0, max=94.0), HTML(value='')))"
      ]
     },
     "metadata": {},
     "output_type": "display_data"
    },
    {
     "name": "stdout",
     "output_type": "stream",
     "text": [
      "Epoch: 05 | Epoch Time: 0m 21s\n",
      "\tTrain Loss: 1.589 | Train Acc: 87.18%\n",
      "\t Val. Loss: 1.575 |  Val. Acc: 88.43%\n"
     ]
    },
    {
     "data": {
      "application/vnd.jupyter.widget-view+json": {
       "model_id": "f11c758ed0c14a12ad3b3a47de6ffc0c",
       "version_major": 2,
       "version_minor": 0
      },
      "text/plain": [
       "HBox(children=(HTML(value='Training'), FloatProgress(value=0.0, max=844.0), HTML(value='')))"
      ]
     },
     "metadata": {},
     "output_type": "display_data"
    },
    {
     "data": {
      "application/vnd.jupyter.widget-view+json": {
       "model_id": "0f2de6d797f54571bfb5d496fda670c5",
       "version_major": 2,
       "version_minor": 0
      },
      "text/plain": [
       "HBox(children=(HTML(value='Evaluating'), FloatProgress(value=0.0, max=94.0), HTML(value='')))"
      ]
     },
     "metadata": {},
     "output_type": "display_data"
    },
    {
     "name": "stdout",
     "output_type": "stream",
     "text": [
      "Epoch: 06 | Epoch Time: 0m 21s\n",
      "\tTrain Loss: 1.585 | Train Acc: 87.53%\n",
      "\t Val. Loss: 1.577 |  Val. Acc: 88.36%\n"
     ]
    },
    {
     "data": {
      "application/vnd.jupyter.widget-view+json": {
       "model_id": "23b7352802004f9199a863e4960b298a",
       "version_major": 2,
       "version_minor": 0
      },
      "text/plain": [
       "HBox(children=(HTML(value='Training'), FloatProgress(value=0.0, max=844.0), HTML(value='')))"
      ]
     },
     "metadata": {},
     "output_type": "display_data"
    },
    {
     "data": {
      "application/vnd.jupyter.widget-view+json": {
       "model_id": "014a59ab4bb148189e680ae5443178fc",
       "version_major": 2,
       "version_minor": 0
      },
      "text/plain": [
       "HBox(children=(HTML(value='Evaluating'), FloatProgress(value=0.0, max=94.0), HTML(value='')))"
      ]
     },
     "metadata": {},
     "output_type": "display_data"
    },
    {
     "name": "stdout",
     "output_type": "stream",
     "text": [
      "Epoch: 07 | Epoch Time: 0m 21s\n",
      "\tTrain Loss: 1.583 | Train Acc: 87.78%\n",
      "\t Val. Loss: 1.574 |  Val. Acc: 88.54%\n"
     ]
    },
    {
     "data": {
      "application/vnd.jupyter.widget-view+json": {
       "model_id": "018884a4c8b74e47a2600e0bfee436d9",
       "version_major": 2,
       "version_minor": 0
      },
      "text/plain": [
       "HBox(children=(HTML(value='Training'), FloatProgress(value=0.0, max=844.0), HTML(value='')))"
      ]
     },
     "metadata": {},
     "output_type": "display_data"
    },
    {
     "data": {
      "application/vnd.jupyter.widget-view+json": {
       "model_id": "48cbd18e29e84dbea04debc518937895",
       "version_major": 2,
       "version_minor": 0
      },
      "text/plain": [
       "HBox(children=(HTML(value='Evaluating'), FloatProgress(value=0.0, max=94.0), HTML(value='')))"
      ]
     },
     "metadata": {},
     "output_type": "display_data"
    },
    {
     "name": "stdout",
     "output_type": "stream",
     "text": [
      "Epoch: 08 | Epoch Time: 0m 22s\n",
      "\tTrain Loss: 1.581 | Train Acc: 87.94%\n",
      "\t Val. Loss: 1.571 |  Val. Acc: 88.84%\n"
     ]
    },
    {
     "data": {
      "application/vnd.jupyter.widget-view+json": {
       "model_id": "e88770fe292446448cad4127b46fdc6b",
       "version_major": 2,
       "version_minor": 0
      },
      "text/plain": [
       "HBox(children=(HTML(value='Training'), FloatProgress(value=0.0, max=844.0), HTML(value='')))"
      ]
     },
     "metadata": {},
     "output_type": "display_data"
    },
    {
     "data": {
      "application/vnd.jupyter.widget-view+json": {
       "model_id": "a54ff6e0df684887b6cf737640f452e2",
       "version_major": 2,
       "version_minor": 0
      },
      "text/plain": [
       "HBox(children=(HTML(value='Evaluating'), FloatProgress(value=0.0, max=94.0), HTML(value='')))"
      ]
     },
     "metadata": {},
     "output_type": "display_data"
    },
    {
     "name": "stdout",
     "output_type": "stream",
     "text": [
      "Epoch: 09 | Epoch Time: 0m 22s\n",
      "\tTrain Loss: 1.579 | Train Acc: 88.08%\n",
      "\t Val. Loss: 1.573 |  Val. Acc: 88.66%\n"
     ]
    },
    {
     "data": {
      "application/vnd.jupyter.widget-view+json": {
       "model_id": "291aea171dcb440ba0afa937db56695f",
       "version_major": 2,
       "version_minor": 0
      },
      "text/plain": [
       "HBox(children=(HTML(value='Training'), FloatProgress(value=0.0, max=844.0), HTML(value='')))"
      ]
     },
     "metadata": {},
     "output_type": "display_data"
    },
    {
     "data": {
      "application/vnd.jupyter.widget-view+json": {
       "model_id": "fae17ab815c344ad8fdbbf62474ca60d",
       "version_major": 2,
       "version_minor": 0
      },
      "text/plain": [
       "HBox(children=(HTML(value='Evaluating'), FloatProgress(value=0.0, max=94.0), HTML(value='')))"
      ]
     },
     "metadata": {},
     "output_type": "display_data"
    },
    {
     "name": "stdout",
     "output_type": "stream",
     "text": [
      "Epoch: 10 | Epoch Time: 0m 22s\n",
      "\tTrain Loss: 1.571 | Train Acc: 89.00%\n",
      "\t Val. Loss: 1.491 |  Val. Acc: 97.38%\n",
      "\n"
     ]
    }
   ],
   "source": [
    "#!g1.1\n",
    "train_model(model2, name2, n_epochs, train_iterator, valid_iterator, opt='SGD')"
   ]
  },
  {
   "cell_type": "markdown",
   "id": "6c3b8baa",
   "metadata": {
    "cellId": "u5pmt62sf492lq43cl7c6"
   },
   "source": [
    "#### Результаты:"
   ]
  },
  {
   "cell_type": "markdown",
   "id": "1a373f59",
   "metadata": {
    "cellId": "qtccivulrsixpjmaq85o6k"
   },
   "source": [
    "MNIST:"
   ]
  },
  {
   "cell_type": "code",
   "execution_count": 340,
   "id": "18060ad1",
   "metadata": {
    "cellId": "gvljs3q8v2le1bxb9dli3p"
   },
   "outputs": [
    {
     "data": {
      "application/vnd.jupyter.widget-view+json": {
       "model_id": "b80c5b3cecb44c019fd51f2bcacc680e",
       "version_major": 2,
       "version_minor": 0
      },
      "text/plain": [
       "HBox(children=(HTML(value='Evaluating'), FloatProgress(value=0.0, max=157.0), HTML(value='')))"
      ]
     },
     "metadata": {},
     "output_type": "display_data"
    },
    {
     "data": {
      "application/vnd.jupyter.widget-view+json": {
       "model_id": "68d26c92568c4610a3f9a8c89e6ff474",
       "version_major": 2,
       "version_minor": 0
      },
      "text/plain": [
       "HBox(children=(HTML(value='Evaluating'), FloatProgress(value=0.0, max=157.0), HTML(value='')))"
      ]
     },
     "metadata": {},
     "output_type": "display_data"
    },
    {
     "name": "stdout",
     "output_type": "stream",
     "text": [
      "Zero activations on LeNet-1: 28676948/46840000\n",
      "Zero activations on LeNet_sgd-1: 24709623/46840000\n"
     ]
    },
    {
     "data": {
      "image/png": "[encoded data removed]",
      "text/plain": [
       "<Figure size 720x432 with 2 Axes>"
      ]
     },
     "metadata": {
      "needs_background": "light"
     },
     "output_type": "display_data"
    }
   ],
   "source": [
    "#!g1.1\n",
    "test_iterator = test_iterator_1\n",
    "model1 = LeNet(10)\n",
    "model2 = LeNet(10)\n",
    "name1 = 'LeNet-1'\n",
    "name2 = 'LeNet_sgd-1'\n",
    "\n",
    "model1.load_state_dict(torch.load(f'{name1}.pt'))\n",
    "_, _, activations1 = get_activations(model1, test_iterator, criterion, device)\n",
    "\n",
    "model2.load_state_dict(torch.load(f'{name2}.pt'))\n",
    "_, _, activations2 = get_activations(model2, test_iterator, criterion, device)\n",
    "\n",
    "nonzero_mask1 = activations1 > 10e-7\n",
    "zero_quant1 = activations1.size - activations1[nonzero_mask1].size\n",
    "nonzero_activations1 = activations1[nonzero_mask1]\n",
    "print(f'Zero activations on {name1}: {zero_quant1}/{activations1.size}')\n",
    "\n",
    "nonzero_mask2 = activations2 > 10e-7\n",
    "zero_quant2 = activations2.size - activations2[nonzero_mask2].size\n",
    "nonzero_activations2 = activations2[nonzero_mask2]\n",
    "print(f'Zero activations on {name2}: {zero_quant2}/{activations1.size}')\n",
    "\n",
    "fig, (ax1, ax2) = plt.subplots(1, 2)\n",
    "fig.set_size_inches(10, 6)\n",
    "fig.suptitle('Activations distribution on dataset MNIST')\n",
    "ax1.set_title(name1)\n",
    "ax2.set_title(name2)\n",
    "ax1.hist(nonzero_activations1, bins=np.linspace(0, 10, 100))\n",
    "ax2.hist(nonzero_activations2, bins=np.linspace(0, 10, 100))\n",
    "plt.show()"
   ]
  },
  {
   "cell_type": "markdown",
   "id": "55186d6b",
   "metadata": {
    "cellId": "uqjtl2r6k3877lcnqu40o3"
   },
   "source": [
    "FMNIST:"
   ]
  },
  {
   "cell_type": "code",
   "execution_count": 341,
   "id": "618c7843",
   "metadata": {
    "cellId": "ys16veq6j5mpx5dry1qoh"
   },
   "outputs": [
    {
     "data": {
      "application/vnd.jupyter.widget-view+json": {
       "model_id": "1dfb86b0acba4cb8849fb9d9730ffd5d",
       "version_major": 2,
       "version_minor": 0
      },
      "text/plain": [
       "HBox(children=(HTML(value='Evaluating'), FloatProgress(value=0.0, max=157.0), HTML(value='')))"
      ]
     },
     "metadata": {},
     "output_type": "display_data"
    },
    {
     "data": {
      "application/vnd.jupyter.widget-view+json": {
       "model_id": "95cc05b59bdd44a48c5d5ef080bcc848",
       "version_major": 2,
       "version_minor": 0
      },
      "text/plain": [
       "HBox(children=(HTML(value='Evaluating'), FloatProgress(value=0.0, max=157.0), HTML(value='')))"
      ]
     },
     "metadata": {},
     "output_type": "display_data"
    },
    {
     "name": "stdout",
     "output_type": "stream",
     "text": [
      "Zero activations on LeNet-2: 26860901/46840000\n",
      "Zero activations on LeNet_sgd-2: 25715484/46840000\n"
     ]
    },
    {
     "data": {
      "image/png": "[encoded data removed]",
      "text/plain": [
       "<Figure size 720x432 with 2 Axes>"
      ]
     },
     "metadata": {
      "needs_background": "light"
     },
     "output_type": "display_data"
    }
   ],
   "source": [
    "#!g1.1\n",
    "test_iterator = test_iterator_2\n",
    "model1 = LeNet(10)\n",
    "model2 = LeNet(10)\n",
    "name1 = 'LeNet-2'\n",
    "name2 = 'LeNet_sgd-2'\n",
    "\n",
    "model1.load_state_dict(torch.load(f'{name1}.pt'))\n",
    "_, _, activations1 = get_activations(model1, test_iterator, criterion, device)\n",
    "\n",
    "model2.load_state_dict(torch.load(f'{name2}.pt'))\n",
    "_, _, activations2 = get_activations(model2, test_iterator, criterion, device)\n",
    "\n",
    "nonzero_mask1 = activations1 > 10e-7\n",
    "zero_quant1 = activations1.size - activations1[nonzero_mask1].size\n",
    "nonzero_activations1 = activations1[nonzero_mask1]\n",
    "print(f'Zero activations on {name1}: {zero_quant1}/{activations1.size}')\n",
    "\n",
    "nonzero_mask2 = activations2 > 10e-7\n",
    "zero_quant2 = activations2.size - activations2[nonzero_mask2].size\n",
    "nonzero_activations2 = activations2[nonzero_mask2]\n",
    "print(f'Zero activations on {name2}: {zero_quant2}/{activations1.size}')\n",
    "\n",
    "fig, (ax1, ax2) = plt.subplots(1, 2)\n",
    "fig.set_size_inches(10, 6)\n",
    "fig.suptitle('Activations distribution on dataset FMNIST')\n",
    "ax1.set_title(name1)\n",
    "ax2.set_title(name2)\n",
    "ax1.hist(nonzero_activations1, bins=np.linspace(0, 10, 100))\n",
    "ax2.hist(nonzero_activations2, bins=np.linspace(0, 10, 100))\n",
    "plt.show()"
   ]
  },
  {
   "cell_type": "markdown",
   "id": "1120d5fe",
   "metadata": {
    "cellId": "ptw4iuzcktizq7kziqqezc"
   },
   "source": [
    "KMNIST:"
   ]
  },
  {
   "cell_type": "code",
   "execution_count": 342,
   "id": "9af599df",
   "metadata": {
    "cellId": "6756mahavt4ml9lh9ajnpm"
   },
   "outputs": [
    {
     "data": {
      "application/vnd.jupyter.widget-view+json": {
       "model_id": "aca9d37b5e224d5d8a1a4ef3f439be24",
       "version_major": 2,
       "version_minor": 0
      },
      "text/plain": [
       "HBox(children=(HTML(value='Evaluating'), FloatProgress(value=0.0, max=157.0), HTML(value='')))"
      ]
     },
     "metadata": {},
     "output_type": "display_data"
    },
    {
     "data": {
      "application/vnd.jupyter.widget-view+json": {
       "model_id": "c75abdd07e274c64aa20959cdcbf0713",
       "version_major": 2,
       "version_minor": 0
      },
      "text/plain": [
       "HBox(children=(HTML(value='Evaluating'), FloatProgress(value=0.0, max=157.0), HTML(value='')))"
      ]
     },
     "metadata": {},
     "output_type": "display_data"
    },
    {
     "name": "stdout",
     "output_type": "stream",
     "text": [
      "Zero activations on LeNet-3: 32288783/46840000\n",
      "Zero activations on LeNet_sgd-3: 23629637/46840000\n"
     ]
    },
    {
     "data": {
      "image/png": "[encoded data removed]",
      "text/plain": [
       "<Figure size 720x432 with 2 Axes>"
      ]
     },
     "metadata": {
      "needs_background": "light"
     },
     "output_type": "display_data"
    }
   ],
   "source": [
    "#!g1.1\n",
    "test_iterator = test_iterator_3\n",
    "model1 = LeNet(10)\n",
    "model2 = LeNet(10)\n",
    "name1 = 'LeNet-3'\n",
    "name2 = 'LeNet_sgd-3'\n",
    "\n",
    "model1.load_state_dict(torch.load(f'{name1}.pt'))\n",
    "_, _, activations1 = get_activations(model1, test_iterator, criterion, device)\n",
    "\n",
    "model2.load_state_dict(torch.load(f'{name2}.pt'))\n",
    "_, _, activations2 = get_activations(model2, test_iterator, criterion, device)\n",
    "\n",
    "nonzero_mask1 = activations1 > 10e-7\n",
    "zero_quant1 = activations1.size - activations1[nonzero_mask1].size\n",
    "nonzero_activations1 = activations1[nonzero_mask1]\n",
    "print(f'Zero activations on {name1}: {zero_quant1}/{activations1.size}')\n",
    "\n",
    "nonzero_mask2 = activations2 > 10e-7\n",
    "zero_quant2 = activations2.size - activations2[nonzero_mask2].size\n",
    "nonzero_activations2 = activations2[nonzero_mask2]\n",
    "print(f'Zero activations on {name2}: {zero_quant2}/{activations1.size}')\n",
    "\n",
    "fig, (ax1, ax2) = plt.subplots(1, 2)\n",
    "fig.set_size_inches(10, 6)\n",
    "fig.suptitle('Activations distribution on dataset KMNIST')\n",
    "ax1.set_title(name1)\n",
    "ax2.set_title(name2)\n",
    "ax1.hist(nonzero_activations1, bins=np.linspace(0, 10, 100))\n",
    "ax2.hist(nonzero_activations2, bins=np.linspace(0, 10, 100))\n",
    "plt.show()"
   ]
  },
  {
   "cell_type": "markdown",
   "id": "48ee6f5e",
   "metadata": {
    "cellId": "iuol870cfdeuf0bh7l5ap"
   },
   "source": [
    "**Вывод:** можно было бы лучше подобрать параметры для оптимизатора SGD, но качество, кроме датасета MNIST, где не хватило эпох для обучения, осталось примерно тем же. Разницы между оптимизаторами почти нет за исключением того, что SGD даёт более длинные хвосты."
   ]
  },
  {
   "cell_type": "markdown",
   "id": "1c5ed757",
   "metadata": {
    "cellId": "gw8o37jxkyrpitqfwjv63"
   },
   "source": [
    "#### Wide vs Narrow"
   ]
  },
  {
   "cell_type": "markdown",
   "id": "874047f0",
   "metadata": {
    "cellId": "4n7erccyahr2ieff81oz2w"
   },
   "source": [
    "MNIST:"
   ]
  },
  {
   "cell_type": "code",
   "execution_count": 299,
   "id": "be81d780",
   "metadata": {
    "cellId": "posiyyx3xqb2uwjf0tei"
   },
   "outputs": [],
   "source": [
    "#!g1.1\n",
    "train_iterator = train_iterator_1\n",
    "valid_iterator = valid_iterator_1\n",
    "model1 = LeNet_wide(10)\n",
    "model2 = LeNet_narrow(10)\n",
    "name1 = 'LeNet_wide-1'\n",
    "name2 = 'LeNet_narrow-1'"
   ]
  },
  {
   "cell_type": "code",
   "execution_count": 300,
   "id": "727ca31b",
   "metadata": {
    "cellId": "yb7sy5e701o9xab5n4zmy8"
   },
   "outputs": [
    {
     "data": {
      "application/vnd.jupyter.widget-view+json": {
       "model_id": "f6817cf026e84e98bbae9cf125d91518",
       "version_major": 2,
       "version_minor": 0
      },
      "text/plain": [
       "HBox(children=(HTML(value='Epochs'), FloatProgress(value=0.0, max=10.0), HTML(value='')))"
      ]
     },
     "metadata": {},
     "output_type": "display_data"
    },
    {
     "data": {
      "application/vnd.jupyter.widget-view+json": {
       "model_id": "5a640700f5b24958913da44f399e59bf",
       "version_major": 2,
       "version_minor": 0
      },
      "text/plain": [
       "HBox(children=(HTML(value='Training'), FloatProgress(value=0.0, max=844.0), HTML(value='')))"
      ]
     },
     "metadata": {},
     "output_type": "display_data"
    },
    {
     "data": {
      "application/vnd.jupyter.widget-view+json": {
       "model_id": "a326a6c160324420959785a089fdcd7d",
       "version_major": 2,
       "version_minor": 0
      },
      "text/plain": [
       "HBox(children=(HTML(value='Evaluating'), FloatProgress(value=0.0, max=94.0), HTML(value='')))"
      ]
     },
     "metadata": {},
     "output_type": "display_data"
    },
    {
     "data": {
      "application/vnd.jupyter.widget-view+json": {
       "model_id": "1f7b603d6a404a1eb9e5d2a9f4e28e64",
       "version_major": 2,
       "version_minor": 0
      },
      "text/plain": [
       "HBox(children=(HTML(value='Training'), FloatProgress(value=0.0, max=844.0), HTML(value='')))"
      ]
     },
     "metadata": {},
     "output_type": "display_data"
    },
    {
     "data": {
      "application/vnd.jupyter.widget-view+json": {
       "model_id": "c4d869d85c0f46e2a6181c0e1f919ca4",
       "version_major": 2,
       "version_minor": 0
      },
      "text/plain": [
       "HBox(children=(HTML(value='Evaluating'), FloatProgress(value=0.0, max=94.0), HTML(value='')))"
      ]
     },
     "metadata": {},
     "output_type": "display_data"
    },
    {
     "data": {
      "application/vnd.jupyter.widget-view+json": {
       "model_id": "aa3be747139c48a7af7a690eb804b03a",
       "version_major": 2,
       "version_minor": 0
      },
      "text/plain": [
       "HBox(children=(HTML(value='Training'), FloatProgress(value=0.0, max=844.0), HTML(value='')))"
      ]
     },
     "metadata": {},
     "output_type": "display_data"
    },
    {
     "data": {
      "application/vnd.jupyter.widget-view+json": {
       "model_id": "bb38461d691c4143b5bfe02bd5b5d41b",
       "version_major": 2,
       "version_minor": 0
      },
      "text/plain": [
       "HBox(children=(HTML(value='Evaluating'), FloatProgress(value=0.0, max=94.0), HTML(value='')))"
      ]
     },
     "metadata": {},
     "output_type": "display_data"
    },
    {
     "data": {
      "application/vnd.jupyter.widget-view+json": {
       "model_id": "e0d5c10a4168481aa1970285971cf1a2",
       "version_major": 2,
       "version_minor": 0
      },
      "text/plain": [
       "HBox(children=(HTML(value='Training'), FloatProgress(value=0.0, max=844.0), HTML(value='')))"
      ]
     },
     "metadata": {},
     "output_type": "display_data"
    },
    {
     "data": {
      "application/vnd.jupyter.widget-view+json": {
       "model_id": "4e07e72eafc0497c9a37eeca16c7ed7e",
       "version_major": 2,
       "version_minor": 0
      },
      "text/plain": [
       "HBox(children=(HTML(value='Evaluating'), FloatProgress(value=0.0, max=94.0), HTML(value='')))"
      ]
     },
     "metadata": {},
     "output_type": "display_data"
    },
    {
     "data": {
      "application/vnd.jupyter.widget-view+json": {
       "model_id": "94970c0e99da4a28a5b895004045f4d7",
       "version_major": 2,
       "version_minor": 0
      },
      "text/plain": [
       "HBox(children=(HTML(value='Training'), FloatProgress(value=0.0, max=844.0), HTML(value='')))"
      ]
     },
     "metadata": {},
     "output_type": "display_data"
    },
    {
     "data": {
      "application/vnd.jupyter.widget-view+json": {
       "model_id": "0fc435559289425192e4647735caa4c8",
       "version_major": 2,
       "version_minor": 0
      },
      "text/plain": [
       "HBox(children=(HTML(value='Evaluating'), FloatProgress(value=0.0, max=94.0), HTML(value='')))"
      ]
     },
     "metadata": {},
     "output_type": "display_data"
    },
    {
     "data": {
      "application/vnd.jupyter.widget-view+json": {
       "model_id": "b6d2dfb291e54f608b17865105521464",
       "version_major": 2,
       "version_minor": 0
      },
      "text/plain": [
       "HBox(children=(HTML(value='Training'), FloatProgress(value=0.0, max=844.0), HTML(value='')))"
      ]
     },
     "metadata": {},
     "output_type": "display_data"
    },
    {
     "data": {
      "application/vnd.jupyter.widget-view+json": {
       "model_id": "6db4c9e35c9149f681fc9c2337d2c883",
       "version_major": 2,
       "version_minor": 0
      },
      "text/plain": [
       "HBox(children=(HTML(value='Evaluating'), FloatProgress(value=0.0, max=94.0), HTML(value='')))"
      ]
     },
     "metadata": {},
     "output_type": "display_data"
    },
    {
     "data": {
      "application/vnd.jupyter.widget-view+json": {
       "model_id": "a1afc845c7da449db00ac367ca9bc1a3",
       "version_major": 2,
       "version_minor": 0
      },
      "text/plain": [
       "HBox(children=(HTML(value='Training'), FloatProgress(value=0.0, max=844.0), HTML(value='')))"
      ]
     },
     "metadata": {},
     "output_type": "display_data"
    },
    {
     "data": {
      "application/vnd.jupyter.widget-view+json": {
       "model_id": "a23d69f7913941819c16db0fec1d4ff4",
       "version_major": 2,
       "version_minor": 0
      },
      "text/plain": [
       "HBox(children=(HTML(value='Evaluating'), FloatProgress(value=0.0, max=94.0), HTML(value='')))"
      ]
     },
     "metadata": {},
     "output_type": "display_data"
    },
    {
     "data": {
      "application/vnd.jupyter.widget-view+json": {
       "model_id": "2c23ba21ce504bd59210c732c0b42728",
       "version_major": 2,
       "version_minor": 0
      },
      "text/plain": [
       "HBox(children=(HTML(value='Training'), FloatProgress(value=0.0, max=844.0), HTML(value='')))"
      ]
     },
     "metadata": {},
     "output_type": "display_data"
    },
    {
     "data": {
      "application/vnd.jupyter.widget-view+json": {
       "model_id": "4f0b38da976a406ab63fa2a1e0cf787e",
       "version_major": 2,
       "version_minor": 0
      },
      "text/plain": [
       "HBox(children=(HTML(value='Evaluating'), FloatProgress(value=0.0, max=94.0), HTML(value='')))"
      ]
     },
     "metadata": {},
     "output_type": "display_data"
    },
    {
     "data": {
      "application/vnd.jupyter.widget-view+json": {
       "model_id": "e470618e069c4b10998dda8f925234ad",
       "version_major": 2,
       "version_minor": 0
      },
      "text/plain": [
       "HBox(children=(HTML(value='Training'), FloatProgress(value=0.0, max=844.0), HTML(value='')))"
      ]
     },
     "metadata": {},
     "output_type": "display_data"
    },
    {
     "data": {
      "application/vnd.jupyter.widget-view+json": {
       "model_id": "f86889c6cadc49ac9a1a5de9fd09e90b",
       "version_major": 2,
       "version_minor": 0
      },
      "text/plain": [
       "HBox(children=(HTML(value='Evaluating'), FloatProgress(value=0.0, max=94.0), HTML(value='')))"
      ]
     },
     "metadata": {},
     "output_type": "display_data"
    },
    {
     "data": {
      "application/vnd.jupyter.widget-view+json": {
       "model_id": "332b92ba115747baa6c0761c5fea15c1",
       "version_major": 2,
       "version_minor": 0
      },
      "text/plain": [
       "HBox(children=(HTML(value='Training'), FloatProgress(value=0.0, max=844.0), HTML(value='')))"
      ]
     },
     "metadata": {},
     "output_type": "display_data"
    },
    {
     "data": {
      "application/vnd.jupyter.widget-view+json": {
       "model_id": "62e06c8fa0424fbfbb16eef744b5ccc1",
       "version_major": 2,
       "version_minor": 0
      },
      "text/plain": [
       "HBox(children=(HTML(value='Evaluating'), FloatProgress(value=0.0, max=94.0), HTML(value='')))"
      ]
     },
     "metadata": {},
     "output_type": "display_data"
    },
    {
     "name": "stdout",
     "output_type": "stream",
     "text": [
      "Epoch: 01 | Epoch Time: 0m 24s\n",
      "\tTrain Loss: 1.716 | Train Acc: 74.76%\n",
      "\t Val. Loss: 1.586 |  Val. Acc: 87.43%\n",
      "Epoch: 02 | Epoch Time: 0m 21s\n",
      "\tTrain Loss: 1.533 | Train Acc: 93.00%\n",
      "\t Val. Loss: 1.498 |  Val. Acc: 96.30%\n",
      "Epoch: 03 | Epoch Time: 0m 22s\n",
      "\tTrain Loss: 1.498 | Train Acc: 96.34%\n",
      "\t Val. Loss: 1.487 |  Val. Acc: 97.42%\n",
      "Epoch: 04 | Epoch Time: 0m 22s\n",
      "\tTrain Loss: 1.492 | Train Acc: 96.91%\n",
      "\t Val. Loss: 1.483 |  Val. Acc: 97.76%\n",
      "Epoch: 05 | Epoch Time: 0m 22s\n",
      "\tTrain Loss: 1.490 | Train Acc: 97.10%\n",
      "\t Val. Loss: 1.487 |  Val. Acc: 97.43%\n",
      "Epoch: 06 | Epoch Time: 0m 22s\n",
      "\tTrain Loss: 1.488 | Train Acc: 97.28%\n",
      "\t Val. Loss: 1.483 |  Val. Acc: 97.77%\n",
      "Epoch: 07 | Epoch Time: 0m 22s\n",
      "\tTrain Loss: 1.486 | Train Acc: 97.52%\n",
      "\t Val. Loss: 1.475 |  Val. Acc: 98.56%\n",
      "Epoch: 08 | Epoch Time: 0m 22s\n",
      "\tTrain Loss: 1.485 | Train Acc: 97.62%\n",
      "\t Val. Loss: 1.480 |  Val. Acc: 98.17%\n",
      "Epoch: 09 | Epoch Time: 0m 22s\n",
      "\tTrain Loss: 1.487 | Train Acc: 97.40%\n",
      "\t Val. Loss: 1.477 |  Val. Acc: 98.37%\n",
      "Epoch: 10 | Epoch Time: 0m 22s\n",
      "\tTrain Loss: 1.486 | Train Acc: 97.53%\n",
      "\t Val. Loss: 1.480 |  Val. Acc: 98.08%\n",
      "\n"
     ]
    }
   ],
   "source": [
    "#!g1.1\n",
    "train_model(model1, name1, n_epochs, train_iterator, valid_iterator)"
   ]
  },
  {
   "cell_type": "code",
   "execution_count": 301,
   "id": "55ed6f4f",
   "metadata": {
    "cellId": "6vt3txwiusf0l6yypun7yr"
   },
   "outputs": [
    {
     "data": {
      "application/vnd.jupyter.widget-view+json": {
       "model_id": "c94d661e463f4fddb2130c0c36e7972c",
       "version_major": 2,
       "version_minor": 0
      },
      "text/plain": [
       "HBox(children=(HTML(value='Epochs'), FloatProgress(value=0.0, max=10.0), HTML(value='')))"
      ]
     },
     "metadata": {},
     "output_type": "display_data"
    },
    {
     "data": {
      "application/vnd.jupyter.widget-view+json": {
       "model_id": "cd1de15ab9a64324a83f186e19985df3",
       "version_major": 2,
       "version_minor": 0
      },
      "text/plain": [
       "HBox(children=(HTML(value='Training'), FloatProgress(value=0.0, max=844.0), HTML(value='')))"
      ]
     },
     "metadata": {},
     "output_type": "display_data"
    },
    {
     "data": {
      "application/vnd.jupyter.widget-view+json": {
       "model_id": "2bfdcbf0d251452e96642ed0f78c0208",
       "version_major": 2,
       "version_minor": 0
      },
      "text/plain": [
       "HBox(children=(HTML(value='Evaluating'), FloatProgress(value=0.0, max=94.0), HTML(value='')))"
      ]
     },
     "metadata": {},
     "output_type": "display_data"
    },
    {
     "data": {
      "application/vnd.jupyter.widget-view+json": {
       "model_id": "cc43c3425a9d41558b471294e1e60b05",
       "version_major": 2,
       "version_minor": 0
      },
      "text/plain": [
       "HBox(children=(HTML(value='Training'), FloatProgress(value=0.0, max=844.0), HTML(value='')))"
      ]
     },
     "metadata": {},
     "output_type": "display_data"
    },
    {
     "data": {
      "application/vnd.jupyter.widget-view+json": {
       "model_id": "a39f016b740146629d484f5600acf00c",
       "version_major": 2,
       "version_minor": 0
      },
      "text/plain": [
       "HBox(children=(HTML(value='Evaluating'), FloatProgress(value=0.0, max=94.0), HTML(value='')))"
      ]
     },
     "metadata": {},
     "output_type": "display_data"
    },
    {
     "data": {
      "application/vnd.jupyter.widget-view+json": {
       "model_id": "105cc7effabf4990bbadac29f31fe860",
       "version_major": 2,
       "version_minor": 0
      },
      "text/plain": [
       "HBox(children=(HTML(value='Training'), FloatProgress(value=0.0, max=844.0), HTML(value='')))"
      ]
     },
     "metadata": {},
     "output_type": "display_data"
    },
    {
     "data": {
      "application/vnd.jupyter.widget-view+json": {
       "model_id": "86d67bc544294a2d8629451aa02aeed4",
       "version_major": 2,
       "version_minor": 0
      },
      "text/plain": [
       "HBox(children=(HTML(value='Evaluating'), FloatProgress(value=0.0, max=94.0), HTML(value='')))"
      ]
     },
     "metadata": {},
     "output_type": "display_data"
    },
    {
     "data": {
      "application/vnd.jupyter.widget-view+json": {
       "model_id": "fa4c2e392949494e83c4908b16ed6c6a",
       "version_major": 2,
       "version_minor": 0
      },
      "text/plain": [
       "HBox(children=(HTML(value='Training'), FloatProgress(value=0.0, max=844.0), HTML(value='')))"
      ]
     },
     "metadata": {},
     "output_type": "display_data"
    },
    {
     "data": {
      "application/vnd.jupyter.widget-view+json": {
       "model_id": "f65397df02fd4dcfbf2efc2a3f49b5fe",
       "version_major": 2,
       "version_minor": 0
      },
      "text/plain": [
       "HBox(children=(HTML(value='Evaluating'), FloatProgress(value=0.0, max=94.0), HTML(value='')))"
      ]
     },
     "metadata": {},
     "output_type": "display_data"
    },
    {
     "data": {
      "application/vnd.jupyter.widget-view+json": {
       "model_id": "74e047040cc94243b0f2a5b2bbc59f3a",
       "version_major": 2,
       "version_minor": 0
      },
      "text/plain": [
       "HBox(children=(HTML(value='Training'), FloatProgress(value=0.0, max=844.0), HTML(value='')))"
      ]
     },
     "metadata": {},
     "output_type": "display_data"
    },
    {
     "data": {
      "application/vnd.jupyter.widget-view+json": {
       "model_id": "cfafbbf6db0d4762b6308bacf8fa699d",
       "version_major": 2,
       "version_minor": 0
      },
      "text/plain": [
       "HBox(children=(HTML(value='Evaluating'), FloatProgress(value=0.0, max=94.0), HTML(value='')))"
      ]
     },
     "metadata": {},
     "output_type": "display_data"
    },
    {
     "data": {
      "application/vnd.jupyter.widget-view+json": {
       "model_id": "e611fa1952a44bb4b85f83213fe43e3d",
       "version_major": 2,
       "version_minor": 0
      },
      "text/plain": [
       "HBox(children=(HTML(value='Training'), FloatProgress(value=0.0, max=844.0), HTML(value='')))"
      ]
     },
     "metadata": {},
     "output_type": "display_data"
    },
    {
     "data": {
      "application/vnd.jupyter.widget-view+json": {
       "model_id": "7e6c3891546f47608770fc78793c2789",
       "version_major": 2,
       "version_minor": 0
      },
      "text/plain": [
       "HBox(children=(HTML(value='Evaluating'), FloatProgress(value=0.0, max=94.0), HTML(value='')))"
      ]
     },
     "metadata": {},
     "output_type": "display_data"
    },
    {
     "data": {
      "application/vnd.jupyter.widget-view+json": {
       "model_id": "e40c8368a1fa43429a2e4eb347042d35",
       "version_major": 2,
       "version_minor": 0
      },
      "text/plain": [
       "HBox(children=(HTML(value='Training'), FloatProgress(value=0.0, max=844.0), HTML(value='')))"
      ]
     },
     "metadata": {},
     "output_type": "display_data"
    },
    {
     "data": {
      "application/vnd.jupyter.widget-view+json": {
       "model_id": "6d1617fef7914808bf52bce4d5e9391b",
       "version_major": 2,
       "version_minor": 0
      },
      "text/plain": [
       "HBox(children=(HTML(value='Evaluating'), FloatProgress(value=0.0, max=94.0), HTML(value='')))"
      ]
     },
     "metadata": {},
     "output_type": "display_data"
    },
    {
     "data": {
      "application/vnd.jupyter.widget-view+json": {
       "model_id": "b80e9620d7e34094872d185963938ef7",
       "version_major": 2,
       "version_minor": 0
      },
      "text/plain": [
       "HBox(children=(HTML(value='Training'), FloatProgress(value=0.0, max=844.0), HTML(value='')))"
      ]
     },
     "metadata": {},
     "output_type": "display_data"
    },
    {
     "data": {
      "application/vnd.jupyter.widget-view+json": {
       "model_id": "3a04a683c57241b5ab879838c23932b3",
       "version_major": 2,
       "version_minor": 0
      },
      "text/plain": [
       "HBox(children=(HTML(value='Evaluating'), FloatProgress(value=0.0, max=94.0), HTML(value='')))"
      ]
     },
     "metadata": {},
     "output_type": "display_data"
    },
    {
     "data": {
      "application/vnd.jupyter.widget-view+json": {
       "model_id": "7d779fb2fb884ddd8c3cfd3ea071931d",
       "version_major": 2,
       "version_minor": 0
      },
      "text/plain": [
       "HBox(children=(HTML(value='Training'), FloatProgress(value=0.0, max=844.0), HTML(value='')))"
      ]
     },
     "metadata": {},
     "output_type": "display_data"
    },
    {
     "data": {
      "application/vnd.jupyter.widget-view+json": {
       "model_id": "1592854ab64d478cb9d08bc4304e4380",
       "version_major": 2,
       "version_minor": 0
      },
      "text/plain": [
       "HBox(children=(HTML(value='Evaluating'), FloatProgress(value=0.0, max=94.0), HTML(value='')))"
      ]
     },
     "metadata": {},
     "output_type": "display_data"
    },
    {
     "data": {
      "application/vnd.jupyter.widget-view+json": {
       "model_id": "a929b2bb45334659843a071f79bd859b",
       "version_major": 2,
       "version_minor": 0
      },
      "text/plain": [
       "HBox(children=(HTML(value='Training'), FloatProgress(value=0.0, max=844.0), HTML(value='')))"
      ]
     },
     "metadata": {},
     "output_type": "display_data"
    },
    {
     "data": {
      "application/vnd.jupyter.widget-view+json": {
       "model_id": "7bf86759ac36499a9cf11d25266965d0",
       "version_major": 2,
       "version_minor": 0
      },
      "text/plain": [
       "HBox(children=(HTML(value='Evaluating'), FloatProgress(value=0.0, max=94.0), HTML(value='')))"
      ]
     },
     "metadata": {},
     "output_type": "display_data"
    },
    {
     "name": "stdout",
     "output_type": "stream",
     "text": [
      "Epoch: 01 | Epoch Time: 0m 21s\n",
      "\tTrain Loss: 1.651 | Train Acc: 81.83%\n",
      "\t Val. Loss: 1.523 |  Val. Acc: 94.10%\n",
      "Epoch: 02 | Epoch Time: 0m 21s\n",
      "\tTrain Loss: 1.525 | Train Acc: 93.91%\n",
      "\t Val. Loss: 1.506 |  Val. Acc: 95.56%\n",
      "Epoch: 03 | Epoch Time: 0m 21s\n",
      "\tTrain Loss: 1.508 | Train Acc: 95.46%\n",
      "\t Val. Loss: 1.493 |  Val. Acc: 96.97%\n",
      "Epoch: 04 | Epoch Time: 0m 21s\n",
      "\tTrain Loss: 1.502 | Train Acc: 95.92%\n",
      "\t Val. Loss: 1.491 |  Val. Acc: 97.09%\n",
      "Epoch: 05 | Epoch Time: 0m 21s\n",
      "\tTrain Loss: 1.497 | Train Acc: 96.53%\n",
      "\t Val. Loss: 1.484 |  Val. Acc: 97.81%\n",
      "Epoch: 06 | Epoch Time: 0m 21s\n",
      "\tTrain Loss: 1.494 | Train Acc: 96.72%\n",
      "\t Val. Loss: 1.483 |  Val. Acc: 97.78%\n",
      "Epoch: 07 | Epoch Time: 0m 22s\n",
      "\tTrain Loss: 1.494 | Train Acc: 96.77%\n",
      "\t Val. Loss: 1.490 |  Val. Acc: 97.04%\n",
      "Epoch: 08 | Epoch Time: 0m 22s\n",
      "\tTrain Loss: 1.493 | Train Acc: 96.87%\n",
      "\t Val. Loss: 1.491 |  Val. Acc: 96.95%\n",
      "Epoch: 09 | Epoch Time: 0m 21s\n",
      "\tTrain Loss: 1.491 | Train Acc: 97.01%\n",
      "\t Val. Loss: 1.482 |  Val. Acc: 97.97%\n",
      "Epoch: 10 | Epoch Time: 0m 22s\n",
      "\tTrain Loss: 1.489 | Train Acc: 97.26%\n",
      "\t Val. Loss: 1.482 |  Val. Acc: 97.93%\n",
      "\n"
     ]
    }
   ],
   "source": [
    "#!g1.1\n",
    "train_model(model2, name2, n_epochs, train_iterator, valid_iterator)"
   ]
  },
  {
   "cell_type": "markdown",
   "id": "8f92c280",
   "metadata": {
    "cellId": "yol37eiynhib74mxbpghj"
   },
   "source": [
    "FMNIST:"
   ]
  },
  {
   "cell_type": "code",
   "execution_count": 302,
   "id": "05ea47d7",
   "metadata": {
    "cellId": "u347sv0g44lbhwtcy51wm9"
   },
   "outputs": [],
   "source": [
    "#!g1.1\n",
    "train_iterator = train_iterator_2\n",
    "valid_iterator = valid_iterator_2\n",
    "model1 = LeNet_wide(10)\n",
    "model2 = LeNet_narrow(10)\n",
    "name1 = 'LeNet_wide-2'\n",
    "name2 = 'LeNet_narrow-2'"
   ]
  },
  {
   "cell_type": "code",
   "execution_count": 303,
   "id": "ad26bba8",
   "metadata": {
    "cellId": "01nalseqpbadt8m1ghhlzze"
   },
   "outputs": [
    {
     "data": {
      "application/vnd.jupyter.widget-view+json": {
       "model_id": "f7d4cdd67b334023b41738338b4262dc",
       "version_major": 2,
       "version_minor": 0
      },
      "text/plain": [
       "HBox(children=(HTML(value='Epochs'), FloatProgress(value=0.0, max=10.0), HTML(value='')))"
      ]
     },
     "metadata": {},
     "output_type": "display_data"
    },
    {
     "data": {
      "application/vnd.jupyter.widget-view+json": {
       "model_id": "c8ea3aa46ba847b28b750272a0df5679",
       "version_major": 2,
       "version_minor": 0
      },
      "text/plain": [
       "HBox(children=(HTML(value='Training'), FloatProgress(value=0.0, max=844.0), HTML(value='')))"
      ]
     },
     "metadata": {},
     "output_type": "display_data"
    },
    {
     "data": {
      "application/vnd.jupyter.widget-view+json": {
       "model_id": "37ed5d4c2d84405db959ce42d542bafc",
       "version_major": 2,
       "version_minor": 0
      },
      "text/plain": [
       "HBox(children=(HTML(value='Evaluating'), FloatProgress(value=0.0, max=94.0), HTML(value='')))"
      ]
     },
     "metadata": {},
     "output_type": "display_data"
    },
    {
     "data": {
      "application/vnd.jupyter.widget-view+json": {
       "model_id": "77273a13ca164a728d00b88c5a449e45",
       "version_major": 2,
       "version_minor": 0
      },
      "text/plain": [
       "HBox(children=(HTML(value='Training'), FloatProgress(value=0.0, max=844.0), HTML(value='')))"
      ]
     },
     "metadata": {},
     "output_type": "display_data"
    },
    {
     "data": {
      "application/vnd.jupyter.widget-view+json": {
       "model_id": "76941ce7a5324f0585a5b4c4817c8969",
       "version_major": 2,
       "version_minor": 0
      },
      "text/plain": [
       "HBox(children=(HTML(value='Evaluating'), FloatProgress(value=0.0, max=94.0), HTML(value='')))"
      ]
     },
     "metadata": {},
     "output_type": "display_data"
    },
    {
     "data": {
      "application/vnd.jupyter.widget-view+json": {
       "model_id": "6eb8ba187f7648268f132a67b7f5cef0",
       "version_major": 2,
       "version_minor": 0
      },
      "text/plain": [
       "HBox(children=(HTML(value='Training'), FloatProgress(value=0.0, max=844.0), HTML(value='')))"
      ]
     },
     "metadata": {},
     "output_type": "display_data"
    },
    {
     "data": {
      "application/vnd.jupyter.widget-view+json": {
       "model_id": "8589152200ff47f48dc2c91e4edfabd7",
       "version_major": 2,
       "version_minor": 0
      },
      "text/plain": [
       "HBox(children=(HTML(value='Evaluating'), FloatProgress(value=0.0, max=94.0), HTML(value='')))"
      ]
     },
     "metadata": {},
     "output_type": "display_data"
    },
    {
     "data": {
      "application/vnd.jupyter.widget-view+json": {
       "model_id": "f8b4c36796a941a39703bb89b7466c80",
       "version_major": 2,
       "version_minor": 0
      },
      "text/plain": [
       "HBox(children=(HTML(value='Training'), FloatProgress(value=0.0, max=844.0), HTML(value='')))"
      ]
     },
     "metadata": {},
     "output_type": "display_data"
    },
    {
     "data": {
      "application/vnd.jupyter.widget-view+json": {
       "model_id": "667d3f5e1ba5488993d04cffe9bcbfff",
       "version_major": 2,
       "version_minor": 0
      },
      "text/plain": [
       "HBox(children=(HTML(value='Evaluating'), FloatProgress(value=0.0, max=94.0), HTML(value='')))"
      ]
     },
     "metadata": {},
     "output_type": "display_data"
    },
    {
     "data": {
      "application/vnd.jupyter.widget-view+json": {
       "model_id": "79753dc2e5904899936e6e50009efa89",
       "version_major": 2,
       "version_minor": 0
      },
      "text/plain": [
       "HBox(children=(HTML(value='Training'), FloatProgress(value=0.0, max=844.0), HTML(value='')))"
      ]
     },
     "metadata": {},
     "output_type": "display_data"
    },
    {
     "data": {
      "application/vnd.jupyter.widget-view+json": {
       "model_id": "80d886128e62404daecf891fddf072d8",
       "version_major": 2,
       "version_minor": 0
      },
      "text/plain": [
       "HBox(children=(HTML(value='Evaluating'), FloatProgress(value=0.0, max=94.0), HTML(value='')))"
      ]
     },
     "metadata": {},
     "output_type": "display_data"
    },
    {
     "data": {
      "application/vnd.jupyter.widget-view+json": {
       "model_id": "6f25c8e052294b7aa8b3293b792a119e",
       "version_major": 2,
       "version_minor": 0
      },
      "text/plain": [
       "HBox(children=(HTML(value='Training'), FloatProgress(value=0.0, max=844.0), HTML(value='')))"
      ]
     },
     "metadata": {},
     "output_type": "display_data"
    },
    {
     "data": {
      "application/vnd.jupyter.widget-view+json": {
       "model_id": "a5bb4003950f491491fa87b80e5adbaa",
       "version_major": 2,
       "version_minor": 0
      },
      "text/plain": [
       "HBox(children=(HTML(value='Evaluating'), FloatProgress(value=0.0, max=94.0), HTML(value='')))"
      ]
     },
     "metadata": {},
     "output_type": "display_data"
    },
    {
     "data": {
      "application/vnd.jupyter.widget-view+json": {
       "model_id": "1764148e4cdc4eb4bf402188b4682de6",
       "version_major": 2,
       "version_minor": 0
      },
      "text/plain": [
       "HBox(children=(HTML(value='Training'), FloatProgress(value=0.0, max=844.0), HTML(value='')))"
      ]
     },
     "metadata": {},
     "output_type": "display_data"
    },
    {
     "data": {
      "application/vnd.jupyter.widget-view+json": {
       "model_id": "8d901f421d0b4685bc2d6cb713aeda9f",
       "version_major": 2,
       "version_minor": 0
      },
      "text/plain": [
       "HBox(children=(HTML(value='Evaluating'), FloatProgress(value=0.0, max=94.0), HTML(value='')))"
      ]
     },
     "metadata": {},
     "output_type": "display_data"
    },
    {
     "data": {
      "application/vnd.jupyter.widget-view+json": {
       "model_id": "93e56e7ad92a4bffab52d35485ee2065",
       "version_major": 2,
       "version_minor": 0
      },
      "text/plain": [
       "HBox(children=(HTML(value='Training'), FloatProgress(value=0.0, max=844.0), HTML(value='')))"
      ]
     },
     "metadata": {},
     "output_type": "display_data"
    },
    {
     "data": {
      "application/vnd.jupyter.widget-view+json": {
       "model_id": "9e8670c9c89d4918ae96f9f65b396e6e",
       "version_major": 2,
       "version_minor": 0
      },
      "text/plain": [
       "HBox(children=(HTML(value='Evaluating'), FloatProgress(value=0.0, max=94.0), HTML(value='')))"
      ]
     },
     "metadata": {},
     "output_type": "display_data"
    },
    {
     "data": {
      "application/vnd.jupyter.widget-view+json": {
       "model_id": "fcead15f6dd14a65b46872e4bc9e3f4c",
       "version_major": 2,
       "version_minor": 0
      },
      "text/plain": [
       "HBox(children=(HTML(value='Training'), FloatProgress(value=0.0, max=844.0), HTML(value='')))"
      ]
     },
     "metadata": {},
     "output_type": "display_data"
    },
    {
     "data": {
      "application/vnd.jupyter.widget-view+json": {
       "model_id": "2464e0547db84fc1adc09ca35b4d8165",
       "version_major": 2,
       "version_minor": 0
      },
      "text/plain": [
       "HBox(children=(HTML(value='Evaluating'), FloatProgress(value=0.0, max=94.0), HTML(value='')))"
      ]
     },
     "metadata": {},
     "output_type": "display_data"
    },
    {
     "data": {
      "application/vnd.jupyter.widget-view+json": {
       "model_id": "9012153e1da24e0b90e3836b0a99eefa",
       "version_major": 2,
       "version_minor": 0
      },
      "text/plain": [
       "HBox(children=(HTML(value='Training'), FloatProgress(value=0.0, max=844.0), HTML(value='')))"
      ]
     },
     "metadata": {},
     "output_type": "display_data"
    },
    {
     "data": {
      "application/vnd.jupyter.widget-view+json": {
       "model_id": "b5d329077a254e51a8e8d809fdf4ba6a",
       "version_major": 2,
       "version_minor": 0
      },
      "text/plain": [
       "HBox(children=(HTML(value='Evaluating'), FloatProgress(value=0.0, max=94.0), HTML(value='')))"
      ]
     },
     "metadata": {},
     "output_type": "display_data"
    },
    {
     "name": "stdout",
     "output_type": "stream",
     "text": [
      "Epoch: 01 | Epoch Time: 0m 24s\n",
      "\tTrain Loss: 1.655 | Train Acc: 81.19%\n",
      "\t Val. Loss: 1.507 |  Val. Acc: 95.44%\n",
      "Epoch: 02 | Epoch Time: 0m 22s\n",
      "\tTrain Loss: 1.508 | Train Acc: 95.42%\n",
      "\t Val. Loss: 1.486 |  Val. Acc: 97.58%\n",
      "Epoch: 03 | Epoch Time: 0m 22s\n",
      "\tTrain Loss: 1.496 | Train Acc: 96.56%\n",
      "\t Val. Loss: 1.503 |  Val. Acc: 95.86%\n",
      "Epoch: 04 | Epoch Time: 0m 22s\n",
      "\tTrain Loss: 1.492 | Train Acc: 97.00%\n",
      "\t Val. Loss: 1.481 |  Val. Acc: 98.05%\n",
      "Epoch: 05 | Epoch Time: 0m 22s\n",
      "\tTrain Loss: 1.489 | Train Acc: 97.21%\n",
      "\t Val. Loss: 1.481 |  Val. Acc: 98.04%\n",
      "Epoch: 06 | Epoch Time: 0m 22s\n",
      "\tTrain Loss: 1.487 | Train Acc: 97.45%\n",
      "\t Val. Loss: 1.478 |  Val. Acc: 98.37%\n",
      "Epoch: 07 | Epoch Time: 0m 22s\n",
      "\tTrain Loss: 1.488 | Train Acc: 97.39%\n",
      "\t Val. Loss: 1.479 |  Val. Acc: 98.20%\n",
      "Epoch: 08 | Epoch Time: 0m 22s\n",
      "\tTrain Loss: 1.487 | Train Acc: 97.46%\n",
      "\t Val. Loss: 1.476 |  Val. Acc: 98.52%\n",
      "Epoch: 09 | Epoch Time: 0m 22s\n",
      "\tTrain Loss: 1.485 | Train Acc: 97.57%\n",
      "\t Val. Loss: 1.478 |  Val. Acc: 98.25%\n",
      "Epoch: 10 | Epoch Time: 0m 23s\n",
      "\tTrain Loss: 1.484 | Train Acc: 97.74%\n",
      "\t Val. Loss: 1.478 |  Val. Acc: 98.35%\n",
      "\n"
     ]
    }
   ],
   "source": [
    "#!g1.1\n",
    "train_model(model1, name1, n_epochs, train_iterator, valid_iterator)"
   ]
  },
  {
   "cell_type": "code",
   "execution_count": 304,
   "id": "b87217d0",
   "metadata": {
    "cellId": "zuvmo7wzeqphkzuohysi06"
   },
   "outputs": [
    {
     "data": {
      "application/vnd.jupyter.widget-view+json": {
       "model_id": "218f16600e134fafbaf0a04d0abeb851",
       "version_major": 2,
       "version_minor": 0
      },
      "text/plain": [
       "HBox(children=(HTML(value='Epochs'), FloatProgress(value=0.0, max=10.0), HTML(value='')))"
      ]
     },
     "metadata": {},
     "output_type": "display_data"
    },
    {
     "data": {
      "application/vnd.jupyter.widget-view+json": {
       "model_id": "2a26d51979904b9b976fc90cac168ab1",
       "version_major": 2,
       "version_minor": 0
      },
      "text/plain": [
       "HBox(children=(HTML(value='Training'), FloatProgress(value=0.0, max=844.0), HTML(value='')))"
      ]
     },
     "metadata": {},
     "output_type": "display_data"
    },
    {
     "data": {
      "application/vnd.jupyter.widget-view+json": {
       "model_id": "1b7f1d36c93140b9ac52a3c2407a851f",
       "version_major": 2,
       "version_minor": 0
      },
      "text/plain": [
       "HBox(children=(HTML(value='Evaluating'), FloatProgress(value=0.0, max=94.0), HTML(value='')))"
      ]
     },
     "metadata": {},
     "output_type": "display_data"
    },
    {
     "data": {
      "application/vnd.jupyter.widget-view+json": {
       "model_id": "8d0f84ebd5154c2f9d1afb78682f36bb",
       "version_major": 2,
       "version_minor": 0
      },
      "text/plain": [
       "HBox(children=(HTML(value='Training'), FloatProgress(value=0.0, max=844.0), HTML(value='')))"
      ]
     },
     "metadata": {},
     "output_type": "display_data"
    },
    {
     "data": {
      "application/vnd.jupyter.widget-view+json": {
       "model_id": "410fcf1bd00a46bea47c8cf3636dcc07",
       "version_major": 2,
       "version_minor": 0
      },
      "text/plain": [
       "HBox(children=(HTML(value='Evaluating'), FloatProgress(value=0.0, max=94.0), HTML(value='')))"
      ]
     },
     "metadata": {},
     "output_type": "display_data"
    },
    {
     "data": {
      "application/vnd.jupyter.widget-view+json": {
       "model_id": "948265f7535145b68f43b82e8b65002a",
       "version_major": 2,
       "version_minor": 0
      },
      "text/plain": [
       "HBox(children=(HTML(value='Training'), FloatProgress(value=0.0, max=844.0), HTML(value='')))"
      ]
     },
     "metadata": {},
     "output_type": "display_data"
    },
    {
     "data": {
      "application/vnd.jupyter.widget-view+json": {
       "model_id": "e5721ef27acc49b0b295ab4f2a0a019e",
       "version_major": 2,
       "version_minor": 0
      },
      "text/plain": [
       "HBox(children=(HTML(value='Evaluating'), FloatProgress(value=0.0, max=94.0), HTML(value='')))"
      ]
     },
     "metadata": {},
     "output_type": "display_data"
    },
    {
     "data": {
      "application/vnd.jupyter.widget-view+json": {
       "model_id": "5b7f854f82b24d8e81c6ee747bf5202e",
       "version_major": 2,
       "version_minor": 0
      },
      "text/plain": [
       "HBox(children=(HTML(value='Training'), FloatProgress(value=0.0, max=844.0), HTML(value='')))"
      ]
     },
     "metadata": {},
     "output_type": "display_data"
    },
    {
     "data": {
      "application/vnd.jupyter.widget-view+json": {
       "model_id": "992cfad7502f4a8f8edd133695e0613e",
       "version_major": 2,
       "version_minor": 0
      },
      "text/plain": [
       "HBox(children=(HTML(value='Evaluating'), FloatProgress(value=0.0, max=94.0), HTML(value='')))"
      ]
     },
     "metadata": {},
     "output_type": "display_data"
    },
    {
     "data": {
      "application/vnd.jupyter.widget-view+json": {
       "model_id": "d505be7190dc4588a2d498adfbba34ee",
       "version_major": 2,
       "version_minor": 0
      },
      "text/plain": [
       "HBox(children=(HTML(value='Training'), FloatProgress(value=0.0, max=844.0), HTML(value='')))"
      ]
     },
     "metadata": {},
     "output_type": "display_data"
    },
    {
     "data": {
      "application/vnd.jupyter.widget-view+json": {
       "model_id": "46d5b3d0ba904b64a5abdeaccfe37776",
       "version_major": 2,
       "version_minor": 0
      },
      "text/plain": [
       "HBox(children=(HTML(value='Evaluating'), FloatProgress(value=0.0, max=94.0), HTML(value='')))"
      ]
     },
     "metadata": {},
     "output_type": "display_data"
    },
    {
     "data": {
      "application/vnd.jupyter.widget-view+json": {
       "model_id": "c917bb07309f4f499e6d34466b696f94",
       "version_major": 2,
       "version_minor": 0
      },
      "text/plain": [
       "HBox(children=(HTML(value='Training'), FloatProgress(value=0.0, max=844.0), HTML(value='')))"
      ]
     },
     "metadata": {},
     "output_type": "display_data"
    },
    {
     "data": {
      "application/vnd.jupyter.widget-view+json": {
       "model_id": "f6c8b4728364420b8922b1ed3b185f85",
       "version_major": 2,
       "version_minor": 0
      },
      "text/plain": [
       "HBox(children=(HTML(value='Evaluating'), FloatProgress(value=0.0, max=94.0), HTML(value='')))"
      ]
     },
     "metadata": {},
     "output_type": "display_data"
    },
    {
     "data": {
      "application/vnd.jupyter.widget-view+json": {
       "model_id": "ab0dea781371429ba3503610468e2f4e",
       "version_major": 2,
       "version_minor": 0
      },
      "text/plain": [
       "HBox(children=(HTML(value='Training'), FloatProgress(value=0.0, max=844.0), HTML(value='')))"
      ]
     },
     "metadata": {},
     "output_type": "display_data"
    },
    {
     "data": {
      "application/vnd.jupyter.widget-view+json": {
       "model_id": "c585b185448747df952891676fa1d79c",
       "version_major": 2,
       "version_minor": 0
      },
      "text/plain": [
       "HBox(children=(HTML(value='Evaluating'), FloatProgress(value=0.0, max=94.0), HTML(value='')))"
      ]
     },
     "metadata": {},
     "output_type": "display_data"
    },
    {
     "data": {
      "application/vnd.jupyter.widget-view+json": {
       "model_id": "784557a48abf48dd9507f1c2213b9957",
       "version_major": 2,
       "version_minor": 0
      },
      "text/plain": [
       "HBox(children=(HTML(value='Training'), FloatProgress(value=0.0, max=844.0), HTML(value='')))"
      ]
     },
     "metadata": {},
     "output_type": "display_data"
    },
    {
     "data": {
      "application/vnd.jupyter.widget-view+json": {
       "model_id": "e4cd879a9efd404c97ba755046e6f3bc",
       "version_major": 2,
       "version_minor": 0
      },
      "text/plain": [
       "HBox(children=(HTML(value='Evaluating'), FloatProgress(value=0.0, max=94.0), HTML(value='')))"
      ]
     },
     "metadata": {},
     "output_type": "display_data"
    },
    {
     "data": {
      "application/vnd.jupyter.widget-view+json": {
       "model_id": "e33edefb89ea43929cd2258bf80573a3",
       "version_major": 2,
       "version_minor": 0
      },
      "text/plain": [
       "HBox(children=(HTML(value='Training'), FloatProgress(value=0.0, max=844.0), HTML(value='')))"
      ]
     },
     "metadata": {},
     "output_type": "display_data"
    },
    {
     "data": {
      "application/vnd.jupyter.widget-view+json": {
       "model_id": "f06401cbcc814181b5d707acff85f98a",
       "version_major": 2,
       "version_minor": 0
      },
      "text/plain": [
       "HBox(children=(HTML(value='Evaluating'), FloatProgress(value=0.0, max=94.0), HTML(value='')))"
      ]
     },
     "metadata": {},
     "output_type": "display_data"
    },
    {
     "data": {
      "application/vnd.jupyter.widget-view+json": {
       "model_id": "5c0bf9ec3a9049d8ae59d24c29e590f6",
       "version_major": 2,
       "version_minor": 0
      },
      "text/plain": [
       "HBox(children=(HTML(value='Training'), FloatProgress(value=0.0, max=844.0), HTML(value='')))"
      ]
     },
     "metadata": {},
     "output_type": "display_data"
    },
    {
     "data": {
      "application/vnd.jupyter.widget-view+json": {
       "model_id": "3019ed588d924f478c8c5184631b8e73",
       "version_major": 2,
       "version_minor": 0
      },
      "text/plain": [
       "HBox(children=(HTML(value='Evaluating'), FloatProgress(value=0.0, max=94.0), HTML(value='')))"
      ]
     },
     "metadata": {},
     "output_type": "display_data"
    },
    {
     "name": "stdout",
     "output_type": "stream",
     "text": [
      "Epoch: 01 | Epoch Time: 0m 22s\n",
      "\tTrain Loss: 1.688 | Train Acc: 78.24%\n",
      "\t Val. Loss: 1.507 |  Val. Acc: 95.66%\n",
      "Epoch: 02 | Epoch Time: 0m 22s\n",
      "\tTrain Loss: 1.524 | Train Acc: 93.93%\n",
      "\t Val. Loss: 1.496 |  Val. Acc: 96.57%\n",
      "Epoch: 03 | Epoch Time: 0m 22s\n",
      "\tTrain Loss: 1.510 | Train Acc: 95.22%\n",
      "\t Val. Loss: 1.492 |  Val. Acc: 97.02%\n",
      "Epoch: 04 | Epoch Time: 0m 22s\n",
      "\tTrain Loss: 1.504 | Train Acc: 95.84%\n",
      "\t Val. Loss: 1.491 |  Val. Acc: 97.06%\n",
      "Epoch: 05 | Epoch Time: 0m 22s\n",
      "\tTrain Loss: 1.499 | Train Acc: 96.23%\n",
      "\t Val. Loss: 1.486 |  Val. Acc: 97.60%\n",
      "Epoch: 06 | Epoch Time: 0m 22s\n",
      "\tTrain Loss: 1.496 | Train Acc: 96.56%\n",
      "\t Val. Loss: 1.485 |  Val. Acc: 97.60%\n",
      "Epoch: 07 | Epoch Time: 0m 22s\n",
      "\tTrain Loss: 1.495 | Train Acc: 96.66%\n",
      "\t Val. Loss: 1.482 |  Val. Acc: 97.93%\n",
      "Epoch: 08 | Epoch Time: 0m 22s\n",
      "\tTrain Loss: 1.491 | Train Acc: 97.06%\n",
      "\t Val. Loss: 1.480 |  Val. Acc: 98.17%\n",
      "Epoch: 09 | Epoch Time: 0m 22s\n",
      "\tTrain Loss: 1.491 | Train Acc: 96.97%\n",
      "\t Val. Loss: 1.482 |  Val. Acc: 97.97%\n",
      "Epoch: 10 | Epoch Time: 0m 22s\n",
      "\tTrain Loss: 1.491 | Train Acc: 97.04%\n",
      "\t Val. Loss: 1.479 |  Val. Acc: 98.23%\n",
      "\n"
     ]
    }
   ],
   "source": [
    "#!g1.1\n",
    "train_model(model2, name2, n_epochs, train_iterator, valid_iterator)"
   ]
  },
  {
   "cell_type": "markdown",
   "id": "a4fd55fe",
   "metadata": {
    "cellId": "vqvm3dzddhn3mxb2m0cvgz"
   },
   "source": [
    "KMNIST:"
   ]
  },
  {
   "cell_type": "code",
   "execution_count": 308,
   "id": "013e9a1d",
   "metadata": {
    "cellId": "t4wl9worachaczphjducc"
   },
   "outputs": [],
   "source": [
    "#!g1.1\n",
    "train_iterator = train_iterator_3\n",
    "valid_iterator = valid_iterator_3\n",
    "model1 = LeNet_wide(10)\n",
    "model2 = LeNet_narrow(10)\n",
    "name1 = 'LeNet_wide-3'\n",
    "name2 = 'LeNet_narrow-3'"
   ]
  },
  {
   "cell_type": "code",
   "execution_count": 306,
   "id": "8c8237a7",
   "metadata": {
    "cellId": "yalh2nhst5n2u9qo9l4"
   },
   "outputs": [
    {
     "data": {
      "application/vnd.jupyter.widget-view+json": {
       "model_id": "eb426ab54cbc409bb474401c74a04a8f",
       "version_major": 2,
       "version_minor": 0
      },
      "text/plain": [
       "HBox(children=(HTML(value='Epochs'), FloatProgress(value=0.0, max=10.0), HTML(value='')))"
      ]
     },
     "metadata": {},
     "output_type": "display_data"
    },
    {
     "data": {
      "application/vnd.jupyter.widget-view+json": {
       "model_id": "71c246b27a2f47f0916075de9928790b",
       "version_major": 2,
       "version_minor": 0
      },
      "text/plain": [
       "HBox(children=(HTML(value='Training'), FloatProgress(value=0.0, max=844.0), HTML(value='')))"
      ]
     },
     "metadata": {},
     "output_type": "display_data"
    },
    {
     "data": {
      "application/vnd.jupyter.widget-view+json": {
       "model_id": "b23a47680a544ebeacc4da492cc05b81",
       "version_major": 2,
       "version_minor": 0
      },
      "text/plain": [
       "HBox(children=(HTML(value='Evaluating'), FloatProgress(value=0.0, max=94.0), HTML(value='')))"
      ]
     },
     "metadata": {},
     "output_type": "display_data"
    },
    {
     "data": {
      "application/vnd.jupyter.widget-view+json": {
       "model_id": "0f2dae2772294c3290c5dc842f52120b",
       "version_major": 2,
       "version_minor": 0
      },
      "text/plain": [
       "HBox(children=(HTML(value='Training'), FloatProgress(value=0.0, max=844.0), HTML(value='')))"
      ]
     },
     "metadata": {},
     "output_type": "display_data"
    },
    {
     "data": {
      "application/vnd.jupyter.widget-view+json": {
       "model_id": "8560a52015a14cb097a9f5eb5eb4383e",
       "version_major": 2,
       "version_minor": 0
      },
      "text/plain": [
       "HBox(children=(HTML(value='Evaluating'), FloatProgress(value=0.0, max=94.0), HTML(value='')))"
      ]
     },
     "metadata": {},
     "output_type": "display_data"
    },
    {
     "data": {
      "application/vnd.jupyter.widget-view+json": {
       "model_id": "f6ad1034db444087a535d4f8355b1b7c",
       "version_major": 2,
       "version_minor": 0
      },
      "text/plain": [
       "HBox(children=(HTML(value='Training'), FloatProgress(value=0.0, max=844.0), HTML(value='')))"
      ]
     },
     "metadata": {},
     "output_type": "display_data"
    },
    {
     "data": {
      "application/vnd.jupyter.widget-view+json": {
       "model_id": "4462a840bce949f680f5b99e32655df9",
       "version_major": 2,
       "version_minor": 0
      },
      "text/plain": [
       "HBox(children=(HTML(value='Evaluating'), FloatProgress(value=0.0, max=94.0), HTML(value='')))"
      ]
     },
     "metadata": {},
     "output_type": "display_data"
    },
    {
     "data": {
      "application/vnd.jupyter.widget-view+json": {
       "model_id": "7e83af6761a54f3cb1568f983d7708e2",
       "version_major": 2,
       "version_minor": 0
      },
      "text/plain": [
       "HBox(children=(HTML(value='Training'), FloatProgress(value=0.0, max=844.0), HTML(value='')))"
      ]
     },
     "metadata": {},
     "output_type": "display_data"
    },
    {
     "data": {
      "application/vnd.jupyter.widget-view+json": {
       "model_id": "e750decc72534512910b3f9c4cbec565",
       "version_major": 2,
       "version_minor": 0
      },
      "text/plain": [
       "HBox(children=(HTML(value='Evaluating'), FloatProgress(value=0.0, max=94.0), HTML(value='')))"
      ]
     },
     "metadata": {},
     "output_type": "display_data"
    },
    {
     "data": {
      "application/vnd.jupyter.widget-view+json": {
       "model_id": "ad82d75f7ef34a78832d70a2251e46c3",
       "version_major": 2,
       "version_minor": 0
      },
      "text/plain": [
       "HBox(children=(HTML(value='Training'), FloatProgress(value=0.0, max=844.0), HTML(value='')))"
      ]
     },
     "metadata": {},
     "output_type": "display_data"
    },
    {
     "data": {
      "application/vnd.jupyter.widget-view+json": {
       "model_id": "3fa254a693804f07b9f4e2d9db501d77",
       "version_major": 2,
       "version_minor": 0
      },
      "text/plain": [
       "HBox(children=(HTML(value='Evaluating'), FloatProgress(value=0.0, max=94.0), HTML(value='')))"
      ]
     },
     "metadata": {},
     "output_type": "display_data"
    },
    {
     "data": {
      "application/vnd.jupyter.widget-view+json": {
       "model_id": "ffc4f26c188341a0a5d6e44530c7cf23",
       "version_major": 2,
       "version_minor": 0
      },
      "text/plain": [
       "HBox(children=(HTML(value='Training'), FloatProgress(value=0.0, max=844.0), HTML(value='')))"
      ]
     },
     "metadata": {},
     "output_type": "display_data"
    },
    {
     "data": {
      "application/vnd.jupyter.widget-view+json": {
       "model_id": "598d584c61884e10bd62188331f11f6d",
       "version_major": 2,
       "version_minor": 0
      },
      "text/plain": [
       "HBox(children=(HTML(value='Evaluating'), FloatProgress(value=0.0, max=94.0), HTML(value='')))"
      ]
     },
     "metadata": {},
     "output_type": "display_data"
    },
    {
     "data": {
      "application/vnd.jupyter.widget-view+json": {
       "model_id": "5a4175da2cae423389fb1c36541b250d",
       "version_major": 2,
       "version_minor": 0
      },
      "text/plain": [
       "HBox(children=(HTML(value='Training'), FloatProgress(value=0.0, max=844.0), HTML(value='')))"
      ]
     },
     "metadata": {},
     "output_type": "display_data"
    },
    {
     "data": {
      "application/vnd.jupyter.widget-view+json": {
       "model_id": "ab8f4803f67a441b83debc41b8ff7dd3",
       "version_major": 2,
       "version_minor": 0
      },
      "text/plain": [
       "HBox(children=(HTML(value='Evaluating'), FloatProgress(value=0.0, max=94.0), HTML(value='')))"
      ]
     },
     "metadata": {},
     "output_type": "display_data"
    },
    {
     "data": {
      "application/vnd.jupyter.widget-view+json": {
       "model_id": "386bbfdaaccc4d9ab1ef4e9f37b6e10c",
       "version_major": 2,
       "version_minor": 0
      },
      "text/plain": [
       "HBox(children=(HTML(value='Training'), FloatProgress(value=0.0, max=844.0), HTML(value='')))"
      ]
     },
     "metadata": {},
     "output_type": "display_data"
    },
    {
     "data": {
      "application/vnd.jupyter.widget-view+json": {
       "model_id": "e8460c18c7e240fd8558d2c5f703ac8d",
       "version_major": 2,
       "version_minor": 0
      },
      "text/plain": [
       "HBox(children=(HTML(value='Evaluating'), FloatProgress(value=0.0, max=94.0), HTML(value='')))"
      ]
     },
     "metadata": {},
     "output_type": "display_data"
    },
    {
     "data": {
      "application/vnd.jupyter.widget-view+json": {
       "model_id": "d97e775740c94b52bceac28b5a7665fa",
       "version_major": 2,
       "version_minor": 0
      },
      "text/plain": [
       "HBox(children=(HTML(value='Training'), FloatProgress(value=0.0, max=844.0), HTML(value='')))"
      ]
     },
     "metadata": {},
     "output_type": "display_data"
    },
    {
     "data": {
      "application/vnd.jupyter.widget-view+json": {
       "model_id": "df44814839cf409693f1da62607d5039",
       "version_major": 2,
       "version_minor": 0
      },
      "text/plain": [
       "HBox(children=(HTML(value='Evaluating'), FloatProgress(value=0.0, max=94.0), HTML(value='')))"
      ]
     },
     "metadata": {},
     "output_type": "display_data"
    },
    {
     "data": {
      "application/vnd.jupyter.widget-view+json": {
       "model_id": "035f83948a954c26b214c9536260ccc5",
       "version_major": 2,
       "version_minor": 0
      },
      "text/plain": [
       "HBox(children=(HTML(value='Training'), FloatProgress(value=0.0, max=844.0), HTML(value='')))"
      ]
     },
     "metadata": {},
     "output_type": "display_data"
    },
    {
     "data": {
      "application/vnd.jupyter.widget-view+json": {
       "model_id": "9c20ac048d704085858532940d8c29f8",
       "version_major": 2,
       "version_minor": 0
      },
      "text/plain": [
       "HBox(children=(HTML(value='Evaluating'), FloatProgress(value=0.0, max=94.0), HTML(value='')))"
      ]
     },
     "metadata": {},
     "output_type": "display_data"
    },
    {
     "name": "stdout",
     "output_type": "stream",
     "text": [
      "Epoch: 01 | Epoch Time: 0m 22s\n",
      "\tTrain Loss: 1.620 | Train Acc: 84.78%\n",
      "\t Val. Loss: 1.488 |  Val. Acc: 97.45%\n",
      "Epoch: 02 | Epoch Time: 0m 22s\n",
      "\tTrain Loss: 1.504 | Train Acc: 95.93%\n",
      "\t Val. Loss: 1.482 |  Val. Acc: 97.95%\n",
      "Epoch: 03 | Epoch Time: 0m 22s\n",
      "\tTrain Loss: 1.494 | Train Acc: 96.84%\n",
      "\t Val. Loss: 1.478 |  Val. Acc: 98.37%\n",
      "Epoch: 04 | Epoch Time: 0m 22s\n",
      "\tTrain Loss: 1.491 | Train Acc: 97.07%\n",
      "\t Val. Loss: 1.481 |  Val. Acc: 98.09%\n",
      "Epoch: 05 | Epoch Time: 0m 22s\n",
      "\tTrain Loss: 1.489 | Train Acc: 97.27%\n",
      "\t Val. Loss: 1.483 |  Val. Acc: 97.82%\n",
      "Epoch: 06 | Epoch Time: 0m 22s\n",
      "\tTrain Loss: 1.485 | Train Acc: 97.69%\n",
      "\t Val. Loss: 1.479 |  Val. Acc: 98.18%\n",
      "Epoch: 07 | Epoch Time: 0m 22s\n",
      "\tTrain Loss: 1.486 | Train Acc: 97.56%\n",
      "\t Val. Loss: 1.474 |  Val. Acc: 98.77%\n",
      "Epoch: 08 | Epoch Time: 0m 22s\n",
      "\tTrain Loss: 1.484 | Train Acc: 97.74%\n",
      "\t Val. Loss: 1.483 |  Val. Acc: 97.84%\n",
      "Epoch: 09 | Epoch Time: 0m 22s\n",
      "\tTrain Loss: 1.483 | Train Acc: 97.84%\n",
      "\t Val. Loss: 1.472 |  Val. Acc: 98.99%\n",
      "Epoch: 10 | Epoch Time: 0m 22s\n",
      "\tTrain Loss: 1.483 | Train Acc: 97.82%\n",
      "\t Val. Loss: 1.477 |  Val. Acc: 98.45%\n",
      "\n"
     ]
    }
   ],
   "source": [
    "#!g1.1\n",
    "train_model(model1, name1, n_epochs, train_iterator, valid_iterator)"
   ]
  },
  {
   "cell_type": "code",
   "execution_count": 309,
   "id": "41ab9334",
   "metadata": {
    "cellId": "oqzj3hcbgdmcd45ecdvzlu"
   },
   "outputs": [
    {
     "data": {
      "application/vnd.jupyter.widget-view+json": {
       "model_id": "6fa49c33b69d4626823fbe2842d2422f",
       "version_major": 2,
       "version_minor": 0
      },
      "text/plain": [
       "HBox(children=(HTML(value='Epochs'), FloatProgress(value=0.0, max=10.0), HTML(value='')))"
      ]
     },
     "metadata": {},
     "output_type": "display_data"
    },
    {
     "data": {
      "application/vnd.jupyter.widget-view+json": {
       "model_id": "362718c93125443bbcfe5cc2951a5a80",
       "version_major": 2,
       "version_minor": 0
      },
      "text/plain": [
       "HBox(children=(HTML(value='Training'), FloatProgress(value=0.0, max=844.0), HTML(value='')))"
      ]
     },
     "metadata": {},
     "output_type": "display_data"
    },
    {
     "data": {
      "application/vnd.jupyter.widget-view+json": {
       "model_id": "24a7f1f497284c3ca5077319aabf08da",
       "version_major": 2,
       "version_minor": 0
      },
      "text/plain": [
       "HBox(children=(HTML(value='Evaluating'), FloatProgress(value=0.0, max=94.0), HTML(value='')))"
      ]
     },
     "metadata": {},
     "output_type": "display_data"
    },
    {
     "data": {
      "application/vnd.jupyter.widget-view+json": {
       "model_id": "df70e9e5d9164519a69a6d204d976713",
       "version_major": 2,
       "version_minor": 0
      },
      "text/plain": [
       "HBox(children=(HTML(value='Training'), FloatProgress(value=0.0, max=844.0), HTML(value='')))"
      ]
     },
     "metadata": {},
     "output_type": "display_data"
    },
    {
     "data": {
      "application/vnd.jupyter.widget-view+json": {
       "model_id": "195eb4a1670b44e898143d7a7ae042e6",
       "version_major": 2,
       "version_minor": 0
      },
      "text/plain": [
       "HBox(children=(HTML(value='Evaluating'), FloatProgress(value=0.0, max=94.0), HTML(value='')))"
      ]
     },
     "metadata": {},
     "output_type": "display_data"
    },
    {
     "data": {
      "application/vnd.jupyter.widget-view+json": {
       "model_id": "0e84e418d5a7445d90ad04de6cc284a6",
       "version_major": 2,
       "version_minor": 0
      },
      "text/plain": [
       "HBox(children=(HTML(value='Training'), FloatProgress(value=0.0, max=844.0), HTML(value='')))"
      ]
     },
     "metadata": {},
     "output_type": "display_data"
    },
    {
     "data": {
      "application/vnd.jupyter.widget-view+json": {
       "model_id": "239597f93fc14eb3810313d7e20a55f8",
       "version_major": 2,
       "version_minor": 0
      },
      "text/plain": [
       "HBox(children=(HTML(value='Evaluating'), FloatProgress(value=0.0, max=94.0), HTML(value='')))"
      ]
     },
     "metadata": {},
     "output_type": "display_data"
    },
    {
     "data": {
      "application/vnd.jupyter.widget-view+json": {
       "model_id": "7453376bd3a74d468f10e6248998d70a",
       "version_major": 2,
       "version_minor": 0
      },
      "text/plain": [
       "HBox(children=(HTML(value='Training'), FloatProgress(value=0.0, max=844.0), HTML(value='')))"
      ]
     },
     "metadata": {},
     "output_type": "display_data"
    },
    {
     "data": {
      "application/vnd.jupyter.widget-view+json": {
       "model_id": "c90be637af3043fe8fbd49ca81353692",
       "version_major": 2,
       "version_minor": 0
      },
      "text/plain": [
       "HBox(children=(HTML(value='Evaluating'), FloatProgress(value=0.0, max=94.0), HTML(value='')))"
      ]
     },
     "metadata": {},
     "output_type": "display_data"
    },
    {
     "data": {
      "application/vnd.jupyter.widget-view+json": {
       "model_id": "70b94f8bc59e4145b657f62bcb21d9fc",
       "version_major": 2,
       "version_minor": 0
      },
      "text/plain": [
       "HBox(children=(HTML(value='Training'), FloatProgress(value=0.0, max=844.0), HTML(value='')))"
      ]
     },
     "metadata": {},
     "output_type": "display_data"
    },
    {
     "data": {
      "application/vnd.jupyter.widget-view+json": {
       "model_id": "3e32b59a3c6147d2b6877c67fd8a4e42",
       "version_major": 2,
       "version_minor": 0
      },
      "text/plain": [
       "HBox(children=(HTML(value='Evaluating'), FloatProgress(value=0.0, max=94.0), HTML(value='')))"
      ]
     },
     "metadata": {},
     "output_type": "display_data"
    },
    {
     "data": {
      "application/vnd.jupyter.widget-view+json": {
       "model_id": "6eac68b1c28844949d1b7365bdaa83b2",
       "version_major": 2,
       "version_minor": 0
      },
      "text/plain": [
       "HBox(children=(HTML(value='Training'), FloatProgress(value=0.0, max=844.0), HTML(value='')))"
      ]
     },
     "metadata": {},
     "output_type": "display_data"
    },
    {
     "data": {
      "application/vnd.jupyter.widget-view+json": {
       "model_id": "4d15e5ef475545e8ab0aa69a6f42c8d0",
       "version_major": 2,
       "version_minor": 0
      },
      "text/plain": [
       "HBox(children=(HTML(value='Evaluating'), FloatProgress(value=0.0, max=94.0), HTML(value='')))"
      ]
     },
     "metadata": {},
     "output_type": "display_data"
    },
    {
     "data": {
      "application/vnd.jupyter.widget-view+json": {
       "model_id": "db5f2ae214c14135adbb2e40a333f96e",
       "version_major": 2,
       "version_minor": 0
      },
      "text/plain": [
       "HBox(children=(HTML(value='Training'), FloatProgress(value=0.0, max=844.0), HTML(value='')))"
      ]
     },
     "metadata": {},
     "output_type": "display_data"
    },
    {
     "data": {
      "application/vnd.jupyter.widget-view+json": {
       "model_id": "ec9be074c68d40c1a606f3f0e3946f20",
       "version_major": 2,
       "version_minor": 0
      },
      "text/plain": [
       "HBox(children=(HTML(value='Evaluating'), FloatProgress(value=0.0, max=94.0), HTML(value='')))"
      ]
     },
     "metadata": {},
     "output_type": "display_data"
    },
    {
     "data": {
      "application/vnd.jupyter.widget-view+json": {
       "model_id": "7058ebd7cef4459689598dae16358d61",
       "version_major": 2,
       "version_minor": 0
      },
      "text/plain": [
       "HBox(children=(HTML(value='Training'), FloatProgress(value=0.0, max=844.0), HTML(value='')))"
      ]
     },
     "metadata": {},
     "output_type": "display_data"
    },
    {
     "data": {
      "application/vnd.jupyter.widget-view+json": {
       "model_id": "21e6e039295c4030b1e704c8abd04f9f",
       "version_major": 2,
       "version_minor": 0
      },
      "text/plain": [
       "HBox(children=(HTML(value='Evaluating'), FloatProgress(value=0.0, max=94.0), HTML(value='')))"
      ]
     },
     "metadata": {},
     "output_type": "display_data"
    },
    {
     "data": {
      "application/vnd.jupyter.widget-view+json": {
       "model_id": "71fc6c3460e04908a1382a4b3031b0b6",
       "version_major": 2,
       "version_minor": 0
      },
      "text/plain": [
       "HBox(children=(HTML(value='Training'), FloatProgress(value=0.0, max=844.0), HTML(value='')))"
      ]
     },
     "metadata": {},
     "output_type": "display_data"
    },
    {
     "data": {
      "application/vnd.jupyter.widget-view+json": {
       "model_id": "4b7f34ba91654a1e970889d2a80a70cf",
       "version_major": 2,
       "version_minor": 0
      },
      "text/plain": [
       "HBox(children=(HTML(value='Evaluating'), FloatProgress(value=0.0, max=94.0), HTML(value='')))"
      ]
     },
     "metadata": {},
     "output_type": "display_data"
    },
    {
     "data": {
      "application/vnd.jupyter.widget-view+json": {
       "model_id": "a221db1cc60841e887b2362c679898ba",
       "version_major": 2,
       "version_minor": 0
      },
      "text/plain": [
       "HBox(children=(HTML(value='Training'), FloatProgress(value=0.0, max=844.0), HTML(value='')))"
      ]
     },
     "metadata": {},
     "output_type": "display_data"
    },
    {
     "data": {
      "application/vnd.jupyter.widget-view+json": {
       "model_id": "8aa644a9f9d3439aa80b1d2c9540c690",
       "version_major": 2,
       "version_minor": 0
      },
      "text/plain": [
       "HBox(children=(HTML(value='Evaluating'), FloatProgress(value=0.0, max=94.0), HTML(value='')))"
      ]
     },
     "metadata": {},
     "output_type": "display_data"
    },
    {
     "name": "stdout",
     "output_type": "stream",
     "text": [
      "Epoch: 01 | Epoch Time: 0m 22s\n",
      "\tTrain Loss: 1.679 | Train Acc: 79.14%\n",
      "\t Val. Loss: 1.504 |  Val. Acc: 95.98%\n",
      "Epoch: 02 | Epoch Time: 0m 22s\n",
      "\tTrain Loss: 1.522 | Train Acc: 94.16%\n",
      "\t Val. Loss: 1.500 |  Val. Acc: 96.39%\n",
      "Epoch: 03 | Epoch Time: 0m 22s\n",
      "\tTrain Loss: 1.509 | Train Acc: 95.30%\n",
      "\t Val. Loss: 1.490 |  Val. Acc: 97.24%\n",
      "Epoch: 04 | Epoch Time: 0m 22s\n",
      "\tTrain Loss: 1.501 | Train Acc: 96.04%\n",
      "\t Val. Loss: 1.491 |  Val. Acc: 97.01%\n",
      "Epoch: 05 | Epoch Time: 0m 22s\n",
      "\tTrain Loss: 1.500 | Train Acc: 96.20%\n",
      "\t Val. Loss: 1.491 |  Val. Acc: 96.98%\n",
      "Epoch: 06 | Epoch Time: 0m 22s\n",
      "\tTrain Loss: 1.496 | Train Acc: 96.51%\n",
      "\t Val. Loss: 1.493 |  Val. Acc: 96.84%\n",
      "Epoch: 07 | Epoch Time: 0m 22s\n",
      "\tTrain Loss: 1.494 | Train Acc: 96.72%\n",
      "\t Val. Loss: 1.498 |  Val. Acc: 96.38%\n",
      "Epoch: 08 | Epoch Time: 0m 22s\n",
      "\tTrain Loss: 1.494 | Train Acc: 96.74%\n",
      "\t Val. Loss: 1.492 |  Val. Acc: 96.82%\n",
      "Epoch: 09 | Epoch Time: 0m 22s\n",
      "\tTrain Loss: 1.492 | Train Acc: 96.91%\n",
      "\t Val. Loss: 1.485 |  Val. Acc: 97.64%\n",
      "Epoch: 10 | Epoch Time: 0m 22s\n",
      "\tTrain Loss: 1.490 | Train Acc: 97.08%\n",
      "\t Val. Loss: 1.486 |  Val. Acc: 97.50%\n",
      "\n"
     ]
    }
   ],
   "source": [
    "#!g1.1\n",
    "train_model(model2, name2, n_epochs, train_iterator, valid_iterator)"
   ]
  },
  {
   "cell_type": "markdown",
   "id": "132c6c82",
   "metadata": {
    "cellId": "g0ptoh1wktnenv71tivunb"
   },
   "source": [
    "#### Results"
   ]
  },
  {
   "cell_type": "code",
   "execution_count": 313,
   "id": "23a5a70a",
   "metadata": {
    "cellId": "2v85xm8f8z1bg3t8iggtmd"
   },
   "outputs": [
    {
     "data": {
      "application/vnd.jupyter.widget-view+json": {
       "model_id": "9cab0570cceb4e47a0987deb4208c821",
       "version_major": 2,
       "version_minor": 0
      },
      "text/plain": [
       "HBox(children=(HTML(value='Evaluating'), FloatProgress(value=0.0, max=157.0), HTML(value='')))"
      ]
     },
     "metadata": {},
     "output_type": "display_data"
    },
    {
     "data": {
      "application/vnd.jupyter.widget-view+json": {
       "model_id": "3461127ace454829b683f8824902aa67",
       "version_major": 2,
       "version_minor": 0
      },
      "text/plain": [
       "HBox(children=(HTML(value='Evaluating'), FloatProgress(value=0.0, max=157.0), HTML(value='')))"
      ]
     },
     "metadata": {},
     "output_type": "display_data"
    },
    {
     "name": "stdout",
     "output_type": "stream",
     "text": [
      "Zero activations on LeNet_wide-1: 37670310/58280000\n",
      "Zero activations on LeNet_narrow-1: 20639932/58280000\n"
     ]
    },
    {
     "data": {
      "image/png": "[encoded data removed]",
      "text/plain": [
       "<Figure size 720x432 with 2 Axes>"
      ]
     },
     "metadata": {
      "needs_background": "light"
     },
     "output_type": "display_data"
    }
   ],
   "source": [
    "#!g1.1\n",
    "test_iterator = test_iterator_1\n",
    "model1 = LeNet_wide(10)\n",
    "model2 = LeNet_narrow(10)\n",
    "name1 = 'LeNet_wide-1'\n",
    "name2 = 'LeNet_narrow-1'\n",
    "\n",
    "model1.load_state_dict(torch.load(f'{name1}.pt'))\n",
    "_, _, activations1 = get_activations(model1, test_iterator, criterion, device)\n",
    "\n",
    "model2.load_state_dict(torch.load(f'{name2}.pt'))\n",
    "_, _, activations2 = get_activations(model2, test_iterator, criterion, device)\n",
    "\n",
    "nonzero_mask1 = activations1 > 10e-7\n",
    "zero_quant1 = activations1.size - activations1[nonzero_mask1].size\n",
    "nonzero_activations1 = activations1[nonzero_mask1]\n",
    "print(f'Zero activations on {name1}: {zero_quant1}/{activations1.size}')\n",
    "\n",
    "nonzero_mask2 = activations2 > 10e-7\n",
    "zero_quant2 = activations2.size - activations2[nonzero_mask2].size\n",
    "nonzero_activations2 = activations2[nonzero_mask2]\n",
    "print(f'Zero activations on {name2}: {zero_quant2}/{activations1.size}')\n",
    "\n",
    "fig, (ax1, ax2) = plt.subplots(1, 2)\n",
    "fig.set_size_inches(10, 6)\n",
    "fig.suptitle('Activations distribution on dataset MNIST')\n",
    "ax1.set_title(name1)\n",
    "ax2.set_title(name2)\n",
    "ax1.hist(nonzero_activations1, bins=np.linspace(0, 10, 100))\n",
    "ax2.hist(nonzero_activations2, bins=np.linspace(0, 10, 100))\n",
    "plt.show()"
   ]
  },
  {
   "cell_type": "markdown",
   "id": "91a56e13",
   "metadata": {
    "cellId": "nmildb8avwsv60z3gcyb1"
   },
   "source": [
    "FMNIST:"
   ]
  },
  {
   "cell_type": "code",
   "execution_count": 314,
   "id": "4ea9ff7f",
   "metadata": {
    "cellId": "yma8dccn4hsytbl7whp8o"
   },
   "outputs": [
    {
     "data": {
      "application/vnd.jupyter.widget-view+json": {
       "model_id": "bbbc3a78599a421985b7019bbf006930",
       "version_major": 2,
       "version_minor": 0
      },
      "text/plain": [
       "HBox(children=(HTML(value='Evaluating'), FloatProgress(value=0.0, max=157.0), HTML(value='')))"
      ]
     },
     "metadata": {},
     "output_type": "display_data"
    },
    {
     "data": {
      "application/vnd.jupyter.widget-view+json": {
       "model_id": "4b7f1cda955e4b41869b7a4f61ab1eb9",
       "version_major": 2,
       "version_minor": 0
      },
      "text/plain": [
       "HBox(children=(HTML(value='Evaluating'), FloatProgress(value=0.0, max=157.0), HTML(value='')))"
      ]
     },
     "metadata": {},
     "output_type": "display_data"
    },
    {
     "name": "stdout",
     "output_type": "stream",
     "text": [
      "Zero activations on LeNet_wide-2: 39921652/58280000\n",
      "Zero activations on LeNet_narrow-2: 26243677/58280000\n"
     ]
    },
    {
     "data": {
      "image/png": "[encoded data removed]",
      "text/plain": [
       "<Figure size 720x432 with 2 Axes>"
      ]
     },
     "metadata": {
      "needs_background": "light"
     },
     "output_type": "display_data"
    }
   ],
   "source": [
    "#!g1.1\n",
    "test_iterator = test_iterator_2\n",
    "model1 = LeNet_wide(10)\n",
    "model2 = LeNet_narrow(10)\n",
    "name1 = 'LeNet_wide-2'\n",
    "name2 = 'LeNet_narrow-2'\n",
    "\n",
    "model1.load_state_dict(torch.load(f'{name1}.pt'))\n",
    "_, _, activations1 = get_activations(model1, test_iterator, criterion, device)\n",
    "\n",
    "model2.load_state_dict(torch.load(f'{name2}.pt'))\n",
    "_, _, activations2 = get_activations(model2, test_iterator, criterion, device)\n",
    "\n",
    "nonzero_mask1 = activations1 > 10e-7\n",
    "zero_quant1 = activations1.size - activations1[nonzero_mask1].size\n",
    "nonzero_activations1 = activations1[nonzero_mask1]\n",
    "print(f'Zero activations on {name1}: {zero_quant1}/{activations1.size}')\n",
    "\n",
    "nonzero_mask2 = activations2 > 10e-7\n",
    "zero_quant2 = activations2.size - activations2[nonzero_mask2].size\n",
    "nonzero_activations2 = activations2[nonzero_mask2]\n",
    "print(f'Zero activations on {name2}: {zero_quant2}/{activations1.size}')\n",
    "\n",
    "fig, (ax1, ax2) = plt.subplots(1, 2)\n",
    "fig.set_size_inches(10, 6)\n",
    "fig.suptitle('Activations distribution on dataset FMNIST')\n",
    "ax1.set_title(name1)\n",
    "ax2.set_title(name2)\n",
    "ax1.hist(nonzero_activations1, bins=np.linspace(0, 10, 100))\n",
    "ax2.hist(nonzero_activations2, bins=np.linspace(0, 10, 100))\n",
    "plt.show()"
   ]
  },
  {
   "cell_type": "markdown",
   "id": "6d08a92e",
   "metadata": {
    "cellId": "vfjqn694ywj5mwm7oi65"
   },
   "source": [
    "KMNIST:"
   ]
  },
  {
   "cell_type": "code",
   "execution_count": 315,
   "id": "4a0eac0d",
   "metadata": {
    "cellId": "qgdohfvm37y1oeq55majk"
   },
   "outputs": [
    {
     "data": {
      "application/vnd.jupyter.widget-view+json": {
       "model_id": "a1fa74508f45406c913ce442eeed93ac",
       "version_major": 2,
       "version_minor": 0
      },
      "text/plain": [
       "HBox(children=(HTML(value='Evaluating'), FloatProgress(value=0.0, max=157.0), HTML(value='')))"
      ]
     },
     "metadata": {},
     "output_type": "display_data"
    },
    {
     "data": {
      "application/vnd.jupyter.widget-view+json": {
       "model_id": "a1ed72f5c1344323a78c3b3f0ae72198",
       "version_major": 2,
       "version_minor": 0
      },
      "text/plain": [
       "HBox(children=(HTML(value='Evaluating'), FloatProgress(value=0.0, max=157.0), HTML(value='')))"
      ]
     },
     "metadata": {},
     "output_type": "display_data"
    },
    {
     "name": "stdout",
     "output_type": "stream",
     "text": [
      "Zero activations on LeNet_wide-3: 38107812/58280000\n",
      "Zero activations on LeNet_narrow-3: 23471874/58280000\n"
     ]
    },
    {
     "data": {
      "image/png": "[encoded data removed]",
      "text/plain": [
       "<Figure size 720x432 with 2 Axes>"
      ]
     },
     "metadata": {
      "needs_background": "light"
     },
     "output_type": "display_data"
    }
   ],
   "source": [
    "#!g1.1\n",
    "test_iterator = test_iterator_3\n",
    "model1 = LeNet_wide(10)\n",
    "model2 = LeNet_narrow(10)\n",
    "name1 = 'LeNet_wide-3'\n",
    "name2 = 'LeNet_narrow-3'\n",
    "\n",
    "model1.load_state_dict(torch.load(f'{name1}.pt'))\n",
    "_, _, activations1 = get_activations(model1, test_iterator, criterion, device)\n",
    "\n",
    "model2.load_state_dict(torch.load(f'{name2}.pt'))\n",
    "_, _, activations2 = get_activations(model2, test_iterator, criterion, device)\n",
    "\n",
    "nonzero_mask1 = activations1 > 10e-7\n",
    "zero_quant1 = activations1.size - activations1[nonzero_mask1].size\n",
    "nonzero_activations1 = activations1[nonzero_mask1]\n",
    "print(f'Zero activations on {name1}: {zero_quant1}/{activations1.size}')\n",
    "\n",
    "nonzero_mask2 = activations2 > 10e-7\n",
    "zero_quant2 = activations2.size - activations2[nonzero_mask2].size\n",
    "nonzero_activations2 = activations2[nonzero_mask2]\n",
    "print(f'Zero activations on {name2}: {zero_quant2}/{activations1.size}')\n",
    "\n",
    "fig, (ax1, ax2) = plt.subplots(1, 2)\n",
    "fig.set_size_inches(10, 6)\n",
    "fig.suptitle('Activations distribution on dataset KMNIST')\n",
    "ax1.set_title(name1)\n",
    "ax2.set_title(name2)\n",
    "ax1.hist(nonzero_activations1, bins=np.linspace(0, 10, 100))\n",
    "ax2.hist(nonzero_activations2, bins=np.linspace(0, 10, 100))\n",
    "plt.show()"
   ]
  },
  {
   "cell_type": "markdown",
   "id": "7f77ced1",
   "metadata": {
    "cellId": "r8ltfknzbwirjcj2x6kin8"
   },
   "source": [
    "**Вывод:** на всех трёх датасетах отчётливо видно, что у широкой модели модули активаций больше, чем у узкой модели. В остальном примерно то же."
   ]
  },
  {
   "cell_type": "markdown",
   "id": "8abfb751",
   "metadata": {
    "cellId": "6cdcbkww9j8a4di7geruta"
   },
   "source": [
    "#### Deep vs Shallow"
   ]
  },
  {
   "cell_type": "markdown",
   "id": "e66c26be",
   "metadata": {
    "cellId": "61y7p1l2tgi6qeoxx3qjqh"
   },
   "source": [
    "MNIST:"
   ]
  },
  {
   "cell_type": "code",
   "execution_count": 317,
   "id": "19726e1c",
   "metadata": {
    "cellId": "0ynbj9vnffqzynrjrs2zh"
   },
   "outputs": [],
   "source": [
    "#!g1.1\n",
    "train_iterator = train_iterator_1\n",
    "valid_iterator = valid_iterator_1\n",
    "model1 = LeNet_deep(10)\n",
    "model2 = LeNet_shallow(10)\n",
    "name1 = 'LeNet_deep-1'\n",
    "name2 = 'LeNet_shallow-1'"
   ]
  },
  {
   "cell_type": "code",
   "execution_count": 318,
   "id": "b17f25d0",
   "metadata": {
    "cellId": "4t98zv3kd888gz0dy0w31p"
   },
   "outputs": [
    {
     "data": {
      "application/vnd.jupyter.widget-view+json": {
       "model_id": "12f03608b24a47b69d351f405f8a02f1",
       "version_major": 2,
       "version_minor": 0
      },
      "text/plain": [
       "HBox(children=(HTML(value='Epochs'), FloatProgress(value=0.0, max=10.0), HTML(value='')))"
      ]
     },
     "metadata": {},
     "output_type": "display_data"
    },
    {
     "data": {
      "application/vnd.jupyter.widget-view+json": {
       "model_id": "f74c151462204c63b3e25e2f6a739061",
       "version_major": 2,
       "version_minor": 0
      },
      "text/plain": [
       "HBox(children=(HTML(value='Training'), FloatProgress(value=0.0, max=844.0), HTML(value='')))"
      ]
     },
     "metadata": {},
     "output_type": "display_data"
    },
    {
     "data": {
      "application/vnd.jupyter.widget-view+json": {
       "model_id": "b563e67141ef436c8d6c16ec298bfab2",
       "version_major": 2,
       "version_minor": 0
      },
      "text/plain": [
       "HBox(children=(HTML(value='Evaluating'), FloatProgress(value=0.0, max=94.0), HTML(value='')))"
      ]
     },
     "metadata": {},
     "output_type": "display_data"
    },
    {
     "name": "stdout",
     "output_type": "stream",
     "text": [
      "Epoch: 01 | Epoch Time: 0m 27s\n",
      "\tTrain Loss: 1.646 | Train Acc: 81.90%\n",
      "\t Val. Loss: 1.531 |  Val. Acc: 93.25%\n"
     ]
    },
    {
     "data": {
      "application/vnd.jupyter.widget-view+json": {
       "model_id": "48d5f5312b3143aa967059595e7af719",
       "version_major": 2,
       "version_minor": 0
      },
      "text/plain": [
       "HBox(children=(HTML(value='Training'), FloatProgress(value=0.0, max=844.0), HTML(value='')))"
      ]
     },
     "metadata": {},
     "output_type": "display_data"
    },
    {
     "data": {
      "application/vnd.jupyter.widget-view+json": {
       "model_id": "005b73cce9824e49884cb5cbc5a928df",
       "version_major": 2,
       "version_minor": 0
      },
      "text/plain": [
       "HBox(children=(HTML(value='Evaluating'), FloatProgress(value=0.0, max=94.0), HTML(value='')))"
      ]
     },
     "metadata": {},
     "output_type": "display_data"
    },
    {
     "name": "stdout",
     "output_type": "stream",
     "text": [
      "Epoch: 02 | Epoch Time: 0m 23s\n",
      "\tTrain Loss: 1.528 | Train Acc: 93.35%\n",
      "\t Val. Loss: 1.500 |  Val. Acc: 96.16%\n"
     ]
    },
    {
     "data": {
      "application/vnd.jupyter.widget-view+json": {
       "model_id": "059db9f9cd9345ad842c67f7378e9a6e",
       "version_major": 2,
       "version_minor": 0
      },
      "text/plain": [
       "HBox(children=(HTML(value='Training'), FloatProgress(value=0.0, max=844.0), HTML(value='')))"
      ]
     },
     "metadata": {},
     "output_type": "display_data"
    },
    {
     "data": {
      "application/vnd.jupyter.widget-view+json": {
       "model_id": "92ebde478a8140d287e5710cd07d8db7",
       "version_major": 2,
       "version_minor": 0
      },
      "text/plain": [
       "HBox(children=(HTML(value='Evaluating'), FloatProgress(value=0.0, max=94.0), HTML(value='')))"
      ]
     },
     "metadata": {},
     "output_type": "display_data"
    },
    {
     "name": "stdout",
     "output_type": "stream",
     "text": [
      "Epoch: 03 | Epoch Time: 0m 24s\n",
      "\tTrain Loss: 1.516 | Train Acc: 94.49%\n",
      "\t Val. Loss: 1.506 |  Val. Acc: 95.48%\n"
     ]
    },
    {
     "data": {
      "application/vnd.jupyter.widget-view+json": {
       "model_id": "ac53a772c73c42a6aa86509740d851e0",
       "version_major": 2,
       "version_minor": 0
      },
      "text/plain": [
       "HBox(children=(HTML(value='Training'), FloatProgress(value=0.0, max=844.0), HTML(value='')))"
      ]
     },
     "metadata": {},
     "output_type": "display_data"
    },
    {
     "data": {
      "application/vnd.jupyter.widget-view+json": {
       "model_id": "35ab6b5d0409467cb812300019460e4a",
       "version_major": 2,
       "version_minor": 0
      },
      "text/plain": [
       "HBox(children=(HTML(value='Evaluating'), FloatProgress(value=0.0, max=94.0), HTML(value='')))"
      ]
     },
     "metadata": {},
     "output_type": "display_data"
    },
    {
     "name": "stdout",
     "output_type": "stream",
     "text": [
      "Epoch: 04 | Epoch Time: 0m 23s\n",
      "\tTrain Loss: 1.510 | Train Acc: 95.09%\n",
      "\t Val. Loss: 1.504 |  Val. Acc: 95.72%\n"
     ]
    },
    {
     "data": {
      "application/vnd.jupyter.widget-view+json": {
       "model_id": "8d6db234cb0f45e0821ce4e2b54830a6",
       "version_major": 2,
       "version_minor": 0
      },
      "text/plain": [
       "HBox(children=(HTML(value='Training'), FloatProgress(value=0.0, max=844.0), HTML(value='')))"
      ]
     },
     "metadata": {},
     "output_type": "display_data"
    },
    {
     "data": {
      "application/vnd.jupyter.widget-view+json": {
       "model_id": "5a186e8b44754a94b4307b458a732ded",
       "version_major": 2,
       "version_minor": 0
      },
      "text/plain": [
       "HBox(children=(HTML(value='Evaluating'), FloatProgress(value=0.0, max=94.0), HTML(value='')))"
      ]
     },
     "metadata": {},
     "output_type": "display_data"
    },
    {
     "name": "stdout",
     "output_type": "stream",
     "text": [
      "Epoch: 05 | Epoch Time: 0m 23s\n",
      "\tTrain Loss: 1.504 | Train Acc: 95.72%\n",
      "\t Val. Loss: 1.491 |  Val. Acc: 97.03%\n"
     ]
    },
    {
     "data": {
      "application/vnd.jupyter.widget-view+json": {
       "model_id": "d866b406ff634ca9993a74495e2efd55",
       "version_major": 2,
       "version_minor": 0
      },
      "text/plain": [
       "HBox(children=(HTML(value='Training'), FloatProgress(value=0.0, max=844.0), HTML(value='')))"
      ]
     },
     "metadata": {},
     "output_type": "display_data"
    },
    {
     "data": {
      "application/vnd.jupyter.widget-view+json": {
       "model_id": "57f9ca04e8dd469abf804264159aacd5",
       "version_major": 2,
       "version_minor": 0
      },
      "text/plain": [
       "HBox(children=(HTML(value='Evaluating'), FloatProgress(value=0.0, max=94.0), HTML(value='')))"
      ]
     },
     "metadata": {},
     "output_type": "display_data"
    },
    {
     "name": "stdout",
     "output_type": "stream",
     "text": [
      "Epoch: 06 | Epoch Time: 0m 23s\n",
      "\tTrain Loss: 1.502 | Train Acc: 95.85%\n",
      "\t Val. Loss: 1.489 |  Val. Acc: 97.18%\n"
     ]
    },
    {
     "data": {
      "application/vnd.jupyter.widget-view+json": {
       "model_id": "885afc2f4cc94574a969eeee4cba79d9",
       "version_major": 2,
       "version_minor": 0
      },
      "text/plain": [
       "HBox(children=(HTML(value='Training'), FloatProgress(value=0.0, max=844.0), HTML(value='')))"
      ]
     },
     "metadata": {},
     "output_type": "display_data"
    },
    {
     "data": {
      "application/vnd.jupyter.widget-view+json": {
       "model_id": "45586a331d0045658e69b1fe56382eda",
       "version_major": 2,
       "version_minor": 0
      },
      "text/plain": [
       "HBox(children=(HTML(value='Evaluating'), FloatProgress(value=0.0, max=94.0), HTML(value='')))"
      ]
     },
     "metadata": {},
     "output_type": "display_data"
    },
    {
     "name": "stdout",
     "output_type": "stream",
     "text": [
      "Epoch: 07 | Epoch Time: 0m 24s\n",
      "\tTrain Loss: 1.499 | Train Acc: 96.25%\n",
      "\t Val. Loss: 1.494 |  Val. Acc: 96.73%\n"
     ]
    },
    {
     "data": {
      "application/vnd.jupyter.widget-view+json": {
       "model_id": "71e65fd836c341a0aa485df5c302ba33",
       "version_major": 2,
       "version_minor": 0
      },
      "text/plain": [
       "HBox(children=(HTML(value='Training'), FloatProgress(value=0.0, max=844.0), HTML(value='')))"
      ]
     },
     "metadata": {},
     "output_type": "display_data"
    },
    {
     "data": {
      "application/vnd.jupyter.widget-view+json": {
       "model_id": "568ec683716c4f28a2a48b502ff27945",
       "version_major": 2,
       "version_minor": 0
      },
      "text/plain": [
       "HBox(children=(HTML(value='Evaluating'), FloatProgress(value=0.0, max=94.0), HTML(value='')))"
      ]
     },
     "metadata": {},
     "output_type": "display_data"
    },
    {
     "name": "stdout",
     "output_type": "stream",
     "text": [
      "Epoch: 08 | Epoch Time: 0m 23s\n",
      "\tTrain Loss: 1.500 | Train Acc: 96.15%\n",
      "\t Val. Loss: 1.488 |  Val. Acc: 97.33%\n"
     ]
    },
    {
     "data": {
      "application/vnd.jupyter.widget-view+json": {
       "model_id": "f7c6b71cfa0940f9a8b84dbccc03d560",
       "version_major": 2,
       "version_minor": 0
      },
      "text/plain": [
       "HBox(children=(HTML(value='Training'), FloatProgress(value=0.0, max=844.0), HTML(value='')))"
      ]
     },
     "metadata": {},
     "output_type": "display_data"
    },
    {
     "data": {
      "application/vnd.jupyter.widget-view+json": {
       "model_id": "92fa0e4fb5694e4dafbb3a369b7b5ec0",
       "version_major": 2,
       "version_minor": 0
      },
      "text/plain": [
       "HBox(children=(HTML(value='Evaluating'), FloatProgress(value=0.0, max=94.0), HTML(value='')))"
      ]
     },
     "metadata": {},
     "output_type": "display_data"
    },
    {
     "name": "stdout",
     "output_type": "stream",
     "text": [
      "Epoch: 09 | Epoch Time: 0m 23s\n",
      "\tTrain Loss: 1.500 | Train Acc: 96.14%\n",
      "\t Val. Loss: 1.483 |  Val. Acc: 97.77%\n"
     ]
    },
    {
     "data": {
      "application/vnd.jupyter.widget-view+json": {
       "model_id": "0d25761dfd084b1089dcaa0b2a85b4ff",
       "version_major": 2,
       "version_minor": 0
      },
      "text/plain": [
       "HBox(children=(HTML(value='Training'), FloatProgress(value=0.0, max=844.0), HTML(value='')))"
      ]
     },
     "metadata": {},
     "output_type": "display_data"
    },
    {
     "data": {
      "application/vnd.jupyter.widget-view+json": {
       "model_id": "59a69af701734bc6b127bdbd7d083344",
       "version_major": 2,
       "version_minor": 0
      },
      "text/plain": [
       "HBox(children=(HTML(value='Evaluating'), FloatProgress(value=0.0, max=94.0), HTML(value='')))"
      ]
     },
     "metadata": {},
     "output_type": "display_data"
    },
    {
     "name": "stdout",
     "output_type": "stream",
     "text": [
      "Epoch: 10 | Epoch Time: 0m 24s\n",
      "\tTrain Loss: 1.501 | Train Acc: 95.97%\n",
      "\t Val. Loss: 1.500 |  Val. Acc: 96.07%\n",
      "\n"
     ]
    }
   ],
   "source": [
    "#!g1.1\n",
    "train_model(model1, name1, n_epochs, train_iterator, valid_iterator)"
   ]
  },
  {
   "cell_type": "code",
   "execution_count": 319,
   "id": "0bdf8567",
   "metadata": {
    "cellId": "ru2wtdd9jhby7r4923gm5q"
   },
   "outputs": [
    {
     "data": {
      "application/vnd.jupyter.widget-view+json": {
       "model_id": "651ffca0e9234bafaced71b6af2fbdaf",
       "version_major": 2,
       "version_minor": 0
      },
      "text/plain": [
       "HBox(children=(HTML(value='Epochs'), FloatProgress(value=0.0, max=10.0), HTML(value='')))"
      ]
     },
     "metadata": {},
     "output_type": "display_data"
    },
    {
     "data": {
      "application/vnd.jupyter.widget-view+json": {
       "model_id": "d3a8d743508f42ba86b2078b09f8dba3",
       "version_major": 2,
       "version_minor": 0
      },
      "text/plain": [
       "HBox(children=(HTML(value='Training'), FloatProgress(value=0.0, max=844.0), HTML(value='')))"
      ]
     },
     "metadata": {},
     "output_type": "display_data"
    },
    {
     "data": {
      "application/vnd.jupyter.widget-view+json": {
       "model_id": "0269714c4f664c398a85b27b45f159a0",
       "version_major": 2,
       "version_minor": 0
      },
      "text/plain": [
       "HBox(children=(HTML(value='Evaluating'), FloatProgress(value=0.0, max=94.0), HTML(value='')))"
      ]
     },
     "metadata": {},
     "output_type": "display_data"
    },
    {
     "name": "stdout",
     "output_type": "stream",
     "text": [
      "Epoch: 01 | Epoch Time: 0m 22s\n",
      "\tTrain Loss: 1.681 | Train Acc: 79.30%\n",
      "\t Val. Loss: 1.511 |  Val. Acc: 95.59%\n"
     ]
    },
    {
     "data": {
      "application/vnd.jupyter.widget-view+json": {
       "model_id": "dd841c2660db45c08194c640582dc7d3",
       "version_major": 2,
       "version_minor": 0
      },
      "text/plain": [
       "HBox(children=(HTML(value='Training'), FloatProgress(value=0.0, max=844.0), HTML(value='')))"
      ]
     },
     "metadata": {},
     "output_type": "display_data"
    },
    {
     "data": {
      "application/vnd.jupyter.widget-view+json": {
       "model_id": "f3b24959c8984c3c870f76982bf9d959",
       "version_major": 2,
       "version_minor": 0
      },
      "text/plain": [
       "HBox(children=(HTML(value='Evaluating'), FloatProgress(value=0.0, max=94.0), HTML(value='')))"
      ]
     },
     "metadata": {},
     "output_type": "display_data"
    },
    {
     "name": "stdout",
     "output_type": "stream",
     "text": [
      "Epoch: 02 | Epoch Time: 0m 23s\n",
      "\tTrain Loss: 1.521 | Train Acc: 94.49%\n",
      "\t Val. Loss: 1.503 |  Val. Acc: 95.99%\n"
     ]
    },
    {
     "data": {
      "application/vnd.jupyter.widget-view+json": {
       "model_id": "4cb6a94f3eea4a4eb9fdcaa1f58646dd",
       "version_major": 2,
       "version_minor": 0
      },
      "text/plain": [
       "HBox(children=(HTML(value='Training'), FloatProgress(value=0.0, max=844.0), HTML(value='')))"
      ]
     },
     "metadata": {},
     "output_type": "display_data"
    },
    {
     "data": {
      "application/vnd.jupyter.widget-view+json": {
       "model_id": "d5e8dea8bb28499bbe35ec955ad2fc37",
       "version_major": 2,
       "version_minor": 0
      },
      "text/plain": [
       "HBox(children=(HTML(value='Evaluating'), FloatProgress(value=0.0, max=94.0), HTML(value='')))"
      ]
     },
     "metadata": {},
     "output_type": "display_data"
    },
    {
     "name": "stdout",
     "output_type": "stream",
     "text": [
      "Epoch: 03 | Epoch Time: 0m 23s\n",
      "\tTrain Loss: 1.508 | Train Acc: 95.58%\n",
      "\t Val. Loss: 1.489 |  Val. Acc: 97.36%\n"
     ]
    },
    {
     "data": {
      "application/vnd.jupyter.widget-view+json": {
       "model_id": "7bc0161520984b228a519dba07ef6220",
       "version_major": 2,
       "version_minor": 0
      },
      "text/plain": [
       "HBox(children=(HTML(value='Training'), FloatProgress(value=0.0, max=844.0), HTML(value='')))"
      ]
     },
     "metadata": {},
     "output_type": "display_data"
    },
    {
     "data": {
      "application/vnd.jupyter.widget-view+json": {
       "model_id": "1055074e99fb4ad2b9bb948cea5fd7a1",
       "version_major": 2,
       "version_minor": 0
      },
      "text/plain": [
       "HBox(children=(HTML(value='Evaluating'), FloatProgress(value=0.0, max=94.0), HTML(value='')))"
      ]
     },
     "metadata": {},
     "output_type": "display_data"
    },
    {
     "name": "stdout",
     "output_type": "stream",
     "text": [
      "Epoch: 04 | Epoch Time: 0m 22s\n",
      "\tTrain Loss: 1.500 | Train Acc: 96.25%\n",
      "\t Val. Loss: 1.498 |  Val. Acc: 96.47%\n"
     ]
    },
    {
     "data": {
      "application/vnd.jupyter.widget-view+json": {
       "model_id": "16753b9abe2442779071c372cc79af64",
       "version_major": 2,
       "version_minor": 0
      },
      "text/plain": [
       "HBox(children=(HTML(value='Training'), FloatProgress(value=0.0, max=844.0), HTML(value='')))"
      ]
     },
     "metadata": {},
     "output_type": "display_data"
    },
    {
     "data": {
      "application/vnd.jupyter.widget-view+json": {
       "model_id": "9b07f890cd9e46bd86920f11650685a0",
       "version_major": 2,
       "version_minor": 0
      },
      "text/plain": [
       "HBox(children=(HTML(value='Evaluating'), FloatProgress(value=0.0, max=94.0), HTML(value='')))"
      ]
     },
     "metadata": {},
     "output_type": "display_data"
    },
    {
     "name": "stdout",
     "output_type": "stream",
     "text": [
      "Epoch: 05 | Epoch Time: 0m 22s\n",
      "\tTrain Loss: 1.497 | Train Acc: 96.53%\n",
      "\t Val. Loss: 1.486 |  Val. Acc: 97.65%\n"
     ]
    },
    {
     "data": {
      "application/vnd.jupyter.widget-view+json": {
       "model_id": "3085191f6859481bb8beaea2b2eeb715",
       "version_major": 2,
       "version_minor": 0
      },
      "text/plain": [
       "HBox(children=(HTML(value='Training'), FloatProgress(value=0.0, max=844.0), HTML(value='')))"
      ]
     },
     "metadata": {},
     "output_type": "display_data"
    },
    {
     "data": {
      "application/vnd.jupyter.widget-view+json": {
       "model_id": "8e206a3a25974cd6a1f99a91808865bf",
       "version_major": 2,
       "version_minor": 0
      },
      "text/plain": [
       "HBox(children=(HTML(value='Evaluating'), FloatProgress(value=0.0, max=94.0), HTML(value='')))"
      ]
     },
     "metadata": {},
     "output_type": "display_data"
    },
    {
     "name": "stdout",
     "output_type": "stream",
     "text": [
      "Epoch: 06 | Epoch Time: 0m 23s\n",
      "\tTrain Loss: 1.495 | Train Acc: 96.71%\n",
      "\t Val. Loss: 1.488 |  Val. Acc: 97.26%\n"
     ]
    },
    {
     "data": {
      "application/vnd.jupyter.widget-view+json": {
       "model_id": "c77adee8b8aa4999a853a4644696a1f9",
       "version_major": 2,
       "version_minor": 0
      },
      "text/plain": [
       "HBox(children=(HTML(value='Training'), FloatProgress(value=0.0, max=844.0), HTML(value='')))"
      ]
     },
     "metadata": {},
     "output_type": "display_data"
    },
    {
     "data": {
      "application/vnd.jupyter.widget-view+json": {
       "model_id": "1b8f6899f5bd4ad19c8df1e77f39f675",
       "version_major": 2,
       "version_minor": 0
      },
      "text/plain": [
       "HBox(children=(HTML(value='Evaluating'), FloatProgress(value=0.0, max=94.0), HTML(value='')))"
      ]
     },
     "metadata": {},
     "output_type": "display_data"
    },
    {
     "name": "stdout",
     "output_type": "stream",
     "text": [
      "Epoch: 07 | Epoch Time: 0m 23s\n",
      "\tTrain Loss: 1.492 | Train Acc: 97.05%\n",
      "\t Val. Loss: 1.483 |  Val. Acc: 97.91%\n"
     ]
    },
    {
     "data": {
      "application/vnd.jupyter.widget-view+json": {
       "model_id": "44b16c5b9f5e411086b619e4783adfd7",
       "version_major": 2,
       "version_minor": 0
      },
      "text/plain": [
       "HBox(children=(HTML(value='Training'), FloatProgress(value=0.0, max=844.0), HTML(value='')))"
      ]
     },
     "metadata": {},
     "output_type": "display_data"
    },
    {
     "data": {
      "application/vnd.jupyter.widget-view+json": {
       "model_id": "45b54253ea5e4d7088e030f01d64ec62",
       "version_major": 2,
       "version_minor": 0
      },
      "text/plain": [
       "HBox(children=(HTML(value='Evaluating'), FloatProgress(value=0.0, max=94.0), HTML(value='')))"
      ]
     },
     "metadata": {},
     "output_type": "display_data"
    },
    {
     "name": "stdout",
     "output_type": "stream",
     "text": [
      "Epoch: 08 | Epoch Time: 0m 22s\n",
      "\tTrain Loss: 1.489 | Train Acc: 97.27%\n",
      "\t Val. Loss: 1.482 |  Val. Acc: 97.98%\n"
     ]
    },
    {
     "data": {
      "application/vnd.jupyter.widget-view+json": {
       "model_id": "52f57a4a0fbf4b1fbbc0c10dd613d5fb",
       "version_major": 2,
       "version_minor": 0
      },
      "text/plain": [
       "HBox(children=(HTML(value='Training'), FloatProgress(value=0.0, max=844.0), HTML(value='')))"
      ]
     },
     "metadata": {},
     "output_type": "display_data"
    },
    {
     "data": {
      "application/vnd.jupyter.widget-view+json": {
       "model_id": "03fcd391c43d41baa8aaaff71c3e1548",
       "version_major": 2,
       "version_minor": 0
      },
      "text/plain": [
       "HBox(children=(HTML(value='Evaluating'), FloatProgress(value=0.0, max=94.0), HTML(value='')))"
      ]
     },
     "metadata": {},
     "output_type": "display_data"
    },
    {
     "name": "stdout",
     "output_type": "stream",
     "text": [
      "Epoch: 09 | Epoch Time: 0m 22s\n",
      "\tTrain Loss: 1.488 | Train Acc: 97.37%\n",
      "\t Val. Loss: 1.483 |  Val. Acc: 97.83%\n"
     ]
    },
    {
     "data": {
      "application/vnd.jupyter.widget-view+json": {
       "model_id": "1a97d084de004f4abbf7d2c6bfab7a14",
       "version_major": 2,
       "version_minor": 0
      },
      "text/plain": [
       "HBox(children=(HTML(value='Training'), FloatProgress(value=0.0, max=844.0), HTML(value='')))"
      ]
     },
     "metadata": {},
     "output_type": "display_data"
    },
    {
     "data": {
      "application/vnd.jupyter.widget-view+json": {
       "model_id": "2040c244dfb041f59d3965d42c3875ae",
       "version_major": 2,
       "version_minor": 0
      },
      "text/plain": [
       "HBox(children=(HTML(value='Evaluating'), FloatProgress(value=0.0, max=94.0), HTML(value='')))"
      ]
     },
     "metadata": {},
     "output_type": "display_data"
    },
    {
     "name": "stdout",
     "output_type": "stream",
     "text": [
      "Epoch: 10 | Epoch Time: 0m 22s\n",
      "\tTrain Loss: 1.488 | Train Acc: 97.39%\n",
      "\t Val. Loss: 1.477 |  Val. Acc: 98.46%\n",
      "\n"
     ]
    }
   ],
   "source": [
    "#!g1.1\n",
    "train_model(model2, name2, n_epochs, train_iterator, valid_iterator)"
   ]
  },
  {
   "cell_type": "markdown",
   "id": "338cd9e9",
   "metadata": {
    "cellId": "vm958h5xptre0w0gmwv3gb"
   },
   "source": [
    "FMNIST:"
   ]
  },
  {
   "cell_type": "code",
   "execution_count": 320,
   "id": "e9d6daf2",
   "metadata": {
    "cellId": "etsxdlm1r2del3bmmv0vzd"
   },
   "outputs": [],
   "source": [
    "#!g1.1\n",
    "train_iterator = train_iterator_2\n",
    "valid_iterator = valid_iterator_2\n",
    "model1 = LeNet_deep(10)\n",
    "model2 = LeNet_shallow(10)\n",
    "name1 = 'LeNet_deep-2'\n",
    "name2 = 'LeNet_shallow-2'"
   ]
  },
  {
   "cell_type": "code",
   "execution_count": 321,
   "id": "ea1bcdd8",
   "metadata": {
    "cellId": "ku6afdm2g8ekswd5w5jh"
   },
   "outputs": [
    {
     "data": {
      "application/vnd.jupyter.widget-view+json": {
       "model_id": "8f645995842d4df2a57a20bd33baa9d8",
       "version_major": 2,
       "version_minor": 0
      },
      "text/plain": [
       "HBox(children=(HTML(value='Epochs'), FloatProgress(value=0.0, max=10.0), HTML(value='')))"
      ]
     },
     "metadata": {},
     "output_type": "display_data"
    },
    {
     "data": {
      "application/vnd.jupyter.widget-view+json": {
       "model_id": "5564b3bd3b544b399d522544c2e5ef8b",
       "version_major": 2,
       "version_minor": 0
      },
      "text/plain": [
       "HBox(children=(HTML(value='Training'), FloatProgress(value=0.0, max=844.0), HTML(value='')))"
      ]
     },
     "metadata": {},
     "output_type": "display_data"
    },
    {
     "data": {
      "application/vnd.jupyter.widget-view+json": {
       "model_id": "d404f62f1ab0470d9d8086d203ca14ce",
       "version_major": 2,
       "version_minor": 0
      },
      "text/plain": [
       "HBox(children=(HTML(value='Evaluating'), FloatProgress(value=0.0, max=94.0), HTML(value='')))"
      ]
     },
     "metadata": {},
     "output_type": "display_data"
    },
    {
     "name": "stdout",
     "output_type": "stream",
     "text": [
      "Epoch: 01 | Epoch Time: 0m 24s\n",
      "\tTrain Loss: 1.816 | Train Acc: 64.66%\n",
      "\t Val. Loss: 1.691 |  Val. Acc: 76.97%\n"
     ]
    },
    {
     "data": {
      "application/vnd.jupyter.widget-view+json": {
       "model_id": "89d09202be1c47439ad067e9f7a75de8",
       "version_major": 2,
       "version_minor": 0
      },
      "text/plain": [
       "HBox(children=(HTML(value='Training'), FloatProgress(value=0.0, max=844.0), HTML(value='')))"
      ]
     },
     "metadata": {},
     "output_type": "display_data"
    },
    {
     "data": {
      "application/vnd.jupyter.widget-view+json": {
       "model_id": "6e80a37046fa4bec9b91bc7d9e45746a",
       "version_major": 2,
       "version_minor": 0
      },
      "text/plain": [
       "HBox(children=(HTML(value='Evaluating'), FloatProgress(value=0.0, max=94.0), HTML(value='')))"
      ]
     },
     "metadata": {},
     "output_type": "display_data"
    },
    {
     "name": "stdout",
     "output_type": "stream",
     "text": [
      "Epoch: 02 | Epoch Time: 0m 24s\n",
      "\tTrain Loss: 1.616 | Train Acc: 84.61%\n",
      "\t Val. Loss: 1.510 |  Val. Acc: 95.26%\n"
     ]
    },
    {
     "data": {
      "application/vnd.jupyter.widget-view+json": {
       "model_id": "16d3c497636c4f349c691e0160c9435e",
       "version_major": 2,
       "version_minor": 0
      },
      "text/plain": [
       "HBox(children=(HTML(value='Training'), FloatProgress(value=0.0, max=844.0), HTML(value='')))"
      ]
     },
     "metadata": {},
     "output_type": "display_data"
    },
    {
     "data": {
      "application/vnd.jupyter.widget-view+json": {
       "model_id": "8fa01198366f405583eca573318fdbf4",
       "version_major": 2,
       "version_minor": 0
      },
      "text/plain": [
       "HBox(children=(HTML(value='Evaluating'), FloatProgress(value=0.0, max=94.0), HTML(value='')))"
      ]
     },
     "metadata": {},
     "output_type": "display_data"
    },
    {
     "name": "stdout",
     "output_type": "stream",
     "text": [
      "Epoch: 03 | Epoch Time: 0m 24s\n",
      "\tTrain Loss: 1.515 | Train Acc: 94.69%\n",
      "\t Val. Loss: 1.492 |  Val. Acc: 96.95%\n"
     ]
    },
    {
     "data": {
      "application/vnd.jupyter.widget-view+json": {
       "model_id": "7b48195f374c4672a31dd998653d7591",
       "version_major": 2,
       "version_minor": 0
      },
      "text/plain": [
       "HBox(children=(HTML(value='Training'), FloatProgress(value=0.0, max=844.0), HTML(value='')))"
      ]
     },
     "metadata": {},
     "output_type": "display_data"
    },
    {
     "data": {
      "application/vnd.jupyter.widget-view+json": {
       "model_id": "9a5aed257a724995af6ca948dbb699ca",
       "version_major": 2,
       "version_minor": 0
      },
      "text/plain": [
       "HBox(children=(HTML(value='Evaluating'), FloatProgress(value=0.0, max=94.0), HTML(value='')))"
      ]
     },
     "metadata": {},
     "output_type": "display_data"
    },
    {
     "name": "stdout",
     "output_type": "stream",
     "text": [
      "Epoch: 04 | Epoch Time: 0m 24s\n",
      "\tTrain Loss: 1.504 | Train Acc: 95.76%\n",
      "\t Val. Loss: 1.489 |  Val. Acc: 97.24%\n"
     ]
    },
    {
     "data": {
      "application/vnd.jupyter.widget-view+json": {
       "model_id": "04bacebb1ac74725a87e2049c0423da8",
       "version_major": 2,
       "version_minor": 0
      },
      "text/plain": [
       "HBox(children=(HTML(value='Training'), FloatProgress(value=0.0, max=844.0), HTML(value='')))"
      ]
     },
     "metadata": {},
     "output_type": "display_data"
    },
    {
     "data": {
      "application/vnd.jupyter.widget-view+json": {
       "model_id": "492fe9395fa34a99ab70feb40d8cc5a0",
       "version_major": 2,
       "version_minor": 0
      },
      "text/plain": [
       "HBox(children=(HTML(value='Evaluating'), FloatProgress(value=0.0, max=94.0), HTML(value='')))"
      ]
     },
     "metadata": {},
     "output_type": "display_data"
    },
    {
     "name": "stdout",
     "output_type": "stream",
     "text": [
      "Epoch: 05 | Epoch Time: 0m 24s\n",
      "\tTrain Loss: 1.501 | Train Acc: 96.05%\n",
      "\t Val. Loss: 1.493 |  Val. Acc: 96.89%\n"
     ]
    },
    {
     "data": {
      "application/vnd.jupyter.widget-view+json": {
       "model_id": "6de31b28b7254a3a818fadca329fb1c8",
       "version_major": 2,
       "version_minor": 0
      },
      "text/plain": [
       "HBox(children=(HTML(value='Training'), FloatProgress(value=0.0, max=844.0), HTML(value='')))"
      ]
     },
     "metadata": {},
     "output_type": "display_data"
    },
    {
     "data": {
      "application/vnd.jupyter.widget-view+json": {
       "model_id": "cb5f2faa62b84c388fd6a38912b70dd9",
       "version_major": 2,
       "version_minor": 0
      },
      "text/plain": [
       "HBox(children=(HTML(value='Evaluating'), FloatProgress(value=0.0, max=94.0), HTML(value='')))"
      ]
     },
     "metadata": {},
     "output_type": "display_data"
    },
    {
     "name": "stdout",
     "output_type": "stream",
     "text": [
      "Epoch: 06 | Epoch Time: 0m 24s\n",
      "\tTrain Loss: 1.497 | Train Acc: 96.37%\n",
      "\t Val. Loss: 1.484 |  Val. Acc: 97.72%\n"
     ]
    },
    {
     "data": {
      "application/vnd.jupyter.widget-view+json": {
       "model_id": "858acdb115db4e1c866e6ae21dae74e5",
       "version_major": 2,
       "version_minor": 0
      },
      "text/plain": [
       "HBox(children=(HTML(value='Training'), FloatProgress(value=0.0, max=844.0), HTML(value='')))"
      ]
     },
     "metadata": {},
     "output_type": "display_data"
    },
    {
     "data": {
      "application/vnd.jupyter.widget-view+json": {
       "model_id": "655377fdafb14d939e0d04cc701b0fb6",
       "version_major": 2,
       "version_minor": 0
      },
      "text/plain": [
       "HBox(children=(HTML(value='Evaluating'), FloatProgress(value=0.0, max=94.0), HTML(value='')))"
      ]
     },
     "metadata": {},
     "output_type": "display_data"
    },
    {
     "name": "stdout",
     "output_type": "stream",
     "text": [
      "Epoch: 07 | Epoch Time: 0m 24s\n",
      "\tTrain Loss: 1.496 | Train Acc: 96.57%\n",
      "\t Val. Loss: 1.489 |  Val. Acc: 97.14%\n"
     ]
    },
    {
     "data": {
      "application/vnd.jupyter.widget-view+json": {
       "model_id": "05a24231a41a4ddbbac5df9356175350",
       "version_major": 2,
       "version_minor": 0
      },
      "text/plain": [
       "HBox(children=(HTML(value='Training'), FloatProgress(value=0.0, max=844.0), HTML(value='')))"
      ]
     },
     "metadata": {},
     "output_type": "display_data"
    },
    {
     "data": {
      "application/vnd.jupyter.widget-view+json": {
       "model_id": "ceeb5dd42ba14e9d8a07d178aece858e",
       "version_major": 2,
       "version_minor": 0
      },
      "text/plain": [
       "HBox(children=(HTML(value='Evaluating'), FloatProgress(value=0.0, max=94.0), HTML(value='')))"
      ]
     },
     "metadata": {},
     "output_type": "display_data"
    },
    {
     "name": "stdout",
     "output_type": "stream",
     "text": [
      "Epoch: 08 | Epoch Time: 0m 24s\n",
      "\tTrain Loss: 1.497 | Train Acc: 96.39%\n",
      "\t Val. Loss: 1.481 |  Val. Acc: 98.00%\n"
     ]
    },
    {
     "data": {
      "application/vnd.jupyter.widget-view+json": {
       "model_id": "90b9e5fa9fe741b19f88e8639011a3dc",
       "version_major": 2,
       "version_minor": 0
      },
      "text/plain": [
       "HBox(children=(HTML(value='Training'), FloatProgress(value=0.0, max=844.0), HTML(value='')))"
      ]
     },
     "metadata": {},
     "output_type": "display_data"
    },
    {
     "data": {
      "application/vnd.jupyter.widget-view+json": {
       "model_id": "9b41b740a1f149b3b8af6bc02c666a26",
       "version_major": 2,
       "version_minor": 0
      },
      "text/plain": [
       "HBox(children=(HTML(value='Evaluating'), FloatProgress(value=0.0, max=94.0), HTML(value='')))"
      ]
     },
     "metadata": {},
     "output_type": "display_data"
    },
    {
     "name": "stdout",
     "output_type": "stream",
     "text": [
      "Epoch: 09 | Epoch Time: 0m 25s\n",
      "\tTrain Loss: 1.494 | Train Acc: 96.68%\n",
      "\t Val. Loss: 1.480 |  Val. Acc: 98.08%\n"
     ]
    },
    {
     "data": {
      "application/vnd.jupyter.widget-view+json": {
       "model_id": "8745f6cb99004e9e904a765d04cd22ed",
       "version_major": 2,
       "version_minor": 0
      },
      "text/plain": [
       "HBox(children=(HTML(value='Training'), FloatProgress(value=0.0, max=844.0), HTML(value='')))"
      ]
     },
     "metadata": {},
     "output_type": "display_data"
    },
    {
     "data": {
      "application/vnd.jupyter.widget-view+json": {
       "model_id": "c8c45aa7ec1845f781f34c25087d6508",
       "version_major": 2,
       "version_minor": 0
      },
      "text/plain": [
       "HBox(children=(HTML(value='Evaluating'), FloatProgress(value=0.0, max=94.0), HTML(value='')))"
      ]
     },
     "metadata": {},
     "output_type": "display_data"
    },
    {
     "name": "stdout",
     "output_type": "stream",
     "text": [
      "Epoch: 10 | Epoch Time: 0m 25s\n",
      "\tTrain Loss: 1.494 | Train Acc: 96.71%\n",
      "\t Val. Loss: 1.485 |  Val. Acc: 97.61%\n",
      "\n"
     ]
    }
   ],
   "source": [
    "#!g1.1\n",
    "train_model(model1, name1, n_epochs, train_iterator, valid_iterator)"
   ]
  },
  {
   "cell_type": "code",
   "execution_count": 322,
   "id": "15376ace",
   "metadata": {
    "cellId": "ec6ym40kpavr4rea5ayiud"
   },
   "outputs": [
    {
     "data": {
      "application/vnd.jupyter.widget-view+json": {
       "model_id": "097ae44082d649259d162202cd006210",
       "version_major": 2,
       "version_minor": 0
      },
      "text/plain": [
       "HBox(children=(HTML(value='Epochs'), FloatProgress(value=0.0, max=10.0), HTML(value='')))"
      ]
     },
     "metadata": {},
     "output_type": "display_data"
    },
    {
     "data": {
      "application/vnd.jupyter.widget-view+json": {
       "model_id": "7c0a3400a6ba4e0e8accfc93f1f8d469",
       "version_major": 2,
       "version_minor": 0
      },
      "text/plain": [
       "HBox(children=(HTML(value='Training'), FloatProgress(value=0.0, max=844.0), HTML(value='')))"
      ]
     },
     "metadata": {},
     "output_type": "display_data"
    },
    {
     "data": {
      "application/vnd.jupyter.widget-view+json": {
       "model_id": "c98ebd4884584091bc63f33d5b5575cb",
       "version_major": 2,
       "version_minor": 0
      },
      "text/plain": [
       "HBox(children=(HTML(value='Evaluating'), FloatProgress(value=0.0, max=94.0), HTML(value='')))"
      ]
     },
     "metadata": {},
     "output_type": "display_data"
    },
    {
     "name": "stdout",
     "output_type": "stream",
     "text": [
      "Epoch: 01 | Epoch Time: 0m 23s\n",
      "\tTrain Loss: 1.695 | Train Acc: 77.90%\n",
      "\t Val. Loss: 1.510 |  Val. Acc: 95.77%\n"
     ]
    },
    {
     "data": {
      "application/vnd.jupyter.widget-view+json": {
       "model_id": "26544c8b8a0c40d0b3910ee2702cef88",
       "version_major": 2,
       "version_minor": 0
      },
      "text/plain": [
       "HBox(children=(HTML(value='Training'), FloatProgress(value=0.0, max=844.0), HTML(value='')))"
      ]
     },
     "metadata": {},
     "output_type": "display_data"
    },
    {
     "data": {
      "application/vnd.jupyter.widget-view+json": {
       "model_id": "27d603c1ab9945b69d7a12aec49fdeb3",
       "version_major": 2,
       "version_minor": 0
      },
      "text/plain": [
       "HBox(children=(HTML(value='Evaluating'), FloatProgress(value=0.0, max=94.0), HTML(value='')))"
      ]
     },
     "metadata": {},
     "output_type": "display_data"
    },
    {
     "name": "stdout",
     "output_type": "stream",
     "text": [
      "Epoch: 02 | Epoch Time: 0m 25s\n",
      "\tTrain Loss: 1.526 | Train Acc: 93.98%\n",
      "\t Val. Loss: 1.493 |  Val. Acc: 97.04%\n"
     ]
    },
    {
     "data": {
      "application/vnd.jupyter.widget-view+json": {
       "model_id": "e399102b1df14fb086a74afa725eafe2",
       "version_major": 2,
       "version_minor": 0
      },
      "text/plain": [
       "HBox(children=(HTML(value='Training'), FloatProgress(value=0.0, max=844.0), HTML(value='')))"
      ]
     },
     "metadata": {},
     "output_type": "display_data"
    },
    {
     "data": {
      "application/vnd.jupyter.widget-view+json": {
       "model_id": "75d11eaf8c654dfc9c4d58d97a8a025f",
       "version_major": 2,
       "version_minor": 0
      },
      "text/plain": [
       "HBox(children=(HTML(value='Evaluating'), FloatProgress(value=0.0, max=94.0), HTML(value='')))"
      ]
     },
     "metadata": {},
     "output_type": "display_data"
    },
    {
     "name": "stdout",
     "output_type": "stream",
     "text": [
      "Epoch: 03 | Epoch Time: 0m 23s\n",
      "\tTrain Loss: 1.512 | Train Acc: 95.17%\n",
      "\t Val. Loss: 1.491 |  Val. Acc: 97.27%\n"
     ]
    },
    {
     "data": {
      "application/vnd.jupyter.widget-view+json": {
       "model_id": "111a70a6865245d3ab181a6b0df43e14",
       "version_major": 2,
       "version_minor": 0
      },
      "text/plain": [
       "HBox(children=(HTML(value='Training'), FloatProgress(value=0.0, max=844.0), HTML(value='')))"
      ]
     },
     "metadata": {},
     "output_type": "display_data"
    },
    {
     "data": {
      "application/vnd.jupyter.widget-view+json": {
       "model_id": "46298de9b7b14a898207a15b33e97f6f",
       "version_major": 2,
       "version_minor": 0
      },
      "text/plain": [
       "HBox(children=(HTML(value='Evaluating'), FloatProgress(value=0.0, max=94.0), HTML(value='')))"
      ]
     },
     "metadata": {},
     "output_type": "display_data"
    },
    {
     "name": "stdout",
     "output_type": "stream",
     "text": [
      "Epoch: 04 | Epoch Time: 0m 23s\n",
      "\tTrain Loss: 1.504 | Train Acc: 95.92%\n",
      "\t Val. Loss: 1.492 |  Val. Acc: 96.96%\n"
     ]
    },
    {
     "data": {
      "application/vnd.jupyter.widget-view+json": {
       "model_id": "4b4ba5ebed1b49d6b0eabec600b265bc",
       "version_major": 2,
       "version_minor": 0
      },
      "text/plain": [
       "HBox(children=(HTML(value='Training'), FloatProgress(value=0.0, max=844.0), HTML(value='')))"
      ]
     },
     "metadata": {},
     "output_type": "display_data"
    },
    {
     "data": {
      "application/vnd.jupyter.widget-view+json": {
       "model_id": "6422c994ddda4eea9aa0c341fb1d206b",
       "version_major": 2,
       "version_minor": 0
      },
      "text/plain": [
       "HBox(children=(HTML(value='Evaluating'), FloatProgress(value=0.0, max=94.0), HTML(value='')))"
      ]
     },
     "metadata": {},
     "output_type": "display_data"
    },
    {
     "name": "stdout",
     "output_type": "stream",
     "text": [
      "Epoch: 05 | Epoch Time: 0m 23s\n",
      "\tTrain Loss: 1.499 | Train Acc: 96.31%\n",
      "\t Val. Loss: 1.484 |  Val. Acc: 97.82%\n"
     ]
    },
    {
     "data": {
      "application/vnd.jupyter.widget-view+json": {
       "model_id": "8d7249870ecf4695bc3798dabe8e4cd7",
       "version_major": 2,
       "version_minor": 0
      },
      "text/plain": [
       "HBox(children=(HTML(value='Training'), FloatProgress(value=0.0, max=844.0), HTML(value='')))"
      ]
     },
     "metadata": {},
     "output_type": "display_data"
    },
    {
     "data": {
      "application/vnd.jupyter.widget-view+json": {
       "model_id": "c22a3be3b54c455bb703dc72ebeb094f",
       "version_major": 2,
       "version_minor": 0
      },
      "text/plain": [
       "HBox(children=(HTML(value='Evaluating'), FloatProgress(value=0.0, max=94.0), HTML(value='')))"
      ]
     },
     "metadata": {},
     "output_type": "display_data"
    },
    {
     "name": "stdout",
     "output_type": "stream",
     "text": [
      "Epoch: 06 | Epoch Time: 0m 22s\n",
      "\tTrain Loss: 1.497 | Train Acc: 96.52%\n",
      "\t Val. Loss: 1.483 |  Val. Acc: 97.92%\n"
     ]
    },
    {
     "data": {
      "application/vnd.jupyter.widget-view+json": {
       "model_id": "15591b3a56df489094398f111334c240",
       "version_major": 2,
       "version_minor": 0
      },
      "text/plain": [
       "HBox(children=(HTML(value='Training'), FloatProgress(value=0.0, max=844.0), HTML(value='')))"
      ]
     },
     "metadata": {},
     "output_type": "display_data"
    },
    {
     "data": {
      "application/vnd.jupyter.widget-view+json": {
       "model_id": "8a15b31ad9e64570bd9979127a5d3067",
       "version_major": 2,
       "version_minor": 0
      },
      "text/plain": [
       "HBox(children=(HTML(value='Evaluating'), FloatProgress(value=0.0, max=94.0), HTML(value='')))"
      ]
     },
     "metadata": {},
     "output_type": "display_data"
    },
    {
     "name": "stdout",
     "output_type": "stream",
     "text": [
      "Epoch: 07 | Epoch Time: 0m 22s\n",
      "\tTrain Loss: 1.494 | Train Acc: 96.78%\n",
      "\t Val. Loss: 1.481 |  Val. Acc: 98.12%\n"
     ]
    },
    {
     "data": {
      "application/vnd.jupyter.widget-view+json": {
       "model_id": "b8e1dc6d74f54aed9cf685fc16f317a6",
       "version_major": 2,
       "version_minor": 0
      },
      "text/plain": [
       "HBox(children=(HTML(value='Training'), FloatProgress(value=0.0, max=844.0), HTML(value='')))"
      ]
     },
     "metadata": {},
     "output_type": "display_data"
    },
    {
     "data": {
      "application/vnd.jupyter.widget-view+json": {
       "model_id": "01bd8a725ee34c3ab5f41b51b0003994",
       "version_major": 2,
       "version_minor": 0
      },
      "text/plain": [
       "HBox(children=(HTML(value='Evaluating'), FloatProgress(value=0.0, max=94.0), HTML(value='')))"
      ]
     },
     "metadata": {},
     "output_type": "display_data"
    },
    {
     "name": "stdout",
     "output_type": "stream",
     "text": [
      "Epoch: 08 | Epoch Time: 0m 21s\n",
      "\tTrain Loss: 1.491 | Train Acc: 97.07%\n",
      "\t Val. Loss: 1.479 |  Val. Acc: 98.20%\n"
     ]
    },
    {
     "data": {
      "application/vnd.jupyter.widget-view+json": {
       "model_id": "4c758d30a61d4fb7bb923a29cd1abc2c",
       "version_major": 2,
       "version_minor": 0
      },
      "text/plain": [
       "HBox(children=(HTML(value='Training'), FloatProgress(value=0.0, max=844.0), HTML(value='')))"
      ]
     },
     "metadata": {},
     "output_type": "display_data"
    },
    {
     "data": {
      "application/vnd.jupyter.widget-view+json": {
       "model_id": "127894e7313440c5a7ddd082145541f8",
       "version_major": 2,
       "version_minor": 0
      },
      "text/plain": [
       "HBox(children=(HTML(value='Evaluating'), FloatProgress(value=0.0, max=94.0), HTML(value='')))"
      ]
     },
     "metadata": {},
     "output_type": "display_data"
    },
    {
     "name": "stdout",
     "output_type": "stream",
     "text": [
      "Epoch: 09 | Epoch Time: 0m 22s\n",
      "\tTrain Loss: 1.490 | Train Acc: 97.19%\n",
      "\t Val. Loss: 1.480 |  Val. Acc: 98.07%\n"
     ]
    },
    {
     "data": {
      "application/vnd.jupyter.widget-view+json": {
       "model_id": "ccbe9bd8c59a49a6a2756b981bdfef9c",
       "version_major": 2,
       "version_minor": 0
      },
      "text/plain": [
       "HBox(children=(HTML(value='Training'), FloatProgress(value=0.0, max=844.0), HTML(value='')))"
      ]
     },
     "metadata": {},
     "output_type": "display_data"
    },
    {
     "data": {
      "application/vnd.jupyter.widget-view+json": {
       "model_id": "01e44fb8248243bd910a6fafffc2a1e4",
       "version_major": 2,
       "version_minor": 0
      },
      "text/plain": [
       "HBox(children=(HTML(value='Evaluating'), FloatProgress(value=0.0, max=94.0), HTML(value='')))"
      ]
     },
     "metadata": {},
     "output_type": "display_data"
    },
    {
     "name": "stdout",
     "output_type": "stream",
     "text": [
      "Epoch: 10 | Epoch Time: 0m 21s\n",
      "\tTrain Loss: 1.489 | Train Acc: 97.30%\n",
      "\t Val. Loss: 1.480 |  Val. Acc: 98.23%\n",
      "\n"
     ]
    }
   ],
   "source": [
    "#!g1.1\n",
    "train_model(model2, name2, n_epochs, train_iterator, valid_iterator)"
   ]
  },
  {
   "cell_type": "markdown",
   "id": "6231525c",
   "metadata": {
    "cellId": "qtx7yqkostqlpjdwngr5q"
   },
   "source": [
    "KMNIST:"
   ]
  },
  {
   "cell_type": "code",
   "execution_count": 323,
   "id": "8e15799e",
   "metadata": {
    "cellId": "n4hacv5f1srimgdftb3ym"
   },
   "outputs": [],
   "source": [
    "#!g1.1\n",
    "train_iterator = train_iterator_3\n",
    "valid_iterator = valid_iterator_3\n",
    "model1 = LeNet_deep(10)\n",
    "model2 = LeNet_shallow(10)\n",
    "name1 = 'LeNet_deep-3'\n",
    "name2 = 'LeNet_shallow-3'"
   ]
  },
  {
   "cell_type": "code",
   "execution_count": 324,
   "id": "fc848174",
   "metadata": {
    "cellId": "sxicsmru4okg9rd1w11ij"
   },
   "outputs": [
    {
     "data": {
      "application/vnd.jupyter.widget-view+json": {
       "model_id": "d429251beac943c69a4ce7f1d85b73e3",
       "version_major": 2,
       "version_minor": 0
      },
      "text/plain": [
       "HBox(children=(HTML(value='Epochs'), FloatProgress(value=0.0, max=10.0), HTML(value='')))"
      ]
     },
     "metadata": {},
     "output_type": "display_data"
    },
    {
     "data": {
      "application/vnd.jupyter.widget-view+json": {
       "model_id": "dd42230939674cd798dabed29d9d3f27",
       "version_major": 2,
       "version_minor": 0
      },
      "text/plain": [
       "HBox(children=(HTML(value='Training'), FloatProgress(value=0.0, max=844.0), HTML(value='')))"
      ]
     },
     "metadata": {},
     "output_type": "display_data"
    },
    {
     "data": {
      "application/vnd.jupyter.widget-view+json": {
       "model_id": "be1c0bc0b24d442aa225485fcb5c4ac9",
       "version_major": 2,
       "version_minor": 0
      },
      "text/plain": [
       "HBox(children=(HTML(value='Evaluating'), FloatProgress(value=0.0, max=94.0), HTML(value='')))"
      ]
     },
     "metadata": {},
     "output_type": "display_data"
    },
    {
     "name": "stdout",
     "output_type": "stream",
     "text": [
      "Epoch: 01 | Epoch Time: 0m 24s\n",
      "\tTrain Loss: 1.703 | Train Acc: 76.14%\n",
      "\t Val. Loss: 1.510 |  Val. Acc: 95.24%\n"
     ]
    },
    {
     "data": {
      "application/vnd.jupyter.widget-view+json": {
       "model_id": "b8756f086cf04769a3dff1a9af03029f",
       "version_major": 2,
       "version_minor": 0
      },
      "text/plain": [
       "HBox(children=(HTML(value='Training'), FloatProgress(value=0.0, max=844.0), HTML(value='')))"
      ]
     },
     "metadata": {},
     "output_type": "display_data"
    },
    {
     "data": {
      "application/vnd.jupyter.widget-view+json": {
       "model_id": "94a7ca76804a4df2bf859f61de9ab751",
       "version_major": 2,
       "version_minor": 0
      },
      "text/plain": [
       "HBox(children=(HTML(value='Evaluating'), FloatProgress(value=0.0, max=94.0), HTML(value='')))"
      ]
     },
     "metadata": {},
     "output_type": "display_data"
    },
    {
     "name": "stdout",
     "output_type": "stream",
     "text": [
      "Epoch: 02 | Epoch Time: 0m 24s\n",
      "\tTrain Loss: 1.527 | Train Acc: 93.58%\n",
      "\t Val. Loss: 1.497 |  Val. Acc: 96.53%\n"
     ]
    },
    {
     "data": {
      "application/vnd.jupyter.widget-view+json": {
       "model_id": "e0aa42cdf29048588ba0406ebc5b4332",
       "version_major": 2,
       "version_minor": 0
      },
      "text/plain": [
       "HBox(children=(HTML(value='Training'), FloatProgress(value=0.0, max=844.0), HTML(value='')))"
      ]
     },
     "metadata": {},
     "output_type": "display_data"
    },
    {
     "data": {
      "application/vnd.jupyter.widget-view+json": {
       "model_id": "38420699151d4312a4f30db437566368",
       "version_major": 2,
       "version_minor": 0
      },
      "text/plain": [
       "HBox(children=(HTML(value='Evaluating'), FloatProgress(value=0.0, max=94.0), HTML(value='')))"
      ]
     },
     "metadata": {},
     "output_type": "display_data"
    },
    {
     "name": "stdout",
     "output_type": "stream",
     "text": [
      "Epoch: 03 | Epoch Time: 0m 24s\n",
      "\tTrain Loss: 1.508 | Train Acc: 95.40%\n",
      "\t Val. Loss: 1.491 |  Val. Acc: 97.13%\n"
     ]
    },
    {
     "data": {
      "application/vnd.jupyter.widget-view+json": {
       "model_id": "ff29ea9dcaca42268804e32792f9f52c",
       "version_major": 2,
       "version_minor": 0
      },
      "text/plain": [
       "HBox(children=(HTML(value='Training'), FloatProgress(value=0.0, max=844.0), HTML(value='')))"
      ]
     },
     "metadata": {},
     "output_type": "display_data"
    },
    {
     "data": {
      "application/vnd.jupyter.widget-view+json": {
       "model_id": "d4dc14b4f2824147875eb37db722a404",
       "version_major": 2,
       "version_minor": 0
      },
      "text/plain": [
       "HBox(children=(HTML(value='Evaluating'), FloatProgress(value=0.0, max=94.0), HTML(value='')))"
      ]
     },
     "metadata": {},
     "output_type": "display_data"
    },
    {
     "name": "stdout",
     "output_type": "stream",
     "text": [
      "Epoch: 04 | Epoch Time: 0m 23s\n",
      "\tTrain Loss: 1.501 | Train Acc: 96.02%\n",
      "\t Val. Loss: 1.491 |  Val. Acc: 97.00%\n"
     ]
    },
    {
     "data": {
      "application/vnd.jupyter.widget-view+json": {
       "model_id": "de1fc3f8ecfe4f288cc70d5f18bfd450",
       "version_major": 2,
       "version_minor": 0
      },
      "text/plain": [
       "HBox(children=(HTML(value='Training'), FloatProgress(value=0.0, max=844.0), HTML(value='')))"
      ]
     },
     "metadata": {},
     "output_type": "display_data"
    },
    {
     "data": {
      "application/vnd.jupyter.widget-view+json": {
       "model_id": "1c1163a599f242bfa9e196416dbba32f",
       "version_major": 2,
       "version_minor": 0
      },
      "text/plain": [
       "HBox(children=(HTML(value='Evaluating'), FloatProgress(value=0.0, max=94.0), HTML(value='')))"
      ]
     },
     "metadata": {},
     "output_type": "display_data"
    },
    {
     "name": "stdout",
     "output_type": "stream",
     "text": [
      "Epoch: 05 | Epoch Time: 0m 24s\n",
      "\tTrain Loss: 1.500 | Train Acc: 96.11%\n",
      "\t Val. Loss: 1.485 |  Val. Acc: 97.67%\n"
     ]
    },
    {
     "data": {
      "application/vnd.jupyter.widget-view+json": {
       "model_id": "8ffc9fbc83de45d9b55688b2116256dc",
       "version_major": 2,
       "version_minor": 0
      },
      "text/plain": [
       "HBox(children=(HTML(value='Training'), FloatProgress(value=0.0, max=844.0), HTML(value='')))"
      ]
     },
     "metadata": {},
     "output_type": "display_data"
    },
    {
     "data": {
      "application/vnd.jupyter.widget-view+json": {
       "model_id": "a55468bbeb1a4192b0d0ad20fe098f8a",
       "version_major": 2,
       "version_minor": 0
      },
      "text/plain": [
       "HBox(children=(HTML(value='Evaluating'), FloatProgress(value=0.0, max=94.0), HTML(value='')))"
      ]
     },
     "metadata": {},
     "output_type": "display_data"
    },
    {
     "name": "stdout",
     "output_type": "stream",
     "text": [
      "Epoch: 06 | Epoch Time: 0m 24s\n",
      "\tTrain Loss: 1.498 | Train Acc: 96.32%\n",
      "\t Val. Loss: 1.486 |  Val. Acc: 97.52%\n"
     ]
    },
    {
     "data": {
      "application/vnd.jupyter.widget-view+json": {
       "model_id": "45fc5449c6474588be2dd9dace08fe78",
       "version_major": 2,
       "version_minor": 0
      },
      "text/plain": [
       "HBox(children=(HTML(value='Training'), FloatProgress(value=0.0, max=844.0), HTML(value='')))"
      ]
     },
     "metadata": {},
     "output_type": "display_data"
    },
    {
     "data": {
      "application/vnd.jupyter.widget-view+json": {
       "model_id": "4a1f8f4f0ce7419fbfe64f1f2ae78edd",
       "version_major": 2,
       "version_minor": 0
      },
      "text/plain": [
       "HBox(children=(HTML(value='Evaluating'), FloatProgress(value=0.0, max=94.0), HTML(value='')))"
      ]
     },
     "metadata": {},
     "output_type": "display_data"
    },
    {
     "name": "stdout",
     "output_type": "stream",
     "text": [
      "Epoch: 07 | Epoch Time: 0m 25s\n",
      "\tTrain Loss: 1.498 | Train Acc: 96.27%\n",
      "\t Val. Loss: 1.482 |  Val. Acc: 97.93%\n"
     ]
    },
    {
     "data": {
      "application/vnd.jupyter.widget-view+json": {
       "model_id": "bba768a534cc4e4599953170906af1f1",
       "version_major": 2,
       "version_minor": 0
      },
      "text/plain": [
       "HBox(children=(HTML(value='Training'), FloatProgress(value=0.0, max=844.0), HTML(value='')))"
      ]
     },
     "metadata": {},
     "output_type": "display_data"
    },
    {
     "data": {
      "application/vnd.jupyter.widget-view+json": {
       "model_id": "672b0fdea2444583b12e745d98243318",
       "version_major": 2,
       "version_minor": 0
      },
      "text/plain": [
       "HBox(children=(HTML(value='Evaluating'), FloatProgress(value=0.0, max=94.0), HTML(value='')))"
      ]
     },
     "metadata": {},
     "output_type": "display_data"
    },
    {
     "name": "stdout",
     "output_type": "stream",
     "text": [
      "Epoch: 08 | Epoch Time: 0m 25s\n",
      "\tTrain Loss: 1.496 | Train Acc: 96.45%\n",
      "\t Val. Loss: 1.483 |  Val. Acc: 97.83%\n"
     ]
    },
    {
     "data": {
      "application/vnd.jupyter.widget-view+json": {
       "model_id": "a54c77e25d584dfd9dd5ed44af6b38ac",
       "version_major": 2,
       "version_minor": 0
      },
      "text/plain": [
       "HBox(children=(HTML(value='Training'), FloatProgress(value=0.0, max=844.0), HTML(value='')))"
      ]
     },
     "metadata": {},
     "output_type": "display_data"
    },
    {
     "data": {
      "application/vnd.jupyter.widget-view+json": {
       "model_id": "9a90e8cf7dd34eadbec3b93e9aec2391",
       "version_major": 2,
       "version_minor": 0
      },
      "text/plain": [
       "HBox(children=(HTML(value='Evaluating'), FloatProgress(value=0.0, max=94.0), HTML(value='')))"
      ]
     },
     "metadata": {},
     "output_type": "display_data"
    },
    {
     "name": "stdout",
     "output_type": "stream",
     "text": [
      "Epoch: 09 | Epoch Time: 0m 25s\n",
      "\tTrain Loss: 1.494 | Train Acc: 96.69%\n",
      "\t Val. Loss: 1.481 |  Val. Acc: 98.01%\n"
     ]
    },
    {
     "data": {
      "application/vnd.jupyter.widget-view+json": {
       "model_id": "93f4b540855a4bf590c84538d2b0fcea",
       "version_major": 2,
       "version_minor": 0
      },
      "text/plain": [
       "HBox(children=(HTML(value='Training'), FloatProgress(value=0.0, max=844.0), HTML(value='')))"
      ]
     },
     "metadata": {},
     "output_type": "display_data"
    },
    {
     "data": {
      "application/vnd.jupyter.widget-view+json": {
       "model_id": "8f98e0951e9644d4b9c363d27c4eb3fb",
       "version_major": 2,
       "version_minor": 0
      },
      "text/plain": [
       "HBox(children=(HTML(value='Evaluating'), FloatProgress(value=0.0, max=94.0), HTML(value='')))"
      ]
     },
     "metadata": {},
     "output_type": "display_data"
    },
    {
     "name": "stdout",
     "output_type": "stream",
     "text": [
      "Epoch: 10 | Epoch Time: 0m 25s\n",
      "\tTrain Loss: 1.495 | Train Acc: 96.59%\n",
      "\t Val. Loss: 1.483 |  Val. Acc: 97.85%\n",
      "\n"
     ]
    }
   ],
   "source": [
    "#!g1.1\n",
    "train_model(model1, name1, n_epochs, train_iterator, valid_iterator)"
   ]
  },
  {
   "cell_type": "code",
   "execution_count": 325,
   "id": "cf2a9931",
   "metadata": {
    "cellId": "x03ze55zfog1rr6msr3sq"
   },
   "outputs": [
    {
     "data": {
      "application/vnd.jupyter.widget-view+json": {
       "model_id": "ad16dc6a3acd4431bf2a3a672ed7c311",
       "version_major": 2,
       "version_minor": 0
      },
      "text/plain": [
       "HBox(children=(HTML(value='Epochs'), FloatProgress(value=0.0, max=10.0), HTML(value='')))"
      ]
     },
     "metadata": {},
     "output_type": "display_data"
    },
    {
     "data": {
      "application/vnd.jupyter.widget-view+json": {
       "model_id": "62b43cb098d44309a101122d8f4cbcf1",
       "version_major": 2,
       "version_minor": 0
      },
      "text/plain": [
       "HBox(children=(HTML(value='Training'), FloatProgress(value=0.0, max=844.0), HTML(value='')))"
      ]
     },
     "metadata": {},
     "output_type": "display_data"
    },
    {
     "data": {
      "application/vnd.jupyter.widget-view+json": {
       "model_id": "c63d137ee5ad418da8d5ba329357aa19",
       "version_major": 2,
       "version_minor": 0
      },
      "text/plain": [
       "HBox(children=(HTML(value='Evaluating'), FloatProgress(value=0.0, max=94.0), HTML(value='')))"
      ]
     },
     "metadata": {},
     "output_type": "display_data"
    },
    {
     "name": "stdout",
     "output_type": "stream",
     "text": [
      "Epoch: 01 | Epoch Time: 0m 24s\n",
      "\tTrain Loss: 1.663 | Train Acc: 81.03%\n",
      "\t Val. Loss: 1.506 |  Val. Acc: 95.94%\n"
     ]
    },
    {
     "data": {
      "application/vnd.jupyter.widget-view+json": {
       "model_id": "44009a28960f4c25bc457ca438eed384",
       "version_major": 2,
       "version_minor": 0
      },
      "text/plain": [
       "HBox(children=(HTML(value='Training'), FloatProgress(value=0.0, max=844.0), HTML(value='')))"
      ]
     },
     "metadata": {},
     "output_type": "display_data"
    },
    {
     "data": {
      "application/vnd.jupyter.widget-view+json": {
       "model_id": "dfe7b36e72454150b3ee51584b56620b",
       "version_major": 2,
       "version_minor": 0
      },
      "text/plain": [
       "HBox(children=(HTML(value='Evaluating'), FloatProgress(value=0.0, max=94.0), HTML(value='')))"
      ]
     },
     "metadata": {},
     "output_type": "display_data"
    },
    {
     "name": "stdout",
     "output_type": "stream",
     "text": [
      "Epoch: 02 | Epoch Time: 0m 25s\n",
      "\tTrain Loss: 1.523 | Train Acc: 94.26%\n",
      "\t Val. Loss: 1.493 |  Val. Acc: 96.90%\n"
     ]
    },
    {
     "data": {
      "application/vnd.jupyter.widget-view+json": {
       "model_id": "f191630b99034acea249b5267e26411a",
       "version_major": 2,
       "version_minor": 0
      },
      "text/plain": [
       "HBox(children=(HTML(value='Training'), FloatProgress(value=0.0, max=844.0), HTML(value='')))"
      ]
     },
     "metadata": {},
     "output_type": "display_data"
    },
    {
     "data": {
      "application/vnd.jupyter.widget-view+json": {
       "model_id": "3e776f2bd9f54594a5131ca3cb7b42cf",
       "version_major": 2,
       "version_minor": 0
      },
      "text/plain": [
       "HBox(children=(HTML(value='Evaluating'), FloatProgress(value=0.0, max=94.0), HTML(value='')))"
      ]
     },
     "metadata": {},
     "output_type": "display_data"
    },
    {
     "name": "stdout",
     "output_type": "stream",
     "text": [
      "Epoch: 03 | Epoch Time: 0m 24s\n",
      "\tTrain Loss: 1.511 | Train Acc: 95.29%\n",
      "\t Val. Loss: 1.494 |  Val. Acc: 96.91%\n"
     ]
    },
    {
     "data": {
      "application/vnd.jupyter.widget-view+json": {
       "model_id": "a2f35355950748b4903b4e42a6ef11b1",
       "version_major": 2,
       "version_minor": 0
      },
      "text/plain": [
       "HBox(children=(HTML(value='Training'), FloatProgress(value=0.0, max=844.0), HTML(value='')))"
      ]
     },
     "metadata": {},
     "output_type": "display_data"
    },
    {
     "data": {
      "application/vnd.jupyter.widget-view+json": {
       "model_id": "e07b3a9aa2644277bb407b387a377861",
       "version_major": 2,
       "version_minor": 0
      },
      "text/plain": [
       "HBox(children=(HTML(value='Evaluating'), FloatProgress(value=0.0, max=94.0), HTML(value='')))"
      ]
     },
     "metadata": {},
     "output_type": "display_data"
    },
    {
     "name": "stdout",
     "output_type": "stream",
     "text": [
      "Epoch: 04 | Epoch Time: 0m 24s\n",
      "\tTrain Loss: 1.504 | Train Acc: 95.89%\n",
      "\t Val. Loss: 1.488 |  Val. Acc: 97.41%\n"
     ]
    },
    {
     "data": {
      "application/vnd.jupyter.widget-view+json": {
       "model_id": "675c2dd0052945f18f8193db78aa2922",
       "version_major": 2,
       "version_minor": 0
      },
      "text/plain": [
       "HBox(children=(HTML(value='Training'), FloatProgress(value=0.0, max=844.0), HTML(value='')))"
      ]
     },
     "metadata": {},
     "output_type": "display_data"
    },
    {
     "data": {
      "application/vnd.jupyter.widget-view+json": {
       "model_id": "d57d275948404b5e9cb0ad27a12dcd1a",
       "version_major": 2,
       "version_minor": 0
      },
      "text/plain": [
       "HBox(children=(HTML(value='Evaluating'), FloatProgress(value=0.0, max=94.0), HTML(value='')))"
      ]
     },
     "metadata": {},
     "output_type": "display_data"
    },
    {
     "name": "stdout",
     "output_type": "stream",
     "text": [
      "Epoch: 05 | Epoch Time: 0m 22s\n",
      "\tTrain Loss: 1.500 | Train Acc: 96.23%\n",
      "\t Val. Loss: 1.486 |  Val. Acc: 97.62%\n"
     ]
    },
    {
     "data": {
      "application/vnd.jupyter.widget-view+json": {
       "model_id": "8789ee188d33470fb7b4c5951a76fd24",
       "version_major": 2,
       "version_minor": 0
      },
      "text/plain": [
       "HBox(children=(HTML(value='Training'), FloatProgress(value=0.0, max=844.0), HTML(value='')))"
      ]
     },
     "metadata": {},
     "output_type": "display_data"
    },
    {
     "data": {
      "application/vnd.jupyter.widget-view+json": {
       "model_id": "276235405eb34e958ae3b033ed86a5a3",
       "version_major": 2,
       "version_minor": 0
      },
      "text/plain": [
       "HBox(children=(HTML(value='Evaluating'), FloatProgress(value=0.0, max=94.0), HTML(value='')))"
      ]
     },
     "metadata": {},
     "output_type": "display_data"
    },
    {
     "name": "stdout",
     "output_type": "stream",
     "text": [
      "Epoch: 06 | Epoch Time: 0m 21s\n",
      "\tTrain Loss: 1.498 | Train Acc: 96.39%\n",
      "\t Val. Loss: 1.488 |  Val. Acc: 97.41%\n"
     ]
    },
    {
     "data": {
      "application/vnd.jupyter.widget-view+json": {
       "model_id": "7a188dd331e04aa5b7e637531fe8798c",
       "version_major": 2,
       "version_minor": 0
      },
      "text/plain": [
       "HBox(children=(HTML(value='Training'), FloatProgress(value=0.0, max=844.0), HTML(value='')))"
      ]
     },
     "metadata": {},
     "output_type": "display_data"
    },
    {
     "data": {
      "application/vnd.jupyter.widget-view+json": {
       "model_id": "81797798325240519ab737f5bf5c9185",
       "version_major": 2,
       "version_minor": 0
      },
      "text/plain": [
       "HBox(children=(HTML(value='Evaluating'), FloatProgress(value=0.0, max=94.0), HTML(value='')))"
      ]
     },
     "metadata": {},
     "output_type": "display_data"
    },
    {
     "name": "stdout",
     "output_type": "stream",
     "text": [
      "Epoch: 07 | Epoch Time: 0m 22s\n",
      "\tTrain Loss: 1.495 | Train Acc: 96.78%\n",
      "\t Val. Loss: 1.482 |  Val. Acc: 98.02%\n"
     ]
    },
    {
     "data": {
      "application/vnd.jupyter.widget-view+json": {
       "model_id": "3fb1deafcf914af5936063f432b0df66",
       "version_major": 2,
       "version_minor": 0
      },
      "text/plain": [
       "HBox(children=(HTML(value='Training'), FloatProgress(value=0.0, max=844.0), HTML(value='')))"
      ]
     },
     "metadata": {},
     "output_type": "display_data"
    },
    {
     "data": {
      "application/vnd.jupyter.widget-view+json": {
       "model_id": "36869a26a1da47ce90a57c7a39a35e5b",
       "version_major": 2,
       "version_minor": 0
      },
      "text/plain": [
       "HBox(children=(HTML(value='Evaluating'), FloatProgress(value=0.0, max=94.0), HTML(value='')))"
      ]
     },
     "metadata": {},
     "output_type": "display_data"
    },
    {
     "name": "stdout",
     "output_type": "stream",
     "text": [
      "Epoch: 08 | Epoch Time: 0m 22s\n",
      "\tTrain Loss: 1.492 | Train Acc: 97.00%\n",
      "\t Val. Loss: 1.481 |  Val. Acc: 98.13%\n"
     ]
    },
    {
     "data": {
      "application/vnd.jupyter.widget-view+json": {
       "model_id": "4f401b474c924e64b72bb8eb3bfd70e6",
       "version_major": 2,
       "version_minor": 0
      },
      "text/plain": [
       "HBox(children=(HTML(value='Training'), FloatProgress(value=0.0, max=844.0), HTML(value='')))"
      ]
     },
     "metadata": {},
     "output_type": "display_data"
    },
    {
     "data": {
      "application/vnd.jupyter.widget-view+json": {
       "model_id": "7d4c586380a9488091e47819e8a45c12",
       "version_major": 2,
       "version_minor": 0
      },
      "text/plain": [
       "HBox(children=(HTML(value='Evaluating'), FloatProgress(value=0.0, max=94.0), HTML(value='')))"
      ]
     },
     "metadata": {},
     "output_type": "display_data"
    },
    {
     "name": "stdout",
     "output_type": "stream",
     "text": [
      "Epoch: 09 | Epoch Time: 0m 21s\n",
      "\tTrain Loss: 1.491 | Train Acc: 97.08%\n",
      "\t Val. Loss: 1.480 |  Val. Acc: 98.12%\n"
     ]
    },
    {
     "data": {
      "application/vnd.jupyter.widget-view+json": {
       "model_id": "97b725dbdaae4c0f888facb84c4ba3de",
       "version_major": 2,
       "version_minor": 0
      },
      "text/plain": [
       "HBox(children=(HTML(value='Training'), FloatProgress(value=0.0, max=844.0), HTML(value='')))"
      ]
     },
     "metadata": {},
     "output_type": "display_data"
    },
    {
     "data": {
      "application/vnd.jupyter.widget-view+json": {
       "model_id": "3288b7f889f84dda9d06a394b4c1274a",
       "version_major": 2,
       "version_minor": 0
      },
      "text/plain": [
       "HBox(children=(HTML(value='Evaluating'), FloatProgress(value=0.0, max=94.0), HTML(value='')))"
      ]
     },
     "metadata": {},
     "output_type": "display_data"
    },
    {
     "name": "stdout",
     "output_type": "stream",
     "text": [
      "Epoch: 10 | Epoch Time: 0m 21s\n",
      "\tTrain Loss: 1.490 | Train Acc: 97.17%\n",
      "\t Val. Loss: 1.480 |  Val. Acc: 98.09%\n",
      "\n"
     ]
    }
   ],
   "source": [
    "#!g1.1\n",
    "train_model(model2, name2, n_epochs, train_iterator, valid_iterator)"
   ]
  },
  {
   "cell_type": "markdown",
   "id": "2f9935b5",
   "metadata": {
    "cellId": "hjfloug1kxwpw7zuc6q68o"
   },
   "source": [
    "#### Результаты:"
   ]
  },
  {
   "cell_type": "markdown",
   "id": "1d5ffc48",
   "metadata": {
    "cellId": "le8nwn1sw9djgod3k6o54"
   },
   "source": [
    "MNIST:"
   ]
  },
  {
   "cell_type": "code",
   "execution_count": 328,
   "id": "3885a046",
   "metadata": {
    "cellId": "4ubuhjoly1fxd6zpz74dc"
   },
   "outputs": [
    {
     "data": {
      "application/vnd.jupyter.widget-view+json": {
       "model_id": "e607f1b7a7114e26966ba9b94823f28e",
       "version_major": 2,
       "version_minor": 0
      },
      "text/plain": [
       "HBox(children=(HTML(value='Evaluating'), FloatProgress(value=0.0, max=157.0), HTML(value='')))"
      ]
     },
     "metadata": {},
     "output_type": "display_data"
    },
    {
     "data": {
      "application/vnd.jupyter.widget-view+json": {
       "model_id": "29fce6babe56423389de6efbc6a85566",
       "version_major": 2,
       "version_minor": 0
      },
      "text/plain": [
       "HBox(children=(HTML(value='Evaluating'), FloatProgress(value=0.0, max=157.0), HTML(value='')))"
      ]
     },
     "metadata": {},
     "output_type": "display_data"
    },
    {
     "name": "stdout",
     "output_type": "stream",
     "text": [
      "Zero activations on LeNet_deep-1: 44464567/69260000\n",
      "Zero activations on LeNet_shallow-1: 29357465/69260000\n"
     ]
    },
    {
     "data": {
      "image/png": "[encoded data removed]",
      "text/plain": [
       "<Figure size 720x432 with 2 Axes>"
      ]
     },
     "metadata": {
      "needs_background": "light"
     },
     "output_type": "display_data"
    }
   ],
   "source": [
    "#!g1.1\n",
    "test_iterator = test_iterator_1\n",
    "model1 = LeNet_deep(10)\n",
    "model2 = LeNet_shallow(10)\n",
    "name1 = 'LeNet_deep-1'\n",
    "name2 = 'LeNet_shallow-1'\n",
    "\n",
    "model1.load_state_dict(torch.load(f'{name1}.pt'))\n",
    "_, _, activations1 = get_activations(model1, test_iterator, criterion, device)\n",
    "\n",
    "model2.load_state_dict(torch.load(f'{name2}.pt'))\n",
    "_, _, activations2 = get_activations(model2, test_iterator, criterion, device)\n",
    "\n",
    "nonzero_mask1 = activations1 > 10e-7\n",
    "zero_quant1 = activations1.size - activations1[nonzero_mask1].size\n",
    "nonzero_activations1 = activations1[nonzero_mask1]\n",
    "print(f'Zero activations on {name1}: {zero_quant1}/{activations1.size}')\n",
    "\n",
    "nonzero_mask2 = activations2 > 10e-7\n",
    "zero_quant2 = activations2.size - activations2[nonzero_mask2].size\n",
    "nonzero_activations2 = activations2[nonzero_mask2]\n",
    "print(f'Zero activations on {name2}: {zero_quant2}/{activations1.size}')\n",
    "\n",
    "fig, (ax1, ax2) = plt.subplots(1, 2)\n",
    "fig.set_size_inches(10, 6)\n",
    "fig.suptitle('Activations distribution on dataset MNIST')\n",
    "ax1.set_title(name1)\n",
    "ax2.set_title(name2)\n",
    "ax1.hist(nonzero_activations1, bins=np.linspace(0, 10, 100))\n",
    "ax2.hist(nonzero_activations2, bins=np.linspace(0, 10, 100))\n",
    "plt.show()"
   ]
  },
  {
   "cell_type": "markdown",
   "id": "9d57b05c",
   "metadata": {
    "cellId": "0xplcssyrvshig0tobzer"
   },
   "source": [
    "FMNIST:"
   ]
  },
  {
   "cell_type": "code",
   "execution_count": 326,
   "id": "4dae89c2",
   "metadata": {
    "cellId": "ia6bilntyh9d8vriil0z7t"
   },
   "outputs": [
    {
     "data": {
      "application/vnd.jupyter.widget-view+json": {
       "model_id": "07c1d812df024dbfb3856b202d137837",
       "version_major": 2,
       "version_minor": 0
      },
      "text/plain": [
       "HBox(children=(HTML(value='Evaluating'), FloatProgress(value=0.0, max=157.0), HTML(value='')))"
      ]
     },
     "metadata": {},
     "output_type": "display_data"
    },
    {
     "data": {
      "application/vnd.jupyter.widget-view+json": {
       "model_id": "141228019ecf4e7c9008aea29efa8a21",
       "version_major": 2,
       "version_minor": 0
      },
      "text/plain": [
       "HBox(children=(HTML(value='Evaluating'), FloatProgress(value=0.0, max=157.0), HTML(value='')))"
      ]
     },
     "metadata": {},
     "output_type": "display_data"
    },
    {
     "name": "stdout",
     "output_type": "stream",
     "text": [
      "Zero activations on LeNet_deep-2: 45024734/69260000\n",
      "Zero activations on LeNet_shallow-2: 24935683/69260000\n"
     ]
    },
    {
     "data": {
      "image/png": "[encoded data removed]",
      "text/plain": [
       "<Figure size 720x432 with 2 Axes>"
      ]
     },
     "metadata": {
      "needs_background": "light"
     },
     "output_type": "display_data"
    }
   ],
   "source": [
    "#!g1.1\n",
    "test_iterator = test_iterator_2\n",
    "model1 = LeNet_deep(10)\n",
    "model2 = LeNet_shallow(10)\n",
    "name1 = 'LeNet_deep-2'\n",
    "name2 = 'LeNet_shallow-2'\n",
    "\n",
    "model1.load_state_dict(torch.load(f'{name1}.pt'))\n",
    "_, _, activations1 = get_activations(model1, test_iterator, criterion, device)\n",
    "\n",
    "model2.load_state_dict(torch.load(f'{name2}.pt'))\n",
    "_, _, activations2 = get_activations(model2, test_iterator, criterion, device)\n",
    "\n",
    "nonzero_mask1 = activations1 > 10e-7\n",
    "zero_quant1 = activations1.size - activations1[nonzero_mask1].size\n",
    "nonzero_activations1 = activations1[nonzero_mask1]\n",
    "print(f'Zero activations on {name1}: {zero_quant1}/{activations1.size}')\n",
    "\n",
    "nonzero_mask2 = activations2 > 10e-7\n",
    "zero_quant2 = activations2.size - activations2[nonzero_mask2].size\n",
    "nonzero_activations2 = activations2[nonzero_mask2]\n",
    "print(f'Zero activations on {name2}: {zero_quant2}/{activations1.size}')\n",
    "\n",
    "fig, (ax1, ax2) = plt.subplots(1, 2)\n",
    "fig.set_size_inches(10, 6)\n",
    "fig.suptitle('Activations distribution on dataset FMNIST')\n",
    "ax1.set_title(name1)\n",
    "ax2.set_title(name2)\n",
    "ax1.hist(nonzero_activations1, bins=np.linspace(0, 10, 100))\n",
    "ax2.hist(nonzero_activations2, bins=np.linspace(0, 10, 100))\n",
    "plt.show()"
   ]
  },
  {
   "cell_type": "markdown",
   "id": "5e131c76",
   "metadata": {
    "cellId": "v8dd1xg53fg780odfm9rr"
   },
   "source": [
    "KMNIST:"
   ]
  },
  {
   "cell_type": "code",
   "execution_count": 327,
   "id": "ecb925dc",
   "metadata": {
    "cellId": "kvdbpwr3zea1tr84eq14ubj"
   },
   "outputs": [
    {
     "data": {
      "application/vnd.jupyter.widget-view+json": {
       "model_id": "13445b49360b421eae4dedc1eaf43de8",
       "version_major": 2,
       "version_minor": 0
      },
      "text/plain": [
       "HBox(children=(HTML(value='Evaluating'), FloatProgress(value=0.0, max=157.0), HTML(value='')))"
      ]
     },
     "metadata": {},
     "output_type": "display_data"
    },
    {
     "data": {
      "application/vnd.jupyter.widget-view+json": {
       "model_id": "0d750cbd109b4a409ebc599b30499305",
       "version_major": 2,
       "version_minor": 0
      },
      "text/plain": [
       "HBox(children=(HTML(value='Evaluating'), FloatProgress(value=0.0, max=157.0), HTML(value='')))"
      ]
     },
     "metadata": {},
     "output_type": "display_data"
    },
    {
     "name": "stdout",
     "output_type": "stream",
     "text": [
      "Zero activations on LeNet_deep-3: 38899892/69260000\n",
      "Zero activations on LeNet_shallow-3: 36069764/69260000\n"
     ]
    },
    {
     "data": {
      "image/png": "[encoded data removed]",
      "text/plain": [
       "<Figure size 720x432 with 2 Axes>"
      ]
     },
     "metadata": {
      "needs_background": "light"
     },
     "output_type": "display_data"
    }
   ],
   "source": [
    "#!g1.1\n",
    "test_iterator = test_iterator_3\n",
    "model1 = LeNet_deep(10)\n",
    "model2 = LeNet_shallow(10)\n",
    "name1 = 'LeNet_deep-3'\n",
    "name2 = 'LeNet_shallow-3'\n",
    "\n",
    "model1.load_state_dict(torch.load(f'{name1}.pt'))\n",
    "_, _, activations1 = get_activations(model1, test_iterator, criterion, device)\n",
    "\n",
    "model2.load_state_dict(torch.load(f'{name2}.pt'))\n",
    "_, _, activations2 = get_activations(model2, test_iterator, criterion, device)\n",
    "\n",
    "nonzero_mask1 = activations1 > 10e-7\n",
    "zero_quant1 = activations1.size - activations1[nonzero_mask1].size\n",
    "nonzero_activations1 = activations1[nonzero_mask1]\n",
    "print(f'Zero activations on {name1}: {zero_quant1}/{activations1.size}')\n",
    "\n",
    "nonzero_mask2 = activations2 > 10e-7\n",
    "zero_quant2 = activations2.size - activations2[nonzero_mask2].size\n",
    "nonzero_activations2 = activations2[nonzero_mask2]\n",
    "print(f'Zero activations on {name2}: {zero_quant2}/{activations1.size}')\n",
    "\n",
    "fig, (ax1, ax2) = plt.subplots(1, 2)\n",
    "fig.set_size_inches(10, 6)\n",
    "fig.suptitle('Activations distribution on dataset KMNIST')\n",
    "ax1.set_title(name1)\n",
    "ax2.set_title(name2)\n",
    "ax1.hist(nonzero_activations1, bins=np.linspace(0, 10, 100))\n",
    "ax2.hist(nonzero_activations2, bins=np.linspace(0, 10, 100))\n",
    "plt.show()"
   ]
  },
  {
   "cell_type": "markdown",
   "id": "5628e0d1",
   "metadata": {
    "cellId": "dyh8l3ius6pwbc0dv0ll4a"
   },
   "source": [
    "**Вывод:** у глубокой сети есть пик в области нуля и к тому же модули активаций немного больше, чем у узкой модели."
   ]
  },
  {
   "cell_type": "markdown",
   "id": "846c4484",
   "metadata": {
    "cellId": "aui9qmwzdwhbsrf0omf6j"
   },
   "source": [
    "### Дополнительно"
   ]
  },
  {
   "cell_type": "markdown",
   "id": "e78e8dda",
   "metadata": {
    "cellId": "unnvaqpdjiqi3r4h2teza"
   },
   "source": [
    "Результат работы обычного LeNet на датасете MNIST:"
   ]
  },
  {
   "cell_type": "code",
   "execution_count": 362,
   "id": "bdf6cd18",
   "metadata": {
    "cellId": "7zmwmj9502t28cqsr3kpa8"
   },
   "outputs": [
    {
     "data": {
      "text/plain": [
       "<All keys matched successfully>"
      ]
     },
     "execution_count": 362,
     "metadata": {},
     "output_type": "execute_result"
    }
   ],
   "source": [
    "#!g1.1\n",
    "model = LeNet(10)\n",
    "model.load_state_dict(torch.load(f'LeNet-1.pt'))"
   ]
  },
  {
   "cell_type": "code",
   "execution_count": 364,
   "id": "5dfca77f",
   "metadata": {
    "cellId": "tnnxwrbr4yej2h7e13not"
   },
   "outputs": [
    {
     "data": {
      "application/vnd.jupyter.widget-view+json": {
       "model_id": "d581902a1e9a490aa1863613259c9942",
       "version_major": 2,
       "version_minor": 0
      },
      "text/plain": [
       "HBox(children=(HTML(value='Evaluating'), FloatProgress(value=0.0, max=157.0), HTML(value='')))"
      ]
     },
     "metadata": {},
     "output_type": "display_data"
    },
    {
     "name": "stdout",
     "output_type": "stream",
     "text": [
      "Test Loss: 1.477 | Test Acc: 98.45%\n"
     ]
    }
   ],
   "source": [
    "#!g1.1\n",
    "model.to(device)\n",
    "test_loss, test_acc = evaluate(model, test_iterator_1, criterion, device)\n",
    "\n",
    "print(f'Test Loss: {test_loss:.3f} | Test Acc: {test_acc*100:.2f}%')"
   ]
  },
  {
   "cell_type": "code",
   "execution_count": 350,
   "id": "0004a556",
   "metadata": {
    "cellId": "uxpslta6ofmif87lml34s"
   },
   "outputs": [],
   "source": [
    "#!g1.1\n",
    "def get_predictions(model, iterator, device):\n",
    "    model = model.to(device)\n",
    "    model.eval()\n",
    "\n",
    "    images = []\n",
    "    labels = []\n",
    "    probs = []\n",
    "\n",
    "    with torch.no_grad():\n",
    "\n",
    "        for (x, y) in iterator:\n",
    "\n",
    "            x = x.to(device)\n",
    "\n",
    "            y_pred = model(x)\n",
    "\n",
    "            y_prob = F.softmax(y_pred, dim=-1)\n",
    "\n",
    "            images.append(x.cpu())\n",
    "            labels.append(y.cpu())\n",
    "            probs.append(y_prob.cpu())\n",
    "\n",
    "    images = torch.cat(images, dim=0)\n",
    "    labels = torch.cat(labels, dim=0)\n",
    "    probs = torch.cat(probs, dim=0)\n",
    "\n",
    "    return images, labels, probs"
   ]
  },
  {
   "cell_type": "code",
   "execution_count": 351,
   "id": "a168b314",
   "metadata": {
    "cellId": "ym2nsk9blu90vb9maqnctzq"
   },
   "outputs": [],
   "source": [
    "#!g1.1\n",
    "images, labels, probs = get_predictions(model, test_iterator, device)"
   ]
  },
  {
   "cell_type": "code",
   "execution_count": 352,
   "id": "a05cf019",
   "metadata": {
    "cellId": "y41pl54ccpmslbhz94ldo"
   },
   "outputs": [],
   "source": [
    "#!g1.1\n",
    "pred_labels = torch.argmax(probs, 1)"
   ]
  },
  {
   "cell_type": "code",
   "execution_count": 353,
   "id": "8c045947",
   "metadata": {
    "cellId": "97yggji0gboeg3ozpv6699"
   },
   "outputs": [],
   "source": [
    "#!g1.1\n",
    "def plot_confusion_matrix(labels, pred_labels):\n",
    "\n",
    "    fig = plt.figure(figsize=(10, 10))\n",
    "    ax = fig.add_subplot(1, 1, 1)\n",
    "    cm = confusion_matrix(labels, pred_labels)\n",
    "    cm = ConfusionMatrixDisplay(cm, display_labels=range(10))\n",
    "    cm.plot(values_format='d', cmap='Blues', ax=ax)"
   ]
  },
  {
   "cell_type": "code",
   "execution_count": 354,
   "id": "d24a4516",
   "metadata": {
    "cellId": "4epvbed2tqm6ioq3nxsyce"
   },
   "outputs": [
    {
     "data": {
      "image/png": "[encoded data removed]",
      "text/plain": [
       "<Figure size 720x720 with 2 Axes>"
      ]
     },
     "metadata": {
      "needs_background": "light"
     },
     "output_type": "display_data"
    }
   ],
   "source": [
    "#!g1.1\n",
    "plot_confusion_matrix(labels, pred_labels)"
   ]
  },
  {
   "cell_type": "markdown",
   "id": "a1733e2e",
   "metadata": {
    "cellId": "l5szgr45rgsstmfk75cnl"
   },
   "source": [
    "## Общий вывод:"
   ]
  },
  {
   "cell_type": "markdown",
   "id": "90c455e0",
   "metadata": {
    "cellId": "u4qu8jkdoj4u6y10lv094"
   },
   "source": [
    "* BatchNorm делает распределение активаций похожим на правую часть стандартного нормального распредления (понятно, потому что BN проводит стандартизацию).\n",
    "* Dropout уменьшает пик плотности активаций в нуле.\n",
    "* Начальная инициализация Xavier Normal немного уменьшает дисперсию активаций по сравнению с Kaiming Normal.\n",
    "* SGD по сравнению с Adam немного увеличивает длину хвоста.\n",
    "* В широких или глубоких сетях активации больше по модулю и более смещены к нулю.\n",
    "\n",
    "Распределение активаций на предложенных датасетах MNIST, Fashion-MNIST (FMNIST) и Kuzushiji-MNIST (KMNIST) на архитектуре LeNet при варьировании архитектурных параметров, регуляризации, нормализации, способов инициализации и оптимизации рассмотрено, выводы сделаны."
   ]
  },
  {
   "cell_type": "markdown",
   "id": "665ae73e",
   "metadata": {
    "cellId": "5agqsltwmahbzektu3r95g"
   },
   "source": [
    "## Замечание"
   ]
  },
  {
   "cell_type": "markdown",
   "id": "4bea9b02",
   "metadata": {
    "cellId": "pk4j5ryq1fkhrvnawis7r8"
   },
   "source": [
    "За всего 10 эпох все сети на всех датасетах (всего сетей 27) достигли приемлемого качества в $0.97-0.99$, кроме SGD на датасете MNIST, там всего $0.88$: параметры можно было подобрать точнее, и число эпох поставить выше."
   ]
  }
 ],
 "metadata": {
  "kernelspec": {
   "display_name": "Yandex DataSphere Kernel",
   "language": "python",
   "name": "python3"
  },
  "language_info": {
   "codemirror_mode": {
    "name": "ipython",
    "version": 3
   },
   "file_extension": ".py",
   "mimetype": "text/x-python",
   "name": "python",
   "nbconvert_exporter": "python",
   "pygments_lexer": "ipython3",
   "version": "3.7.7"
  },
  "notebookId": "97dfe9ad-a9fd-4d0c-bfd0-399c9b8a8a80",
  "notebookPath": "Untitled-Copy2.ipynb"
 },
 "nbformat": 4,
 "nbformat_minor": 5
}
